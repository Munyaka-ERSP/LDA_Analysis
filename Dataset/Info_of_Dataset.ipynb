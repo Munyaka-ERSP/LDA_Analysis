{
 "cells": [
  {
   "cell_type": "code",
   "execution_count": 4,
   "metadata": {},
   "outputs": [],
   "source": [
    "#import the modules\n",
    "import os\n",
    "import pandas as pd\n",
    "#read the path\n",
    "file_path = \"Used_Dataset\"\n",
    "#list all the files from the directory\n",
    "file_list = os.listdir(file_path)"
   ]
  },
  {
   "cell_type": "code",
   "execution_count": 13,
   "metadata": {},
   "outputs": [
    {
     "name": "stdout",
     "output_type": "stream",
     "text": [
      "Shape of cumulative7.csv: (12511, 4)\n",
      "Shape of cumulative6.csv: (1747, 4)\n",
      "Shape of cumulative5.csv: (12155, 4)\n",
      "Shape of difference between datafram: (21243, 4)\n"
     ]
    }
   ],
   "source": [
    "df_list = []\n",
    "\n",
    "# Append all files together\n",
    "for file in file_list:\n",
    "    df_temp = pd.read_csv(f'Used_Dataset/{file}')\n",
    "    print(f\"Shape of {file}: {df_temp.shape}\")\n",
    "    df_list.append(df_temp)\n",
    "\n",
    "df_append = pd.concat(df_list, ignore_index=True).drop_duplicates(keep=False)\n",
    "print(f\"Shape of difference between datafram: {df_append.shape}\")"
   ]
  },
  {
   "cell_type": "code",
   "execution_count": 14,
   "metadata": {},
   "outputs": [],
   "source": [
    "df_append.to_csv('Used_Dataset/finalCumulative.csv')"
   ]
  },
  {
   "cell_type": "code",
   "execution_count": null,
   "metadata": {},
   "outputs": [],
   "source": []
  }
 ],
 "metadata": {
  "kernelspec": {
   "display_name": "Python 3.9.6 64-bit",
   "language": "python",
   "name": "python3"
  },
  "language_info": {
   "codemirror_mode": {
    "name": "ipython",
    "version": 3
   },
   "file_extension": ".py",
   "mimetype": "text/x-python",
   "name": "python",
   "nbconvert_exporter": "python",
   "pygments_lexer": "ipython3",
   "version": "3.9.6"
  },
  "orig_nbformat": 4,
  "vscode": {
   "interpreter": {
    "hash": "31f2aee4e71d21fbe5cf8b01ff0e069b9275f58929596ceb00d14d90e3e16cd6"
   }
  }
 },
 "nbformat": 4,
 "nbformat_minor": 2
}
