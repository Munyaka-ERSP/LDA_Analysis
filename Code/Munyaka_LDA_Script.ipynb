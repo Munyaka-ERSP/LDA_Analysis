{
  "cells": [
    {
      "cell_type": "code",
      "source": [
        "#https://www.machinelearningplus.com/nlp/topic-modeling-gensim-python/#1introduction\n",
        "# TO USE:\n",
        "# Uncomment three !pip install lines\n",
        "# Run this cell ONLY\n",
        "# Runtime -> Restart session\n",
        "# Comment three !pip install lines\n",
        "# Run all\n",
        "\n",
        "!pip install pyLDAvis\n",
        "!pip install --user -U nltk\n",
        "!pip install \"pandas==1.5.3\""
      ],
      "metadata": {
        "id": "IpQ1nKQ1EEEL",
        "colab": {
          "base_uri": "https://localhost:8080/",
          "height": 1000
        },
        "outputId": "cb8cc28b-75bd-4dca-d2c2-333021aceb67"
      },
      "execution_count": null,
      "outputs": [
        {
          "output_type": "stream",
          "name": "stdout",
          "text": [
            "Collecting pyLDAvis\n",
            "  Downloading pyLDAvis-3.4.1-py3-none-any.whl (2.6 MB)\n",
            "\u001b[2K     \u001b[90m━━━━━━━━━━━━━━━━━━━━━━━━━━━━━━━━━━━━━━━━\u001b[0m \u001b[32m2.6/2.6 MB\u001b[0m \u001b[31m11.3 MB/s\u001b[0m eta \u001b[36m0:00:00\u001b[0m\n",
            "\u001b[?25hCollecting numpy>=1.24.2 (from pyLDAvis)\n",
            "  Downloading numpy-1.26.3-cp310-cp310-manylinux_2_17_x86_64.manylinux2014_x86_64.whl (18.2 MB)\n",
            "\u001b[2K     \u001b[90m━━━━━━━━━━━━━━━━━━━━━━━━━━━━━━━━━━━━━━━━\u001b[0m \u001b[32m18.2/18.2 MB\u001b[0m \u001b[31m37.1 MB/s\u001b[0m eta \u001b[36m0:00:00\u001b[0m\n",
            "\u001b[?25hRequirement already satisfied: scipy in /usr/local/lib/python3.10/dist-packages (from pyLDAvis) (1.11.4)\n",
            "Collecting pandas>=2.0.0 (from pyLDAvis)\n",
            "  Downloading pandas-2.2.0-cp310-cp310-manylinux_2_17_x86_64.manylinux2014_x86_64.whl (13.0 MB)\n",
            "\u001b[2K     \u001b[90m━━━━━━━━━━━━━━━━━━━━━━━━━━━━━━━━━━━━━━━━\u001b[0m \u001b[32m13.0/13.0 MB\u001b[0m \u001b[31m27.9 MB/s\u001b[0m eta \u001b[36m0:00:00\u001b[0m\n",
            "\u001b[?25hRequirement already satisfied: joblib>=1.2.0 in /usr/local/lib/python3.10/dist-packages (from pyLDAvis) (1.3.2)\n",
            "Requirement already satisfied: jinja2 in /usr/local/lib/python3.10/dist-packages (from pyLDAvis) (3.1.3)\n",
            "Requirement already satisfied: numexpr in /usr/local/lib/python3.10/dist-packages (from pyLDAvis) (2.9.0)\n",
            "Collecting funcy (from pyLDAvis)\n",
            "  Downloading funcy-2.0-py2.py3-none-any.whl (30 kB)\n",
            "Requirement already satisfied: scikit-learn>=1.0.0 in /usr/local/lib/python3.10/dist-packages (from pyLDAvis) (1.2.2)\n",
            "Requirement already satisfied: gensim in /usr/local/lib/python3.10/dist-packages (from pyLDAvis) (4.3.2)\n",
            "Requirement already satisfied: setuptools in /usr/local/lib/python3.10/dist-packages (from pyLDAvis) (67.7.2)\n",
            "Requirement already satisfied: python-dateutil>=2.8.2 in /usr/local/lib/python3.10/dist-packages (from pandas>=2.0.0->pyLDAvis) (2.8.2)\n",
            "Requirement already satisfied: pytz>=2020.1 in /usr/local/lib/python3.10/dist-packages (from pandas>=2.0.0->pyLDAvis) (2023.3.post1)\n",
            "Collecting tzdata>=2022.7 (from pandas>=2.0.0->pyLDAvis)\n",
            "  Downloading tzdata-2023.4-py2.py3-none-any.whl (346 kB)\n",
            "\u001b[2K     \u001b[90m━━━━━━━━━━━━━━━━━━━━━━━━━━━━━━━━━━━━━━━━\u001b[0m \u001b[32m346.6/346.6 kB\u001b[0m \u001b[31m28.8 MB/s\u001b[0m eta \u001b[36m0:00:00\u001b[0m\n",
            "\u001b[?25hRequirement already satisfied: threadpoolctl>=2.0.0 in /usr/local/lib/python3.10/dist-packages (from scikit-learn>=1.0.0->pyLDAvis) (3.2.0)\n",
            "Requirement already satisfied: smart-open>=1.8.1 in /usr/local/lib/python3.10/dist-packages (from gensim->pyLDAvis) (6.4.0)\n",
            "Requirement already satisfied: MarkupSafe>=2.0 in /usr/local/lib/python3.10/dist-packages (from jinja2->pyLDAvis) (2.1.4)\n",
            "Requirement already satisfied: six>=1.5 in /usr/local/lib/python3.10/dist-packages (from python-dateutil>=2.8.2->pandas>=2.0.0->pyLDAvis) (1.16.0)\n",
            "Installing collected packages: funcy, tzdata, numpy, pandas, pyLDAvis\n",
            "  Attempting uninstall: numpy\n",
            "    Found existing installation: numpy 1.23.5\n",
            "    Uninstalling numpy-1.23.5:\n",
            "      Successfully uninstalled numpy-1.23.5\n",
            "  Attempting uninstall: pandas\n",
            "    Found existing installation: pandas 1.5.3\n",
            "    Uninstalling pandas-1.5.3:\n",
            "      Successfully uninstalled pandas-1.5.3\n",
            "\u001b[31mERROR: pip's dependency resolver does not currently take into account all the packages that are installed. This behaviour is the source of the following dependency conflicts.\n",
            "lida 0.0.10 requires fastapi, which is not installed.\n",
            "lida 0.0.10 requires kaleido, which is not installed.\n",
            "lida 0.0.10 requires python-multipart, which is not installed.\n",
            "lida 0.0.10 requires uvicorn, which is not installed.\n",
            "bigframes 0.19.2 requires pandas<2.1.4,>=1.5.0, but you have pandas 2.2.0 which is incompatible.\n",
            "google-colab 1.0.0 requires pandas==1.5.3, but you have pandas 2.2.0 which is incompatible.\u001b[0m\u001b[31m\n",
            "\u001b[0mSuccessfully installed funcy-2.0 numpy-1.26.3 pandas-2.2.0 pyLDAvis-3.4.1 tzdata-2023.4\n",
            "Requirement already satisfied: nltk in /usr/local/lib/python3.10/dist-packages (3.8.1)\n",
            "Requirement already satisfied: click in /usr/local/lib/python3.10/dist-packages (from nltk) (8.1.7)\n",
            "Requirement already satisfied: joblib in /usr/local/lib/python3.10/dist-packages (from nltk) (1.3.2)\n",
            "Requirement already satisfied: regex>=2021.8.3 in /usr/local/lib/python3.10/dist-packages (from nltk) (2023.6.3)\n",
            "Requirement already satisfied: tqdm in /usr/local/lib/python3.10/dist-packages (from nltk) (4.66.1)\n",
            "Collecting pandas==1.5.3\n",
            "  Downloading pandas-1.5.3-cp310-cp310-manylinux_2_17_x86_64.manylinux2014_x86_64.whl (12.1 MB)\n",
            "\u001b[2K     \u001b[90m━━━━━━━━━━━━━━━━━━━━━━━━━━━━━━━━━━━━━━━━\u001b[0m \u001b[32m12.1/12.1 MB\u001b[0m \u001b[31m58.8 MB/s\u001b[0m eta \u001b[36m0:00:00\u001b[0m\n",
            "\u001b[?25hRequirement already satisfied: python-dateutil>=2.8.1 in /usr/local/lib/python3.10/dist-packages (from pandas==1.5.3) (2.8.2)\n",
            "Requirement already satisfied: pytz>=2020.1 in /usr/local/lib/python3.10/dist-packages (from pandas==1.5.3) (2023.3.post1)\n",
            "Requirement already satisfied: numpy>=1.21.0 in /usr/local/lib/python3.10/dist-packages (from pandas==1.5.3) (1.26.3)\n",
            "Requirement already satisfied: six>=1.5 in /usr/local/lib/python3.10/dist-packages (from python-dateutil>=2.8.1->pandas==1.5.3) (1.16.0)\n",
            "Installing collected packages: pandas\n",
            "  Attempting uninstall: pandas\n",
            "    Found existing installation: pandas 2.2.0\n",
            "    Uninstalling pandas-2.2.0:\n",
            "      Successfully uninstalled pandas-2.2.0\n",
            "\u001b[31mERROR: pip's dependency resolver does not currently take into account all the packages that are installed. This behaviour is the source of the following dependency conflicts.\n",
            "lida 0.0.10 requires fastapi, which is not installed.\n",
            "lida 0.0.10 requires kaleido, which is not installed.\n",
            "lida 0.0.10 requires python-multipart, which is not installed.\n",
            "lida 0.0.10 requires uvicorn, which is not installed.\n",
            "pyldavis 3.4.1 requires pandas>=2.0.0, but you have pandas 1.5.3 which is incompatible.\u001b[0m\u001b[31m\n",
            "\u001b[0mSuccessfully installed pandas-1.5.3\n"
          ]
        },
        {
          "output_type": "display_data",
          "data": {
            "application/vnd.colab-display-data+json": {
              "pip_warning": {
                "packages": [
                  "pandas"
                ]
              }
            }
          },
          "metadata": {}
        }
      ]
    },
    {
      "cell_type": "code",
      "execution_count": null,
      "metadata": {
        "colab": {
          "base_uri": "https://localhost:8080/"
        },
        "id": "qu1xrf252p8h",
        "outputId": "615c4d49-eea2-4920-f2e7-add1a9d49369"
      },
      "outputs": [
        {
          "output_type": "stream",
          "name": "stdout",
          "text": [
            "1.5.3\n"
          ]
        }
      ],
      "source": [
        "#\n",
        "\n",
        "import numpy as np\n",
        "import json\n",
        "import glob\n",
        "import nltk\n",
        "import pandas as pd #to work with csv files\n",
        "\n",
        "# pd.__version__ = 2.0.0\n",
        "print(pd.__version__)\n",
        "\n",
        "#Gensim\n",
        "import gensim\n",
        "import gensim.corpora as corpora\n",
        "from gensim.utils import simple_preprocess\n",
        "from gensim.models import CoherenceModel\n",
        "\n",
        "#spacy\n",
        "import spacy\n",
        "from nltk.corpus import stopwords\n",
        "\n",
        "#vis\n",
        "import pyLDAvis\n",
        "import pyLDAvis.gensim\n",
        "\n",
        "import warnings\n",
        "warnings.filterwarnings(\"ignore\", category=DeprecationWarning)"
      ]
    },
    {
      "cell_type": "code",
      "execution_count": null,
      "metadata": {
        "id": "SUzbqYoDkUPL",
        "colab": {
          "base_uri": "https://localhost:8080/"
        },
        "outputId": "a05c8d73-157c-4264-ac71-576be5d0d3b4"
      },
      "outputs": [
        {
          "output_type": "stream",
          "name": "stdout",
          "text": [
            "Mounted at /content/drive\n"
          ]
        }
      ],
      "source": [
        "import os\n",
        "#The function that loops through the data to check for optimal parameters to input into the LDA model would take over 16 hours to run,\n",
        "#after a while the runtime disconnects, which makes the progress start from 0.\n",
        "#so the purpose of this function is to make sure the runtime doesnt disconnect, while training for optimal params to input to lda model.\n",
        "\n",
        "def check_and_reconnect_drive():\n",
        "    try:\n",
        "        # Check if Google Drive is still connected\n",
        "        os.listdir('/content/drive')\n",
        "    except:\n",
        "        # If not, reconnect it\n",
        "        from google.colab import drive\n",
        "        drive.mount('/content/drive', force_remount=True)\n",
        "\n",
        "# Then call this function every so often in your main script\n",
        "check_and_reconnect_drive()"
      ]
    },
    {
      "cell_type": "code",
      "execution_count": null,
      "metadata": {
        "id": "3uFmthrM5V6o",
        "colab": {
          "base_uri": "https://localhost:8080/"
        },
        "outputId": "dff3d57f-ac31-4157-8dc0-1bd790c4d641"
      },
      "outputs": [
        {
          "output_type": "stream",
          "name": "stderr",
          "text": [
            "[nltk_data] Downloading package stopwords to /root/nltk_data...\n",
            "[nltk_data]   Unzipping corpora/stopwords.zip.\n"
          ]
        }
      ],
      "source": [
        "nltk.download('stopwords')\n",
        "\n",
        "stopwords = stopwords.words(\"english\") #get stopwords from nltk"
      ]
    },
    {
      "cell_type": "code",
      "execution_count": null,
      "metadata": {
        "id": "GWl2ONo787sa"
      },
      "outputs": [],
      "source": [
        "#stopwords.extend(['hi', 'anymore', 'years', 'ago', 'almost', 'somehow', 'remember', 'wants', 'either', 'enough', 'much', 'making', 'simple', 'things', 'add', 'actual', 'say', 'etc', 'anything', 'days', 'long', 'another', 'ever', 'yes', 'th', 'ice', 'mightymouse', 'should', 'obviously', 'even', 'lol', 'stuff', 'never', 'old', 'yr', 'bit', 'like', 'aka', 'nonsense', 'ok', 'absolutely', 'op', 'weird', 'ass', 'fully', 'get', 'would', 'definitely', 'especially', 'still', 'else', 'something', 'often', 'kind', 'let', 'lot', 'able', 'non', 'pg', 'nice', 'trad', 'keep', 'massive', 'quickly', 'be', 'common', 'tv', 'fuckin', 'im', 'could', 'also', 'silly', 'ie', 'seem', 'seems', 'fucked'])#Add custom stop words\n",
        "stopwords.extend(['r/parenting', 'r/roblox', 'get'])#Add reddit paths"
      ]
    },
    {
      "cell_type": "code",
      "source": [
        "def wordcounts(text1):\n",
        "  fdist1 = FreqDist(text1)\n",
        "  print(fdist1)\n",
        "  fdist1.most_common(50)"
      ],
      "metadata": {
        "id": "hRpoK3iEB6DX"
      },
      "execution_count": null,
      "outputs": []
    },
    {
      "cell_type": "code",
      "execution_count": null,
      "metadata": {
        "id": "EXp-FdFNt7gc"
      },
      "outputs": [],
      "source": [
        "def remove_stopwords(texts):\n",
        "    return [[word for word in simple_preprocess(str(doc)) if word not in stopwords] for doc in texts]"
      ]
    },
    {
      "cell_type": "code",
      "execution_count": null,
      "metadata": {
        "id": "AwfESysf57H_"
      },
      "outputs": [],
      "source": [
        "def load_data(file):\n",
        "  data = pd.read_csv(file)\n",
        "  return data"
      ]
    },
    {
      "cell_type": "code",
      "execution_count": null,
      "metadata": {
        "id": "FTSUpkwF6ah1"
      },
      "outputs": [],
      "source": [
        "data = load_data('cumulative5.csv')\n",
        "filtered_data = data.drop(columns=['subreddit','date','timestamp'], axis=1)\n",
        "data = filtered_data.replace('\\n', ' ', regex=True)\n",
        "# data.head(5)"
      ]
    },
    {
      "cell_type": "code",
      "execution_count": null,
      "metadata": {
        "id": "GmdgEwV9YpLv"
      },
      "outputs": [],
      "source": [
        "# data[data.text.str.contains('I am a bot')]"
      ]
    },
    {
      "cell_type": "code",
      "execution_count": null,
      "metadata": {
        "id": "QTvUnK1IzgNM",
        "colab": {
          "base_uri": "https://localhost:8080/"
        },
        "outputId": "42035f6f-b286-4461-e56e-b73a956c56c0"
      },
      "outputs": [
        {
          "output_type": "stream",
          "name": "stderr",
          "text": [
            "<ipython-input-12-5994bc70bab9>:7: SettingWithCopyWarning: \n",
            "A value is trying to be set on a copy of a slice from a DataFrame.\n",
            "Try using .loc[row_indexer,col_indexer] = value instead\n",
            "\n",
            "See the caveats in the documentation: https://pandas.pydata.org/pandas-docs/stable/user_guide/indexing.html#returning-a-view-versus-a-copy\n",
            "  data['text'] = data['text'].replace(r'http\\S+', '', regex=True)\n"
          ]
        },
        {
          "output_type": "execute_result",
          "data": {
            "text/plain": [
              "(12075, 1)"
            ]
          },
          "metadata": {},
          "execution_count": 12
        }
      ],
      "source": [
        "import re\n",
        "\n",
        "data = data.loc[data.text.str.contains('I am a bot') == False, :]\n",
        "\n",
        "# Remove punctuation\n",
        "# data['text'] = data['text'].map(lambda x: re.sub(\"[,\\.!?/@#$^&*-_=+()%]\", \"\", x))\n",
        "data['text'] = data['text'].replace(r'http\\S+', '', regex=True)\n",
        "\n",
        "#data['text'] = data['text'].replace(r'a'+ u'\\u0301'+ 'U+20AC'+ 'U+2122', \"'\" , regex=True)\n",
        "\n",
        "data['text'] = data['text'].map(lambda x: re.sub('[%$:,\\.!?/-]', ' ', x))\n",
        "data['text'] = data['text'].map(lambda x: re.sub('\\(', ' ', x))\n",
        "data['text'] = data['text'].map(lambda x: re.sub('\\)', ' ', x))\n",
        "data['text'] = data['text'].replace(r'&\\S+', '', regex=True)\n",
        "data['text'] = data['text'].replace('\\\"', '', regex=True)\n",
        "\n",
        "# # Convert the titles to lowercase\n",
        "data['text'] = data['text'].map(lambda x: x.lower())\n",
        "\n",
        "pattern = r'[0-9]'\n",
        "data['text'] = data['text'].map(lambda x: re.sub(pattern, ' ', x))\n",
        "data['text'] = data['text'].map(lambda x: re.sub(' +', ' ', x))\n",
        "\n",
        "data.shape"
      ]
    },
    {
      "cell_type": "code",
      "source": [
        "data.columns"
      ],
      "metadata": {
        "colab": {
          "base_uri": "https://localhost:8080/"
        },
        "id": "X8eePq0Gxmtf",
        "outputId": "e66b9fbc-d0cd-42c0-f9ae-0681d7d3ad96"
      },
      "execution_count": null,
      "outputs": [
        {
          "output_type": "execute_result",
          "data": {
            "text/plain": [
              "Index(['text'], dtype='object')"
            ]
          },
          "metadata": {},
          "execution_count": 13
        }
      ]
    },
    {
      "cell_type": "code",
      "execution_count": null,
      "metadata": {
        "id": "ZIQMdaaulEna",
        "colab": {
          "base_uri": "https://localhost:8080/",
          "height": 206
        },
        "outputId": "3032f721-d695-4170-fcad-3a8e7d10ef04"
      },
      "outputs": [
        {
          "output_type": "execute_result",
          "data": {
            "text/plain": [
              "                                                text\n",
              "0  live chat hi does anyone know if i can access ...\n",
              "1  forgot pin i created my parental pin almost ye...\n",
              "2  roblox rant this game…honestly either not enou...\n",
              "3         you're not alone that's all i have to say \n",
              "4     i even contacted support and they were useless"
            ],
            "text/html": [
              "\n",
              "  <div id=\"df-aad15886-bd04-402d-b340-05fd0bbbf84d\" class=\"colab-df-container\">\n",
              "    <div>\n",
              "<style scoped>\n",
              "    .dataframe tbody tr th:only-of-type {\n",
              "        vertical-align: middle;\n",
              "    }\n",
              "\n",
              "    .dataframe tbody tr th {\n",
              "        vertical-align: top;\n",
              "    }\n",
              "\n",
              "    .dataframe thead th {\n",
              "        text-align: right;\n",
              "    }\n",
              "</style>\n",
              "<table border=\"1\" class=\"dataframe\">\n",
              "  <thead>\n",
              "    <tr style=\"text-align: right;\">\n",
              "      <th></th>\n",
              "      <th>text</th>\n",
              "    </tr>\n",
              "  </thead>\n",
              "  <tbody>\n",
              "    <tr>\n",
              "      <th>0</th>\n",
              "      <td>live chat hi does anyone know if i can access ...</td>\n",
              "    </tr>\n",
              "    <tr>\n",
              "      <th>1</th>\n",
              "      <td>forgot pin i created my parental pin almost ye...</td>\n",
              "    </tr>\n",
              "    <tr>\n",
              "      <th>2</th>\n",
              "      <td>roblox rant this game…honestly either not enou...</td>\n",
              "    </tr>\n",
              "    <tr>\n",
              "      <th>3</th>\n",
              "      <td>you're not alone that's all i have to say</td>\n",
              "    </tr>\n",
              "    <tr>\n",
              "      <th>4</th>\n",
              "      <td>i even contacted support and they were useless</td>\n",
              "    </tr>\n",
              "  </tbody>\n",
              "</table>\n",
              "</div>\n",
              "    <div class=\"colab-df-buttons\">\n",
              "\n",
              "  <div class=\"colab-df-container\">\n",
              "    <button class=\"colab-df-convert\" onclick=\"convertToInteractive('df-aad15886-bd04-402d-b340-05fd0bbbf84d')\"\n",
              "            title=\"Convert this dataframe to an interactive table.\"\n",
              "            style=\"display:none;\">\n",
              "\n",
              "  <svg xmlns=\"http://www.w3.org/2000/svg\" height=\"24px\" viewBox=\"0 -960 960 960\">\n",
              "    <path d=\"M120-120v-720h720v720H120Zm60-500h600v-160H180v160Zm220 220h160v-160H400v160Zm0 220h160v-160H400v160ZM180-400h160v-160H180v160Zm440 0h160v-160H620v160ZM180-180h160v-160H180v160Zm440 0h160v-160H620v160Z\"/>\n",
              "  </svg>\n",
              "    </button>\n",
              "\n",
              "  <style>\n",
              "    .colab-df-container {\n",
              "      display:flex;\n",
              "      gap: 12px;\n",
              "    }\n",
              "\n",
              "    .colab-df-convert {\n",
              "      background-color: #E8F0FE;\n",
              "      border: none;\n",
              "      border-radius: 50%;\n",
              "      cursor: pointer;\n",
              "      display: none;\n",
              "      fill: #1967D2;\n",
              "      height: 32px;\n",
              "      padding: 0 0 0 0;\n",
              "      width: 32px;\n",
              "    }\n",
              "\n",
              "    .colab-df-convert:hover {\n",
              "      background-color: #E2EBFA;\n",
              "      box-shadow: 0px 1px 2px rgba(60, 64, 67, 0.3), 0px 1px 3px 1px rgba(60, 64, 67, 0.15);\n",
              "      fill: #174EA6;\n",
              "    }\n",
              "\n",
              "    .colab-df-buttons div {\n",
              "      margin-bottom: 4px;\n",
              "    }\n",
              "\n",
              "    [theme=dark] .colab-df-convert {\n",
              "      background-color: #3B4455;\n",
              "      fill: #D2E3FC;\n",
              "    }\n",
              "\n",
              "    [theme=dark] .colab-df-convert:hover {\n",
              "      background-color: #434B5C;\n",
              "      box-shadow: 0px 1px 3px 1px rgba(0, 0, 0, 0.15);\n",
              "      filter: drop-shadow(0px 1px 2px rgba(0, 0, 0, 0.3));\n",
              "      fill: #FFFFFF;\n",
              "    }\n",
              "  </style>\n",
              "\n",
              "    <script>\n",
              "      const buttonEl =\n",
              "        document.querySelector('#df-aad15886-bd04-402d-b340-05fd0bbbf84d button.colab-df-convert');\n",
              "      buttonEl.style.display =\n",
              "        google.colab.kernel.accessAllowed ? 'block' : 'none';\n",
              "\n",
              "      async function convertToInteractive(key) {\n",
              "        const element = document.querySelector('#df-aad15886-bd04-402d-b340-05fd0bbbf84d');\n",
              "        const dataTable =\n",
              "          await google.colab.kernel.invokeFunction('convertToInteractive',\n",
              "                                                    [key], {});\n",
              "        if (!dataTable) return;\n",
              "\n",
              "        const docLinkHtml = 'Like what you see? Visit the ' +\n",
              "          '<a target=\"_blank\" href=https://colab.research.google.com/notebooks/data_table.ipynb>data table notebook</a>'\n",
              "          + ' to learn more about interactive tables.';\n",
              "        element.innerHTML = '';\n",
              "        dataTable['output_type'] = 'display_data';\n",
              "        await google.colab.output.renderOutput(dataTable, element);\n",
              "        const docLink = document.createElement('div');\n",
              "        docLink.innerHTML = docLinkHtml;\n",
              "        element.appendChild(docLink);\n",
              "      }\n",
              "    </script>\n",
              "  </div>\n",
              "\n",
              "\n",
              "<div id=\"df-a2b24940-3bc3-4801-9237-5a1820fed2e4\">\n",
              "  <button class=\"colab-df-quickchart\" onclick=\"quickchart('df-a2b24940-3bc3-4801-9237-5a1820fed2e4')\"\n",
              "            title=\"Suggest charts\"\n",
              "            style=\"display:none;\">\n",
              "\n",
              "<svg xmlns=\"http://www.w3.org/2000/svg\" height=\"24px\"viewBox=\"0 0 24 24\"\n",
              "     width=\"24px\">\n",
              "    <g>\n",
              "        <path d=\"M19 3H5c-1.1 0-2 .9-2 2v14c0 1.1.9 2 2 2h14c1.1 0 2-.9 2-2V5c0-1.1-.9-2-2-2zM9 17H7v-7h2v7zm4 0h-2V7h2v10zm4 0h-2v-4h2v4z\"/>\n",
              "    </g>\n",
              "</svg>\n",
              "  </button>\n",
              "\n",
              "<style>\n",
              "  .colab-df-quickchart {\n",
              "      --bg-color: #E8F0FE;\n",
              "      --fill-color: #1967D2;\n",
              "      --hover-bg-color: #E2EBFA;\n",
              "      --hover-fill-color: #174EA6;\n",
              "      --disabled-fill-color: #AAA;\n",
              "      --disabled-bg-color: #DDD;\n",
              "  }\n",
              "\n",
              "  [theme=dark] .colab-df-quickchart {\n",
              "      --bg-color: #3B4455;\n",
              "      --fill-color: #D2E3FC;\n",
              "      --hover-bg-color: #434B5C;\n",
              "      --hover-fill-color: #FFFFFF;\n",
              "      --disabled-bg-color: #3B4455;\n",
              "      --disabled-fill-color: #666;\n",
              "  }\n",
              "\n",
              "  .colab-df-quickchart {\n",
              "    background-color: var(--bg-color);\n",
              "    border: none;\n",
              "    border-radius: 50%;\n",
              "    cursor: pointer;\n",
              "    display: none;\n",
              "    fill: var(--fill-color);\n",
              "    height: 32px;\n",
              "    padding: 0;\n",
              "    width: 32px;\n",
              "  }\n",
              "\n",
              "  .colab-df-quickchart:hover {\n",
              "    background-color: var(--hover-bg-color);\n",
              "    box-shadow: 0 1px 2px rgba(60, 64, 67, 0.3), 0 1px 3px 1px rgba(60, 64, 67, 0.15);\n",
              "    fill: var(--button-hover-fill-color);\n",
              "  }\n",
              "\n",
              "  .colab-df-quickchart-complete:disabled,\n",
              "  .colab-df-quickchart-complete:disabled:hover {\n",
              "    background-color: var(--disabled-bg-color);\n",
              "    fill: var(--disabled-fill-color);\n",
              "    box-shadow: none;\n",
              "  }\n",
              "\n",
              "  .colab-df-spinner {\n",
              "    border: 2px solid var(--fill-color);\n",
              "    border-color: transparent;\n",
              "    border-bottom-color: var(--fill-color);\n",
              "    animation:\n",
              "      spin 1s steps(1) infinite;\n",
              "  }\n",
              "\n",
              "  @keyframes spin {\n",
              "    0% {\n",
              "      border-color: transparent;\n",
              "      border-bottom-color: var(--fill-color);\n",
              "      border-left-color: var(--fill-color);\n",
              "    }\n",
              "    20% {\n",
              "      border-color: transparent;\n",
              "      border-left-color: var(--fill-color);\n",
              "      border-top-color: var(--fill-color);\n",
              "    }\n",
              "    30% {\n",
              "      border-color: transparent;\n",
              "      border-left-color: var(--fill-color);\n",
              "      border-top-color: var(--fill-color);\n",
              "      border-right-color: var(--fill-color);\n",
              "    }\n",
              "    40% {\n",
              "      border-color: transparent;\n",
              "      border-right-color: var(--fill-color);\n",
              "      border-top-color: var(--fill-color);\n",
              "    }\n",
              "    60% {\n",
              "      border-color: transparent;\n",
              "      border-right-color: var(--fill-color);\n",
              "    }\n",
              "    80% {\n",
              "      border-color: transparent;\n",
              "      border-right-color: var(--fill-color);\n",
              "      border-bottom-color: var(--fill-color);\n",
              "    }\n",
              "    90% {\n",
              "      border-color: transparent;\n",
              "      border-bottom-color: var(--fill-color);\n",
              "    }\n",
              "  }\n",
              "</style>\n",
              "\n",
              "  <script>\n",
              "    async function quickchart(key) {\n",
              "      const quickchartButtonEl =\n",
              "        document.querySelector('#' + key + ' button');\n",
              "      quickchartButtonEl.disabled = true;  // To prevent multiple clicks.\n",
              "      quickchartButtonEl.classList.add('colab-df-spinner');\n",
              "      try {\n",
              "        const charts = await google.colab.kernel.invokeFunction(\n",
              "            'suggestCharts', [key], {});\n",
              "      } catch (error) {\n",
              "        console.error('Error during call to suggestCharts:', error);\n",
              "      }\n",
              "      quickchartButtonEl.classList.remove('colab-df-spinner');\n",
              "      quickchartButtonEl.classList.add('colab-df-quickchart-complete');\n",
              "    }\n",
              "    (() => {\n",
              "      let quickchartButtonEl =\n",
              "        document.querySelector('#df-a2b24940-3bc3-4801-9237-5a1820fed2e4 button');\n",
              "      quickchartButtonEl.style.display =\n",
              "        google.colab.kernel.accessAllowed ? 'block' : 'none';\n",
              "    })();\n",
              "  </script>\n",
              "</div>\n",
              "    </div>\n",
              "  </div>\n"
            ]
          },
          "metadata": {},
          "execution_count": 14
        }
      ],
      "source": [
        "data.head(5)"
      ]
    },
    {
      "cell_type": "code",
      "execution_count": null,
      "metadata": {
        "id": "cpMN8FZ3W5No",
        "colab": {
          "base_uri": "https://localhost:8080/",
          "height": 53
        },
        "outputId": "f9c09c46-5607-48e1-d0fb-6908f32b39b2"
      },
      "outputs": [
        {
          "output_type": "execute_result",
          "data": {
            "text/plain": [
              "Empty DataFrame\n",
              "Columns: [text]\n",
              "Index: []"
            ],
            "text/html": [
              "\n",
              "  <div id=\"df-83d8be6c-9da2-4701-a872-e2dc9cb75e7f\" class=\"colab-df-container\">\n",
              "    <div>\n",
              "<style scoped>\n",
              "    .dataframe tbody tr th:only-of-type {\n",
              "        vertical-align: middle;\n",
              "    }\n",
              "\n",
              "    .dataframe tbody tr th {\n",
              "        vertical-align: top;\n",
              "    }\n",
              "\n",
              "    .dataframe thead th {\n",
              "        text-align: right;\n",
              "    }\n",
              "</style>\n",
              "<table border=\"1\" class=\"dataframe\">\n",
              "  <thead>\n",
              "    <tr style=\"text-align: right;\">\n",
              "      <th></th>\n",
              "      <th>text</th>\n",
              "    </tr>\n",
              "  </thead>\n",
              "  <tbody>\n",
              "  </tbody>\n",
              "</table>\n",
              "</div>\n",
              "    <div class=\"colab-df-buttons\">\n",
              "\n",
              "  <div class=\"colab-df-container\">\n",
              "    <button class=\"colab-df-convert\" onclick=\"convertToInteractive('df-83d8be6c-9da2-4701-a872-e2dc9cb75e7f')\"\n",
              "            title=\"Convert this dataframe to an interactive table.\"\n",
              "            style=\"display:none;\">\n",
              "\n",
              "  <svg xmlns=\"http://www.w3.org/2000/svg\" height=\"24px\" viewBox=\"0 -960 960 960\">\n",
              "    <path d=\"M120-120v-720h720v720H120Zm60-500h600v-160H180v160Zm220 220h160v-160H400v160Zm0 220h160v-160H400v160ZM180-400h160v-160H180v160Zm440 0h160v-160H620v160ZM180-180h160v-160H180v160Zm440 0h160v-160H620v160Z\"/>\n",
              "  </svg>\n",
              "    </button>\n",
              "\n",
              "  <style>\n",
              "    .colab-df-container {\n",
              "      display:flex;\n",
              "      gap: 12px;\n",
              "    }\n",
              "\n",
              "    .colab-df-convert {\n",
              "      background-color: #E8F0FE;\n",
              "      border: none;\n",
              "      border-radius: 50%;\n",
              "      cursor: pointer;\n",
              "      display: none;\n",
              "      fill: #1967D2;\n",
              "      height: 32px;\n",
              "      padding: 0 0 0 0;\n",
              "      width: 32px;\n",
              "    }\n",
              "\n",
              "    .colab-df-convert:hover {\n",
              "      background-color: #E2EBFA;\n",
              "      box-shadow: 0px 1px 2px rgba(60, 64, 67, 0.3), 0px 1px 3px 1px rgba(60, 64, 67, 0.15);\n",
              "      fill: #174EA6;\n",
              "    }\n",
              "\n",
              "    .colab-df-buttons div {\n",
              "      margin-bottom: 4px;\n",
              "    }\n",
              "\n",
              "    [theme=dark] .colab-df-convert {\n",
              "      background-color: #3B4455;\n",
              "      fill: #D2E3FC;\n",
              "    }\n",
              "\n",
              "    [theme=dark] .colab-df-convert:hover {\n",
              "      background-color: #434B5C;\n",
              "      box-shadow: 0px 1px 3px 1px rgba(0, 0, 0, 0.15);\n",
              "      filter: drop-shadow(0px 1px 2px rgba(0, 0, 0, 0.3));\n",
              "      fill: #FFFFFF;\n",
              "    }\n",
              "  </style>\n",
              "\n",
              "    <script>\n",
              "      const buttonEl =\n",
              "        document.querySelector('#df-83d8be6c-9da2-4701-a872-e2dc9cb75e7f button.colab-df-convert');\n",
              "      buttonEl.style.display =\n",
              "        google.colab.kernel.accessAllowed ? 'block' : 'none';\n",
              "\n",
              "      async function convertToInteractive(key) {\n",
              "        const element = document.querySelector('#df-83d8be6c-9da2-4701-a872-e2dc9cb75e7f');\n",
              "        const dataTable =\n",
              "          await google.colab.kernel.invokeFunction('convertToInteractive',\n",
              "                                                    [key], {});\n",
              "        if (!dataTable) return;\n",
              "\n",
              "        const docLinkHtml = 'Like what you see? Visit the ' +\n",
              "          '<a target=\"_blank\" href=https://colab.research.google.com/notebooks/data_table.ipynb>data table notebook</a>'\n",
              "          + ' to learn more about interactive tables.';\n",
              "        element.innerHTML = '';\n",
              "        dataTable['output_type'] = 'display_data';\n",
              "        await google.colab.output.renderOutput(dataTable, element);\n",
              "        const docLink = document.createElement('div');\n",
              "        docLink.innerHTML = docLinkHtml;\n",
              "        element.appendChild(docLink);\n",
              "      }\n",
              "    </script>\n",
              "  </div>\n",
              "\n",
              "    </div>\n",
              "  </div>\n"
            ]
          },
          "metadata": {},
          "execution_count": 15
        }
      ],
      "source": [
        "data[data.text.str.contains('I am a bot')]"
      ]
    },
    {
      "cell_type": "code",
      "execution_count": null,
      "metadata": {
        "id": "csMd6uvm6ukl",
        "colab": {
          "base_uri": "https://localhost:8080/",
          "height": 87
        },
        "outputId": "e2d0ca85-c027-450c-c113-04b0a1b44fc4"
      },
      "outputs": [
        {
          "output_type": "execute_result",
          "data": {
            "text/plain": [
              "'definitely not for year olds i hope at the very least chat is not enabled there is a lot of random violence the best option is for them to only join a private server which are free and easy to set up with a couple of clicks for any game that includes only just the kids in the daycare '"
            ],
            "application/vnd.google.colaboratory.intrinsic+json": {
              "type": "string"
            }
          },
          "metadata": {},
          "execution_count": 16
        }
      ],
      "source": [
        "data['text'][51]"
      ]
    },
    {
      "cell_type": "code",
      "execution_count": null,
      "metadata": {
        "id": "D1IqZjv9_Pcb",
        "colab": {
          "base_uri": "https://localhost:8080/"
        },
        "outputId": "04b53f83-8dbe-411f-cbe6-6ba9a9338f9f"
      },
      "outputs": [
        {
          "output_type": "stream",
          "name": "stdout",
          "text": [
            "Collecting clean-text\n",
            "  Downloading clean_text-0.6.0-py3-none-any.whl (11 kB)\n",
            "Collecting emoji<2.0.0,>=1.0.0 (from clean-text)\n",
            "  Downloading emoji-1.7.0.tar.gz (175 kB)\n",
            "\u001b[2K     \u001b[90m━━━━━━━━━━━━━━━━━━━━━━━━━━━━━━━━━━━━━━━━\u001b[0m \u001b[32m175.4/175.4 kB\u001b[0m \u001b[31m4.5 MB/s\u001b[0m eta \u001b[36m0:00:00\u001b[0m\n",
            "\u001b[?25h  Preparing metadata (setup.py) ... \u001b[?25l\u001b[?25hdone\n",
            "Collecting ftfy<7.0,>=6.0 (from clean-text)\n",
            "  Downloading ftfy-6.1.3-py3-none-any.whl (53 kB)\n",
            "\u001b[2K     \u001b[90m━━━━━━━━━━━━━━━━━━━━━━━━━━━━━━━━━━━━━━━━\u001b[0m \u001b[32m53.4/53.4 kB\u001b[0m \u001b[31m6.4 MB/s\u001b[0m eta \u001b[36m0:00:00\u001b[0m\n",
            "\u001b[?25hRequirement already satisfied: wcwidth<0.3.0,>=0.2.12 in /usr/local/lib/python3.10/dist-packages (from ftfy<7.0,>=6.0->clean-text) (0.2.13)\n",
            "Building wheels for collected packages: emoji\n",
            "  Building wheel for emoji (setup.py) ... \u001b[?25l\u001b[?25hdone\n",
            "  Created wheel for emoji: filename=emoji-1.7.0-py3-none-any.whl size=171033 sha256=fc542be42d42a8ada16e36415aa58105eb13de0ff58f3058dc1afde90981f889\n",
            "  Stored in directory: /root/.cache/pip/wheels/31/8a/8c/315c9e5d7773f74b33d5ed33f075b49c6eaeb7cedbb86e2cf8\n",
            "Successfully built emoji\n",
            "Installing collected packages: emoji, ftfy, clean-text\n",
            "Successfully installed clean-text-0.6.0 emoji-1.7.0 ftfy-6.1.3\n"
          ]
        },
        {
          "output_type": "stream",
          "name": "stderr",
          "text": [
            "WARNING:root:Since the GPL-licensed package `unidecode` is not installed, using Python's `unicodedata` package which yields worse results.\n"
          ]
        }
      ],
      "source": [
        "!pip install clean-text\n",
        "from cleantext import clean"
      ]
    },
    {
      "cell_type": "code",
      "execution_count": null,
      "metadata": {
        "id": "PxRt_wEr_wkF"
      },
      "outputs": [],
      "source": [
        "data = [clean(d, no_emoji=True) for d in data['text']]"
      ]
    },
    {
      "cell_type": "code",
      "execution_count": null,
      "metadata": {
        "id": "QqJTjOEHAnmz"
      },
      "outputs": [],
      "source": [
        "data = remove_stopwords(data)"
      ]
    },
    {
      "cell_type": "code",
      "execution_count": null,
      "metadata": {
        "id": "XYFKmOGIA4Qx"
      },
      "outputs": [],
      "source": [
        "resultx = []\n",
        "for d in data:\n",
        "  resultx.append(' '.join(d))\n",
        "\n",
        "#resultxtokens = resultx.split()\n"
      ]
    },
    {
      "cell_type": "code",
      "source": [
        "resultx[:5]"
      ],
      "metadata": {
        "colab": {
          "base_uri": "https://localhost:8080/"
        },
        "id": "KJNDFYA0Pw5Y",
        "outputId": "72aa20e0-ff43-4ba5-f9e6-75ecd468da0c"
      },
      "execution_count": null,
      "outputs": [
        {
          "output_type": "execute_result",
          "data": {
            "text/plain": [
              "['live chat hi anyone know access live chat history child account tried contacting roblox heard back',\n",
              " 'forgot pin created parental pin almost years ago somehow remember son accidentally blocked brother tried email roblox reset pin son upset wants play brother reset without pin anyone else happen',\n",
              " 'roblox rant gamehonestly either enough protection young kids much protection making game useless chat simple things add parental game controls parents approve friend requests outgoing incoming experience chats stored parent accessible actual inappropriate text controls anyone walk kid roblox say private parts etc friends experience chat history reported users missing anything specifically pissed find days long experience chat child another user extremely inappropriate zero way access anything regarding going honest open conversation child',\n",
              " 'alone say',\n",
              " 'even contacted support useless']"
            ]
          },
          "metadata": {},
          "execution_count": 21
        }
      ]
    },
    {
      "cell_type": "code",
      "source": [
        "import nltk\n",
        "from nltk.tokenize import word_tokenize\n",
        "from nltk.probability import FreqDist\n",
        "nltk.download('punkt')\n",
        "words = [word_tokenize(i) for i in resultx]\n",
        "words2= [num for elem in words for num in elem]\n",
        "#words = nltk.tokenize.word_tokenize(resultx)\n",
        "\n",
        "#wordcounts(words2)\n",
        "fdist1 = FreqDist(words2)\n",
        "#print(fdist1)\n",
        "fdist1.most_common(50)\n",
        "\n",
        "\n",
        "#>>> # flatten a list using a listcomp with two 'for'\n",
        "#>>> vec = [[1,2,3], [4,5,6], [7,8,9]]\n",
        "#>>> [num for elem in vec for num in elem]\n",
        "#[1, 2, 3, 4, 5, 6, 7, 8, 9]"
      ],
      "metadata": {
        "colab": {
          "base_uri": "https://localhost:8080/"
        },
        "id": "vz8We9sCDpPV",
        "outputId": "e39bd401-2491-4c63-ecfd-a48f106286a2"
      },
      "execution_count": null,
      "outputs": [
        {
          "output_type": "stream",
          "name": "stderr",
          "text": [
            "[nltk_data] Downloading package punkt to /root/nltk_data...\n",
            "[nltk_data]   Unzipping tokenizers/punkt.zip.\n"
          ]
        },
        {
          "output_type": "execute_result",
          "data": {
            "text/plain": [
              "[('kids', 3958),\n",
              " ('like', 3569),\n",
              " ('roblox', 3167),\n",
              " ('games', 2714),\n",
              " ('time', 2643),\n",
              " ('game', 2527),\n",
              " ('play', 2502),\n",
              " ('would', 2230),\n",
              " ('kid', 2027),\n",
              " ('also', 1874),\n",
              " ('old', 1811),\n",
              " ('think', 1806),\n",
              " ('money', 1766),\n",
              " ('know', 1712),\n",
              " ('one', 1635),\n",
              " ('make', 1618),\n",
              " ('year', 1554),\n",
              " ('things', 1488),\n",
              " ('want', 1420),\n",
              " ('good', 1391),\n",
              " ('people', 1390),\n",
              " ('even', 1347),\n",
              " ('really', 1333),\n",
              " ('phone', 1333),\n",
              " ('something', 1299),\n",
              " ('child', 1255),\n",
              " ('much', 1246),\n",
              " ('let', 1211),\n",
              " ('way', 1203),\n",
              " ('daughter', 1187),\n",
              " ('son', 1185),\n",
              " ('friends', 1153),\n",
              " ('school', 1085),\n",
              " ('playing', 1080),\n",
              " ('parents', 1076),\n",
              " ('need', 1067),\n",
              " ('age', 1011),\n",
              " ('still', 1005),\n",
              " ('could', 1002),\n",
              " ('see', 964),\n",
              " ('use', 960),\n",
              " ('go', 946),\n",
              " ('day', 943),\n",
              " ('going', 935),\n",
              " ('thing', 933),\n",
              " ('back', 928),\n",
              " ('got', 920),\n",
              " ('lot', 902),\n",
              " ('say', 900),\n",
              " ('stuff', 827)]"
            ]
          },
          "metadata": {},
          "execution_count": 23
        }
      ]
    },
    {
      "cell_type": "code",
      "source": [
        "result = []\n",
        "for d in data:\n",
        "  result.append(' '.join(d))\n",
        "# result"
      ],
      "metadata": {
        "id": "Xisn0ly6HiOK"
      },
      "execution_count": null,
      "outputs": []
    },
    {
      "cell_type": "code",
      "execution_count": null,
      "metadata": {
        "id": "UFGsHzqL1WeB"
      },
      "outputs": [],
      "source": [
        "import gensim\n",
        "from gensim.utils import simple_preprocess\n",
        "\n",
        "def sent_to_words(sentences):\n",
        "    for sentence in sentences:\n",
        "      yield(gensim.utils.simple_preprocess(str(sentence), deacc=True))  # deacc=True removes punctuations\n",
        "\n",
        "# data = filtered_data.review_text_processed.values.tolist()\n",
        "data_words = list(sent_to_words(result))\n",
        "\n",
        "# prints the first 30 words of the first tokenized review from the data_words list.\n",
        "# print(data_words[:1][0][:30])"
      ]
    },
    {
      "cell_type": "code",
      "execution_count": null,
      "metadata": {
        "id": "Ah4kOFw09mdw"
      },
      "outputs": [],
      "source": [
        "bigram = gensim.models.Phrases(data_words, min_count=5, threshold=100)\n",
        "bigram_mod = gensim.models.phrases.Phraser(bigram)\n",
        "trigram = gensim.models.Phrases(bigram[data_words], threshold=100)\n",
        "trigram_mod = gensim.models.phrases.Phraser(trigram)"
      ]
    },
    {
      "cell_type": "code",
      "execution_count": null,
      "metadata": {
        "id": "fwxlchWD81Tg"
      },
      "outputs": [],
      "source": [
        "def make_bigrams(texts):\n",
        "    return [bigram_mod[doc] for doc in texts]\n",
        "\n",
        "def make_trigrams(texts):\n",
        "    return [trigram_mod[bigram_mod[doc]] for doc in texts]\n",
        "\n",
        "def lemmatization(texts, allowed_postags=['NOUN', 'ADJ', 'VERB', 'ADV']):\n",
        "    \"\"\"https://spacy.io/api/annotation\"\"\"\n",
        "    texts_out = []\n",
        "    for sent in texts:\n",
        "        doc = nlp(\" \".join(sent))\n",
        "        texts_out.append([token.lemma_ for token in doc if token.pos_ in allowed_postags])\n",
        "    return texts_out"
      ]
    },
    {
      "cell_type": "code",
      "execution_count": null,
      "metadata": {
        "id": "oo7MOKefn6kt"
      },
      "outputs": [],
      "source": [
        "# # NO BIGRAMS\n",
        "# !python -m spacy download en_core_web_sm\n",
        "# import spacy\n",
        "\n",
        "# # Initialize spacy 'en' model, keeping only tagger component (for efficiency)\n",
        "# nlp = spacy.load(\"en_core_web_sm\", disable=['parser', 'ner'])\n",
        "\n",
        "# # Do lemmatization keeping only noun, adj, vb, adv\n",
        "# data_lemmatized = lemmatization(data_words, allowed_postags=['NOUN', 'ADJ', 'VERB', 'ADV'])\n"
      ]
    },
    {
      "cell_type": "code",
      "execution_count": null,
      "metadata": {
        "id": "gGmZgbPx9I2A",
        "colab": {
          "base_uri": "https://localhost:8080/"
        },
        "outputId": "ca064a5a-1cd6-465b-c6ea-3b7f3d5e99b8"
      },
      "outputs": [
        {
          "output_type": "stream",
          "name": "stdout",
          "text": [
            "2024-01-27 19:34:07.010247: E external/local_xla/xla/stream_executor/cuda/cuda_dnn.cc:9261] Unable to register cuDNN factory: Attempting to register factory for plugin cuDNN when one has already been registered\n",
            "2024-01-27 19:34:07.010338: E external/local_xla/xla/stream_executor/cuda/cuda_fft.cc:607] Unable to register cuFFT factory: Attempting to register factory for plugin cuFFT when one has already been registered\n",
            "2024-01-27 19:34:07.012029: E external/local_xla/xla/stream_executor/cuda/cuda_blas.cc:1515] Unable to register cuBLAS factory: Attempting to register factory for plugin cuBLAS when one has already been registered\n",
            "2024-01-27 19:34:08.559594: W tensorflow/compiler/tf2tensorrt/utils/py_utils.cc:38] TF-TRT Warning: Could not find TensorRT\n",
            "Collecting en-core-web-sm==3.6.0\n",
            "  Downloading https://github.com/explosion/spacy-models/releases/download/en_core_web_sm-3.6.0/en_core_web_sm-3.6.0-py3-none-any.whl (12.8 MB)\n",
            "\u001b[2K     \u001b[90m━━━━━━━━━━━━━━━━━━━━━━━━━━━━━━━━━━━━━━━━\u001b[0m \u001b[32m12.8/12.8 MB\u001b[0m \u001b[31m27.5 MB/s\u001b[0m eta \u001b[36m0:00:00\u001b[0m\n",
            "\u001b[?25hRequirement already satisfied: spacy<3.7.0,>=3.6.0 in /usr/local/lib/python3.10/dist-packages (from en-core-web-sm==3.6.0) (3.6.1)\n",
            "Requirement already satisfied: spacy-legacy<3.1.0,>=3.0.11 in /usr/local/lib/python3.10/dist-packages (from spacy<3.7.0,>=3.6.0->en-core-web-sm==3.6.0) (3.0.12)\n",
            "Requirement already satisfied: spacy-loggers<2.0.0,>=1.0.0 in /usr/local/lib/python3.10/dist-packages (from spacy<3.7.0,>=3.6.0->en-core-web-sm==3.6.0) (1.0.5)\n",
            "Requirement already satisfied: murmurhash<1.1.0,>=0.28.0 in /usr/local/lib/python3.10/dist-packages (from spacy<3.7.0,>=3.6.0->en-core-web-sm==3.6.0) (1.0.10)\n",
            "Requirement already satisfied: cymem<2.1.0,>=2.0.2 in /usr/local/lib/python3.10/dist-packages (from spacy<3.7.0,>=3.6.0->en-core-web-sm==3.6.0) (2.0.8)\n",
            "Requirement already satisfied: preshed<3.1.0,>=3.0.2 in /usr/local/lib/python3.10/dist-packages (from spacy<3.7.0,>=3.6.0->en-core-web-sm==3.6.0) (3.0.9)\n",
            "Requirement already satisfied: thinc<8.2.0,>=8.1.8 in /usr/local/lib/python3.10/dist-packages (from spacy<3.7.0,>=3.6.0->en-core-web-sm==3.6.0) (8.1.12)\n",
            "Requirement already satisfied: wasabi<1.2.0,>=0.9.1 in /usr/local/lib/python3.10/dist-packages (from spacy<3.7.0,>=3.6.0->en-core-web-sm==3.6.0) (1.1.2)\n",
            "Requirement already satisfied: srsly<3.0.0,>=2.4.3 in /usr/local/lib/python3.10/dist-packages (from spacy<3.7.0,>=3.6.0->en-core-web-sm==3.6.0) (2.4.8)\n",
            "Requirement already satisfied: catalogue<2.1.0,>=2.0.6 in /usr/local/lib/python3.10/dist-packages (from spacy<3.7.0,>=3.6.0->en-core-web-sm==3.6.0) (2.0.10)\n",
            "Requirement already satisfied: typer<0.10.0,>=0.3.0 in /usr/local/lib/python3.10/dist-packages (from spacy<3.7.0,>=3.6.0->en-core-web-sm==3.6.0) (0.9.0)\n",
            "Requirement already satisfied: pathy>=0.10.0 in /usr/local/lib/python3.10/dist-packages (from spacy<3.7.0,>=3.6.0->en-core-web-sm==3.6.0) (0.11.0)\n",
            "Requirement already satisfied: smart-open<7.0.0,>=5.2.1 in /usr/local/lib/python3.10/dist-packages (from spacy<3.7.0,>=3.6.0->en-core-web-sm==3.6.0) (6.4.0)\n",
            "Requirement already satisfied: tqdm<5.0.0,>=4.38.0 in /usr/local/lib/python3.10/dist-packages (from spacy<3.7.0,>=3.6.0->en-core-web-sm==3.6.0) (4.66.1)\n",
            "Requirement already satisfied: numpy>=1.15.0 in /usr/local/lib/python3.10/dist-packages (from spacy<3.7.0,>=3.6.0->en-core-web-sm==3.6.0) (1.26.3)\n",
            "Requirement already satisfied: requests<3.0.0,>=2.13.0 in /usr/local/lib/python3.10/dist-packages (from spacy<3.7.0,>=3.6.0->en-core-web-sm==3.6.0) (2.31.0)\n",
            "Requirement already satisfied: pydantic!=1.8,!=1.8.1,<3.0.0,>=1.7.4 in /usr/local/lib/python3.10/dist-packages (from spacy<3.7.0,>=3.6.0->en-core-web-sm==3.6.0) (1.10.14)\n",
            "Requirement already satisfied: jinja2 in /usr/local/lib/python3.10/dist-packages (from spacy<3.7.0,>=3.6.0->en-core-web-sm==3.6.0) (3.1.3)\n",
            "Requirement already satisfied: setuptools in /usr/local/lib/python3.10/dist-packages (from spacy<3.7.0,>=3.6.0->en-core-web-sm==3.6.0) (67.7.2)\n",
            "Requirement already satisfied: packaging>=20.0 in /usr/local/lib/python3.10/dist-packages (from spacy<3.7.0,>=3.6.0->en-core-web-sm==3.6.0) (23.2)\n",
            "Requirement already satisfied: langcodes<4.0.0,>=3.2.0 in /usr/local/lib/python3.10/dist-packages (from spacy<3.7.0,>=3.6.0->en-core-web-sm==3.6.0) (3.3.0)\n",
            "Requirement already satisfied: pathlib-abc==0.1.1 in /usr/local/lib/python3.10/dist-packages (from pathy>=0.10.0->spacy<3.7.0,>=3.6.0->en-core-web-sm==3.6.0) (0.1.1)\n",
            "Requirement already satisfied: typing-extensions>=4.2.0 in /usr/local/lib/python3.10/dist-packages (from pydantic!=1.8,!=1.8.1,<3.0.0,>=1.7.4->spacy<3.7.0,>=3.6.0->en-core-web-sm==3.6.0) (4.5.0)\n",
            "Requirement already satisfied: charset-normalizer<4,>=2 in /usr/local/lib/python3.10/dist-packages (from requests<3.0.0,>=2.13.0->spacy<3.7.0,>=3.6.0->en-core-web-sm==3.6.0) (3.3.2)\n",
            "Requirement already satisfied: idna<4,>=2.5 in /usr/local/lib/python3.10/dist-packages (from requests<3.0.0,>=2.13.0->spacy<3.7.0,>=3.6.0->en-core-web-sm==3.6.0) (3.6)\n",
            "Requirement already satisfied: urllib3<3,>=1.21.1 in /usr/local/lib/python3.10/dist-packages (from requests<3.0.0,>=2.13.0->spacy<3.7.0,>=3.6.0->en-core-web-sm==3.6.0) (2.0.7)\n",
            "Requirement already satisfied: certifi>=2017.4.17 in /usr/local/lib/python3.10/dist-packages (from requests<3.0.0,>=2.13.0->spacy<3.7.0,>=3.6.0->en-core-web-sm==3.6.0) (2023.11.17)\n",
            "Requirement already satisfied: blis<0.8.0,>=0.7.8 in /usr/local/lib/python3.10/dist-packages (from thinc<8.2.0,>=8.1.8->spacy<3.7.0,>=3.6.0->en-core-web-sm==3.6.0) (0.7.11)\n",
            "Requirement already satisfied: confection<1.0.0,>=0.0.1 in /usr/local/lib/python3.10/dist-packages (from thinc<8.2.0,>=8.1.8->spacy<3.7.0,>=3.6.0->en-core-web-sm==3.6.0) (0.1.4)\n",
            "Requirement already satisfied: click<9.0.0,>=7.1.1 in /usr/local/lib/python3.10/dist-packages (from typer<0.10.0,>=0.3.0->spacy<3.7.0,>=3.6.0->en-core-web-sm==3.6.0) (8.1.7)\n",
            "Requirement already satisfied: MarkupSafe>=2.0 in /usr/local/lib/python3.10/dist-packages (from jinja2->spacy<3.7.0,>=3.6.0->en-core-web-sm==3.6.0) (2.1.4)\n",
            "\u001b[38;5;2m✔ Download and installation successful\u001b[0m\n",
            "You can now load the package via spacy.load('en_core_web_sm')\n"
          ]
        }
      ],
      "source": [
        "# BIGRAMS DATA\n",
        "!python -m spacy download en_core_web_sm\n",
        "import spacy\n",
        "\n",
        "# Form Bigrams\n",
        "data_words_bigrams = make_bigrams(data_words)\n",
        "\n",
        "# Form Trigrams\n",
        "data_words_trigrams = make_trigrams(data_words)\n",
        "\n",
        "# Initialize spacy 'en' model, keeping only tagger component (for efficiency)\n",
        "nlp = spacy.load(\"en_core_web_sm\", disable=['parser', 'ner'])\n",
        "\n",
        "# Do lemmatization keeping only noun, adj, vb, adv\n",
        "data_lemmatized = lemmatization(data_words_bigrams, allowed_postags=['NOUN', 'ADJ', 'VERB', 'ADV'])\n"
      ]
    },
    {
      "cell_type": "code",
      "execution_count": null,
      "metadata": {
        "id": "Svyyw3T_TWDY",
        "colab": {
          "base_uri": "https://localhost:8080/"
        },
        "outputId": "062ce0a3-a02a-4bc5-c926-14f53bb314cd"
      },
      "outputs": [
        {
          "output_type": "stream",
          "name": "stdout",
          "text": [
            "<class 'list'>\n"
          ]
        }
      ],
      "source": [
        "print(type(data_lemmatized))"
      ]
    },
    {
      "cell_type": "markdown",
      "metadata": {
        "id": "52HMZJNfK-6g"
      },
      "source": [
        "Remove Duplicate Words (TO REMOVE)"
      ]
    },
    {
      "cell_type": "code",
      "execution_count": null,
      "metadata": {
        "id": "7TsA85qZqam1"
      },
      "outputs": [],
      "source": [
        "# from collections import Counter\n",
        "# def unique(d):\n",
        "#   UniqW = Counter(d)\n",
        "#   result = [*UniqW]\n",
        "#   # corpus = ' '.join(UniqW.keys())\n",
        "#   return result"
      ]
    },
    {
      "cell_type": "code",
      "execution_count": null,
      "metadata": {
        "id": "_UK5UWvMEmhe"
      },
      "outputs": [],
      "source": [
        "# single_data = []\n",
        "# for d in data_lemmatized:\n",
        "#   for word in d:\n",
        "#     single_data.append(word)"
      ]
    },
    {
      "cell_type": "code",
      "execution_count": null,
      "metadata": {
        "id": "4V_DwEN_A0gk"
      },
      "outputs": [],
      "source": [
        "# unique_data = [unique(d) for d in data_lemmatized]\n",
        "# # unique_data = unique(single_data)"
      ]
    },
    {
      "cell_type": "code",
      "execution_count": null,
      "metadata": {
        "id": "nSsieaNDG4TQ",
        "colab": {
          "base_uri": "https://localhost:8080/"
        },
        "outputId": "90222135-3d0e-41fb-826e-84d8c8159d08"
      },
      "outputs": [
        {
          "output_type": "stream",
          "name": "stdout",
          "text": [
            "<class 'list'>\n"
          ]
        }
      ],
      "source": [
        "# print(type(unique_data))"
      ]
    },
    {
      "cell_type": "code",
      "execution_count": null,
      "metadata": {
        "id": "jBk1WzFhCMCE"
      },
      "outputs": [],
      "source": [
        "# unique_data"
      ]
    },
    {
      "cell_type": "code",
      "execution_count": null,
      "metadata": {
        "id": "EYowXc6I5gYo",
        "colab": {
          "base_uri": "https://localhost:8080/"
        },
        "outputId": "90609a11-3f4c-4c6a-b9aa-fd1db3697258"
      },
      "outputs": [
        {
          "output_type": "stream",
          "name": "stdout",
          "text": [
            "[(0, 1), (1, 1), (2, 2), (3, 1), (4, 1), (5, 1), (6, 1), (7, 1), (8, 2), (9, 1), (10, 1)]\n",
            "['live', 'chat', 'hi', 'anyone', 'know', 'access', 'live', 'chat', 'history', 'child', 'account', 'tried', 'contacting', 'roblox', 'heard', 'back']\n"
          ]
        }
      ],
      "source": [
        "from prompt_toolkit.completion import word_completer\n",
        "id2word = corpora.Dictionary(data_lemmatized)\n",
        "# id2word = corpora.Dictionary(bag_of_words)\n",
        "\n",
        "corpus = []\n",
        "for text in data_lemmatized:\n",
        "  new = id2word.doc2bow(text)\n",
        "  corpus.append(new)\n",
        "\n",
        "print(corpus[0])\n",
        "\n",
        "print(data_words[:1][0][:30])\n",
        "# print(word_completer)"
      ]
    },
    {
      "cell_type": "code",
      "execution_count": null,
      "metadata": {
        "id": "mKHoJVMrICnA"
      },
      "outputs": [],
      "source": [
        "lda_model = gensim.models.LdaMulticore(corpus=corpus,\n",
        "                                       id2word=id2word,\n",
        "                                       num_topics=5,\n",
        "                                       random_state=100,\n",
        "                                       chunksize=100,\n",
        "                                       passes=10,\n",
        "                                       per_word_topics=True,\n",
        "                                       alpha=0.01,\n",
        "                                       eta=0.61)"
      ]
    },
    {
      "cell_type": "code",
      "execution_count": null,
      "metadata": {
        "id": "lwJxooAf0IV2",
        "colab": {
          "base_uri": "https://localhost:8080/",
          "height": 916
        },
        "outputId": "4af43a9d-d36c-4696-b6b5-187171bed83f"
      },
      "outputs": [
        {
          "output_type": "stream",
          "name": "stderr",
          "text": [
            "/usr/local/lib/python3.10/dist-packages/sklearn/manifold/_mds.py:299: FutureWarning: The default value of `normalized_stress` will change to `'auto'` in version 1.4. To suppress this warning, manually set the value of `normalized_stress`.\n",
            "  warnings.warn(\n"
          ]
        },
        {
          "output_type": "execute_result",
          "data": {
            "text/plain": [
              "PreparedData(topic_coordinates=              x         y  topics  cluster       Freq\n",
              "topic                                                \n",
              "3      0.242561  0.211461       1        1  88.750614\n",
              "4      0.110097 -0.206192       2        1   6.837264\n",
              "1     -0.154515 -0.047271       3        1   1.866747\n",
              "2     -0.132844  0.055937       4        1   1.538094\n",
              "0     -0.065299 -0.013934       5        1   1.007281, topic_info=             Term         Freq        Total Category  logprob  loglift\n",
              "253           buy   850.000000   850.000000  Default  30.0000  30.0000\n",
              "83          money   722.000000   722.000000  Default  29.0000  29.0000\n",
              "1         account  1070.000000  1070.000000  Default  28.0000  28.0000\n",
              "49           make  3504.000000  3504.000000  Default  27.0000  27.0000\n",
              "1485          pet   520.000000   520.000000  Default  26.0000  26.0000\n",
              "...           ...          ...          ...      ...      ...      ...\n",
              "2850   censorship     4.514492    45.291793   Topic5  -6.4821   2.2921\n",
              "11683        dope     4.507076    45.285987   Topic5  -6.4837   2.2906\n",
              "794         adopt     7.201321  1100.529545   Topic5  -6.0151  -0.4314\n",
              "4394        lobby     4.628646    88.043708   Topic5  -6.4571   1.6523\n",
              "3126      pet_sim     4.155185   145.103769   Topic5  -6.5650   1.0448\n",
              "\n",
              "[263 rows x 6 columns], token_table=       Topic      Freq     Term\n",
              "term                           \n",
              "1          1  0.739923  account\n",
              "1          2  0.258786  account\n",
              "794        1  0.940456    adopt\n",
              "794        2  0.051793    adopt\n",
              "794        3  0.000909    adopt\n",
              "...      ...       ...      ...\n",
              "2612       1  0.225880      wth\n",
              "2612       4  0.677641      wth\n",
              "11658      1  0.211606      www\n",
              "11658      5  0.634819      www\n",
              "234        1  0.998971     year\n",
              "\n",
              "[568 rows x 3 columns], R=30, lambda_step=0.01, plot_opts={'xlab': 'PC1', 'ylab': 'PC2'}, topic_order=[4, 5, 2, 3, 1])"
            ],
            "text/html": [
              "\n",
              "<link rel=\"stylesheet\" type=\"text/css\" href=\"https://cdn.jsdelivr.net/gh/bmabey/pyLDAvis@3.4.0/pyLDAvis/js/ldavis.v1.0.0.css\">\n",
              "\n",
              "\n",
              "<div id=\"ldavis_el4451359634005061609266938413\" style=\"background-color:white;\"></div>\n",
              "<script type=\"text/javascript\">\n",
              "\n",
              "var ldavis_el4451359634005061609266938413_data = {\"mdsDat\": {\"x\": [0.24256084826481958, 0.11009737311531256, -0.1545150792778732, -0.13284428350306107, -0.06529885859919786], \"y\": [0.21146078930480394, -0.20619215183049497, -0.04727085973219498, 0.05593656067536623, -0.01393433841748025], \"topics\": [1, 2, 3, 4, 5], \"cluster\": [1, 1, 1, 1, 1], \"Freq\": [88.75061383778305, 6.8372639347588375, 1.866746919510864, 1.5380942272860583, 1.0072810806611872]}, \"tinfo\": {\"Term\": [\"buy\", \"money\", \"account\", \"make\", \"pet\", \"scam\", \"give\", \"robux\", \"spend\", \"free\", \"adopt\", \"simulator\", \"use\", \"game\", \"new\", \"developer\", \"pay\", \"item\", \"trade\", \"real\", \"scamme\", \"purchase\", \"sell\", \"update\", \"bed\", \"email\", \"comment\", \"night\", \"password\", \"grind\", \"play\", \"kid\", \"game\", \"time\", \"go\", \"know\", \"say\", \"think\", \"thing\", \"good\", \"try\", \"child\", \"old\", \"year\", \"see\", \"also\", \"roblox\", \"need\", \"well\", \"people\", \"day\", \"friend\", \"take\", \"way\", \"bad\", \"really\", \"son\", \"tell\", \"talk\", \"find\", \"want\", \"get\", \"even\", \"make\", \"back\", \"use\", \"much\", \"money\", \"robux\", \"item\", \"purchase\", \"trade\", \"sell\", \"cost\", \"card\", \"gift\", \"currency\", \"cash\", \"scam\", \"pet\", \"dollar\", \"price\", \"expensive\", \"coin\", \"steal\", \"profit\", \"bank\", \"buck\", \"sale\", \"gem\", \"transaction\", \"credit\", \"saving\", \"microsoft_reward\", \"cosmetic\", \"payment\", \"invest\", \"collect\", \"buy\", \"devex\", \"pay\", \"exploiter\", \"simulator\", \"bee_swarm\", \"save\", \"earn\", \"spend\", \"devs\", \"free\", \"pet_simulator\", \"update\", \"account\", \"value\", \"waste\", \"scammer\", \"give\", \"make\", \"developer\", \"new\", \"scamme\", \"use\", \"tho\", \"classic\", \"black\", \"omg\", \"sonic\", \"cake\", \"makeup\", \"trend\", \"epic\", \"patch\", \"bake\", \"paint\", \"bone\", \"red\", \"ice\", \"song\", \"goddamn\", \"musical\", \"barbie\", \"wolf\", \"hilarious\", \"rbx\", \"bald\", \"iron\", \"tattoo\", \"slave\", \"flame\", \"fi\", \"island\", \"malde\", \"release\", \"shaggy\", \"doomspire\", \"isle\", \"white\", \"tp\", \"piano\", \"remake\", \"music\", \"bee\", \"vip\", \"nft\", \"blockchain\", \"wear\", \"power\", \"pet_sim\", \"joke\", \"bedtime\", \"min\", \"obby_obby\", \"electronic\", \"cry\", \"therapy\", \"donate\", \"cope\", \"grandma\", \"poop\", \"bedroom\", \"snack\", \"breakfast\", \"inventory\", \"ds\", \"invariant\", \"detect\", \"petition\", \"hormone\", \"recipe\", \"awake\", \"schoolroleplay\", \"seaport\", \"shower\", \"command\", \"tail\", \"legitimately\", \"satire\", \"firm\", \"wth\", \"chaos\", \"trading\", \"weapon\", \"bag\", \"wake\", \"morning\", \"happend\", \"jailbreak\", \"bed\", \"eat\", \"suprise\", \"nft\", \"offend\", \"drug\", \"night\", \"grind\", \"dog\", \"vote\", \"heavy\", \"bot\", \"violate\", \"understandable\", \"skin\", \"auto\", \"ahhhhh\", \"robuzx\", \"www\", \"obbie\", \"cough\", \"employee\", \"rickroll\", \"recieve\", \"rp\", \"preach\", \"fish\", \"generic\", \"dvscvrd\", \"stat\", \"tos\", \"client\", \"grand\", \"theft\", \"forest\", \"com\", \"miner\", \"blog\", \"deeta\", \"beggar\", \"blind\", \"custom\", \"waaaa\", \"knife\", \"hesitant\", \"scripting\", \"flicker\", \"tycoon\", \"sequel\", \"equip\", \"official\", \"rthro\", \"censorship\", \"dope\", \"adopt\", \"lobby\", \"pet_sim\"], \"Freq\": [850.0, 722.0, 1070.0, 3504.0, 520.0, 501.0, 1293.0, 474.0, 574.0, 587.0, 1100.0, 422.0, 1856.0, 9491.0, 630.0, 533.0, 255.0, 241.0, 239.0, 482.0, 397.0, 213.0, 184.0, 224.0, 155.0, 376.0, 354.0, 208.0, 364.0, 270.0, 3890.9600078695134, 2877.6493167752333, 9487.05103454018, 2313.582263646227, 2708.7612569745256, 2234.1402528654007, 1988.2357410411373, 1844.7699427294679, 2315.188331089178, 2191.008774392959, 1692.9631701380922, 1581.701129661374, 1249.240812548953, 1227.9909138813052, 1415.3071212469843, 1500.9727643809567, 3981.9078122365177, 1270.1766858237092, 1349.5644833575163, 2721.2215909457236, 1072.704691532006, 902.089734093819, 1334.4036520191628, 1479.3140881498455, 1261.0257801549383, 1593.7835440556935, 1022.0501569419218, 898.8304046401998, 788.8984643969951, 1011.8031876908327, 2254.9632222127702, 2421.0745472677017, 1539.5533553965686, 3338.7220916214083, 1163.553266295091, 1764.1474626971356, 1223.4878260507537, 720.2115466185052, 470.32885255885327, 239.17684835761534, 211.6685493702743, 236.43793464281498, 182.38792545127853, 92.3722963731933, 87.44841953766398, 85.49532883658745, 93.88813714557345, 71.24975095785153, 489.2854110640725, 507.0336450253875, 52.21094356141393, 41.91547064969087, 39.38800813649654, 64.52620125953811, 99.03336115301522, 35.41751924195192, 35.818888703651794, 36.847514919114005, 27.213431235278886, 70.78639766894983, 26.903829068643674, 24.810253345862133, 19.963957095257328, 18.698518632289595, 23.27917939827644, 19.32484312318745, 21.552029594377064, 35.940010625661635, 683.0291745317573, 35.10574257218532, 205.60199794175713, 43.77053857188211, 292.8040017590829, 71.6027429688566, 66.89169708397276, 94.19713567200391, 256.8419617619337, 73.78940280799887, 229.1655571348704, 73.07911639286918, 112.52922722008276, 277.13158158232403, 60.778397334116484, 75.14509480420509, 79.13248562448264, 141.48372694382766, 165.33333235164798, 89.15589626446577, 88.62109434963065, 82.37553912850552, 91.41751003791188, 44.27379924974183, 32.49161647358289, 15.638779955329206, 15.896056545805395, 18.233102130165783, 13.6486149469892, 19.79141632232685, 13.831558167379104, 18.24590251772105, 11.1824340946983, 9.426263683402787, 10.581760191349346, 15.77526863738721, 22.950738542532505, 8.793390912948848, 6.899660242112579, 8.342394876031431, 5.372013910272945, 6.227964423083662, 10.48113626587266, 5.40384816104918, 4.676839472252849, 5.687266406006648, 4.4177604808147235, 5.613882438298193, 5.794552692673611, 6.126821253411058, 5.547940334402564, 4.052464234877702, 3.873272172006105, 32.74991246259077, 11.038823622149218, 13.916418959006169, 6.701548218852204, 10.804120154964707, 10.976388325562052, 27.26151149299152, 7.501191280182, 19.472745468970018, 15.503401030474242, 11.292639857309961, 20.70535610329718, 13.783482263592301, 9.425684624311751, 16.25364017007988, 14.392117911278671, 9.985952293351115, 17.632094110849028, 18.067511808508602, 43.179454022778565, 18.66409900445657, 36.69721889881512, 9.013307196472114, 78.10394266095342, 7.956481990408576, 10.215058070648476, 6.2733722470761455, 5.208064408244851, 5.418285743720518, 8.310144179360915, 7.478146229018059, 4.194957083965731, 3.8516125741181977, 3.8516117876697678, 5.378614139109295, 4.117715789247639, 7.172092482234164, 4.034770384065565, 4.051380699209594, 4.051380699209594, 3.765763863481432, 6.199078561074311, 4.285054713321199, 4.592783857410822, 3.7049884395456965, 4.616302859864371, 2.752858918598341, 4.684257247220125, 35.93416259075735, 15.267641099950836, 5.691552455450852, 19.012787169237598, 14.788967690034301, 4.722653756776574, 7.4851482415412915, 15.30012561450826, 10.059259490839151, 5.163082179534204, 8.12863974616323, 5.716108521234311, 6.165768275665213, 8.33751520622541, 8.265677336521502, 5.369638141026351, 29.37516699214603, 7.989891954729332, 20.58497771797609, 7.797062299564945, 6.021120403529226, 6.311844071023756, 11.53781545968776, 2.821064892720776, 2.782792875834659, 2.782792875834659, 9.34050025091538, 4.0529212295284776, 3.073048203497202, 2.377900043490769, 2.9918321022074794, 4.214265675078791, 2.2966092619125877, 5.074039062962988, 4.781137477906656, 2.1061882606495144, 4.792345701613085, 14.967292250216987, 3.0111150677239182, 3.328556423888866, 2.445156081203487, 1.8924531034026635, 5.402879206329053, 1.9586109116779824, 5.566763468402249, 2.254611299508279, 9.350463116432206, 3.162327372436899, 3.9850263749114982, 3.8591473408318566, 11.531442741739307, 5.47564355911117, 8.456453880815129, 4.916446486433296, 6.46456199902359, 4.848602792105881, 3.429070941789192, 5.736382833271405, 4.915577791583641, 4.514492452199363, 4.507075927000733, 7.201320985686116, 4.62864582259691, 4.155185498003443], \"Total\": [850.0, 722.0, 1070.0, 3504.0, 520.0, 501.0, 1293.0, 474.0, 574.0, 587.0, 1100.0, 422.0, 1856.0, 9491.0, 630.0, 533.0, 255.0, 241.0, 239.0, 482.0, 397.0, 213.0, 184.0, 224.0, 155.0, 376.0, 354.0, 208.0, 364.0, 270.0, 3892.4071482199724, 2878.9922660939546, 9491.520909841109, 2314.8653607382184, 2710.353968386145, 2235.627893496922, 1989.6539586739887, 1846.1714675344642, 2316.947485975588, 2192.7138835869087, 1694.4545213545953, 1583.2461613450268, 1250.479218484344, 1229.2655255154016, 1416.85779871766, 1502.6381244001911, 3986.4236456718213, 1271.7046553961682, 1351.2168156910682, 2724.606379350932, 1074.0629727533067, 903.2811239546073, 1336.2267839518602, 1481.3793944741235, 1262.8116351911438, 1596.068030746971, 1023.5168773530595, 900.136585914176, 790.099813161847, 1013.3674429030339, 2260.857811271181, 2430.725569581501, 1542.8583283565351, 3504.9397670715684, 1173.1476737718883, 1856.4534625345364, 1257.9952534342349, 722.0036684704813, 474.1751840352086, 241.42087668603457, 213.726476230429, 239.42941036585216, 184.86113962196202, 94.23543458449048, 89.21730286251262, 87.34073334650488, 96.0736035110218, 72.94045026479466, 501.95424359332276, 520.3848056599826, 53.972615994669134, 43.67978352771975, 41.236978000152796, 67.71224988355867, 104.65856460426856, 37.443008106889096, 37.970680521830495, 39.343292434365075, 29.103908055923267, 76.09579001594038, 28.99825384004358, 26.76403111031778, 21.635523862688018, 20.36065293554365, 25.350486448369058, 21.104305765883023, 23.586478793967096, 39.420516884409224, 850.8968014153864, 39.16669456899405, 255.70695922266975, 49.994934050653754, 422.4093235458487, 88.23227272378551, 84.64470830842862, 127.87626088608799, 574.6435072788419, 105.8269192188606, 587.1640938017889, 111.16323927259859, 224.67056155607068, 1070.380957158354, 98.00935288364333, 158.4663064430518, 180.89599056947904, 1293.3123404959665, 3504.9397670715684, 533.3702908588009, 630.9124446014089, 397.49968125204794, 1856.4534625345364, 46.46364863501105, 34.683454029562384, 17.492124502513818, 17.90332535601235, 20.703356163852835, 15.596480763310561, 22.876157564581977, 16.0609862292879, 21.256658303792943, 13.3157442587807, 11.229497377762167, 12.663891415787319, 19.0358816892932, 28.403727571334713, 11.03080480784978, 8.75842087680295, 10.62675564173273, 7.155606359551546, 8.306754340052313, 14.058191585518715, 7.268574317873458, 6.316142253151008, 8.043418757003842, 6.345987976788128, 8.078207172720187, 8.425207550891525, 8.917213161293782, 8.120342836113691, 5.932093441003983, 5.6763267845062, 52.96068327325947, 17.237750250147595, 22.292663841988887, 10.368234485812295, 19.568608609256284, 20.760984641586983, 79.9958233224141, 12.354032104857838, 69.53564667803695, 52.69434955146602, 30.191483973131668, 132.02442339362307, 68.40581711276347, 24.923439195528818, 144.15007167264972, 145.10376938331135, 91.06782382797414, 20.220692783356792, 20.733267592688186, 49.810458863538855, 22.319939586674924, 44.10095390365493, 11.076564191951618, 96.632144260264, 9.88644148833484, 12.74823688047338, 8.394395361089055, 7.008980255778131, 7.29423106849931, 11.212433408705643, 10.4156495737442, 5.9559347232481015, 5.5225044599265845, 5.5225036734781545, 7.754822611611476, 5.989322835417897, 10.595249821530796, 5.988597219918938, 6.115214690556526, 6.115214690556526, 5.695703513317258, 9.407345941792823, 6.504493643413025, 7.010491911687313, 5.752228227169334, 7.310052569684666, 4.427121394301642, 7.569012425084761, 72.6750300969029, 29.188195941608136, 10.300892563297799, 71.03108019982837, 79.02234720662665, 8.309713297757716, 22.137628135898897, 155.0861473213668, 60.6818834292923, 11.329406299217654, 132.02442339362307, 22.67186727705296, 35.53399682165578, 208.0619967726564, 270.95827256998234, 50.404277904763056, 34.031132394287965, 10.020931840224021, 25.860268631331007, 9.979470685680123, 8.360737665799974, 8.994897879386562, 18.0490842766884, 4.5966840077170215, 4.7257587201200915, 4.7257587201200915, 15.895629842643578, 6.969814149727386, 5.353968240704712, 4.153500262715945, 5.239270627213112, 7.4583963626275125, 4.072237061782462, 9.043152764154254, 8.59586496303164, 3.8817328058795715, 9.021791991662258, 28.635869816886636, 5.814016323446241, 6.460013887056748, 4.82911705616697, 3.760637975632587, 10.831338329361358, 3.947015011132062, 11.286140657755068, 4.583096823434559, 19.47141112101871, 6.491610145062586, 8.322934026621407, 9.012037676900297, 42.52056929637348, 17.91842124581308, 40.02023411937682, 17.654400312687876, 36.871943668325464, 24.36981698201543, 8.651524308830805, 91.29792785283635, 46.70985993165189, 45.29179250578491, 45.28598676539499, 1100.52954505613, 88.04370767105117, 145.10376938331135], \"Category\": [\"Default\", \"Default\", \"Default\", \"Default\", \"Default\", \"Default\", \"Default\", \"Default\", \"Default\", \"Default\", \"Default\", \"Default\", \"Default\", \"Default\", \"Default\", \"Default\", \"Default\", \"Default\", \"Default\", \"Default\", \"Default\", \"Default\", \"Default\", \"Default\", \"Default\", \"Default\", \"Default\", \"Default\", \"Default\", \"Default\", \"Topic1\", \"Topic1\", \"Topic1\", \"Topic1\", \"Topic1\", \"Topic1\", \"Topic1\", \"Topic1\", \"Topic1\", \"Topic1\", \"Topic1\", \"Topic1\", \"Topic1\", \"Topic1\", \"Topic1\", \"Topic1\", \"Topic1\", \"Topic1\", \"Topic1\", \"Topic1\", \"Topic1\", \"Topic1\", \"Topic1\", \"Topic1\", \"Topic1\", \"Topic1\", \"Topic1\", \"Topic1\", \"Topic1\", \"Topic1\", \"Topic1\", \"Topic1\", \"Topic1\", \"Topic1\", \"Topic1\", \"Topic1\", \"Topic1\", \"Topic2\", \"Topic2\", \"Topic2\", \"Topic2\", \"Topic2\", \"Topic2\", \"Topic2\", \"Topic2\", \"Topic2\", \"Topic2\", \"Topic2\", \"Topic2\", \"Topic2\", \"Topic2\", \"Topic2\", \"Topic2\", \"Topic2\", \"Topic2\", \"Topic2\", \"Topic2\", \"Topic2\", \"Topic2\", \"Topic2\", \"Topic2\", \"Topic2\", \"Topic2\", \"Topic2\", \"Topic2\", \"Topic2\", \"Topic2\", \"Topic2\", \"Topic2\", \"Topic2\", \"Topic2\", \"Topic2\", \"Topic2\", \"Topic2\", \"Topic2\", \"Topic2\", \"Topic2\", \"Topic2\", \"Topic2\", \"Topic2\", \"Topic2\", \"Topic2\", \"Topic2\", \"Topic2\", \"Topic2\", \"Topic2\", \"Topic2\", \"Topic2\", \"Topic2\", \"Topic2\", \"Topic2\", \"Topic3\", \"Topic3\", \"Topic3\", \"Topic3\", \"Topic3\", \"Topic3\", \"Topic3\", \"Topic3\", \"Topic3\", \"Topic3\", \"Topic3\", \"Topic3\", \"Topic3\", \"Topic3\", \"Topic3\", \"Topic3\", \"Topic3\", \"Topic3\", \"Topic3\", \"Topic3\", \"Topic3\", \"Topic3\", \"Topic3\", \"Topic3\", \"Topic3\", \"Topic3\", \"Topic3\", \"Topic3\", \"Topic3\", \"Topic3\", \"Topic3\", \"Topic3\", \"Topic3\", \"Topic3\", \"Topic3\", \"Topic3\", \"Topic3\", \"Topic3\", \"Topic3\", \"Topic3\", \"Topic3\", \"Topic3\", \"Topic3\", \"Topic3\", \"Topic3\", \"Topic3\", \"Topic3\", \"Topic4\", \"Topic4\", \"Topic4\", \"Topic4\", \"Topic4\", \"Topic4\", \"Topic4\", \"Topic4\", \"Topic4\", \"Topic4\", \"Topic4\", \"Topic4\", \"Topic4\", \"Topic4\", \"Topic4\", \"Topic4\", \"Topic4\", \"Topic4\", \"Topic4\", \"Topic4\", \"Topic4\", \"Topic4\", \"Topic4\", \"Topic4\", \"Topic4\", \"Topic4\", \"Topic4\", \"Topic4\", \"Topic4\", \"Topic4\", \"Topic4\", \"Topic4\", \"Topic4\", \"Topic4\", \"Topic4\", \"Topic4\", \"Topic4\", \"Topic4\", \"Topic4\", \"Topic4\", \"Topic4\", \"Topic4\", \"Topic4\", \"Topic4\", \"Topic4\", \"Topic4\", \"Topic4\", \"Topic5\", \"Topic5\", \"Topic5\", \"Topic5\", \"Topic5\", \"Topic5\", \"Topic5\", \"Topic5\", \"Topic5\", \"Topic5\", \"Topic5\", \"Topic5\", \"Topic5\", \"Topic5\", \"Topic5\", \"Topic5\", \"Topic5\", \"Topic5\", \"Topic5\", \"Topic5\", \"Topic5\", \"Topic5\", \"Topic5\", \"Topic5\", \"Topic5\", \"Topic5\", \"Topic5\", \"Topic5\", \"Topic5\", \"Topic5\", \"Topic5\", \"Topic5\", \"Topic5\", \"Topic5\", \"Topic5\", \"Topic5\", \"Topic5\", \"Topic5\", \"Topic5\", \"Topic5\", \"Topic5\", \"Topic5\", \"Topic5\", \"Topic5\", \"Topic5\", \"Topic5\", \"Topic5\", \"Topic5\"], \"logprob\": [30.0, 29.0, 28.0, 27.0, 26.0, 25.0, 24.0, 23.0, 22.0, 21.0, 20.0, 19.0, 18.0, 17.0, 16.0, 15.0, 14.0, 13.0, 12.0, 11.0, 10.0, 9.0, 8.0, 7.0, 6.0, 5.0, 4.0, 3.0, 2.0, 1.0, -4.2015, -4.5032, -3.3103, -4.7214, -4.5637, -4.7563, -4.8729, -4.9478, -4.7207, -4.7758, -5.0337, -5.1017, -5.3376, -5.3548, -5.2128, -5.1541, -4.1784, -5.321, -5.2604, -4.5591, -5.49, -5.6632, -5.2717, -5.1686, -5.3283, -5.0941, -5.5384, -5.6668, -5.7973, -5.5485, -4.7471, -4.676, -5.1287, -4.3546, -5.4087, -4.9925, -5.3585, -3.325, -3.7511, -4.4273, -4.5495, -4.4388, -4.6984, -5.3787, -5.4334, -5.456, -5.3624, -5.6383, -3.7116, -3.6759, -5.9492, -6.1688, -6.231, -5.7374, -5.309, -6.3373, -6.326, -6.2977, -6.6008, -5.6448, -6.6122, -6.6932, -6.9106, -6.9761, -6.7569, -6.9431, -6.834, -6.3226, -3.378, -6.3461, -4.5786, -6.1255, -4.225, -5.6334, -5.7014, -5.3591, -4.356, -5.6033, -4.4701, -5.613, -5.1813, -4.28, -5.7973, -5.5851, -5.5334, -4.9523, -4.7965, -5.4141, -5.4201, -5.4932, -5.3891, -4.8159, -5.1253, -5.8566, -5.8402, -5.7031, -5.9927, -5.6211, -5.9794, -5.7024, -6.192, -6.3628, -6.2472, -5.8479, -5.473, -6.4323, -6.6748, -6.485, -6.9251, -6.7773, -6.2567, -6.9192, -7.0637, -6.8681, -7.1207, -6.8811, -6.8494, -6.7936, -6.8929, -7.207, -7.2522, -5.1174, -6.2049, -5.9732, -6.704, -6.2264, -6.2106, -5.3008, -6.5912, -5.6373, -5.8652, -6.1822, -5.5759, -5.9828, -6.3629, -5.818, -5.9396, -6.3051, -5.5429, -5.5185, -4.6473, -5.4861, -4.81, -6.214, -4.0546, -6.3387, -6.0888, -6.5763, -6.7624, -6.7229, -6.2952, -6.4007, -6.9788, -7.0642, -7.0642, -6.7302, -6.9974, -6.4425, -7.0177, -7.0136, -7.0136, -7.0867, -6.5883, -6.9575, -6.8882, -7.103, -6.8831, -7.4, -6.8684, -4.831, -5.6869, -6.6737, -5.4675, -5.7188, -6.8603, -6.3997, -5.6848, -6.1042, -6.7711, -6.3173, -6.6694, -6.5936, -6.2919, -6.3005, -6.7319, -4.6092, -5.9112, -4.9648, -5.9356, -6.1941, -6.1469, -5.5437, -6.9522, -6.9659, -6.9659, -5.755, -6.5899, -6.8667, -7.1231, -6.8935, -6.5509, -7.1579, -6.3652, -6.4247, -7.2445, -6.4223, -5.2835, -6.8871, -6.7868, -7.0953, -7.3515, -6.3024, -7.3171, -6.2725, -7.1764, -5.7539, -6.8381, -6.6068, -6.6389, -5.5443, -6.2891, -5.8544, -6.3968, -6.123, -6.4107, -6.7571, -6.2425, -6.397, -6.4821, -6.4837, -6.0151, -6.4571, -6.565], \"loglift\": [30.0, 29.0, 28.0, 27.0, 26.0, 25.0, 24.0, 23.0, 22.0, 21.0, 20.0, 19.0, 18.0, 17.0, 16.0, 15.0, 14.0, 13.0, 12.0, 11.0, 10.0, 9.0, 8.0, 7.0, 6.0, 5.0, 4.0, 3.0, 2.0, 1.0, 0.119, 0.1189, 0.1189, 0.1188, 0.1188, 0.1187, 0.1186, 0.1186, 0.1186, 0.1186, 0.1185, 0.1184, 0.1183, 0.1183, 0.1182, 0.1182, 0.1182, 0.1181, 0.1181, 0.1181, 0.1181, 0.118, 0.118, 0.1179, 0.1179, 0.1179, 0.1179, 0.1179, 0.1178, 0.1178, 0.1167, 0.1154, 0.1172, 0.0708, 0.1111, 0.0683, 0.0915, 2.6803, 2.6746, 2.6734, 2.6731, 2.6702, 2.6693, 2.6628, 2.6628, 2.6614, 2.6598, 2.6593, 2.6572, 2.6568, 2.6496, 2.6416, 2.6369, 2.6346, 2.6275, 2.6272, 2.6244, 2.6172, 2.6156, 2.6105, 2.6078, 2.607, 2.6024, 2.5976, 2.5975, 2.5947, 2.5926, 2.5903, 2.463, 2.5733, 2.4647, 2.5498, 2.3163, 2.4739, 2.4474, 2.3771, 1.8775, 2.3222, 1.7419, 2.2633, 1.9914, 1.3315, 2.205, 1.9367, 1.856, 0.47, -0.3712, 0.894, 0.72, 1.1089, -0.3282, 3.9327, 3.9157, 3.869, 3.8621, 3.8539, 3.8476, 3.8361, 3.8315, 3.8282, 3.8064, 3.8059, 3.8013, 3.7931, 3.7678, 3.7543, 3.7424, 3.7389, 3.6943, 3.693, 3.6873, 3.6845, 3.6805, 3.6343, 3.6188, 3.617, 3.6067, 3.6057, 3.6, 3.5999, 3.5988, 3.5003, 3.5353, 3.5098, 3.5446, 3.387, 3.3436, 2.9045, 3.4821, 2.7081, 2.7575, 2.9976, 2.1284, 2.379, 3.0086, 1.7984, 1.6702, 1.7705, 4.0376, 4.037, 4.0318, 3.9957, 3.9908, 3.9685, 3.9618, 3.9574, 3.9531, 3.8834, 3.8776, 3.8773, 3.8751, 3.8433, 3.8241, 3.8143, 3.8143, 3.8087, 3.7999, 3.7844, 3.7797, 3.7629, 3.7629, 3.7609, 3.7575, 3.7573, 3.7517, 3.7347, 3.715, 3.6995, 3.6948, 3.4703, 3.5266, 3.5814, 2.8566, 2.4988, 3.6096, 3.0903, 1.8585, 2.3775, 3.3888, 1.387, 2.7968, 2.4231, 0.9576, 0.6848, 1.9353, 4.4508, 4.3714, 4.3698, 4.3511, 4.2696, 4.2437, 4.1505, 4.1097, 4.0683, 4.0683, 4.0662, 4.0558, 4.0427, 4.0402, 4.0376, 4.0271, 4.0252, 4.02, 4.0113, 3.9865, 3.9653, 3.9491, 3.94, 3.9348, 3.9174, 3.9112, 3.9024, 3.8972, 3.8912, 3.8885, 3.8644, 3.8787, 3.8614, 3.7498, 3.293, 3.4124, 3.0435, 3.3195, 2.8568, 2.9833, 3.6725, 1.8306, 2.3464, 2.2921, 2.2906, -0.4314, 1.6523, 1.0448]}, \"token.table\": {\"Topic\": [1, 2, 1, 2, 3, 5, 1, 5, 1, 2, 1, 2, 5, 1, 4, 1, 2, 1, 2, 1, 2, 4, 1, 3, 1, 3, 1, 2, 3, 1, 3, 1, 4, 1, 4, 1, 4, 1, 2, 3, 5, 1, 2, 3, 1, 4, 5, 1, 3, 1, 2, 5, 1, 2, 3, 4, 5, 1, 5, 1, 3, 1, 2, 5, 1, 4, 1, 2, 1, 2, 1, 3, 1, 2, 1, 2, 1, 2, 3, 5, 1, 4, 1, 2, 1, 3, 1, 5, 1, 2, 1, 2, 1, 2, 5, 1, 4, 1, 5, 1, 4, 1, 2, 1, 2, 1, 5, 1, 2, 1, 4, 1, 2, 1, 2, 5, 1, 2, 1, 5, 1, 4, 1, 2, 3, 1, 2, 1, 2, 3, 4, 5, 1, 2, 4, 1, 2, 1, 2, 4, 1, 2, 3, 5, 1, 2, 3, 5, 1, 2, 4, 1, 4, 1, 5, 1, 2, 1, 2, 4, 1, 4, 1, 2, 5, 1, 5, 1, 2, 3, 1, 2, 5, 1, 2, 1, 2, 1, 2, 1, 2, 3, 1, 2, 1, 4, 1, 2, 5, 1, 3, 4, 1, 2, 5, 1, 5, 1, 2, 1, 1, 2, 1, 2, 3, 1, 5, 1, 2, 1, 2, 1, 2, 1, 2, 1, 2, 3, 1, 2, 1, 3, 5, 1, 4, 1, 2, 4, 5, 1, 4, 1, 5, 1, 2, 3, 5, 1, 3, 1, 4, 1, 3, 4, 1, 4, 1, 4, 1, 2, 1, 3, 1, 2, 3, 1, 3, 1, 2, 1, 2, 4, 5, 1, 3, 1, 2, 1, 2, 3, 5, 1, 2, 1, 4, 1, 2, 3, 5, 1, 2, 1, 3, 4, 1, 3, 1, 2, 1, 2, 4, 1, 5, 1, 2, 1, 4, 1, 2, 1, 3, 1, 3, 1, 2, 1, 2, 1, 2, 3, 4, 5, 1, 4, 1, 2, 5, 1, 2, 4, 1, 4, 1, 2, 5, 1, 1, 2, 3, 1, 3, 1, 2, 1, 3, 1, 2, 1, 2, 1, 2, 1, 2, 1, 2, 3, 4, 5, 1, 2, 1, 4, 1, 2, 3, 4, 1, 2, 1, 2, 4, 1, 2, 3, 4, 1, 5, 1, 2, 1, 2, 1, 2, 1, 3, 1, 2, 1, 2, 1, 2, 5, 1, 2, 4, 1, 2, 3, 1, 2, 3, 1, 2, 3, 1, 5, 1, 2, 1, 2, 1, 5, 1, 2, 5, 1, 2, 5, 1, 2, 1, 4, 1, 2, 1, 2, 1, 2, 1, 2, 1, 2, 4, 5, 1, 2, 1, 4, 1, 2, 5, 1, 4, 1, 2, 1, 2, 1, 2, 3, 4, 5, 1, 2, 3, 4, 1, 4, 1, 2, 3, 5, 1, 2, 5, 1, 2, 3, 1, 4, 1, 2, 1, 3, 1, 3, 1, 2, 1, 2, 5, 1, 2, 1, 2, 4, 1, 3, 4, 1, 2, 1, 1, 3, 1, 2, 1, 2, 5, 1, 4, 1, 2, 1, 2, 1, 2, 3, 1, 1, 2, 5, 1, 2, 3, 1, 2, 1, 2, 4, 1, 2, 1, 3, 1, 2, 1, 2, 5, 1, 5, 1, 2, 3, 1, 2, 1, 2, 1, 5, 1, 2, 3, 1, 2, 3, 4, 5, 1, 4, 5, 1, 4, 1, 2, 1, 2, 1, 2, 1, 2, 4, 1, 3, 1, 2, 1, 2, 3, 1, 2, 3, 4, 1, 4, 1, 5, 1], \"Freq\": [0.7399234774342404, 0.2587863677389957, 0.9404563508989776, 0.05179324831037848, 0.000908653479129447, 0.006360574353906129, 0.21754812780717064, 0.652644383421512, 0.9989098343948614, 0.0006654962254462767, 0.11080894572491601, 0.22161789144983202, 0.664853674349496, 0.16698401366414423, 0.6679360546565769, 0.9922024533002936, 0.0076716684533527845, 0.9985653955501689, 0.0007918837395322513, 0.2912368983139418, 0.09707896610464725, 0.5824737966278836, 0.08905118068599449, 0.8014606261739504, 0.24865048810973459, 0.7459514643292038, 0.026336109499672244, 0.9480999419882008, 0.026336109499672244, 0.1203839621425114, 0.7223037728550684, 0.8962760530246884, 0.09672043737676495, 0.1426741071464155, 0.7133705357320776, 0.09890857951445442, 0.8901772156300898, 0.4175020697145684, 0.26568313527290716, 0.30363786888332245, 0.018977366805207653, 0.1700058214181796, 0.8160279428072621, 0.01133372142787864, 0.3081440766007559, 0.20542938440050393, 0.46221611490113385, 0.057168584631117195, 0.9146973540978751, 0.3080899738751514, 0.1540449869375757, 0.46213496081272715, 0.5262710324862555, 0.1900423172867034, 0.20466095707798826, 0.0584745591651395, 0.014618639791284875, 0.44302123742931915, 0.531625484915183, 0.1050647420825749, 0.8405179366605992, 0.11600807566110702, 0.07733871710740468, 0.8120565296277492, 0.17837341164917375, 0.713493646596695, 0.05083458643773965, 0.9404398490981836, 0.19626351835170996, 0.8026825331390294, 0.06411702839735602, 0.8976383975629841, 0.011208588109203877, 0.9751471655007373, 0.013709813914908867, 0.9733967879585296, 0.6844507202058853, 0.15455338843358699, 0.06623716647153728, 0.11039527745256214, 0.2642352644807031, 0.6605881612017578, 0.9992129073952921, 0.0006316137214888067, 0.028832191832671904, 0.9226301386455009, 0.3439962822145133, 0.5159944233217699, 0.029536753001699084, 0.9599444725552202, 0.07610250288692935, 0.9132300346431521, 0.3692987771563636, 0.0923246942890909, 0.4616234714454545, 0.21259981427012836, 0.6377994428103851, 0.9879823843838111, 0.008468420437575525, 0.10114862877405534, 0.8091890301924427, 0.03944697479619117, 0.9072804203123969, 0.010611719513039554, 0.976278195199639, 0.28695169728137254, 0.5739033945627451, 0.037363579345657344, 0.9340894836414336, 0.13605147891149677, 0.8389841199542301, 0.010408686293163529, 0.9784165115573716, 0.360449811377132, 0.12014993712571066, 0.48059974850284265, 0.9990103254834474, 0.0009310441057627655, 0.21819307741585153, 0.43638615483170307, 0.18107729014332827, 0.7243091605733131, 0.8305674455296487, 0.1668634371380107, 0.0018748700802023674, 0.07659569011409306, 0.893616384664419, 0.2645829643976805, 0.6992549773367269, 0.009449391585631446, 0.009449391585631446, 0.01889878317126289, 0.8729417785358676, 0.019839585875815174, 0.09919792937907587, 0.018527914231520108, 0.9634515400390455, 0.062091140023136725, 0.12418228004627345, 0.8071848203007774, 0.2691468387326069, 0.04485780645543448, 0.6280092903760828, 0.04485780645543448, 0.6845384679502768, 0.1545732024403851, 0.06624565818873647, 0.11040943031456078, 0.787977781968386, 0.02814206364172807, 0.1688523818503684, 0.16789975821874767, 0.6715990328749907, 0.25761690719292246, 0.5152338143858449, 0.258061971560119, 0.7350856159591269, 0.8074897684594076, 0.01647938302978383, 0.16479383029783828, 0.13440896595396745, 0.8512567843751272, 0.8347044905712983, 0.16215596791353246, 0.0026582945559595486, 0.1867773500031774, 0.5603320500095322, 0.09408816623086654, 0.04704408311543327, 0.8467934960777989, 0.4623462706932593, 0.11558656767331482, 0.34675970301994447, 0.9981473811924262, 0.0012962953002499042, 0.024250079625046595, 0.9457531053768172, 0.10001013292535023, 0.8800891697430819, 0.24629501984883911, 0.12314750992441956, 0.7388850595465173, 0.9986505951887338, 0.0009868088885264168, 0.27359584365975004, 0.6839896091493751, 0.22116180630362786, 0.11058090315181393, 0.5529045157590696, 0.22428531917137928, 0.6728559575141378, 0.11214265958568964, 0.5664310213252156, 0.16992930639756468, 0.2832155106626078, 0.26591232830163275, 0.5318246566032655, 0.6080072057684675, 0.39001022442851274, 0.9985816996274665, 0.999523689629507, 0.00042142877184758384, 0.052565325876268436, 0.9330345343037647, 0.013141331469067109, 0.3490050172847227, 0.5816750288078711, 0.9959989026720217, 0.0037025981511971066, 0.011449411536684986, 0.9731999806182238, 0.8899628991080439, 0.10902238816180208, 0.9995004459188955, 0.00036895549867807146, 0.09410209792279993, 0.09410209792279993, 0.7528167833823994, 0.9992183733592707, 0.0004560558527427068, 0.30959685767970097, 0.15479842883985048, 0.4643952865195515, 0.15688443968776755, 0.7844221984388378, 0.8894358445459722, 0.07381210328182343, 0.02952484131272937, 0.0036906051640911712, 0.3610232859429118, 0.6017054765715196, 0.09979111882449893, 0.7983289505959914, 0.5580848816318936, 0.11161697632637872, 0.05580848816318936, 0.2790424408159468, 0.1375785616638734, 0.6878928083193669, 0.1669637832989222, 0.6678551331956888, 0.0906552166790565, 0.8158969501115085, 0.0906552166790565, 0.18107726435648616, 0.7243090574259446, 0.19201874888740553, 0.6720656211059193, 0.04239717207198296, 0.9327377855836251, 0.1575798762395586, 0.6303195049582344, 0.16857455297109314, 0.16857455297109314, 0.6742982118843726, 0.2893453079311763, 0.6751390518394115, 0.004142143851546401, 0.9899723805195899, 0.4517195762171, 0.09034391524342, 0.31620370335197, 0.09034391524342, 0.8784661435538297, 0.10980826794422871, 0.9996553425635627, 0.00034734376044599124, 0.6820228534069361, 0.023518029427825386, 0.023518029427825386, 0.2822163531339046, 0.9992718405859682, 0.0004473016296266644, 0.28528668532742546, 0.7132167133185637, 0.851849632232833, 0.05678997548218887, 0.034073985289313324, 0.05678997548218887, 0.9526554582676284, 0.047076415278274546, 0.08742726982683932, 0.8742726982683933, 0.04371363491341966, 0.17617026608290892, 0.7046810643316357, 0.049114338482450975, 0.9331724311665686, 0.09646332837113056, 0.04823166418556528, 0.8681699553401749, 0.25335601642750916, 0.5067120328550183, 0.0013850345139082689, 0.9972248500139536, 0.797242833540092, 0.18981972227145047, 0.9721817285568444, 0.027027129003215626, 0.7046745423520566, 0.2732411490752873, 0.13975056057480945, 0.6987528028740473, 0.9986595508721818, 0.000786346103048962, 0.8574882372811448, 0.14106553256565968, 0.40901523075773766, 0.3635690940068779, 0.1590614786280091, 0.060594849001146325, 0.007574356125143291, 0.9564456896827814, 0.03845007797719724, 0.31455186422285597, 0.0629103728445712, 0.5661933556011407, 0.04015220990995519, 0.08030441981991038, 0.8632725130640365, 0.7057204333669593, 0.2646451625126098, 0.8981583911978404, 0.032859453336506354, 0.06571890667301271, 0.998817078714721, 0.05585554527523441, 0.05585554527523441, 0.8936887244037506, 0.0789646694817171, 0.8686113642988881, 0.8424245994425256, 0.15641108198118553, 0.07509906923457002, 0.8260897615802701, 0.19162560201316528, 0.8056096737696337, 0.047383695587683745, 0.9002902161659911, 0.9986763668402658, 0.0007340509862846496, 0.023059858530613504, 0.9742790229184205, 0.49619662057022246, 0.3514726062372409, 0.0964826762219877, 0.027566478920567912, 0.027566478920567912, 0.3328438451606042, 0.6566919107222732, 0.257904029552572, 0.6447600738814301, 0.6000313267174142, 0.03750195791983839, 0.3375176212785455, 0.01250065263994613, 0.9996384889436307, 0.0002569104314941225, 0.11912710290431973, 0.11912710290431973, 0.7147626174259184, 0.8671518407834191, 0.013874429452534707, 0.11099543562027765, 0.006937214726267353, 0.24556527157637753, 0.49113054315275506, 0.02289388635283385, 0.9615432268190217, 0.02670725592199445, 0.9347539572698057, 0.0046788774963091185, 0.9919220292175331, 0.158324489842058, 0.7916224492102899, 0.84749888806344, 0.1491929582898965, 0.9987042966169787, 0.0006265397092954696, 0.1908662619575204, 0.1908662619575204, 0.5725987858725612, 0.18876383602921418, 0.09438191801460709, 0.6606734261022497, 0.10561993993449036, 0.07041329328966024, 0.8097528728310928, 0.03776386323568876, 0.33987476912119885, 0.6231037433888645, 0.32378092966320887, 0.08094523241580222, 0.6475618593264177, 0.24076078891255612, 0.48152157782511223, 0.9988903222374209, 0.0010034056476518542, 0.006326775632731643, 0.9911948491279574, 0.21160623282404648, 0.6348186984721395, 0.134077079224536, 0.268154158449072, 0.536308316898144, 0.7064889521888351, 0.17127004901547518, 0.10704378063467199, 0.034359646755291295, 0.9277104623928649, 0.17384567519013394, 0.6953827007605358, 0.20083948943453564, 0.7915438701243463, 0.04622028134592897, 0.9244056269185793, 0.9991687204366477, 0.000502599959978193, 0.023906561510658838, 0.9741923815593476, 0.7874220150670559, 0.20628947359584213, 0.002515725287754172, 0.002515725287754172, 0.5583318882969251, 0.4367150413411593, 0.16352655640107924, 0.654106225604317, 0.6996460819414118, 0.0749620802080084, 0.19989888055468907, 0.16352655640107924, 0.654106225604317, 0.9986887895741257, 0.0007057871304410782, 0.010818931464395205, 0.9845227632599636, 0.41034366435250025, 0.28724056504675016, 0.041034366435250026, 0.08206873287050005, 0.20517183217625012, 0.17403663218605414, 0.11602442145736944, 0.6381343180155319, 0.05801221072868472, 0.17557093652467629, 0.7022837460987051, 0.2911867545145449, 0.6936399924614768, 0.011836859939615646, 0.002367371987923129, 0.11117413598343136, 0.11117413598343136, 0.6670448159005882, 0.11869143803990724, 0.11869143803990724, 0.7121486282394435, 0.13709464241112074, 0.6854732120556036, 0.9985179752414222, 0.0009770234591403347, 0.1141758330715235, 0.7992308315006644, 0.0966026949530006, 0.8694242545770053, 0.5516463615870594, 0.44723380103430366, 0.33252817209402896, 0.110842724031343, 0.5542136201567149, 0.047774398769043235, 0.9459330956270561, 0.26479763553074825, 0.17653175702049886, 0.44132939255124715, 0.1537398689001227, 0.1537398689001227, 0.6149594756004908, 0.9983335284260098, 0.0007483759583403371, 0.9986080073130941, 0.12378984329307173, 0.7427390597584304, 0.9987373183892735, 0.0011109425121126513, 0.2070771920351281, 0.2070771920351281, 0.4141543840702562, 0.0902807028127561, 0.812526325314805, 0.9991594604593432, 0.00043160235872973787, 0.9993654611421177, 0.0005416614965539934, 0.02152220132033465, 0.02152220132033465, 0.9469768580947245, 0.9996261723239306, 0.2444486598368346, 0.20952742271728678, 0.523818556793217, 0.14450181683534438, 0.28900363367068876, 0.5298399950629293, 0.00835319268816628, 0.985676737203621, 0.39903664245246534, 0.09631918955749164, 0.495355832009957, 0.034484835035794595, 0.931090545966454, 0.062262677131025554, 0.8716774798343577, 0.9991415990596003, 0.0005901604247251036, 0.3796924872183124, 0.43393427110664273, 0.16272535166499102, 0.1196066710824514, 0.7176400264947085, 0.4940567167821758, 0.5029586396070799, 0.004450961412452034, 0.950198879530051, 0.04901819616623279, 0.36731188341524085, 0.6223895802313804, 0.10020571546293867, 0.8016457237035094, 0.5299507640710505, 0.09936576826332195, 0.36434115029884717, 0.08815457461837332, 0.02938485820612444, 0.02938485820612444, 0.02938485820612444, 0.8521608879776088, 0.221925392647482, 0.221925392647482, 0.443850785294964, 0.7179955571071722, 0.2674885408830642, 0.9974090315445855, 0.0022115499590789037, 0.5174601581912205, 0.4732867300529455, 0.99839379804863, 0.0006750465165981272, 0.34260425070481576, 0.1370417002819263, 0.5139063760572237, 0.6018431036873495, 0.3611058622124097, 0.9990994667347698, 0.0007400736790627925, 0.35771577528965864, 0.051102253612808374, 0.5621247897408921, 0.14226580907178643, 0.07113290453589322, 0.7113290453589322, 0.07113290453589322, 0.22588041097927594, 0.6776412329378279, 0.21160623282404648, 0.6348186984721395, 0.9989705027196049], \"Term\": [\"account\", \"account\", \"adopt\", \"adopt\", \"adopt\", \"adopt\", \"ahhhhh\", \"ahhhhh\", \"also\", \"also\", \"auto\", \"auto\", \"auto\", \"awake\", \"awake\", \"back\", \"back\", \"bad\", \"bad\", \"bag\", \"bag\", \"bag\", \"bake\", \"bake\", \"bald\", \"bald\", \"bank\", \"bank\", \"bank\", \"barbie\", \"barbie\", \"bed\", \"bed\", \"bedroom\", \"bedroom\", \"bedtime\", \"bedtime\", \"bee\", \"bee\", \"bee\", \"bee\", \"bee_swarm\", \"bee_swarm\", \"bee_swarm\", \"beggar\", \"beggar\", \"beggar\", \"black\", \"black\", \"blind\", \"blind\", \"blind\", \"blockchain\", \"blockchain\", \"blockchain\", \"blockchain\", \"blockchain\", \"blog\", \"blog\", \"bone\", \"bone\", \"bot\", \"bot\", \"bot\", \"breakfast\", \"breakfast\", \"buck\", \"buck\", \"buy\", \"buy\", \"cake\", \"cake\", \"card\", \"card\", \"cash\", \"cash\", \"censorship\", \"censorship\", \"censorship\", \"censorship\", \"chaos\", \"chaos\", \"child\", \"child\", \"classic\", \"classic\", \"client\", \"client\", \"coin\", \"coin\", \"collect\", \"collect\", \"com\", \"com\", \"com\", \"command\", \"command\", \"comment\", \"comment\", \"cope\", \"cope\", \"cosmetic\", \"cosmetic\", \"cost\", \"cost\", \"cough\", \"cough\", \"credit\", \"credit\", \"cry\", \"cry\", \"currency\", \"currency\", \"custom\", \"custom\", \"custom\", \"day\", \"day\", \"deeta\", \"deeta\", \"detect\", \"detect\", \"developer\", \"developer\", \"developer\", \"devex\", \"devex\", \"devs\", \"devs\", \"devs\", \"devs\", \"devs\", \"dog\", \"dog\", \"dog\", \"dollar\", \"dollar\", \"donate\", \"donate\", \"donate\", \"doomspire\", \"doomspire\", \"doomspire\", \"doomspire\", \"dope\", \"dope\", \"dope\", \"dope\", \"drug\", \"drug\", \"drug\", \"ds\", \"ds\", \"dvscvrd\", \"dvscvrd\", \"earn\", \"earn\", \"eat\", \"eat\", \"eat\", \"electronic\", \"electronic\", \"email\", \"email\", \"email\", \"employee\", \"employee\", \"epic\", \"epic\", \"epic\", \"equip\", \"equip\", \"equip\", \"even\", \"even\", \"expensive\", \"expensive\", \"exploiter\", \"exploiter\", \"fi\", \"fi\", \"fi\", \"find\", \"find\", \"firm\", \"firm\", \"fish\", \"fish\", \"fish\", \"flame\", \"flame\", \"flame\", \"flicker\", \"flicker\", \"flicker\", \"forest\", \"forest\", \"free\", \"free\", \"friend\", \"game\", \"game\", \"gem\", \"gem\", \"gem\", \"generic\", \"generic\", \"get\", \"get\", \"gift\", \"gift\", \"give\", \"give\", \"go\", \"go\", \"goddamn\", \"goddamn\", \"goddamn\", \"good\", \"good\", \"grand\", \"grand\", \"grand\", \"grandma\", \"grandma\", \"grind\", \"grind\", \"grind\", \"grind\", \"happend\", \"happend\", \"heavy\", \"heavy\", \"hesitant\", \"hesitant\", \"hesitant\", \"hesitant\", \"hilarious\", \"hilarious\", \"hormone\", \"hormone\", \"ice\", \"ice\", \"ice\", \"invariant\", \"invariant\", \"inventory\", \"inventory\", \"invest\", \"invest\", \"iron\", \"iron\", \"island\", \"island\", \"island\", \"isle\", \"isle\", \"item\", \"item\", \"jailbreak\", \"jailbreak\", \"jailbreak\", \"jailbreak\", \"joke\", \"joke\", \"kid\", \"kid\", \"knife\", \"knife\", \"knife\", \"knife\", \"know\", \"know\", \"legitimately\", \"legitimately\", \"lobby\", \"lobby\", \"lobby\", \"lobby\", \"make\", \"make\", \"makeup\", \"makeup\", \"makeup\", \"malde\", \"malde\", \"microsoft_reward\", \"microsoft_reward\", \"min\", \"min\", \"min\", \"miner\", \"miner\", \"money\", \"money\", \"morning\", \"morning\", \"much\", \"much\", \"music\", \"music\", \"musical\", \"musical\", \"need\", \"need\", \"new\", \"new\", \"nft\", \"nft\", \"nft\", \"nft\", \"nft\", \"night\", \"night\", \"obbie\", \"obbie\", \"obbie\", \"obby_obby\", \"obby_obby\", \"obby_obby\", \"offend\", \"offend\", \"official\", \"official\", \"official\", \"old\", \"omg\", \"omg\", \"omg\", \"paint\", \"paint\", \"password\", \"password\", \"patch\", \"patch\", \"pay\", \"pay\", \"payment\", \"payment\", \"people\", \"people\", \"pet\", \"pet\", \"pet_sim\", \"pet_sim\", \"pet_sim\", \"pet_sim\", \"pet_sim\", \"pet_simulator\", \"pet_simulator\", \"petition\", \"petition\", \"piano\", \"piano\", \"piano\", \"piano\", \"play\", \"play\", \"poop\", \"poop\", \"poop\", \"power\", \"power\", \"power\", \"power\", \"preach\", \"preach\", \"price\", \"price\", \"profit\", \"profit\", \"purchase\", \"purchase\", \"rbx\", \"rbx\", \"real\", \"real\", \"really\", \"really\", \"recieve\", \"recieve\", \"recieve\", \"recipe\", \"recipe\", \"recipe\", \"red\", \"red\", \"red\", \"release\", \"release\", \"release\", \"remake\", \"remake\", \"remake\", \"rickroll\", \"rickroll\", \"roblox\", \"roblox\", \"robux\", \"robux\", \"robuzx\", \"robuzx\", \"rp\", \"rp\", \"rp\", \"rthro\", \"rthro\", \"rthro\", \"sale\", \"sale\", \"satire\", \"satire\", \"save\", \"save\", \"saving\", \"saving\", \"say\", \"say\", \"scam\", \"scam\", \"scamme\", \"scamme\", \"scamme\", \"scamme\", \"scammer\", \"scammer\", \"schoolroleplay\", \"schoolroleplay\", \"scripting\", \"scripting\", \"scripting\", \"seaport\", \"seaport\", \"see\", \"see\", \"sell\", \"sell\", \"sequel\", \"sequel\", \"sequel\", \"sequel\", \"sequel\", \"shaggy\", \"shaggy\", \"shaggy\", \"shaggy\", \"shower\", \"shower\", \"simulator\", \"simulator\", \"simulator\", \"simulator\", \"skin\", \"skin\", \"skin\", \"slave\", \"slave\", \"slave\", \"snack\", \"snack\", \"son\", \"son\", \"song\", \"song\", \"sonic\", \"sonic\", \"spend\", \"spend\", \"stat\", \"stat\", \"stat\", \"steal\", \"steal\", \"suprise\", \"suprise\", \"suprise\", \"tail\", \"tail\", \"tail\", \"take\", \"take\", \"talk\", \"tattoo\", \"tattoo\", \"tell\", \"tell\", \"theft\", \"theft\", \"theft\", \"therapy\", \"therapy\", \"thing\", \"thing\", \"think\", \"think\", \"tho\", \"tho\", \"tho\", \"time\", \"tos\", \"tos\", \"tos\", \"tp\", \"tp\", \"tp\", \"trade\", \"trade\", \"trading\", \"trading\", \"trading\", \"transaction\", \"transaction\", \"trend\", \"trend\", \"try\", \"try\", \"tycoon\", \"tycoon\", \"tycoon\", \"understandable\", \"understandable\", \"update\", \"update\", \"update\", \"use\", \"use\", \"value\", \"value\", \"violate\", \"violate\", \"vip\", \"vip\", \"vip\", \"vote\", \"vote\", \"vote\", \"vote\", \"vote\", \"waaaa\", \"waaaa\", \"waaaa\", \"wake\", \"wake\", \"want\", \"want\", \"waste\", \"waste\", \"way\", \"way\", \"weapon\", \"weapon\", \"weapon\", \"wear\", \"wear\", \"well\", \"well\", \"white\", \"white\", \"white\", \"wolf\", \"wolf\", \"wolf\", \"wolf\", \"wth\", \"wth\", \"www\", \"www\", \"year\"]}, \"R\": 30, \"lambda.step\": 0.01, \"plot.opts\": {\"xlab\": \"PC1\", \"ylab\": \"PC2\"}, \"topic.order\": [4, 5, 2, 3, 1]};\n",
              "\n",
              "function LDAvis_load_lib(url, callback){\n",
              "  var s = document.createElement('script');\n",
              "  s.src = url;\n",
              "  s.async = true;\n",
              "  s.onreadystatechange = s.onload = callback;\n",
              "  s.onerror = function(){console.warn(\"failed to load library \" + url);};\n",
              "  document.getElementsByTagName(\"head\")[0].appendChild(s);\n",
              "}\n",
              "\n",
              "if(typeof(LDAvis) !== \"undefined\"){\n",
              "   // already loaded: just create the visualization\n",
              "   !function(LDAvis){\n",
              "       new LDAvis(\"#\" + \"ldavis_el4451359634005061609266938413\", ldavis_el4451359634005061609266938413_data);\n",
              "   }(LDAvis);\n",
              "}else if(typeof define === \"function\" && define.amd){\n",
              "   // require.js is available: use it to load d3/LDAvis\n",
              "   require.config({paths: {d3: \"https://d3js.org/d3.v5\"}});\n",
              "   require([\"d3\"], function(d3){\n",
              "      window.d3 = d3;\n",
              "      LDAvis_load_lib(\"https://cdn.jsdelivr.net/gh/bmabey/pyLDAvis@3.4.0/pyLDAvis/js/ldavis.v3.0.0.js\", function(){\n",
              "        new LDAvis(\"#\" + \"ldavis_el4451359634005061609266938413\", ldavis_el4451359634005061609266938413_data);\n",
              "      });\n",
              "    });\n",
              "}else{\n",
              "    // require.js not available: dynamically load d3 & LDAvis\n",
              "    LDAvis_load_lib(\"https://d3js.org/d3.v5.js\", function(){\n",
              "         LDAvis_load_lib(\"https://cdn.jsdelivr.net/gh/bmabey/pyLDAvis@3.4.0/pyLDAvis/js/ldavis.v3.0.0.js\", function(){\n",
              "                 new LDAvis(\"#\" + \"ldavis_el4451359634005061609266938413\", ldavis_el4451359634005061609266938413_data);\n",
              "            })\n",
              "         });\n",
              "}\n",
              "</script>"
            ]
          },
          "metadata": {},
          "execution_count": 32
        }
      ],
      "source": [
        "pyLDAvis.enable_notebook()\n",
        "vis = pyLDAvis.gensim.prepare(lda_model, corpus, id2word, mds='mmds', R=30)\n",
        "vis"
      ]
    },
    {
      "cell_type": "code",
      "execution_count": null,
      "metadata": {
        "id": "Y1l1MVCTFxYG",
        "colab": {
          "base_uri": "https://localhost:8080/"
        },
        "outputId": "9bf6a9b8-e820-48c4-dcf5-6c9dedc7e3f7"
      },
      "outputs": [
        {
          "output_type": "stream",
          "name": "stdout",
          "text": [
            "[(0,\n",
            "  '0.010*\"vote\" + 0.007*\"bot\" + 0.005*\"tos\" + 0.004*\"auto\" + 0.004*\"knife\" + '\n",
            "  '0.003*\"beggar\" + 0.003*\"obbie\" + 0.003*\"scripting\" + 0.003*\"heavy\" + '\n",
            "  '0.003*\"violate\"'),\n",
            " (1,\n",
            "  '0.008*\"tho\" + 0.006*\"release\" + 0.006*\"classic\" + 0.005*\"piano\" + '\n",
            "  '0.004*\"red\" + 0.004*\"nft\" + 0.004*\"makeup\" + 0.004*\"music\" + 0.003*\"epic\" + '\n",
            "  '0.003*\"sonic\"'),\n",
            " (2,\n",
            "  '0.017*\"donate\" + 0.010*\"obby_obby\" + 0.008*\"cry\" + 0.008*\"trading\" + '\n",
            "  '0.004*\"wake\" + 0.004*\"electronic\" + 0.004*\"min\" + 0.004*\"bedtime\" + '\n",
            "  '0.003*\"bed\" + 0.003*\"weapon\"'),\n",
            " (3,\n",
            "  '0.037*\"game\" + 0.015*\"roblox\" + 0.015*\"play\" + 0.013*\"make\" + 0.011*\"kid\" + '\n",
            "  '0.010*\"people\" + 0.010*\"go\" + 0.009*\"get\" + 0.009*\"thing\" + 0.009*\"time\"'),\n",
            " (4,\n",
            "  '0.036*\"money\" + 0.034*\"buy\" + 0.025*\"pet\" + 0.024*\"scam\" + 0.023*\"robux\" + '\n",
            "  '0.015*\"simulator\" + 0.014*\"account\" + 0.013*\"spend\" + 0.012*\"item\" + '\n",
            "  '0.012*\"trade\"')]\n"
          ]
        }
      ],
      "source": [
        "from pprint import pprint\n",
        "pprint(lda_model.print_topics())\n",
        "doc_lda = lda_model[corpus]"
      ]
    },
    {
      "cell_type": "code",
      "execution_count": null,
      "metadata": {
        "id": "fctISv2EHVRZ",
        "colab": {
          "base_uri": "https://localhost:8080/"
        },
        "outputId": "262b3b73-5fe7-4e09-8504-71eddabfbcce"
      },
      "outputs": [
        {
          "output_type": "stream",
          "name": "stdout",
          "text": [
            "Coherence Score:  0.5851379968163309\n"
          ]
        }
      ],
      "source": [
        "from gensim.models import CoherenceModel\n",
        "\n",
        "# Compute Coherence Score\n",
        "\n",
        "coherence_model_lda = CoherenceModel(model=lda_model, texts=data_lemmatized, dictionary=id2word, coherence='c_v')\n",
        "# coherence_model_lda = CoherenceModel(model=lda_model, texts=data_lemmatized, corpus=corpus, coherence='c_v')\n",
        "coherence_lda = coherence_model_lda.get_coherence()\n",
        "print('Coherence Score: ', coherence_lda)"
      ]
    },
    {
      "cell_type": "code",
      "execution_count": null,
      "metadata": {
        "id": "kA3X0xe_un0-"
      },
      "outputs": [],
      "source": [
        "# Get the topic distribution for each document\n",
        "document_topics = lda_model.get_document_topics(corpus)\n",
        "\n",
        "# Filter reviews that have topic 1 as their main topic\n",
        "reviews_in_topic_1 = [idx for idx, topics in enumerate(document_topics) if max(topics, key=lambda x: x[1])[0] == 1]\n",
        "\n",
        "i = 0\n",
        "# Print the reviews\n",
        "for idx in reviews_in_topic_1:\n",
        "    i += 1\n",
        "    print(' '.join(data_words[idx]))\n",
        "\n",
        "print(i)"
      ]
    },
    {
      "cell_type": "code",
      "execution_count": null,
      "metadata": {
        "id": "OGD7bxby_HDV"
      },
      "outputs": [],
      "source": [
        "\n",
        "def compute_coherence_values(corpus, dictionary, k, a, b):\n",
        "    lda_model = gensim.models.LdaModel(corpus=corpus,\n",
        "                                       id2word=dictionary,\n",
        "                                       num_topics=k,\n",
        "                                       random_state=100,\n",
        "                                       chunksize=100,\n",
        "                                       passes=10,\n",
        "                                       alpha=a,\n",
        "                                       eta=b,\n",
        "                                       per_word_topics=True)\n",
        "    coherence_model_lda = CoherenceModel(model=lda_model, texts=data_lemmatized, dictionary=id2word, coherence='c_v')\n",
        "    return coherence_model_lda.get_coherence()\n",
        "\n",
        "#data_words"
      ]
    },
    {
      "cell_type": "code",
      "execution_count": null,
      "metadata": {
        "id": "0m7_xdHC-hPo",
        "colab": {
          "base_uri": "https://localhost:8080/"
        },
        "outputId": "6faa1142-eec2-45fc-f478-f89c991ef7e5"
      },
      "outputs": [
        {
          "output_type": "stream",
          "name": "stderr",
          "text": [
            "\n",
            "  0%|          | 0/450 [00:22<?, ?it/s]\n",
            "\n",
            "  0%|          | 1/450 [00:08<1:06:35,  8.90s/it]\u001b[A\n",
            "  0%|          | 2/450 [00:16<59:36,  7.98s/it]  \u001b[A\n",
            "  1%|          | 3/450 [00:22<53:07,  7.13s/it]\u001b[A\n",
            "  1%|          | 4/450 [00:29<51:48,  6.97s/it]\u001b[A\n",
            "  1%|          | 5/450 [00:34<48:46,  6.58s/it]\u001b[A\n",
            "  1%|▏         | 6/450 [00:43<54:29,  7.36s/it]\u001b[A\n",
            "  2%|▏         | 7/450 [00:52<57:01,  7.72s/it]\u001b[A\n",
            "  2%|▏         | 8/450 [00:59<54:41,  7.42s/it]\u001b[A\n",
            "  2%|▏         | 9/450 [01:07<57:27,  7.82s/it]\u001b[A\n",
            "  2%|▏         | 10/450 [01:14<55:02,  7.51s/it]\u001b[A\n",
            "  2%|▏         | 11/450 [01:22<56:26,  7.71s/it]\u001b[A\n",
            "  3%|▎         | 12/450 [01:31<57:34,  7.89s/it]\u001b[A\n",
            "  3%|▎         | 13/450 [01:38<56:51,  7.81s/it]\u001b[A\n",
            "  3%|▎         | 14/450 [01:47<59:38,  8.21s/it]\u001b[A\n",
            "  3%|▎         | 15/450 [01:55<58:33,  8.08s/it]\u001b[A\n",
            "  4%|▎         | 16/450 [02:03<58:28,  8.08s/it]\u001b[A\n",
            "  4%|▍         | 17/450 [02:11<57:08,  7.92s/it]\u001b[A\n",
            "  4%|▍         | 18/450 [02:19<57:44,  8.02s/it]\u001b[A\n",
            "  4%|▍         | 19/450 [02:26<55:15,  7.69s/it]\u001b[A\n",
            "  4%|▍         | 20/450 [02:34<55:49,  7.79s/it]\u001b[A\n",
            "  5%|▍         | 21/450 [02:42<57:12,  8.00s/it]\u001b[A\n",
            "  5%|▍         | 22/450 [02:49<54:15,  7.61s/it]\u001b[A\n",
            "  5%|▌         | 23/450 [02:59<58:17,  8.19s/it]\u001b[A\n",
            "  5%|▌         | 24/450 [03:06<55:20,  7.80s/it]\u001b[A\n",
            "  6%|▌         | 25/450 [03:14<56:49,  8.02s/it]\u001b[A\n",
            "  6%|▌         | 26/450 [03:22<56:58,  8.06s/it]\u001b[A\n",
            "  6%|▌         | 27/450 [03:30<56:03,  7.95s/it]\u001b[A\n",
            "  6%|▌         | 28/450 [03:38<56:45,  8.07s/it]\u001b[A\n",
            "  6%|▋         | 29/450 [03:44<52:09,  7.43s/it]\u001b[A\n",
            "  7%|▋         | 30/450 [03:53<54:06,  7.73s/it]\u001b[A\n",
            "  7%|▋         | 31/450 [04:01<54:47,  7.85s/it]\u001b[A\n",
            "  7%|▋         | 32/450 [04:09<56:29,  8.11s/it]\u001b[A\n",
            "  7%|▋         | 33/450 [04:18<57:43,  8.31s/it]\u001b[A\n",
            "  8%|▊         | 34/450 [04:25<55:01,  7.94s/it]\u001b[A\n",
            "  8%|▊         | 35/450 [04:34<56:20,  8.14s/it]\u001b[A\n",
            "  8%|▊         | 36/450 [04:42<55:48,  8.09s/it]\u001b[A\n",
            "  8%|▊         | 37/450 [04:51<58:08,  8.45s/it]\u001b[A\n",
            "  8%|▊         | 38/450 [05:00<58:52,  8.57s/it]\u001b[A\n",
            "  9%|▊         | 39/450 [05:07<55:59,  8.17s/it]\u001b[A\n",
            "  9%|▉         | 40/450 [05:18<1:01:59,  9.07s/it]\u001b[A\n",
            "  9%|▉         | 41/450 [05:27<1:01:13,  8.98s/it]\u001b[A\n",
            "  9%|▉         | 42/450 [05:35<58:26,  8.60s/it]  \u001b[A\n",
            " 10%|▉         | 43/450 [05:44<58:34,  8.64s/it]\u001b[A\n",
            " 10%|▉         | 44/450 [05:51<56:28,  8.35s/it]\u001b[A\n",
            " 10%|█         | 45/450 [06:00<56:46,  8.41s/it]\u001b[A\n",
            " 10%|█         | 46/450 [06:10<59:22,  8.82s/it]\u001b[A\n",
            " 10%|█         | 47/450 [06:17<55:40,  8.29s/it]\u001b[A\n",
            " 11%|█         | 48/450 [06:25<56:03,  8.37s/it]\u001b[A\n",
            " 11%|█         | 49/450 [06:33<55:09,  8.25s/it]\u001b[A\n",
            " 11%|█         | 50/450 [06:41<53:08,  7.97s/it]\u001b[A\n",
            " 11%|█▏        | 51/450 [06:50<55:53,  8.40s/it]\u001b[A\n",
            " 12%|█▏        | 52/450 [06:57<52:37,  7.93s/it]\u001b[A\n",
            " 12%|█▏        | 53/450 [07:06<54:37,  8.26s/it]\u001b[A\n",
            " 12%|█▏        | 54/450 [07:13<51:40,  7.83s/it]\u001b[A\n",
            " 12%|█▏        | 55/450 [07:20<51:01,  7.75s/it]\u001b[A\n",
            " 12%|█▏        | 56/450 [07:30<55:06,  8.39s/it]\u001b[A\n",
            " 13%|█▎        | 57/450 [07:37<52:47,  8.06s/it]\u001b[A\n",
            " 13%|█▎        | 58/450 [07:46<54:16,  8.31s/it]\u001b[A\n",
            " 13%|█▎        | 59/450 [07:55<55:33,  8.52s/it]\u001b[A\n",
            " 13%|█▎        | 60/450 [08:03<53:16,  8.20s/it]\u001b[A\n",
            " 14%|█▎        | 61/450 [08:12<55:38,  8.58s/it]\u001b[A\n",
            " 14%|█▍        | 62/450 [08:21<56:09,  8.68s/it]\u001b[A\n",
            " 14%|█▍        | 63/450 [08:29<54:14,  8.41s/it]\u001b[A\n",
            " 14%|█▍        | 64/450 [08:38<54:28,  8.47s/it]\u001b[A\n",
            " 14%|█▍        | 65/450 [08:48<57:50,  9.01s/it]\u001b[A\n",
            " 15%|█▍        | 66/450 [08:56<56:39,  8.85s/it]\u001b[A\n",
            " 15%|█▍        | 67/450 [09:06<57:25,  8.99s/it]\u001b[A\n",
            " 15%|█▌        | 68/450 [09:13<53:58,  8.48s/it]\u001b[A\n",
            " 15%|█▌        | 69/450 [09:21<53:49,  8.48s/it]\u001b[A\n",
            " 16%|█▌        | 70/450 [09:31<55:28,  8.76s/it]\u001b[A\n",
            " 16%|█▌        | 71/450 [09:39<55:11,  8.74s/it]\u001b[A\n",
            " 16%|█▌        | 72/450 [09:49<56:09,  8.91s/it]\u001b[A\n",
            " 16%|█▌        | 73/450 [09:58<56:05,  8.93s/it]\u001b[A\n",
            " 16%|█▋        | 74/450 [10:05<53:20,  8.51s/it]\u001b[A\n",
            " 17%|█▋        | 75/450 [10:15<54:38,  8.74s/it]\u001b[A\n",
            " 17%|█▋        | 76/450 [10:25<57:22,  9.20s/it]\u001b[A\n",
            " 17%|█▋        | 77/450 [10:33<55:09,  8.87s/it]\u001b[A\n",
            " 17%|█▋        | 78/450 [10:42<55:38,  8.98s/it]\u001b[A\n",
            " 18%|█▊        | 79/450 [10:49<52:12,  8.44s/it]\u001b[A\n",
            " 18%|█▊        | 80/450 [10:58<51:43,  8.39s/it]\u001b[A\n",
            " 18%|█▊        | 81/450 [11:08<55:45,  9.07s/it]\u001b[A\n",
            " 18%|█▊        | 82/450 [11:17<55:36,  9.07s/it]\u001b[A\n",
            " 18%|█▊        | 83/450 [11:25<53:24,  8.73s/it]\u001b[A\n",
            " 19%|█▊        | 84/450 [11:34<53:38,  8.79s/it]\u001b[A\n",
            " 19%|█▉        | 85/450 [11:43<53:50,  8.85s/it]\u001b[A\n",
            " 19%|█▉        | 86/450 [11:52<53:15,  8.78s/it]\u001b[A\n",
            " 19%|█▉        | 87/450 [12:01<53:42,  8.88s/it]\u001b[A\n",
            " 20%|█▉        | 88/450 [12:09<52:45,  8.74s/it]\u001b[A\n",
            " 20%|█▉        | 89/450 [12:18<52:18,  8.69s/it]\u001b[A\n",
            " 20%|██        | 90/450 [12:28<54:30,  9.08s/it]\u001b[A\n",
            " 20%|██        | 91/450 [12:37<54:46,  9.15s/it]\u001b[A\n",
            " 20%|██        | 92/450 [12:45<52:57,  8.88s/it]\u001b[A\n",
            " 21%|██        | 93/450 [12:54<52:16,  8.79s/it]\u001b[A\n",
            " 21%|██        | 94/450 [13:02<50:53,  8.58s/it]\u001b[A\n",
            " 21%|██        | 95/450 [13:11<50:57,  8.61s/it]\u001b[A\n",
            " 21%|██▏       | 96/450 [13:21<54:11,  9.18s/it]\u001b[A\n",
            " 22%|██▏       | 97/450 [13:30<53:23,  9.07s/it]\u001b[A\n",
            " 22%|██▏       | 98/450 [13:38<50:33,  8.62s/it]\u001b[A\n",
            " 22%|██▏       | 99/450 [13:46<50:35,  8.65s/it]\u001b[A\n",
            " 22%|██▏       | 100/450 [13:55<50:12,  8.61s/it]\u001b[A\n",
            " 22%|██▏       | 101/450 [14:05<52:58,  9.11s/it]\u001b[A\n",
            " 23%|██▎       | 102/450 [14:15<54:19,  9.37s/it]\u001b[A\n",
            " 23%|██▎       | 103/450 [14:24<52:41,  9.11s/it]\u001b[A\n",
            " 23%|██▎       | 104/450 [14:31<49:03,  8.51s/it]\u001b[A\n",
            " 23%|██▎       | 105/450 [14:41<51:05,  8.88s/it]\u001b[A\n",
            " 24%|██▎       | 106/450 [14:52<55:15,  9.64s/it]\u001b[A\n",
            " 24%|██▍       | 107/450 [15:02<55:53,  9.78s/it]\u001b[A\n",
            " 24%|██▍       | 108/450 [15:11<53:49,  9.44s/it]\u001b[A\n",
            " 24%|██▍       | 109/450 [15:20<53:37,  9.44s/it]\u001b[A\n",
            " 24%|██▍       | 110/450 [15:30<54:53,  9.69s/it]\u001b[A\n",
            " 25%|██▍       | 111/450 [15:40<54:17,  9.61s/it]\u001b[A\n",
            " 25%|██▍       | 112/450 [15:50<54:23,  9.65s/it]\u001b[A\n",
            " 25%|██▌       | 113/450 [15:59<54:17,  9.67s/it]\u001b[A\n",
            " 25%|██▌       | 114/450 [16:10<55:33,  9.92s/it]\u001b[A\n",
            " 26%|██▌       | 115/450 [16:19<53:45,  9.63s/it]\u001b[A\n",
            " 26%|██▌       | 116/450 [16:29<54:01,  9.71s/it]\u001b[A\n",
            " 26%|██▌       | 117/450 [16:39<54:26,  9.81s/it]\u001b[A\n",
            " 26%|██▌       | 118/450 [16:47<52:13,  9.44s/it]\u001b[A\n",
            " 26%|██▋       | 119/450 [16:55<49:49,  9.03s/it]\u001b[A\n",
            " 27%|██▋       | 120/450 [17:05<51:18,  9.33s/it]\u001b[A\n",
            " 27%|██▋       | 121/450 [17:17<54:06,  9.87s/it]\u001b[A\n",
            " 27%|██▋       | 122/450 [17:25<50:57,  9.32s/it]\u001b[A\n",
            " 27%|██▋       | 123/450 [17:34<50:12,  9.21s/it]\u001b[A\n",
            " 28%|██▊       | 124/450 [17:42<49:34,  9.12s/it]\u001b[A\n",
            " 28%|██▊       | 125/450 [17:53<51:20,  9.48s/it]\u001b[A\n",
            " 28%|██▊       | 126/450 [18:03<52:42,  9.76s/it]\u001b[A\n",
            " 28%|██▊       | 127/450 [18:14<53:37,  9.96s/it]\u001b[A\n",
            " 28%|██▊       | 128/450 [18:24<53:34,  9.98s/it]\u001b[A\n",
            " 29%|██▊       | 129/450 [18:32<51:07,  9.55s/it]\u001b[A\n",
            " 29%|██▉       | 130/450 [18:42<51:42,  9.69s/it]\u001b[A\n",
            " 29%|██▉       | 131/450 [18:54<55:11, 10.38s/it]\u001b[A\n",
            " 29%|██▉       | 132/450 [19:05<55:23, 10.45s/it]\u001b[A\n",
            " 30%|██▉       | 133/450 [19:15<55:14, 10.46s/it]\u001b[A\n",
            " 30%|██▉       | 134/450 [19:25<53:38, 10.18s/it]\u001b[A\n",
            " 30%|███       | 135/450 [19:36<54:55, 10.46s/it]\u001b[A\n",
            " 30%|███       | 136/450 [19:47<55:02, 10.52s/it]\u001b[A\n",
            " 30%|███       | 137/450 [19:57<54:55, 10.53s/it]\u001b[A\n",
            " 31%|███       | 138/450 [20:08<54:33, 10.49s/it]\u001b[A\n",
            " 31%|███       | 139/450 [20:16<50:52,  9.81s/it]\u001b[A\n",
            " 31%|███       | 140/450 [20:26<51:48, 10.03s/it]\u001b[A\n",
            " 31%|███▏      | 141/450 [20:37<52:09, 10.13s/it]\u001b[A\n",
            " 32%|███▏      | 142/450 [20:49<55:27, 10.80s/it]\u001b[A\n",
            " 32%|███▏      | 143/450 [21:00<56:04, 10.96s/it]\u001b[A\n",
            " 32%|███▏      | 144/450 [21:08<51:00, 10.00s/it]\u001b[A\n",
            " 32%|███▏      | 145/450 [21:20<54:01, 10.63s/it]\u001b[A\n",
            " 32%|███▏      | 146/450 [21:32<55:04, 10.87s/it]\u001b[A\n",
            " 33%|███▎      | 147/450 [21:41<52:14, 10.35s/it]\u001b[A\n",
            " 33%|███▎      | 148/450 [21:49<48:27,  9.63s/it]\u001b[A\n",
            " 33%|███▎      | 149/450 [21:58<47:10,  9.40s/it]\u001b[A\n",
            " 33%|███▎      | 150/450 [22:06<46:11,  9.24s/it]\u001b[A\n",
            " 34%|███▎      | 151/450 [22:18<48:57,  9.82s/it]\u001b[A\n",
            " 34%|███▍      | 152/450 [22:27<48:37,  9.79s/it]\u001b[A\n",
            " 34%|███▍      | 153/450 [22:36<47:21,  9.57s/it]\u001b[A\n",
            " 34%|███▍      | 154/450 [22:45<45:07,  9.15s/it]\u001b[A\n",
            " 34%|███▍      | 155/450 [22:55<46:28,  9.45s/it]\u001b[A\n",
            " 35%|███▍      | 156/450 [23:08<51:56, 10.60s/it]\u001b[A\n",
            " 35%|███▍      | 157/450 [23:18<51:31, 10.55s/it]\u001b[A\n",
            " 35%|███▌      | 158/450 [23:29<50:56, 10.47s/it]\u001b[A\n",
            " 35%|███▌      | 159/450 [23:38<49:19, 10.17s/it]\u001b[A\n",
            " 36%|███▌      | 160/450 [23:49<49:21, 10.21s/it]\u001b[A\n",
            " 36%|███▌      | 161/450 [24:00<50:19, 10.45s/it]\u001b[A\n",
            " 36%|███▌      | 162/450 [24:10<50:25, 10.50s/it]\u001b[A\n",
            " 36%|███▌      | 163/450 [24:20<49:46, 10.41s/it]\u001b[A\n",
            " 36%|███▋      | 164/450 [24:29<46:47,  9.82s/it]\u001b[A\n",
            " 37%|███▋      | 165/450 [24:41<49:58, 10.52s/it]\u001b[A\n",
            " 37%|███▋      | 166/450 [24:52<49:59, 10.56s/it]\u001b[A\n",
            " 37%|███▋      | 167/450 [25:02<50:05, 10.62s/it]\u001b[A\n",
            " 37%|███▋      | 168/450 [25:11<47:26, 10.09s/it]\u001b[A\n",
            " 38%|███▊      | 169/450 [25:19<44:33,  9.52s/it]\u001b[A\n",
            " 38%|███▊      | 170/450 [25:30<46:07,  9.88s/it]\u001b[A\n",
            " 38%|███▊      | 171/450 [25:42<48:45, 10.49s/it]\u001b[A\n",
            " 38%|███▊      | 172/450 [25:52<47:19, 10.21s/it]\u001b[A\n",
            " 38%|███▊      | 173/450 [26:00<43:58,  9.53s/it]\u001b[A\n",
            " 39%|███▊      | 174/450 [26:08<43:02,  9.36s/it]\u001b[A\n",
            " 39%|███▉      | 175/450 [26:18<43:30,  9.49s/it]\u001b[A\n",
            " 39%|███▉      | 176/450 [26:32<48:53, 10.71s/it]\u001b[A\n",
            " 39%|███▉      | 177/450 [26:44<50:28, 11.09s/it]\u001b[A\n",
            " 40%|███▉      | 178/450 [26:53<47:27, 10.47s/it]\u001b[A\n",
            " 40%|███▉      | 179/450 [27:02<46:10, 10.22s/it]\u001b[A\n",
            " 40%|████      | 180/450 [27:14<47:52, 10.64s/it]\u001b[A\n",
            " 40%|████      | 181/450 [27:27<51:03, 11.39s/it]\u001b[A\n",
            " 40%|████      | 182/450 [27:39<50:57, 11.41s/it]\u001b[A\n",
            " 41%|████      | 183/450 [27:51<52:28, 11.79s/it]\u001b[A\n",
            " 41%|████      | 184/450 [28:02<50:52, 11.48s/it]\u001b[A\n",
            " 41%|████      | 185/450 [28:14<50:39, 11.47s/it]\u001b[A\n",
            " 41%|████▏     | 186/450 [28:25<50:33, 11.49s/it]\u001b[A\n",
            " 42%|████▏     | 187/450 [28:36<49:33, 11.31s/it]\u001b[A\n",
            " 42%|████▏     | 188/450 [28:46<47:57, 10.98s/it]\u001b[A\n",
            " 42%|████▏     | 189/450 [28:56<46:24, 10.67s/it]\u001b[A\n",
            " 42%|████▏     | 190/450 [29:06<45:33, 10.51s/it]\u001b[A\n",
            " 42%|████▏     | 191/450 [29:18<46:29, 10.77s/it]\u001b[A\n",
            " 43%|████▎     | 192/450 [29:29<46:30, 10.82s/it]\u001b[A\n",
            " 43%|████▎     | 193/450 [29:38<44:33, 10.40s/it]\u001b[A\n",
            " 43%|████▎     | 194/450 [29:48<44:24, 10.41s/it]\u001b[A\n",
            " 43%|████▎     | 195/450 [29:59<44:34, 10.49s/it]\u001b[A\n",
            " 44%|████▎     | 196/450 [30:11<46:38, 11.02s/it]\u001b[A\n",
            " 44%|████▍     | 197/450 [30:21<45:06, 10.70s/it]\u001b[A\n",
            " 44%|████▍     | 198/450 [30:31<43:32, 10.37s/it]\u001b[A\n",
            " 44%|████▍     | 199/450 [30:40<41:21,  9.89s/it]\u001b[A\n",
            " 44%|████▍     | 200/450 [30:49<40:52,  9.81s/it]\u001b[A\n",
            " 45%|████▍     | 201/450 [31:02<44:51, 10.81s/it]\u001b[A\n",
            " 45%|████▍     | 202/450 [31:13<44:47, 10.84s/it]\u001b[A\n",
            " 45%|████▌     | 203/450 [31:24<43:47, 10.64s/it]\u001b[A\n",
            " 45%|████▌     | 204/450 [31:35<44:27, 10.84s/it]\u001b[A\n",
            " 46%|████▌     | 205/450 [31:46<45:10, 11.06s/it]\u001b[A\n",
            " 46%|████▌     | 206/450 [32:01<48:47, 12.00s/it]\u001b[A\n",
            " 46%|████▌     | 207/450 [32:12<47:44, 11.79s/it]\u001b[A\n",
            " 46%|████▌     | 208/450 [32:23<46:25, 11.51s/it]\u001b[A\n",
            " 46%|████▋     | 209/450 [32:34<45:54, 11.43s/it]\u001b[A\n",
            " 47%|████▋     | 210/450 [32:46<46:01, 11.51s/it]\u001b[A\n",
            " 47%|████▋     | 211/450 [32:58<47:07, 11.83s/it]\u001b[A\n",
            " 47%|████▋     | 212/450 [33:11<47:44, 12.04s/it]\u001b[A\n",
            " 47%|████▋     | 213/450 [33:21<45:26, 11.50s/it]\u001b[A\n",
            " 48%|████▊     | 214/450 [33:30<42:46, 10.87s/it]\u001b[A\n",
            " 48%|████▊     | 215/450 [33:42<43:11, 11.03s/it]\u001b[A\n",
            " 48%|████▊     | 216/450 [33:54<44:09, 11.32s/it]\u001b[A\n",
            " 48%|████▊     | 217/450 [34:05<43:10, 11.12s/it]\u001b[A\n",
            " 48%|████▊     | 218/450 [34:14<41:15, 10.67s/it]\u001b[A\n",
            " 49%|████▊     | 219/450 [34:23<39:10, 10.17s/it]\u001b[A\n",
            " 49%|████▉     | 220/450 [34:35<40:23, 10.53s/it]\u001b[A\n",
            " 49%|████▉     | 221/450 [34:48<43:20, 11.36s/it]\u001b[A\n",
            " 49%|████▉     | 222/450 [35:00<43:36, 11.48s/it]\u001b[A\n",
            " 50%|████▉     | 223/450 [35:09<41:29, 10.97s/it]\u001b[A\n",
            " 50%|████▉     | 224/450 [35:19<39:53, 10.59s/it]\u001b[A\n",
            " 50%|█████     | 225/450 [35:29<39:31, 10.54s/it]\u001b[A\n",
            " 50%|█████     | 226/450 [35:35<33:51,  9.07s/it]\u001b[A\n",
            " 50%|█████     | 227/450 [35:40<28:35,  7.69s/it]\u001b[A\n",
            " 51%|█████     | 228/450 [35:45<26:11,  7.08s/it]\u001b[A\n",
            " 51%|█████     | 229/450 [35:49<22:52,  6.21s/it]\u001b[A\n",
            " 51%|█████     | 230/450 [35:54<20:37,  5.63s/it]\u001b[A\n",
            " 51%|█████▏    | 231/450 [36:00<21:47,  5.97s/it]\u001b[A\n",
            " 52%|█████▏    | 232/450 [36:05<20:28,  5.63s/it]\u001b[A\n",
            " 52%|█████▏    | 233/450 [36:12<21:00,  5.81s/it]\u001b[A\n",
            " 52%|█████▏    | 234/450 [36:16<19:49,  5.50s/it]\u001b[A\n",
            " 52%|█████▏    | 235/450 [36:22<19:42,  5.50s/it]\u001b[A\n",
            " 52%|█████▏    | 236/450 [36:28<20:01,  5.61s/it]\u001b[A\n",
            " 53%|█████▎    | 237/450 [36:34<20:49,  5.86s/it]\u001b[A\n",
            " 53%|█████▎    | 238/450 [36:40<21:12,  6.00s/it]\u001b[A\n",
            " 53%|█████▎    | 239/450 [36:45<19:56,  5.67s/it]\u001b[A\n",
            " 53%|█████▎    | 240/450 [36:52<20:28,  5.85s/it]\u001b[A\n",
            " 54%|█████▎    | 241/450 [36:57<19:23,  5.57s/it]\u001b[A\n",
            " 54%|█████▍    | 242/450 [37:03<19:50,  5.72s/it]\u001b[A\n",
            " 54%|█████▍    | 243/450 [37:08<19:17,  5.59s/it]\u001b[A\n",
            " 54%|█████▍    | 244/450 [37:13<18:21,  5.35s/it]\u001b[A\n",
            " 54%|█████▍    | 245/450 [37:19<19:10,  5.61s/it]\u001b[A\n",
            " 55%|█████▍    | 246/450 [37:24<18:30,  5.44s/it]\u001b[A\n",
            " 55%|█████▍    | 247/450 [37:30<19:14,  5.69s/it]\u001b[A\n",
            " 55%|█████▌    | 248/450 [37:35<18:17,  5.43s/it]\u001b[A\n",
            " 55%|█████▌    | 249/450 [37:40<17:30,  5.23s/it]\u001b[A\n",
            " 56%|█████▌    | 250/450 [37:46<18:31,  5.56s/it]\u001b[A\n",
            " 56%|█████▌    | 251/450 [37:52<18:24,  5.55s/it]\u001b[A\n",
            " 56%|█████▌    | 252/450 [37:58<19:01,  5.76s/it]\u001b[A\n",
            " 56%|█████▌    | 253/450 [38:02<17:41,  5.39s/it]\u001b[A\n",
            " 56%|█████▋    | 254/450 [38:07<16:38,  5.09s/it]\u001b[A\n",
            " 57%|█████▋    | 255/450 [38:13<17:45,  5.46s/it]\u001b[A\n",
            " 57%|█████▋    | 256/450 [38:21<19:47,  6.12s/it]\u001b[A\n",
            " 57%|█████▋    | 257/450 [38:27<19:56,  6.20s/it]\u001b[A\n",
            " 57%|█████▋    | 258/450 [38:32<18:43,  5.85s/it]\u001b[A\n",
            " 58%|█████▊    | 259/450 [38:39<19:17,  6.06s/it]\u001b[A\n",
            " 58%|█████▊    | 260/450 [38:44<18:26,  5.82s/it]\u001b[A\n",
            " 58%|█████▊    | 261/450 [38:51<19:34,  6.22s/it]\u001b[A\n",
            " 58%|█████▊    | 262/450 [38:57<19:01,  6.07s/it]\u001b[A\n",
            " 58%|█████▊    | 263/450 [39:04<19:23,  6.22s/it]\u001b[A\n",
            " 59%|█████▊    | 264/450 [39:09<18:17,  5.90s/it]\u001b[A\n",
            " 59%|█████▉    | 265/450 [39:15<18:38,  6.04s/it]\u001b[A\n",
            " 59%|█████▉    | 266/450 [39:21<18:38,  6.08s/it]\u001b[A\n",
            " 59%|█████▉    | 267/450 [39:27<18:13,  5.98s/it]\u001b[A\n",
            " 60%|█████▉    | 268/450 [39:33<18:30,  6.10s/it]\u001b[A\n",
            " 60%|█████▉    | 269/450 [39:38<17:19,  5.74s/it]\u001b[A\n",
            " 60%|██████    | 270/450 [39:45<18:26,  6.15s/it]\u001b[A\n",
            " 60%|██████    | 271/450 [39:51<18:13,  6.11s/it]\u001b[A\n",
            " 60%|██████    | 272/450 [39:59<19:30,  6.58s/it]\u001b[A\n",
            " 61%|██████    | 273/450 [40:04<18:13,  6.18s/it]\u001b[A\n",
            " 61%|██████    | 274/450 [40:10<17:45,  6.06s/it]\u001b[A\n",
            " 61%|██████    | 275/450 [40:16<17:14,  5.91s/it]\u001b[A\n",
            " 61%|██████▏   | 276/450 [40:22<17:32,  6.05s/it]\u001b[A\n",
            " 62%|██████▏   | 277/450 [40:28<17:09,  5.95s/it]\u001b[A\n",
            " 62%|██████▏   | 278/450 [40:32<15:57,  5.56s/it]\u001b[A\n",
            " 62%|██████▏   | 279/450 [40:38<16:05,  5.65s/it]\u001b[A\n",
            " 62%|██████▏   | 280/450 [40:43<15:24,  5.44s/it]\u001b[A\n",
            " 62%|██████▏   | 281/450 [40:51<17:16,  6.13s/it]\u001b[A\n",
            " 63%|██████▎   | 282/450 [40:56<16:29,  5.89s/it]\u001b[A\n",
            " 63%|██████▎   | 283/450 [41:02<16:21,  5.88s/it]\u001b[A\n",
            " 63%|██████▎   | 284/450 [41:08<16:17,  5.89s/it]\u001b[A\n",
            " 63%|██████▎   | 285/450 [41:13<15:39,  5.69s/it]\u001b[A\n",
            " 64%|██████▎   | 286/450 [41:21<16:55,  6.19s/it]\u001b[A\n",
            " 64%|██████▍   | 287/450 [41:26<16:14,  5.98s/it]\u001b[A\n",
            " 64%|██████▍   | 288/450 [41:33<16:33,  6.13s/it]\u001b[A\n",
            " 64%|██████▍   | 289/450 [41:39<16:45,  6.25s/it]\u001b[A\n",
            " 64%|██████▍   | 290/450 [41:46<17:06,  6.42s/it]\u001b[A\n",
            " 65%|██████▍   | 291/450 [41:52<16:34,  6.26s/it]\u001b[A\n",
            " 65%|██████▍   | 292/450 [41:58<16:49,  6.39s/it]\u001b[A\n",
            " 65%|██████▌   | 293/450 [42:04<15:40,  5.99s/it]\u001b[A\n",
            " 65%|██████▌   | 294/450 [42:10<15:50,  6.09s/it]\u001b[A\n",
            " 66%|██████▌   | 295/450 [42:16<15:39,  6.06s/it]\u001b[A\n",
            " 66%|██████▌   | 296/450 [42:24<17:02,  6.64s/it]\u001b[A\n",
            " 66%|██████▌   | 297/450 [42:30<16:25,  6.44s/it]\u001b[A\n",
            " 66%|██████▌   | 298/450 [42:37<16:49,  6.64s/it]\u001b[A\n",
            " 66%|██████▋   | 299/450 [42:43<16:02,  6.37s/it]\u001b[A\n",
            " 67%|██████▋   | 300/450 [42:50<16:49,  6.73s/it]\u001b[A\n",
            " 67%|██████▋   | 301/450 [42:58<17:29,  7.04s/it]\u001b[A\n",
            " 67%|██████▋   | 302/450 [43:05<17:23,  7.05s/it]\u001b[A\n",
            " 67%|██████▋   | 303/450 [43:11<16:13,  6.62s/it]\u001b[A\n",
            " 68%|██████▊   | 304/450 [43:19<17:01,  7.00s/it]\u001b[A\n",
            " 68%|██████▊   | 305/450 [43:25<16:17,  6.74s/it]\u001b[A\n",
            " 68%|██████▊   | 306/450 [43:34<17:39,  7.36s/it]\u001b[A\n",
            " 68%|██████▊   | 307/450 [43:40<16:36,  6.97s/it]\u001b[A\n",
            " 68%|██████▊   | 308/450 [43:47<16:43,  7.07s/it]\u001b[A\n",
            " 69%|██████▊   | 309/450 [43:53<15:56,  6.79s/it]\u001b[A\n",
            " 69%|██████▉   | 310/450 [44:00<16:12,  6.95s/it]\u001b[A\n",
            " 69%|██████▉   | 311/450 [44:08<16:24,  7.08s/it]\u001b[A\n",
            " 69%|██████▉   | 312/450 [44:14<15:56,  6.93s/it]\u001b[A\n",
            " 70%|██████▉   | 313/450 [44:20<15:12,  6.66s/it]\u001b[A\n",
            " 70%|██████▉   | 314/450 [44:27<15:01,  6.63s/it]\u001b[A\n",
            " 70%|███████   | 315/450 [44:33<14:48,  6.58s/it]\u001b[A\n",
            " 70%|███████   | 316/450 [44:41<15:12,  6.81s/it]\u001b[A\n",
            " 70%|███████   | 317/450 [44:47<14:44,  6.65s/it]\u001b[A\n",
            " 71%|███████   | 318/450 [44:53<14:19,  6.51s/it]\u001b[A\n",
            " 71%|███████   | 319/450 [44:59<13:27,  6.17s/it]\u001b[A\n",
            " 71%|███████   | 320/450 [45:07<15:08,  6.99s/it]\u001b[A\n",
            " 71%|███████▏  | 321/450 [45:15<15:20,  7.14s/it]\u001b[A\n",
            " 72%|███████▏  | 322/450 [45:21<14:51,  6.97s/it]\u001b[A\n",
            " 72%|███████▏  | 323/450 [45:27<13:51,  6.54s/it]\u001b[A\n",
            " 72%|███████▏  | 324/450 [45:34<13:52,  6.60s/it]\u001b[A\n",
            " 72%|███████▏  | 325/450 [45:39<13:12,  6.34s/it]\u001b[A\n",
            " 72%|███████▏  | 326/450 [45:48<14:28,  7.01s/it]\u001b[A\n",
            " 73%|███████▎  | 327/450 [45:55<14:07,  6.89s/it]\u001b[A\n",
            " 73%|███████▎  | 328/450 [46:01<13:42,  6.74s/it]\u001b[A\n",
            " 73%|███████▎  | 329/450 [46:06<12:47,  6.34s/it]\u001b[A\n",
            " 73%|███████▎  | 330/450 [46:14<13:36,  6.80s/it]\u001b[A\n",
            " 74%|███████▎  | 331/450 [46:24<14:54,  7.52s/it]\u001b[A\n",
            " 74%|███████▍  | 332/450 [46:30<14:12,  7.22s/it]\u001b[A\n",
            " 74%|███████▍  | 333/450 [46:38<14:12,  7.29s/it]\u001b[A\n",
            " 74%|███████▍  | 334/450 [46:45<14:12,  7.35s/it]\u001b[A\n",
            " 74%|███████▍  | 335/450 [46:53<14:39,  7.64s/it]\u001b[A\n",
            " 75%|███████▍  | 336/450 [47:02<14:48,  7.79s/it]\u001b[A\n",
            " 75%|███████▍  | 337/450 [47:09<14:33,  7.73s/it]\u001b[A\n",
            " 75%|███████▌  | 338/450 [47:17<14:15,  7.64s/it]\u001b[A\n",
            " 75%|███████▌  | 339/450 [47:22<13:12,  7.14s/it]\u001b[A\n",
            " 76%|███████▌  | 340/450 [47:30<13:32,  7.38s/it]\u001b[A\n",
            " 76%|███████▌  | 341/450 [47:37<13:07,  7.22s/it]\u001b[A\n",
            " 76%|███████▌  | 342/450 [47:45<13:23,  7.44s/it]\u001b[A\n",
            " 76%|███████▌  | 343/450 [47:51<12:27,  6.99s/it]\u001b[A\n",
            " 76%|███████▋  | 344/450 [47:58<12:25,  7.03s/it]\u001b[A\n",
            " 77%|███████▋  | 345/450 [48:05<12:13,  6.99s/it]\u001b[A\n",
            " 77%|███████▋  | 346/450 [48:14<13:08,  7.58s/it]\u001b[A\n",
            " 77%|███████▋  | 347/450 [48:21<12:49,  7.47s/it]\u001b[A\n",
            " 77%|███████▋  | 348/450 [48:29<12:37,  7.42s/it]\u001b[A\n",
            " 78%|███████▊  | 349/450 [48:35<11:42,  6.96s/it]\u001b[A\n",
            " 78%|███████▊  | 350/450 [48:42<11:48,  7.08s/it]\u001b[A\n",
            " 78%|███████▊  | 351/450 [48:51<12:31,  7.59s/it]\u001b[A\n",
            " 78%|███████▊  | 352/450 [48:58<12:17,  7.53s/it]\u001b[A\n",
            " 78%|███████▊  | 353/450 [49:07<12:50,  7.94s/it]\u001b[A\n",
            " 79%|███████▊  | 354/450 [49:13<11:45,  7.35s/it]\u001b[A\n",
            " 79%|███████▉  | 355/450 [49:21<12:09,  7.68s/it]\u001b[A\n",
            " 79%|███████▉  | 356/450 [49:31<13:04,  8.35s/it]\u001b[A\n",
            " 79%|███████▉  | 357/450 [49:39<12:24,  8.01s/it]\u001b[A\n",
            " 80%|███████▉  | 358/450 [49:47<12:41,  8.28s/it]\u001b[A\n",
            " 80%|███████▉  | 359/450 [49:54<11:59,  7.91s/it]\u001b[A\n",
            " 80%|████████  | 360/450 [50:04<12:22,  8.25s/it]\u001b[A\n",
            " 80%|████████  | 361/450 [50:13<12:33,  8.47s/it]\u001b[A\n",
            " 80%|████████  | 362/450 [50:20<11:58,  8.17s/it]\u001b[A\n",
            " 81%|████████  | 363/450 [50:27<11:33,  7.97s/it]\u001b[A\n",
            " 81%|████████  | 364/450 [50:34<11:00,  7.68s/it]\u001b[A\n",
            " 81%|████████  | 365/450 [50:42<10:51,  7.67s/it]\u001b[A\n",
            " 81%|████████▏ | 366/450 [50:51<11:14,  8.04s/it]\u001b[A\n",
            " 82%|████████▏ | 367/450 [50:58<10:51,  7.85s/it]\u001b[A\n",
            " 82%|████████▏ | 368/450 [51:06<10:34,  7.74s/it]\u001b[A\n",
            " 82%|████████▏ | 369/450 [51:12<09:44,  7.22s/it]\u001b[A\n",
            " 82%|████████▏ | 370/450 [51:21<10:15,  7.69s/it]\u001b[A\n",
            " 82%|████████▏ | 371/450 [51:30<10:46,  8.19s/it]\u001b[A\n",
            " 83%|████████▎ | 372/450 [51:36<09:54,  7.62s/it]\u001b[A\n",
            " 83%|████████▎ | 373/450 [51:45<10:05,  7.86s/it]\u001b[A\n",
            " 83%|████████▎ | 374/450 [51:51<09:13,  7.29s/it]\u001b[A\n",
            " 83%|████████▎ | 375/450 [51:58<09:10,  7.34s/it]\u001b[A\n",
            " 84%|████████▎ | 376/450 [52:08<09:52,  8.01s/it]\u001b[A\n",
            " 84%|████████▍ | 377/450 [52:14<09:14,  7.60s/it]\u001b[A\n",
            " 84%|████████▍ | 378/450 [52:22<09:00,  7.51s/it]\u001b[A\n",
            " 84%|████████▍ | 379/450 [52:28<08:25,  7.12s/it]\u001b[A\n",
            " 84%|████████▍ | 380/450 [52:36<08:41,  7.46s/it]\u001b[A\n",
            " 85%|████████▍ | 381/450 [52:46<09:18,  8.09s/it]\u001b[A\n",
            " 85%|████████▍ | 382/450 [52:54<09:05,  8.02s/it]\u001b[A\n",
            " 85%|████████▌ | 383/450 [53:02<09:01,  8.09s/it]\u001b[A\n",
            " 85%|████████▌ | 384/450 [53:09<08:29,  7.72s/it]\u001b[A\n",
            " 86%|████████▌ | 385/450 [53:17<08:37,  7.96s/it]\u001b[A\n",
            " 86%|████████▌ | 386/450 [53:28<09:22,  8.79s/it]\u001b[A\n",
            " 86%|████████▌ | 387/450 [53:35<08:48,  8.40s/it]\u001b[A\n",
            " 86%|████████▌ | 388/450 [53:43<08:29,  8.22s/it]\u001b[A\n",
            " 86%|████████▋ | 389/450 [53:50<07:47,  7.67s/it]\u001b[A\n",
            " 87%|████████▋ | 390/450 [53:58<07:57,  7.95s/it]\u001b[A\n",
            " 87%|████████▋ | 391/450 [54:07<08:11,  8.33s/it]\u001b[A\n",
            " 87%|████████▋ | 392/450 [54:14<07:35,  7.86s/it]\u001b[A\n",
            " 87%|████████▋ | 393/450 [54:21<07:15,  7.65s/it]\u001b[A\n",
            " 88%|████████▊ | 394/450 [54:27<06:39,  7.14s/it]\u001b[A\n",
            " 88%|████████▊ | 395/450 [54:36<06:58,  7.61s/it]\u001b[A\n",
            " 88%|████████▊ | 396/450 [54:46<07:28,  8.31s/it]\u001b[A\n",
            " 88%|████████▊ | 397/450 [54:53<06:52,  7.79s/it]\u001b[A\n",
            " 88%|████████▊ | 398/450 [55:00<06:37,  7.64s/it]\u001b[A\n",
            " 89%|████████▊ | 399/450 [55:07<06:24,  7.54s/it]\u001b[A\n",
            " 89%|████████▉ | 400/450 [55:15<06:25,  7.71s/it]\u001b[A\n",
            " 89%|████████▉ | 401/450 [55:25<06:54,  8.46s/it]\u001b[A\n",
            " 89%|████████▉ | 402/450 [55:34<06:41,  8.36s/it]\u001b[A\n",
            " 90%|████████▉ | 403/450 [55:42<06:27,  8.24s/it]\u001b[A\n",
            " 90%|████████▉ | 404/450 [55:48<05:53,  7.69s/it]\u001b[A\n",
            " 90%|█████████ | 405/450 [55:57<06:05,  8.12s/it]\u001b[A\n",
            " 90%|█████████ | 406/450 [56:08<06:29,  8.85s/it]\u001b[A\n",
            " 90%|█████████ | 407/450 [56:16<06:20,  8.86s/it]\u001b[A\n",
            " 91%|█████████ | 408/450 [56:24<05:56,  8.48s/it]\u001b[A\n",
            " 91%|█████████ | 409/450 [56:32<05:42,  8.34s/it]\u001b[A\n",
            " 91%|█████████ | 410/450 [56:41<05:44,  8.62s/it]\u001b[A\n",
            " 91%|█████████▏| 411/450 [56:51<05:44,  8.84s/it]\u001b[A\n",
            " 92%|█████████▏| 412/450 [56:59<05:34,  8.80s/it]\u001b[A\n",
            " 92%|█████████▏| 413/450 [57:06<05:03,  8.19s/it]\u001b[A\n",
            " 92%|█████████▏| 414/450 [57:14<04:50,  8.06s/it]\u001b[A\n",
            " 92%|█████████▏| 415/450 [57:23<04:51,  8.33s/it]\u001b[A\n",
            " 92%|█████████▏| 416/450 [57:31<04:43,  8.34s/it]\u001b[A\n",
            " 93%|█████████▎| 417/450 [57:39<04:31,  8.22s/it]\u001b[A\n",
            " 93%|█████████▎| 418/450 [57:45<04:04,  7.63s/it]\u001b[A\n",
            " 93%|█████████▎| 419/450 [57:53<03:57,  7.66s/it]\u001b[A\n",
            " 93%|█████████▎| 420/450 [58:03<04:05,  8.18s/it]\u001b[A\n",
            " 94%|█████████▎| 421/450 [58:11<04:02,  8.36s/it]\u001b[A\n",
            " 94%|█████████▍| 422/450 [58:21<04:00,  8.60s/it]\u001b[A\n",
            " 94%|█████████▍| 423/450 [58:28<03:42,  8.24s/it]\u001b[A\n",
            " 94%|█████████▍| 424/450 [58:34<03:20,  7.73s/it]\u001b[A\n",
            " 94%|█████████▍| 425/450 [58:43<03:17,  7.90s/it]\u001b[A\n",
            " 95%|█████████▍| 426/450 [58:53<03:24,  8.54s/it]\u001b[A\n",
            " 95%|█████████▍| 427/450 [59:01<03:16,  8.52s/it]\u001b[A\n",
            " 95%|█████████▌| 428/450 [59:10<03:06,  8.46s/it]\u001b[A\n",
            " 95%|█████████▌| 429/450 [59:17<02:51,  8.16s/it]\u001b[A\n",
            " 96%|█████████▌| 430/450 [59:27<02:51,  8.58s/it]\u001b[A\n",
            " 96%|█████████▌| 431/450 [59:38<02:58,  9.39s/it]\u001b[A\n",
            " 96%|█████████▌| 432/450 [59:47<02:47,  9.29s/it]\u001b[A\n",
            " 96%|█████████▌| 433/450 [59:55<02:32,  8.98s/it]\u001b[A\n",
            " 96%|█████████▋| 434/450 [1:00:05<02:29,  9.33s/it]\u001b[A\n",
            " 97%|█████████▋| 435/450 [1:00:15<02:20,  9.35s/it]\u001b[A\n",
            " 97%|█████████▋| 436/450 [1:00:24<02:09,  9.27s/it]\u001b[A\n",
            " 97%|█████████▋| 437/450 [1:00:32<01:57,  9.07s/it]\u001b[A\n",
            " 97%|█████████▋| 438/450 [1:00:40<01:44,  8.73s/it]\u001b[A\n",
            " 98%|█████████▊| 439/450 [1:00:47<01:29,  8.10s/it]\u001b[A\n",
            " 98%|█████████▊| 440/450 [1:00:56<01:24,  8.46s/it]\u001b[A\n",
            " 98%|█████████▊| 441/450 [1:01:07<01:21,  9.01s/it]\u001b[A\n",
            " 98%|█████████▊| 442/450 [1:01:14<01:07,  8.42s/it]\u001b[A\n",
            " 98%|█████████▊| 443/450 [1:01:21<00:57,  8.16s/it]\u001b[A\n",
            " 99%|█████████▊| 444/450 [1:01:28<00:46,  7.68s/it]\u001b[A\n",
            " 99%|█████████▉| 445/450 [1:01:39<00:43,  8.64s/it]\u001b[A\n",
            " 99%|█████████▉| 446/450 [1:01:49<00:37,  9.26s/it]\u001b[A\n",
            " 99%|█████████▉| 447/450 [1:01:57<00:26,  8.76s/it]\u001b[A\n",
            "100%|█████████▉| 448/450 [1:02:04<00:16,  8.36s/it]\u001b[A\n",
            "100%|█████████▉| 449/450 [1:02:12<00:08,  8.12s/it]\u001b[A\n",
            "100%|██████████| 450/450 [1:02:20<00:00,  8.31s/it]\n"
          ]
        }
      ],
      "source": [
        "import numpy as np\n",
        "import tqdm\n",
        "grid = {}\n",
        "grid['Validation_Set'] = {}\n",
        "\n",
        " # Topics range\n",
        "min_topics = 2\n",
        "max_topics = 11\n",
        "step_size = 1\n",
        "topics_range = range(min_topics, max_topics, step_size)\n",
        "# Alpha parameter\n",
        "#A list of alpha values to be tested.\n",
        "#It includes a range of values from 0.01 to 1 with a step size of 0.3, as well as two special values: 'symmetric' and 'asymmetric'.\n",
        "alpha = list(np.arange(0.01, 1, 0.3))\n",
        " #assumes that all documents are equally likely to be a mixture of topics, resulting in a uniform distribution of topics across documents. So it maps rreviews to each topic evenly\n",
        " #It makes the model assume that every document should have roughly the same proportion of topics.\n",
        "# alpha.append('symmetric')\n",
        "# #allows for more variability in document-topic proportions.\n",
        "# #It doesn't enforce a uniform distribution and allows documents to have varying degrees of focus on different topics.\n",
        "alpha.append('asymmetric')\n",
        "\n",
        "# # Beta parameter\n",
        "# #A list of beta values to be tested. It follows a similar pattern to alpha, including a range and 'symmetric'.\n",
        "beta = list(np.arange(0.01, 1, 0.3))\n",
        "beta.append('symmetric')\n",
        "\n",
        "# # Validation sets:\n",
        "# # We have the corpus sets, which contains 2 versions of the corpus, 15% and 20%\n",
        "num_of_docs = len(corpus)\n",
        "\n",
        "# #A list containing two versions of the 15% corpus, one with 20% of the documents and another with 15% of the documents.\n",
        "corpus_sets = [gensim.utils.ClippedCorpus(corpus, int(num_of_docs*0.20)),\n",
        "               gensim.utils.ClippedCorpus(corpus, int(num_of_docs*0.15))]\n",
        "\n",
        "corpus_title = ['20% Corpus', '15% Corpus']\n",
        "\n",
        "#Stores the results of the LDA model with different hyperparameters.\n",
        "model_results = {'Validation_Set': [],\n",
        "                  'Topics': [],\n",
        "                  'Alpha': [],\n",
        "                  'Beta': [],\n",
        "                  'Coherence': []\n",
        "                 }\n",
        "\n",
        " # Can take a long time to run\n",
        "if 1 == 1:\n",
        "   #progress bar\n",
        "    pbar = tqdm.tqdm(total=(len(beta)*len(alpha)*len(topics_range)*len(corpus_title)))\n",
        "\n",
        "     # iterate through validation corpus sets\n",
        "    for i in range(len(corpus_sets)):\n",
        "         # iterate through number of topics\n",
        "        for k in topics_range:\n",
        "             # iterate through alpha values\n",
        "            for a in alpha:\n",
        "                 # iterare through beta values\n",
        "                for b in beta:\n",
        "                     #reconnect the runtime\n",
        "                    check_and_reconnect_drive()\n",
        "                     # get the coherence score for the given parameters\n",
        "                    cv = compute_coherence_values(corpus=corpus_sets[i], dictionary=id2word,\n",
        "                                                  k=k, a=a, b=b)\n",
        "\n",
        "                     # Save the model results\n",
        "                    model_results['Validation_Set'].append(corpus_title[i])\n",
        "                    model_results['Topics'].append(k)\n",
        "                    model_results['Alpha'].append(a)\n",
        "                    model_results['Beta'].append(b)\n",
        "                    model_results['Coherence'].append(cv)\n",
        "                    pbar.update(1)\n",
        "    pd.DataFrame(model_results).to_csv('/content/lda_tuning_results.csv', index=False)\n",
        "     # pd.DataFrame(model_results).to_csv('/content/drive/My Drive/Classes/lda_tuning_results.csv', index=False)\n",
        "    pbar.close()"
      ]
    },
    {
      "cell_type": "code",
      "execution_count": null,
      "metadata": {
        "id": "0OlYh9gFgvgq"
      },
      "outputs": [],
      "source": [
        "# if 1==1:\n",
        "# # pd.DataFrame(model_results).to_csv('./results/lda_tuning_results.csv', index=False)\n",
        "#     pd.DataFrame(model_results).to_csv('/content/drive/My Drive/Classes/lda_tuning_results.csv', index=False)\n",
        "#     pbar.close()"
      ]
    },
    {
      "cell_type": "code",
      "execution_count": null,
      "metadata": {
        "id": "4m8kMDVthlHA",
        "colab": {
          "base_uri": "https://localhost:8080/",
          "height": 357
        },
        "outputId": "cbd62656-9469-468e-ee1c-97142b34da6b"
      },
      "outputs": [
        {
          "output_type": "display_data",
          "data": {
            "text/plain": [
              "<Figure size 1200x600 with 1 Axes>"
            ],
            "image/png": "[encoded data removed]"
          },
          "metadata": {}
        }
      ],
      "source": [
        "import matplotlib.pyplot as plt\n",
        "import pandas as pd\n",
        "\n",
        "# Load the model results from the CSV file\n",
        "model_results_df = pd.read_csv('/content/lda_tuning_results.csv')\n",
        "\n",
        "# Filter the results for the 75% Corpus (you can change this if needed)\n",
        "# filtered_results = model_results_df[model_results_df['Validation_Set'] == '20% Corpus']\n",
        "\n",
        "# Group the results by the number of topics (Topics) and calculate the mean coherence score\n",
        "coherence_by_topics = model_results_df.groupby('Topics')['Coherence'].mean()\n",
        "\n",
        "# Plot the coherence score against the number of topics\n",
        "plt.figure(figsize=(12, 6))\n",
        "plt.plot(coherence_by_topics.index, coherence_by_topics.values, marker='o', linestyle='-')\n",
        "plt.xlabel('Number of Topics')\n",
        "plt.ylabel('Coherence Score (C_v)')\n",
        "plt.title('Coherence Score vs. Number of Topics')\n",
        "plt.grid(True)\n",
        "plt.show()"
      ]
    },
    {
      "cell_type": "code",
      "execution_count": null,
      "metadata": {
        "id": "V6JTcRaZhwfJ",
        "colab": {
          "base_uri": "https://localhost:8080/"
        },
        "outputId": "a257d6b4-6f47-4c2d-95ad-1f00ebb34a82"
      },
      "outputs": [
        {
          "output_type": "stream",
          "name": "stdout",
          "text": [
            "0.5715554779742691\n"
          ]
        }
      ],
      "source": [
        "data_topic_3 = model_results_df[model_results_df['Topics'] == 2]\n",
        "max_coherence = np.array(data_topic_3['Coherence'])\n",
        "print(max_coherence[4])\n",
        "# print(np.argmax(max_coherence))"
      ]
    },
    {
      "cell_type": "markdown",
      "metadata": {
        "id": "CKhsArw_Ik3B"
      },
      "source": [
        "##Visualizing the Data\n"
      ]
    },
    {
      "cell_type": "code",
      "execution_count": null,
      "metadata": {
        "id": "8e-qsTyyIf-V",
        "colab": {
          "base_uri": "https://localhost:8080/",
          "height": 916
        },
        "outputId": "61d19bab-0544-4637-f384-ba5954102864"
      },
      "outputs": [
        {
          "output_type": "stream",
          "name": "stderr",
          "text": [
            "/usr/local/lib/python3.10/dist-packages/sklearn/manifold/_mds.py:299: FutureWarning: The default value of `normalized_stress` will change to `'auto'` in version 1.4. To suppress this warning, manually set the value of `normalized_stress`.\n",
            "  warnings.warn(\n"
          ]
        },
        {
          "output_type": "execute_result",
          "data": {
            "text/plain": [
              "PreparedData(topic_coordinates=              x         y  topics  cluster       Freq\n",
              "topic                                                \n",
              "3      0.242561  0.211461       1        1  88.750250\n",
              "4      0.110097 -0.206192       2        1   6.841082\n",
              "1     -0.154515 -0.047271       3        1   1.855328\n",
              "2     -0.132844  0.055937       4        1   1.540828\n",
              "0     -0.065299 -0.013934       5        1   1.012512, topic_info=             Term         Freq        Total Category  logprob  loglift\n",
              "253           buy   851.000000   851.000000  Default  30.0000  30.0000\n",
              "83          money   722.000000   722.000000  Default  29.0000  29.0000\n",
              "1         account  1070.000000  1070.000000  Default  28.0000  28.0000\n",
              "49           make  3505.000000  3505.000000  Default  27.0000  27.0000\n",
              "1485          pet   520.000000   520.000000  Default  26.0000  26.0000\n",
              "...           ...          ...          ...      ...      ...      ...\n",
              "2850   censorship     4.537938    45.300035   Topic5  -6.4821   2.2919\n",
              "11683        dope     4.530482    45.294168   Topic5  -6.4837   2.2904\n",
              "794         adopt     7.238720  1100.591968   Topic5  -6.0151  -0.4314\n",
              "4394        lobby     4.652684    88.053614   Topic5  -6.4571   1.6522\n",
              "3126      pet_sim     4.176765   145.071873   Topic5  -6.5650   1.0450\n",
              "\n",
              "[263 rows x 6 columns], token_table=       Topic      Freq     Term\n",
              "term                           \n",
              "1          1  0.739819  account\n",
              "1          2  0.258750  account\n",
              "794        1  0.940403    adopt\n",
              "794        2  0.051790    adopt\n",
              "794        3  0.000909    adopt\n",
              "...      ...       ...      ...\n",
              "2612       1  0.225673      wth\n",
              "2612       4  0.677018      wth\n",
              "11658      1  0.211014      www\n",
              "11658      5  0.633042      www\n",
              "234        1  0.998975     year\n",
              "\n",
              "[567 rows x 3 columns], R=30, lambda_step=0.01, plot_opts={'xlab': 'PC1', 'ylab': 'PC2'}, topic_order=[4, 5, 2, 3, 1])"
            ],
            "text/html": [
              "\n",
              "<link rel=\"stylesheet\" type=\"text/css\" href=\"https://cdn.jsdelivr.net/gh/bmabey/pyLDAvis@3.4.0/pyLDAvis/js/ldavis.v1.0.0.css\">\n",
              "\n",
              "\n",
              "<div id=\"ldavis_el4451359633976098887723949604\" style=\"background-color:white;\"></div>\n",
              "<script type=\"text/javascript\">\n",
              "\n",
              "var ldavis_el4451359633976098887723949604_data = {\"mdsDat\": {\"x\": [0.24256084826481958, 0.11009737311531256, -0.1545150792778732, -0.13284428350306107, -0.06529885859919786], \"y\": [0.21146078930480394, -0.20619215183049497, -0.04727085973219498, 0.05593656067536623, -0.01393433841748025], \"topics\": [1, 2, 3, 4, 5], \"cluster\": [1, 1, 1, 1, 1], \"Freq\": [88.75024950047217, 6.841081961824837, 1.8553281239611326, 1.5408282281019874, 1.0125121856398995]}, \"tinfo\": {\"Term\": [\"buy\", \"money\", \"account\", \"make\", \"pet\", \"scam\", \"give\", \"robux\", \"spend\", \"free\", \"adopt\", \"simulator\", \"use\", \"game\", \"new\", \"developer\", \"pay\", \"item\", \"trade\", \"real\", \"scamme\", \"purchase\", \"sell\", \"update\", \"bed\", \"email\", \"comment\", \"night\", \"password\", \"grind\", \"play\", \"kid\", \"game\", \"time\", \"go\", \"know\", \"say\", \"think\", \"thing\", \"good\", \"try\", \"child\", \"old\", \"year\", \"see\", \"also\", \"roblox\", \"need\", \"well\", \"people\", \"day\", \"friend\", \"take\", \"way\", \"bad\", \"really\", \"son\", \"tell\", \"talk\", \"find\", \"want\", \"get\", \"even\", \"make\", \"back\", \"use\", \"much\", \"money\", \"robux\", \"item\", \"purchase\", \"trade\", \"sell\", \"cost\", \"card\", \"gift\", \"currency\", \"cash\", \"scam\", \"pet\", \"dollar\", \"price\", \"expensive\", \"coin\", \"steal\", \"profit\", \"bank\", \"buck\", \"sale\", \"gem\", \"transaction\", \"credit\", \"saving\", \"microsoft_reward\", \"cosmetic\", \"payment\", \"invest\", \"collect\", \"buy\", \"devex\", \"pay\", \"exploiter\", \"simulator\", \"bee_swarm\", \"save\", \"earn\", \"spend\", \"devs\", \"free\", \"pet_simulator\", \"update\", \"account\", \"value\", \"waste\", \"scammer\", \"give\", \"make\", \"developer\", \"new\", \"scamme\", \"use\", \"tho\", \"classic\", \"black\", \"omg\", \"sonic\", \"cake\", \"makeup\", \"trend\", \"epic\", \"patch\", \"bake\", \"paint\", \"bone\", \"red\", \"ice\", \"song\", \"goddamn\", \"musical\", \"barbie\", \"wolf\", \"hilarious\", \"rbx\", \"bald\", \"iron\", \"tattoo\", \"slave\", \"flame\", \"fi\", \"island\", \"malde\", \"release\", \"shaggy\", \"doomspire\", \"isle\", \"white\", \"tp\", \"piano\", \"remake\", \"music\", \"bee\", \"vip\", \"nft\", \"blockchain\", \"wear\", \"power\", \"pet_sim\", \"joke\", \"bedtime\", \"min\", \"obby_obby\", \"electronic\", \"cry\", \"therapy\", \"donate\", \"cope\", \"grandma\", \"poop\", \"bedroom\", \"snack\", \"breakfast\", \"inventory\", \"ds\", \"invariant\", \"detect\", \"petition\", \"hormone\", \"recipe\", \"awake\", \"schoolroleplay\", \"seaport\", \"shower\", \"command\", \"tail\", \"legitimately\", \"satire\", \"firm\", \"wth\", \"chaos\", \"trading\", \"weapon\", \"bag\", \"wake\", \"morning\", \"happend\", \"jailbreak\", \"bed\", \"eat\", \"suprise\", \"nft\", \"offend\", \"drug\", \"night\", \"grind\", \"dog\", \"vote\", \"heavy\", \"bot\", \"violate\", \"understandable\", \"skin\", \"auto\", \"ahhhhh\", \"robuzx\", \"www\", \"obbie\", \"cough\", \"employee\", \"rickroll\", \"recieve\", \"rp\", \"preach\", \"fish\", \"generic\", \"dvscvrd\", \"stat\", \"tos\", \"client\", \"grand\", \"theft\", \"forest\", \"com\", \"miner\", \"blog\", \"deeta\", \"beggar\", \"blind\", \"custom\", \"waaaa\", \"knife\", \"hesitant\", \"scripting\", \"flicker\", \"tycoon\", \"sequel\", \"equip\", \"official\", \"rthro\", \"censorship\", \"dope\", \"adopt\", \"lobby\", \"pet_sim\"], \"Freq\": [851.0, 722.0, 1070.0, 3505.0, 520.0, 502.0, 1293.0, 474.0, 574.0, 587.0, 1100.0, 422.0, 1856.0, 9491.0, 630.0, 533.0, 255.0, 241.0, 239.0, 482.0, 397.0, 213.0, 184.0, 224.0, 155.0, 376.0, 354.0, 208.0, 364.0, 270.0, 3890.9440333265925, 2877.6375024331605, 9487.012084948397, 2313.572765111393, 2708.75013601135, 2234.13108048396, 1988.2275782337276, 1844.7623689285113, 2315.1788259605487, 2190.999779090094, 1692.9562195879014, 1581.6946359033982, 1249.2356837244627, 1227.9858722994022, 1415.3013106284454, 1500.9666020575712, 3981.8914643025564, 1270.1714710458793, 1349.5589426488684, 2721.210418825986, 1072.7002874859347, 902.0860305165149, 1334.3981735541129, 1479.3080147473054, 1261.0206029466376, 1593.7770006927237, 1022.0459608607318, 898.8267144442459, 788.8952255324592, 1011.7990336791191, 2254.9539643415237, 2421.0646074175893, 1539.547034678518, 3338.708384320576, 1163.5484892653717, 1764.1402198960516, 1223.482802956517, 720.6137228939651, 470.5914908170866, 239.3104080797558, 211.78674807066645, 236.5699649169456, 182.4897734387084, 92.42387836501983, 87.49725196728781, 85.5430706328446, 93.94056560424558, 71.28953782270008, 489.5586349316743, 507.3167797569071, 52.240098887954254, 41.938876839093396, 39.41000295521959, 64.56223359949988, 99.08866277726965, 35.43729688373181, 35.838890475794415, 36.868091090628745, 27.228627598719704, 70.82592579079318, 26.91885254587233, 24.824107740908566, 19.97510525019279, 18.708960148557225, 23.29217882005761, 19.33563438787575, 21.56406455137208, 35.96008003399213, 683.410587646742, 35.12534611347986, 205.71680899435353, 43.79498065735042, 292.9675076392929, 71.64272694941778, 66.92905035013287, 94.24973667980701, 256.98538593230177, 73.83060785022441, 229.29352641093232, 73.11992480115252, 112.59206512610669, 277.28633576228185, 60.81233684755948, 75.18705688394309, 79.17667431943728, 141.5627334504681, 165.42565681399068, 89.2056821731523, 88.67058161739254, 82.42153879023166, 91.46855886359579, 44.00297866493459, 32.29286690332189, 15.54311833141292, 15.798821174032122, 18.121571169068734, 13.565127061504107, 19.67035323234125, 13.746951227492264, 18.134293257302453, 11.114031712422236, 9.368603706474081, 10.517032100878822, 15.67877211912436, 22.810350038740776, 8.739602186662898, 6.85745537030567, 8.29136486963249, 5.339153573608225, 6.189868280538859, 10.417023686851458, 5.370793095886834, 4.648231482371961, 5.652477685812542, 4.390737263986104, 5.579542604113128, 5.7591077077046435, 6.089343798505991, 5.514003864722987, 4.027675516660654, 3.8495795625504936, 32.54958290886366, 10.971299697850993, 13.831292929960389, 6.660555188244964, 10.738031899873018, 10.909246314806847, 27.094754209668828, 7.455306873519934, 19.35363167243403, 15.408567512575988, 11.223563351972732, 20.5787024900189, 13.699169401570911, 9.368028189458139, 16.154217477410626, 14.304082055865385, 9.924868729578161, 17.663435590918446, 18.099627254223126, 43.25620656216245, 18.697274898555385, 36.76244910615689, 9.029328571249371, 78.24277433612835, 7.970624832441822, 10.233215587102077, 6.284523320227961, 5.217321870564702, 5.427916879624151, 8.324915664615816, 7.491438817494476, 4.202413723149518, 3.858458910008191, 3.8584581221618297, 5.388174757761975, 4.125035130134144, 7.18484105266345, 4.041942287458427, 4.058582127845333, 4.058582127845333, 3.772457601181075, 6.210097575375688, 4.292671503252651, 4.6009476434492385, 3.7115741474375343, 4.624508451506932, 2.7577521928962634, 4.692583629454181, 35.998036446782, 15.29477970675686, 5.701669329642035, 19.046582865108007, 14.815255443104952, 4.731048389748826, 7.498453276266836, 15.327321963336257, 10.077140071492998, 5.172259684838414, 8.143088602833018, 5.726269044435163, 6.17672808011666, 8.352335344152396, 8.280369780871798, 5.379182804622118, 29.527720806744945, 8.031385795300622, 20.69188151447708, 7.837554719464449, 6.052389838898337, 6.344623319238607, 11.597734702393147, 2.8357155059659944, 2.797244731327456, 2.797244731327456, 9.389008194510058, 4.073969232217238, 3.0890074396103175, 2.390249172347345, 3.0073695594057064, 4.236151586557641, 2.308536224017744, 5.100390028548507, 4.8059673200849655, 2.117126310925499, 4.817233751367944, 15.045021766702728, 3.026752666989324, 3.345842588754167, 2.4578544902908996, 1.9022811646337987, 5.430937934742853, 1.968782549713995, 5.595673295614524, 2.2663201539386137, 9.399022800094928, 3.1787502613282133, 4.005721779806816, 3.8791890191685474, 11.59132888906067, 5.504080174043427, 8.500370713623028, 4.941979027779439, 6.498134356005455, 4.873783001348895, 3.4468791078786, 5.766173543344619, 4.941105821543924, 4.537937528945485, 4.530482487567171, 7.238719547090426, 4.652683731108317, 4.1767645888816665], \"Total\": [851.0, 722.0, 1070.0, 3505.0, 520.0, 502.0, 1293.0, 474.0, 574.0, 587.0, 1100.0, 422.0, 1856.0, 9491.0, 630.0, 533.0, 255.0, 241.0, 239.0, 482.0, 397.0, 213.0, 184.0, 224.0, 155.0, 376.0, 354.0, 208.0, 364.0, 270.0, 3892.390558052623, 2878.9802040459717, 9491.483066428582, 2314.8556489902403, 2710.3428523160774, 2235.6184753207854, 1989.6455233906495, 1846.1635776392316, 2316.9378548680747, 2192.7046727958345, 1694.4473084792573, 1583.2397418673597, 1250.4737504578147, 1229.260274607841, 1416.8517209522627, 1502.6317264059642, 3986.408560162383, 1271.6994034283653, 1351.211032202314, 2724.595947995719, 1074.0582102826434, 903.2770348321453, 1336.2214082305604, 1481.3735162002738, 1262.8064015873524, 1596.0616065135441, 1023.5124916809868, 900.1326780412362, 790.0961918747577, 1013.362893937239, 2260.8506600124533, 2430.7199614459228, 1542.8527842283463, 3505.017725052589, 1173.1469307308018, 1856.4966313219556, 1258.0084806427403, 722.4052952156281, 474.4373751516582, 241.5539363719655, 213.8441599493307, 239.56123673264892, 184.96247058411507, 94.28651294908634, 89.26557228754312, 87.38789640363709, 96.12560933336869, 72.97972364606694, 502.22796177395975, 520.6676305375897, 54.00127854766663, 43.7025184720199, 41.2584150540106, 67.74757734045882, 104.71328139321969, 37.46224525032533, 37.98837504145777, 39.36297589892154, 29.118295852233057, 76.12986111541144, 29.013454509607328, 26.777391951384747, 21.646112642843907, 20.3709290778692, 25.363046955234122, 21.114513397878028, 23.597935678076727, 39.4401485279804, 851.2763549787118, 39.18597258490398, 255.82100221693779, 50.01863582746685, 422.54915730467104, 88.26883296908458, 84.68136623024974, 127.92822800296634, 574.7849498156231, 105.87346275469211, 587.2900818038452, 111.20323283010228, 224.73135513399026, 1070.5319742428453, 98.04237339595444, 158.50748074001643, 180.93968888875946, 1293.3859980509353, 3505.017725052589, 533.4172091870266, 630.9587039430862, 397.5480923000411, 1856.4966313219556, 46.19454601736931, 34.48647117869137, 17.398116290361138, 17.807793718538477, 20.593380208749977, 15.514627531700937, 22.7574868436273, 15.978007999790995, 21.14678562216431, 13.249858538089905, 11.173435286456165, 12.60082230993634, 18.941568041210825, 28.266574769026146, 10.979123346961957, 8.717800294169034, 10.577595863538473, 7.124327975351608, 8.27026303634784, 13.997596971537247, 7.237588557723242, 6.289088742029927, 8.010181572505566, 6.320630006993615, 8.046203035769222, 8.391672168124984, 8.881758736549932, 8.088064862025998, 5.909001290653631, 5.654187981518555, 52.77175978837619, 17.17430210864911, 22.21381371458213, 10.328787610434304, 19.505105132050353, 20.69856245335171, 79.83431824141005, 12.309813272724828, 69.41803920941337, 52.611836422844824, 30.125264620799573, 131.94517330110827, 68.3428963238677, 24.867374878158113, 144.05345139079915, 145.0718725731553, 91.00806022875548, 20.251150404518647, 20.764788213941976, 49.888451401843476, 22.352303513335265, 44.16564061447805, 11.091778434988418, 96.77557051015114, 9.899780449797777, 12.765663027719787, 8.404095375118594, 7.017441399826856, 7.303101280721393, 11.226480576825967, 10.42815155733395, 5.962957396860239, 5.5285525675606495, 5.528551779714289, 7.763582106293529, 5.995738167196075, 10.607374089965985, 5.994966362834528, 6.121616277691657, 6.121616277691657, 5.701447192968626, 9.417572688526686, 6.5098787209004145, 7.017903259216223, 5.758014161688949, 7.317383892169947, 4.43119858105615, 7.576420026661133, 72.74196112441092, 29.216561360290573, 10.310458068960084, 71.06388344747862, 79.04758849291424, 8.317331495869258, 22.161571178165875, 155.11188564314907, 60.698909250149626, 11.338828789184511, 131.94517330110827, 22.68101617679555, 35.5448197551478, 208.07513781914497, 270.98420145889247, 50.412578877552335, 34.18169889586964, 10.061307200799192, 25.96671864002904, 10.018971889840017, 8.390325309315767, 9.026317282041559, 18.109973759516283, 4.610145069135459, 4.739020792568552, 4.739020792568552, 15.943124730426428, 6.989671023588926, 5.36879393135434, 4.164660394847111, 5.253758362118284, 7.479877958984849, 4.082974927858509, 9.068892748740208, 8.619240537650855, 3.891481760468254, 9.045729979743061, 28.715850390584258, 5.828503595204458, 6.4749201556431615, 4.840866246381941, 3.769307682498841, 10.858599948092063, 3.9560034090836655, 11.313891864448962, 4.593614312049042, 19.524766257170878, 6.507071628696501, 8.342666140350532, 9.034769857320645, 42.57288771911, 17.9428793832572, 40.06409681210248, 17.679954135545827, 36.91301714976905, 24.3975522922519, 8.668238466844034, 91.32780978401584, 46.7386074242046, 45.300034766167556, 45.29416819872753, 1100.5919675159312, 88.05361420859046, 145.0718725731553], \"Category\": [\"Default\", \"Default\", \"Default\", \"Default\", \"Default\", \"Default\", \"Default\", \"Default\", \"Default\", \"Default\", \"Default\", \"Default\", \"Default\", \"Default\", \"Default\", \"Default\", \"Default\", \"Default\", \"Default\", \"Default\", \"Default\", \"Default\", \"Default\", \"Default\", \"Default\", \"Default\", \"Default\", \"Default\", \"Default\", \"Default\", \"Topic1\", \"Topic1\", \"Topic1\", \"Topic1\", \"Topic1\", \"Topic1\", \"Topic1\", \"Topic1\", \"Topic1\", \"Topic1\", \"Topic1\", \"Topic1\", \"Topic1\", \"Topic1\", \"Topic1\", \"Topic1\", \"Topic1\", \"Topic1\", \"Topic1\", \"Topic1\", \"Topic1\", \"Topic1\", \"Topic1\", \"Topic1\", \"Topic1\", \"Topic1\", \"Topic1\", \"Topic1\", \"Topic1\", \"Topic1\", \"Topic1\", \"Topic1\", \"Topic1\", \"Topic1\", \"Topic1\", \"Topic1\", \"Topic1\", \"Topic2\", \"Topic2\", \"Topic2\", \"Topic2\", \"Topic2\", \"Topic2\", \"Topic2\", \"Topic2\", \"Topic2\", \"Topic2\", \"Topic2\", \"Topic2\", \"Topic2\", \"Topic2\", \"Topic2\", \"Topic2\", \"Topic2\", \"Topic2\", \"Topic2\", \"Topic2\", \"Topic2\", \"Topic2\", \"Topic2\", \"Topic2\", \"Topic2\", \"Topic2\", \"Topic2\", \"Topic2\", \"Topic2\", \"Topic2\", \"Topic2\", \"Topic2\", \"Topic2\", \"Topic2\", \"Topic2\", \"Topic2\", \"Topic2\", \"Topic2\", \"Topic2\", \"Topic2\", \"Topic2\", \"Topic2\", \"Topic2\", \"Topic2\", \"Topic2\", \"Topic2\", \"Topic2\", \"Topic2\", \"Topic2\", \"Topic2\", \"Topic2\", \"Topic2\", \"Topic2\", \"Topic2\", \"Topic3\", \"Topic3\", \"Topic3\", \"Topic3\", \"Topic3\", \"Topic3\", \"Topic3\", \"Topic3\", \"Topic3\", \"Topic3\", \"Topic3\", \"Topic3\", \"Topic3\", \"Topic3\", \"Topic3\", \"Topic3\", \"Topic3\", \"Topic3\", \"Topic3\", \"Topic3\", \"Topic3\", \"Topic3\", \"Topic3\", \"Topic3\", \"Topic3\", \"Topic3\", \"Topic3\", \"Topic3\", \"Topic3\", \"Topic3\", \"Topic3\", \"Topic3\", \"Topic3\", \"Topic3\", \"Topic3\", \"Topic3\", \"Topic3\", \"Topic3\", \"Topic3\", \"Topic3\", \"Topic3\", \"Topic3\", \"Topic3\", \"Topic3\", \"Topic3\", \"Topic3\", \"Topic3\", \"Topic4\", \"Topic4\", \"Topic4\", \"Topic4\", \"Topic4\", \"Topic4\", \"Topic4\", \"Topic4\", \"Topic4\", \"Topic4\", \"Topic4\", \"Topic4\", \"Topic4\", \"Topic4\", \"Topic4\", \"Topic4\", \"Topic4\", \"Topic4\", \"Topic4\", \"Topic4\", \"Topic4\", \"Topic4\", \"Topic4\", \"Topic4\", \"Topic4\", \"Topic4\", \"Topic4\", \"Topic4\", \"Topic4\", \"Topic4\", \"Topic4\", \"Topic4\", \"Topic4\", \"Topic4\", \"Topic4\", \"Topic4\", \"Topic4\", \"Topic4\", \"Topic4\", \"Topic4\", \"Topic4\", \"Topic4\", \"Topic4\", \"Topic4\", \"Topic4\", \"Topic4\", \"Topic4\", \"Topic5\", \"Topic5\", \"Topic5\", \"Topic5\", \"Topic5\", \"Topic5\", \"Topic5\", \"Topic5\", \"Topic5\", \"Topic5\", \"Topic5\", \"Topic5\", \"Topic5\", \"Topic5\", \"Topic5\", \"Topic5\", \"Topic5\", \"Topic5\", \"Topic5\", \"Topic5\", \"Topic5\", \"Topic5\", \"Topic5\", \"Topic5\", \"Topic5\", \"Topic5\", \"Topic5\", \"Topic5\", \"Topic5\", \"Topic5\", \"Topic5\", \"Topic5\", \"Topic5\", \"Topic5\", \"Topic5\", \"Topic5\", \"Topic5\", \"Topic5\", \"Topic5\", \"Topic5\", \"Topic5\", \"Topic5\", \"Topic5\", \"Topic5\", \"Topic5\", \"Topic5\", \"Topic5\", \"Topic5\"], \"logprob\": [30.0, 29.0, 28.0, 27.0, 26.0, 25.0, 24.0, 23.0, 22.0, 21.0, 20.0, 19.0, 18.0, 17.0, 16.0, 15.0, 14.0, 13.0, 12.0, 11.0, 10.0, 9.0, 8.0, 7.0, 6.0, 5.0, 4.0, 3.0, 2.0, 1.0, -4.2015, -4.5032, -3.3103, -4.7214, -4.5637, -4.7563, -4.8729, -4.9478, -4.7207, -4.7758, -5.0337, -5.1017, -5.3376, -5.3548, -5.2128, -5.1541, -4.1784, -5.321, -5.2604, -4.5591, -5.49, -5.6632, -5.2717, -5.1686, -5.3283, -5.0941, -5.5384, -5.6668, -5.7973, -5.5485, -4.7471, -4.676, -5.1287, -4.3546, -5.4087, -4.9925, -5.3585, -3.325, -3.7511, -4.4273, -4.5495, -4.4388, -4.6984, -5.3787, -5.4334, -5.456, -5.3624, -5.6383, -3.7116, -3.6759, -5.9492, -6.1688, -6.231, -5.7374, -5.309, -6.3373, -6.326, -6.2977, -6.6008, -5.6448, -6.6122, -6.6932, -6.9106, -6.9761, -6.7569, -6.9431, -6.834, -6.3226, -3.378, -6.3461, -4.5786, -6.1255, -4.225, -5.6334, -5.7014, -5.3591, -4.356, -5.6033, -4.4701, -5.613, -5.1813, -4.28, -5.7973, -5.5851, -5.5334, -4.9523, -4.7965, -5.4141, -5.4201, -5.4932, -5.3891, -4.8159, -5.1253, -5.8566, -5.8402, -5.7031, -5.9927, -5.6211, -5.9794, -5.7024, -6.192, -6.3628, -6.2472, -5.8479, -5.473, -6.4323, -6.6748, -6.485, -6.9251, -6.7773, -6.2567, -6.9192, -7.0637, -6.8681, -7.1207, -6.8811, -6.8494, -6.7936, -6.8929, -7.207, -7.2522, -5.1174, -6.2049, -5.9732, -6.704, -6.2264, -6.2106, -5.3008, -6.5912, -5.6373, -5.8652, -6.1822, -5.5759, -5.9828, -6.3629, -5.818, -5.9396, -6.3051, -5.5429, -5.5185, -4.6473, -5.4861, -4.81, -6.214, -4.0546, -6.3387, -6.0888, -6.5763, -6.7624, -6.7229, -6.2952, -6.4007, -6.9788, -7.0642, -7.0642, -6.7302, -6.9974, -6.4425, -7.0177, -7.0136, -7.0136, -7.0867, -6.5883, -6.9575, -6.8882, -7.103, -6.8831, -7.4, -6.8684, -4.831, -5.6869, -6.6737, -5.4675, -5.7188, -6.8603, -6.3997, -5.6848, -6.1042, -6.7711, -6.3173, -6.6694, -6.5936, -6.2919, -6.3005, -6.7319, -4.6092, -5.9112, -4.9648, -5.9356, -6.1941, -6.1469, -5.5437, -6.9522, -6.9659, -6.9659, -5.755, -6.5899, -6.8667, -7.1231, -6.8935, -6.5509, -7.1579, -6.3652, -6.4247, -7.2445, -6.4223, -5.2835, -6.8871, -6.7868, -7.0953, -7.3515, -6.3024, -7.3171, -6.2725, -7.1764, -5.7539, -6.8381, -6.6068, -6.6389, -5.5443, -6.2891, -5.8544, -6.3968, -6.123, -6.4107, -6.7571, -6.2425, -6.397, -6.4821, -6.4837, -6.0151, -6.4571, -6.565], \"loglift\": [30.0, 29.0, 28.0, 27.0, 26.0, 25.0, 24.0, 23.0, 22.0, 21.0, 20.0, 19.0, 18.0, 17.0, 16.0, 15.0, 14.0, 13.0, 12.0, 11.0, 10.0, 9.0, 8.0, 7.0, 6.0, 5.0, 4.0, 3.0, 2.0, 1.0, 0.119, 0.1189, 0.1189, 0.1188, 0.1188, 0.1187, 0.1186, 0.1186, 0.1186, 0.1186, 0.1185, 0.1184, 0.1184, 0.1183, 0.1182, 0.1182, 0.1182, 0.1181, 0.1181, 0.1181, 0.1181, 0.118, 0.118, 0.1179, 0.1179, 0.1179, 0.1179, 0.1179, 0.1178, 0.1178, 0.1167, 0.1154, 0.1172, 0.0707, 0.1111, 0.0683, 0.0915, 2.6797, 2.6741, 2.6729, 2.6726, 2.6697, 2.6688, 2.6623, 2.6622, 2.6609, 2.6592, 2.6588, 2.6567, 2.6562, 2.6491, 2.641, 2.6364, 2.6341, 2.627, 2.6267, 2.624, 2.6167, 2.6151, 2.61, 2.6073, 2.6065, 2.6019, 2.5971, 2.597, 2.5942, 2.5921, 2.5898, 2.4626, 2.5728, 2.4642, 2.5493, 2.316, 2.4735, 2.447, 2.3767, 1.8772, 2.3218, 1.7417, 2.263, 1.9911, 1.3314, 2.2046, 1.9364, 1.8557, 0.4699, -0.3712, 0.8939, 0.7199, 1.1088, -0.3282, 3.9385, 3.9214, 3.8744, 3.8674, 3.8592, 3.8528, 3.8413, 3.8367, 3.8334, 3.8113, 3.8109, 3.8063, 3.7981, 3.7726, 3.759, 3.7471, 3.7436, 3.6987, 3.6974, 3.6917, 3.6888, 3.6848, 3.6385, 3.6228, 3.621, 3.6107, 3.6096, 3.604, 3.6038, 3.6027, 3.5039, 3.539, 3.5133, 3.5484, 3.3902, 3.3467, 2.9065, 3.4856, 2.7098, 2.7591, 2.9998, 2.129, 2.3799, 3.0109, 1.7991, 1.6704, 1.7712, 4.0361, 4.0355, 4.0302, 3.9943, 3.9894, 3.9671, 3.9603, 3.9561, 3.9517, 3.8822, 3.8764, 3.8761, 3.8738, 3.8421, 3.8229, 3.8132, 3.8132, 3.8076, 3.7989, 3.7833, 3.7787, 3.7619, 3.7619, 3.7599, 3.7564, 3.7564, 3.7506, 3.7337, 3.714, 3.6986, 3.6938, 3.4694, 3.5256, 3.5805, 2.8562, 2.4985, 3.6087, 3.0892, 1.8583, 2.3772, 3.3879, 1.3876, 2.7964, 2.4228, 0.9575, 0.6847, 1.9351, 4.4464, 4.3674, 4.3657, 4.3472, 4.2661, 4.2402, 4.1471, 4.1068, 4.0655, 4.0655, 4.0632, 4.0529, 4.04, 4.0375, 4.0349, 4.0242, 4.0225, 4.0172, 4.0086, 3.984, 3.9626, 3.9463, 3.9375, 3.9325, 3.9149, 3.9089, 3.8999, 3.8949, 3.8887, 3.8862, 3.8617, 3.8763, 3.8591, 3.7473, 3.2918, 3.411, 3.0424, 3.3181, 2.8557, 2.9821, 3.6705, 1.8303, 2.3458, 2.2919, 2.2904, -0.4314, 1.6522, 1.045]}, \"token.table\": {\"Topic\": [1, 2, 1, 2, 3, 5, 1, 5, 1, 2, 1, 2, 5, 1, 4, 1, 2, 1, 2, 1, 2, 4, 1, 3, 1, 3, 1, 2, 3, 1, 3, 1, 4, 1, 4, 1, 4, 1, 2, 3, 5, 1, 2, 3, 1, 4, 5, 1, 3, 1, 2, 5, 1, 2, 3, 4, 5, 1, 5, 1, 3, 1, 2, 5, 1, 4, 1, 2, 1, 2, 1, 3, 1, 2, 1, 2, 1, 2, 3, 5, 1, 4, 1, 2, 1, 3, 1, 5, 1, 2, 1, 2, 1, 2, 5, 1, 4, 1, 5, 1, 4, 1, 2, 1, 2, 1, 5, 1, 2, 1, 4, 1, 2, 1, 2, 5, 1, 2, 1, 5, 1, 4, 1, 2, 3, 1, 2, 1, 2, 3, 4, 5, 1, 2, 4, 1, 2, 1, 2, 4, 1, 2, 3, 5, 1, 2, 3, 5, 1, 2, 4, 1, 4, 1, 5, 1, 2, 1, 2, 4, 1, 4, 1, 2, 5, 1, 5, 1, 2, 3, 1, 2, 5, 1, 2, 1, 2, 1, 2, 1, 2, 3, 1, 2, 1, 4, 1, 2, 5, 1, 3, 4, 1, 2, 5, 1, 5, 1, 2, 1, 1, 2, 1, 2, 3, 1, 5, 1, 2, 1, 2, 1, 2, 1, 2, 1, 2, 3, 1, 2, 1, 3, 5, 1, 4, 1, 2, 4, 5, 1, 4, 1, 5, 1, 2, 3, 5, 1, 3, 1, 4, 1, 3, 4, 1, 4, 1, 4, 1, 2, 1, 3, 1, 2, 3, 1, 3, 1, 2, 1, 2, 4, 5, 1, 3, 1, 2, 1, 2, 3, 5, 1, 2, 1, 4, 1, 2, 3, 5, 1, 2, 1, 3, 4, 1, 3, 1, 2, 1, 2, 4, 1, 5, 1, 2, 1, 4, 1, 2, 1, 3, 1, 3, 1, 2, 1, 2, 1, 2, 3, 4, 5, 1, 4, 1, 2, 5, 1, 2, 4, 1, 4, 1, 2, 5, 1, 1, 2, 3, 1, 3, 1, 2, 1, 3, 1, 2, 1, 2, 1, 2, 1, 2, 1, 2, 3, 4, 5, 1, 2, 1, 4, 1, 2, 3, 4, 1, 2, 1, 2, 4, 1, 2, 3, 4, 1, 5, 1, 2, 1, 2, 1, 2, 1, 3, 1, 2, 1, 2, 1, 2, 5, 1, 2, 4, 1, 2, 3, 1, 2, 3, 1, 2, 3, 1, 5, 1, 2, 1, 2, 1, 5, 1, 2, 5, 1, 2, 5, 1, 2, 1, 4, 1, 2, 1, 2, 1, 2, 1, 2, 1, 2, 4, 5, 1, 2, 1, 4, 1, 2, 5, 1, 4, 1, 2, 1, 2, 1, 2, 3, 4, 5, 1, 2, 3, 4, 1, 4, 1, 2, 3, 5, 1, 2, 5, 1, 2, 3, 1, 4, 1, 2, 1, 3, 1, 3, 1, 2, 1, 2, 5, 1, 2, 1, 2, 4, 1, 3, 4, 1, 2, 1, 1, 3, 1, 2, 1, 2, 5, 1, 4, 1, 2, 1, 2, 1, 2, 3, 1, 1, 2, 5, 1, 2, 3, 1, 2, 1, 2, 4, 1, 2, 1, 3, 1, 2, 1, 2, 5, 1, 5, 1, 2, 1, 2, 1, 2, 1, 5, 1, 2, 3, 1, 2, 3, 4, 5, 1, 4, 5, 1, 4, 1, 2, 1, 2, 1, 2, 1, 2, 4, 1, 3, 1, 2, 1, 2, 3, 1, 2, 3, 4, 1, 4, 1, 5, 1], \"Freq\": [0.7398190984068062, 0.25874986143773393, 0.9404030108778877, 0.05179031074399961, 0.0009086019428771861, 0.006360213600140303, 0.216912913802847, 0.650738741408541, 0.9989140876122276, 0.0006654990590354614, 0.11043638309796314, 0.22087276619592627, 0.6626182985877789, 0.16680660732301122, 0.6672264292920449, 0.9922030817358028, 0.007671673312390228, 0.9985695340274789, 0.0007918870214333695, 0.29096670389762624, 0.09698890129920874, 0.5819334077952525, 0.08949799004180442, 0.8054819103762398, 0.249682230283627, 0.7490466908508809, 0.02632384246256051, 0.9476583286521784, 0.02632384246256051, 0.12091513844299702, 0.7254908306579821, 0.896127330434135, 0.0967043881763455, 0.14250208060514383, 0.7125104030257192, 0.09875982154345855, 0.888838393891127, 0.4181568539669389, 0.2660998161607793, 0.2851069458865492, 0.01900712972576995, 0.1699354063653886, 0.8156899505538653, 0.011329027091025907, 0.3073020143222649, 0.2048680095481766, 0.4609530214833974, 0.05747748683310144, 0.9196397893296231, 0.30735791983292504, 0.15367895991646252, 0.46103687974938756, 0.5267555508534624, 0.19021728225263917, 0.20484938088745758, 0.058528394539273595, 0.014632098634818399, 0.4419345756442337, 0.5303214907730804, 0.10558787929534853, 0.8447030343627883, 0.11553250303160542, 0.07702166868773695, 0.8087275212212379, 0.17815022137289038, 0.7126008854915615, 0.050809166591868266, 0.9399695819495629, 0.19617601149532252, 0.8023246458161992, 0.06445530180835515, 0.9023742253169721, 0.011202527182358618, 0.9746198648651998, 0.01370243610197464, 0.9728729632401995, 0.6843261856203349, 0.15452526772072075, 0.06622511473745175, 0.11037519122908626, 0.2639769169293778, 0.6599422923234445, 0.9992169588505292, 0.0006316162824592473, 0.02899687807484008, 0.9279000983948825, 0.3431412484064603, 0.5147118726096905, 0.02952135085139939, 0.9594439026704802, 0.07606462226864287, 0.9127754672237144, 0.36837161504442656, 0.09209290376110664, 0.46046451880553324, 0.2123689475141058, 0.6371068425423174, 0.9879419293856394, 0.008468073680448338, 0.10101234113938627, 0.8080987291150902, 0.03942743952510926, 0.9068311090775131, 0.010605970766359647, 0.9757493105050875, 0.2861364995935213, 0.5722729991870426, 0.03734493642306665, 0.9336234105766663, 0.13585221263683256, 0.8377553112604674, 0.010403054991640648, 0.9778871692142209, 0.35959727376480505, 0.11986575792160169, 0.47946303168640675, 0.9990147551850427, 0.0009310482340960322, 0.2176935049546937, 0.4353870099093874, 0.18087919582652062, 0.7235167833060825, 0.8304943904512752, 0.1668487601583826, 0.0018747051703189054, 0.07655800793255597, 0.8931767592131531, 0.26446664982400503, 0.6989475745348704, 0.009445237493714466, 0.009445237493714466, 0.01889047498742893, 0.8727980392923774, 0.01983631907482676, 0.0991815953741338, 0.01851808006948031, 0.9629401636129761, 0.06199911783904842, 0.12399823567809684, 0.8059885319076295, 0.2701022020393254, 0.0450170336732209, 0.6302384714250926, 0.0450170336732209, 0.6844148205567642, 0.15454528206120483, 0.06623369231194493, 0.11038948718657488, 0.7877378530227287, 0.028133494750811738, 0.16880096850487045, 0.16770201989478312, 0.6708080795791325, 0.25697152435828763, 0.5139430487165753, 0.2579571413999013, 0.7347870088360825, 0.8072632705484607, 0.016474760623437973, 0.16474760623437973, 0.13421435505339377, 0.8500242486714938, 0.8346282870344441, 0.1621411640417232, 0.002658051869536446, 0.18626157248463038, 0.5587847174538911, 0.09457702157361285, 0.047288510786806424, 0.8511931941625157, 0.46145477138174945, 0.11536369284543736, 0.34609107853631205, 0.9981509679617468, 0.001296299958391879, 0.024237479764816928, 0.9452617108278601, 0.09996274223165315, 0.8796721316385477, 0.2472779378155253, 0.12363896890776264, 0.7418338134465758, 0.9986550781113134, 0.0009868133182918115, 0.2733217266542655, 0.6833043166356638, 0.2205340889358105, 0.11026704446790525, 0.5513352223395263, 0.22518062686950316, 0.6755418806085095, 0.11259031343475158, 0.5656123270079554, 0.16968369810238662, 0.2828061635039777, 0.26530070883920404, 0.5306014176784081, 0.6078767734395998, 0.3899265577525724, 0.9985862201928087, 0.9995276748220266, 0.00042143045212270547, 0.052541800830768294, 0.9326169647461372, 0.013135450207692074, 0.34805850781113484, 0.580097513018558, 0.9960012006318734, 0.0037026066937987856, 0.011443232314245065, 0.9841179790250756, 0.8899122162560106, 0.10978934379526803, 0.9995045452220446, 0.00036895701189444246, 0.09453944099405918, 0.09453944099405918, 0.7563155279524735, 0.9992225707287516, 0.00045605776847501214, 0.30888411778435865, 0.15444205889217932, 0.46332617667653797, 0.15667027992648194, 0.7833513996324096, 0.8893507396465657, 0.07380504063456977, 0.029522016253827908, 0.0036902520317284885, 0.36069260934110037, 0.601154348901834, 0.09939066366252765, 0.7951253093002212, 0.5573241499539459, 0.11146482999078917, 0.05573241499539459, 0.33439448997236754, 0.13816756672813327, 0.6908378336406664, 0.16678513505996762, 0.6671405402398705, 0.09108195330337653, 0.8197375797303887, 0.09108195330337653, 0.18087917005033158, 0.7235166802013263, 0.19178854363632955, 0.6712599027271534, 0.04237658808982319, 0.9322849379761102, 0.1582120767856251, 0.6328483071425004, 0.16923333585689299, 0.16923333585689299, 0.6769333434275719, 0.2904503522726474, 0.6777174886361773, 0.004139862156748769, 0.9894270554629557, 0.4512315448939038, 0.09024630897878076, 0.3158620814257327, 0.09024630897878076, 0.8790430188151916, 0.10988037735189896, 0.9996595308142119, 0.00034734521571028903, 0.6811847058939946, 0.02348912778944809, 0.02348912778944809, 0.28186953347337707, 0.9992760503016719, 0.00044730351401149143, 0.28498540463257466, 0.7124635115814367, 0.8517537942546263, 0.05678358628364175, 0.034070151770185055, 0.05678358628364175, 0.9526342694743154, 0.047075368213016486, 0.08788316626271292, 0.8788316626271292, 0.04394158313135646, 0.1768600554613022, 0.7074402218452088, 0.04908956268893947, 0.9327016910898499, 0.09631689855893412, 0.04815844927946706, 0.8668520870304071, 0.25278036861743536, 0.5055607372348707, 0.0013842644933845809, 0.9980546997302827, 0.7969882598714224, 0.18975910949319583, 0.972171506646081, 0.02702684482908156, 0.7058683961409761, 0.27370407197303154, 0.14036411623099745, 0.7018205811549874, 0.9986636752177568, 0.0007863493505651628, 0.8574253697097731, 0.14105519021103477, 0.4092608971513354, 0.3637874641345204, 0.15915701555885267, 0.06063124402242006, 0.0075789055028025075, 0.9563852850741211, 0.038447649651220946, 0.3136148079214247, 0.06272296158428493, 0.5645066542585645, 0.04008943841311731, 0.08017887682623462, 0.8619229258820222, 0.7054357651033841, 0.26453841191376903, 0.8978645189666161, 0.032848701913412784, 0.06569740382682557, 0.9988214463060299, 0.056155187768093265, 0.056155187768093265, 0.8984830042894922, 0.07935990012425245, 0.8729589013667769, 0.8423546057912007, 0.15639808641725875, 0.07547250388562712, 0.8301975427418983, 0.19154017682429256, 0.8052505393021279, 0.047360788342889225, 0.8998549785148953, 0.9986801903605691, 0.0007340537966634099, 0.023047332494263165, 0.9737497978826187, 0.49630571883390145, 0.35154988417401356, 0.09650388977325862, 0.027572539935216748, 0.027572539935216748, 0.3327241399225243, 0.6564557355228182, 0.25761304158536624, 0.6440326039634156, 0.6012451920094485, 0.03757782450059053, 0.3382004205053148, 0.012525941500196845, 0.999642749608015, 0.00025691152649910437, 0.11898960630083147, 0.11898960630083147, 0.7139376378049888, 0.86773346138643, 0.013883735382182882, 0.11106988305746306, 0.006941867691091441, 0.24491945644263183, 0.48983891288526366, 0.02288197648472456, 0.9610430123584316, 0.02669354154610676, 0.9342739541137367, 0.004676302594548034, 0.9913761500441832, 0.159005547706301, 0.795027738531505, 0.8474317697062886, 0.14918114283338088, 0.9987083164552479, 0.0006265422311513475, 0.19033993021270318, 0.19033993021270318, 0.5710197906381096, 0.1885480782554746, 0.0942740391277373, 0.659918273894161, 0.10613242051836186, 0.07075494701224123, 0.8136818906407742, 0.03789905828458902, 0.34109152456130115, 0.6253344616957187, 0.3249440029169982, 0.08123600072924955, 0.5686520051047469, 0.24011561692696218, 0.48023123385392436, 0.9988941022738013, 0.00100340944477529, 0.006323279229510582, 0.9927548390331613, 0.21101405623037991, 0.6330421686911397, 0.13369202084357504, 0.2673840416871501, 0.5347680833743002, 0.7060544123723771, 0.17116470602966716, 0.10697794126854197, 0.034342669127160164, 0.9272520664333244, 0.17367098654489566, 0.6946839461795826, 0.20075254754129473, 0.7912012167803969, 0.04619767144797682, 0.9239534289595364, 0.9991729565034051, 0.0005026020907964814, 0.02389353224701754, 0.9756525667532162, 0.7873261274859038, 0.20626435288768086, 0.0025154189376546446, 0.0025154189376546446, 0.5581970468739678, 0.43660957131726186, 0.1633555509913602, 0.6534222039654408, 0.6988801003381616, 0.07488001075051731, 0.22464003225155194, 0.1633555509913602, 0.6534222039654408, 0.998693073576522, 0.0007057901580046093, 0.010813004355337389, 0.9839833963357024, 0.4098771827686899, 0.2869140279380829, 0.040987718276868985, 0.08197543655373797, 0.20493859138434495, 0.17467958703772757, 0.11645305802515171, 0.6404918191383344, 0.058226529012575856, 0.17539406507759317, 0.7015762603103727, 0.2910903923808164, 0.6934104468908878, 0.011832942779707983, 0.0023665885559415968, 0.11078715369218901, 0.11078715369218901, 0.6647229221531341, 0.11916576100272488, 0.11916576100272488, 0.7149945660163494, 0.13692812978505223, 0.6846406489252611, 0.99852225381392, 0.0009770276456104892, 0.11470783526308322, 0.8029548468415825, 0.09711858761050868, 0.874067288494578, 0.5515106129721834, 0.44712374616356826, 0.3316481927625716, 0.11054939758752387, 0.5527469879376193, 0.04774943477536514, 0.9454388085522298, 0.2645775904881407, 0.17638506032542714, 0.44096265081356784, 0.15361269278173048, 0.15361269278173048, 0.6144507711269219, 0.9983375447984313, 0.0007483789691142663, 0.9986125842827358, 0.1242822230006528, 0.7456933380039168, 0.9987416543484445, 0.001110947335204054, 0.20657459824414673, 0.20657459824414673, 0.41314919648829346, 0.09015686761696878, 0.811411808552719, 0.9991636137913655, 0.0004316041528256439, 0.9993697321010311, 0.0005416638114368733, 0.021647577175539216, 0.021647577175539216, 0.9524933957237256, 0.9996303661566917, 0.2437678113232981, 0.2089438382771127, 0.5223595956927817, 0.1449376016697339, 0.2898752033394678, 0.5314378727890243, 0.008348596072043184, 0.9893086345371173, 0.3986694825343128, 0.09623056474966171, 0.4949000472839745, 0.034466767811770445, 0.9306027309178021, 0.0625860244914811, 0.8762043428807352, 0.9991458521772765, 0.0005901629369032939, 0.3792699996100859, 0.43345142812581244, 0.16254428554717967, 0.11918489011262785, 0.7151093406757671, 0.49392306620417575, 0.5028225809105573, 0.9501767847237668, 0.04901705635479749, 0.36718817336877607, 0.6221799604304261, 0.09981064035263681, 0.7984851228210945, 0.5311156665808346, 0.09958418748390649, 0.36514202077432384, 0.08776626372899524, 0.029255421242998413, 0.029255421242998413, 0.029255421242998413, 0.8776626372899524, 0.2213670111784254, 0.2213670111784254, 0.4427340223568508, 0.7176641287510372, 0.26736506757391587, 0.9974121864323311, 0.002211556954395413, 0.5173257414550433, 0.4731637879161982, 0.9983977597990533, 0.0006750491952664323, 0.3422716272692997, 0.1369086509077199, 0.5134074409039496, 0.6031999788274808, 0.36191998729648844, 0.9991037431064042, 0.0007400768467454846, 0.3588804034948654, 0.05126862907069505, 0.5639549197776456, 0.14288166776531755, 0.07144083388265877, 0.7144083388265877, 0.07144083388265877, 0.22567257632621282, 0.6770177289786384, 0.21101405623037991, 0.6330421686911397, 0.9989747699214936], \"Term\": [\"account\", \"account\", \"adopt\", \"adopt\", \"adopt\", \"adopt\", \"ahhhhh\", \"ahhhhh\", \"also\", \"also\", \"auto\", \"auto\", \"auto\", \"awake\", \"awake\", \"back\", \"back\", \"bad\", \"bad\", \"bag\", \"bag\", \"bag\", \"bake\", \"bake\", \"bald\", \"bald\", \"bank\", \"bank\", \"bank\", \"barbie\", \"barbie\", \"bed\", \"bed\", \"bedroom\", \"bedroom\", \"bedtime\", \"bedtime\", \"bee\", \"bee\", \"bee\", \"bee\", \"bee_swarm\", \"bee_swarm\", \"bee_swarm\", \"beggar\", \"beggar\", \"beggar\", \"black\", \"black\", \"blind\", \"blind\", \"blind\", \"blockchain\", \"blockchain\", \"blockchain\", \"blockchain\", \"blockchain\", \"blog\", \"blog\", \"bone\", \"bone\", \"bot\", \"bot\", \"bot\", \"breakfast\", \"breakfast\", \"buck\", \"buck\", \"buy\", \"buy\", \"cake\", \"cake\", \"card\", \"card\", \"cash\", \"cash\", \"censorship\", \"censorship\", \"censorship\", \"censorship\", \"chaos\", \"chaos\", \"child\", \"child\", \"classic\", \"classic\", \"client\", \"client\", \"coin\", \"coin\", \"collect\", \"collect\", \"com\", \"com\", \"com\", \"command\", \"command\", \"comment\", \"comment\", \"cope\", \"cope\", \"cosmetic\", \"cosmetic\", \"cost\", \"cost\", \"cough\", \"cough\", \"credit\", \"credit\", \"cry\", \"cry\", \"currency\", \"currency\", \"custom\", \"custom\", \"custom\", \"day\", \"day\", \"deeta\", \"deeta\", \"detect\", \"detect\", \"developer\", \"developer\", \"developer\", \"devex\", \"devex\", \"devs\", \"devs\", \"devs\", \"devs\", \"devs\", \"dog\", \"dog\", \"dog\", \"dollar\", \"dollar\", \"donate\", \"donate\", \"donate\", \"doomspire\", \"doomspire\", \"doomspire\", \"doomspire\", \"dope\", \"dope\", \"dope\", \"dope\", \"drug\", \"drug\", \"drug\", \"ds\", \"ds\", \"dvscvrd\", \"dvscvrd\", \"earn\", \"earn\", \"eat\", \"eat\", \"eat\", \"electronic\", \"electronic\", \"email\", \"email\", \"email\", \"employee\", \"employee\", \"epic\", \"epic\", \"epic\", \"equip\", \"equip\", \"equip\", \"even\", \"even\", \"expensive\", \"expensive\", \"exploiter\", \"exploiter\", \"fi\", \"fi\", \"fi\", \"find\", \"find\", \"firm\", \"firm\", \"fish\", \"fish\", \"fish\", \"flame\", \"flame\", \"flame\", \"flicker\", \"flicker\", \"flicker\", \"forest\", \"forest\", \"free\", \"free\", \"friend\", \"game\", \"game\", \"gem\", \"gem\", \"gem\", \"generic\", \"generic\", \"get\", \"get\", \"gift\", \"gift\", \"give\", \"give\", \"go\", \"go\", \"goddamn\", \"goddamn\", \"goddamn\", \"good\", \"good\", \"grand\", \"grand\", \"grand\", \"grandma\", \"grandma\", \"grind\", \"grind\", \"grind\", \"grind\", \"happend\", \"happend\", \"heavy\", \"heavy\", \"hesitant\", \"hesitant\", \"hesitant\", \"hesitant\", \"hilarious\", \"hilarious\", \"hormone\", \"hormone\", \"ice\", \"ice\", \"ice\", \"invariant\", \"invariant\", \"inventory\", \"inventory\", \"invest\", \"invest\", \"iron\", \"iron\", \"island\", \"island\", \"island\", \"isle\", \"isle\", \"item\", \"item\", \"jailbreak\", \"jailbreak\", \"jailbreak\", \"jailbreak\", \"joke\", \"joke\", \"kid\", \"kid\", \"knife\", \"knife\", \"knife\", \"knife\", \"know\", \"know\", \"legitimately\", \"legitimately\", \"lobby\", \"lobby\", \"lobby\", \"lobby\", \"make\", \"make\", \"makeup\", \"makeup\", \"makeup\", \"malde\", \"malde\", \"microsoft_reward\", \"microsoft_reward\", \"min\", \"min\", \"min\", \"miner\", \"miner\", \"money\", \"money\", \"morning\", \"morning\", \"much\", \"much\", \"music\", \"music\", \"musical\", \"musical\", \"need\", \"need\", \"new\", \"new\", \"nft\", \"nft\", \"nft\", \"nft\", \"nft\", \"night\", \"night\", \"obbie\", \"obbie\", \"obbie\", \"obby_obby\", \"obby_obby\", \"obby_obby\", \"offend\", \"offend\", \"official\", \"official\", \"official\", \"old\", \"omg\", \"omg\", \"omg\", \"paint\", \"paint\", \"password\", \"password\", \"patch\", \"patch\", \"pay\", \"pay\", \"payment\", \"payment\", \"people\", \"people\", \"pet\", \"pet\", \"pet_sim\", \"pet_sim\", \"pet_sim\", \"pet_sim\", \"pet_sim\", \"pet_simulator\", \"pet_simulator\", \"petition\", \"petition\", \"piano\", \"piano\", \"piano\", \"piano\", \"play\", \"play\", \"poop\", \"poop\", \"poop\", \"power\", \"power\", \"power\", \"power\", \"preach\", \"preach\", \"price\", \"price\", \"profit\", \"profit\", \"purchase\", \"purchase\", \"rbx\", \"rbx\", \"real\", \"real\", \"really\", \"really\", \"recieve\", \"recieve\", \"recieve\", \"recipe\", \"recipe\", \"recipe\", \"red\", \"red\", \"red\", \"release\", \"release\", \"release\", \"remake\", \"remake\", \"remake\", \"rickroll\", \"rickroll\", \"roblox\", \"roblox\", \"robux\", \"robux\", \"robuzx\", \"robuzx\", \"rp\", \"rp\", \"rp\", \"rthro\", \"rthro\", \"rthro\", \"sale\", \"sale\", \"satire\", \"satire\", \"save\", \"save\", \"saving\", \"saving\", \"say\", \"say\", \"scam\", \"scam\", \"scamme\", \"scamme\", \"scamme\", \"scamme\", \"scammer\", \"scammer\", \"schoolroleplay\", \"schoolroleplay\", \"scripting\", \"scripting\", \"scripting\", \"seaport\", \"seaport\", \"see\", \"see\", \"sell\", \"sell\", \"sequel\", \"sequel\", \"sequel\", \"sequel\", \"sequel\", \"shaggy\", \"shaggy\", \"shaggy\", \"shaggy\", \"shower\", \"shower\", \"simulator\", \"simulator\", \"simulator\", \"simulator\", \"skin\", \"skin\", \"skin\", \"slave\", \"slave\", \"slave\", \"snack\", \"snack\", \"son\", \"son\", \"song\", \"song\", \"sonic\", \"sonic\", \"spend\", \"spend\", \"stat\", \"stat\", \"stat\", \"steal\", \"steal\", \"suprise\", \"suprise\", \"suprise\", \"tail\", \"tail\", \"tail\", \"take\", \"take\", \"talk\", \"tattoo\", \"tattoo\", \"tell\", \"tell\", \"theft\", \"theft\", \"theft\", \"therapy\", \"therapy\", \"thing\", \"thing\", \"think\", \"think\", \"tho\", \"tho\", \"tho\", \"time\", \"tos\", \"tos\", \"tos\", \"tp\", \"tp\", \"tp\", \"trade\", \"trade\", \"trading\", \"trading\", \"trading\", \"transaction\", \"transaction\", \"trend\", \"trend\", \"try\", \"try\", \"tycoon\", \"tycoon\", \"tycoon\", \"understandable\", \"understandable\", \"update\", \"update\", \"use\", \"use\", \"value\", \"value\", \"violate\", \"violate\", \"vip\", \"vip\", \"vip\", \"vote\", \"vote\", \"vote\", \"vote\", \"vote\", \"waaaa\", \"waaaa\", \"waaaa\", \"wake\", \"wake\", \"want\", \"want\", \"waste\", \"waste\", \"way\", \"way\", \"weapon\", \"weapon\", \"weapon\", \"wear\", \"wear\", \"well\", \"well\", \"white\", \"white\", \"white\", \"wolf\", \"wolf\", \"wolf\", \"wolf\", \"wth\", \"wth\", \"www\", \"www\", \"year\"]}, \"R\": 30, \"lambda.step\": 0.01, \"plot.opts\": {\"xlab\": \"PC1\", \"ylab\": \"PC2\"}, \"topic.order\": [4, 5, 2, 3, 1]};\n",
              "\n",
              "function LDAvis_load_lib(url, callback){\n",
              "  var s = document.createElement('script');\n",
              "  s.src = url;\n",
              "  s.async = true;\n",
              "  s.onreadystatechange = s.onload = callback;\n",
              "  s.onerror = function(){console.warn(\"failed to load library \" + url);};\n",
              "  document.getElementsByTagName(\"head\")[0].appendChild(s);\n",
              "}\n",
              "\n",
              "if(typeof(LDAvis) !== \"undefined\"){\n",
              "   // already loaded: just create the visualization\n",
              "   !function(LDAvis){\n",
              "       new LDAvis(\"#\" + \"ldavis_el4451359633976098887723949604\", ldavis_el4451359633976098887723949604_data);\n",
              "   }(LDAvis);\n",
              "}else if(typeof define === \"function\" && define.amd){\n",
              "   // require.js is available: use it to load d3/LDAvis\n",
              "   require.config({paths: {d3: \"https://d3js.org/d3.v5\"}});\n",
              "   require([\"d3\"], function(d3){\n",
              "      window.d3 = d3;\n",
              "      LDAvis_load_lib(\"https://cdn.jsdelivr.net/gh/bmabey/pyLDAvis@3.4.0/pyLDAvis/js/ldavis.v3.0.0.js\", function(){\n",
              "        new LDAvis(\"#\" + \"ldavis_el4451359633976098887723949604\", ldavis_el4451359633976098887723949604_data);\n",
              "      });\n",
              "    });\n",
              "}else{\n",
              "    // require.js not available: dynamically load d3 & LDAvis\n",
              "    LDAvis_load_lib(\"https://d3js.org/d3.v5.js\", function(){\n",
              "         LDAvis_load_lib(\"https://cdn.jsdelivr.net/gh/bmabey/pyLDAvis@3.4.0/pyLDAvis/js/ldavis.v3.0.0.js\", function(){\n",
              "                 new LDAvis(\"#\" + \"ldavis_el4451359633976098887723949604\", ldavis_el4451359633976098887723949604_data);\n",
              "            })\n",
              "         });\n",
              "}\n",
              "</script>"
            ]
          },
          "metadata": {},
          "execution_count": 41
        }
      ],
      "source": [
        "pyLDAvis.enable_notebook()\n",
        "vis = pyLDAvis.gensim.prepare(lda_model, corpus, id2word, mds='mmds', R=30)\n",
        "vis"
      ]
    },
    {
      "cell_type": "code",
      "execution_count": null,
      "metadata": {
        "id": "5oHuguVRlrZ2"
      },
      "outputs": [],
      "source": [
        "lda_model_tuned = gensim.models.LdaMulticore(corpus=corpus,\n",
        "                                       id2word=id2word,\n",
        "                                       num_topics=2,\n",
        "                                       random_state=100,\n",
        "                                       chunksize=100,\n",
        "                                       passes=10,\n",
        "                                       per_word_topics=True,\n",
        "                                       alpha=0.31,\n",
        "                                       eta='symmetric')"
      ]
    },
    {
      "cell_type": "code",
      "execution_count": null,
      "metadata": {
        "id": "PPYjc5x3rmNh",
        "colab": {
          "base_uri": "https://localhost:8080/",
          "height": 916
        },
        "outputId": "1cea7564-45ae-48e6-f8bf-17b28b1f8eaa"
      },
      "outputs": [
        {
          "output_type": "stream",
          "name": "stderr",
          "text": [
            "/usr/local/lib/python3.10/dist-packages/sklearn/manifold/_mds.py:299: FutureWarning: The default value of `normalized_stress` will change to `'auto'` in version 1.4. To suppress this warning, manually set the value of `normalized_stress`.\n",
            "  warnings.warn(\n"
          ]
        },
        {
          "output_type": "execute_result",
          "data": {
            "text/plain": [
              "PreparedData(topic_coordinates=              x         y  topics  cluster       Freq\n",
              "topic                                                \n",
              "1     -0.008974 -0.158379       1        1  81.832982\n",
              "0      0.008974  0.158379       2        1  18.167018, topic_info=       Term         Freq        Total Category  logprob  loglift\n",
              "41     game  7196.000000  7196.000000  Default  30.0000  30.0000\n",
              "9    roblox  3073.000000  3073.000000  Default  29.0000  29.0000\n",
              "49     make  3027.000000  3027.000000  Default  28.0000  28.0000\n",
              "253     buy   845.000000   845.000000  Default  27.0000  27.0000\n",
              "83    money   810.000000   810.000000  Default  26.0000  26.0000\n",
              "..      ...          ...          ...      ...      ...      ...\n",
              "277    also   236.112503  1405.074589   Topic2  -5.4174  -0.0780\n",
              "131    good   239.060795  2214.088039   Topic2  -5.4050  -0.5203\n",
              "27     want   232.938400  2310.955531   Topic2  -5.4309  -0.5891\n",
              "51     much   221.568042  1194.734325   Topic2  -5.4810   0.0206\n",
              "71      way   216.681014  1410.846567   Topic2  -5.5033  -0.1680\n",
              "\n",
              "[142 rows x 6 columns], token_table=      Topic      Freq     Term\n",
              "term                          \n",
              "1         1  0.001475  account\n",
              "1         2  0.998492  account\n",
              "30        1  0.351036      add\n",
              "30        2  0.647467      add\n",
              "794       1  0.017693    adopt\n",
              "...     ...       ...      ...\n",
              "71        1  0.846300      way\n",
              "71        2  0.153808      way\n",
              "394       1  0.869039     well\n",
              "394       2  0.130620     well\n",
              "234       1  0.999933     year\n",
              "\n",
              "[192 rows x 3 columns], R=30, lambda_step=0.01, plot_opts={'xlab': 'PC1', 'ylab': 'PC2'}, topic_order=[2, 1])"
            ],
            "text/html": [
              "\n",
              "<link rel=\"stylesheet\" type=\"text/css\" href=\"https://cdn.jsdelivr.net/gh/bmabey/pyLDAvis@3.4.0/pyLDAvis/js/ldavis.v1.0.0.css\">\n",
              "\n",
              "\n",
              "<div id=\"ldavis_el445135963397611792139721400\" style=\"background-color:white;\"></div>\n",
              "<script type=\"text/javascript\">\n",
              "\n",
              "var ldavis_el445135963397611792139721400_data = {\"mdsDat\": {\"x\": [-0.008974351811803935, 0.008974351811803935], \"y\": [-0.15837915599421512, 0.15837915599421512], \"topics\": [1, 2], \"cluster\": [1, 1], \"Freq\": [81.83298186352724, 18.167018136472755]}, \"tinfo\": {\"Term\": [\"game\", \"roblox\", \"make\", \"buy\", \"money\", \"account\", \"pet\", \"adopt\", \"scam\", \"use\", \"robux\", \"player\", \"free\", \"spend\", \"simulator\", \"play\", \"give\", \"developer\", \"time\", \"new\", \"people\", \"item\", \"trade\", \"say\", \"pay\", \"purchase\", \"scamme\", \"get\", \"email\", \"kid\", \"old\", \"year\", \"say\", \"time\", \"friend\", \"talk\", \"day\", \"school\", \"parent\", \"tell\", \"love\", \"watch\", \"feel\", \"thank\", \"age\", \"daughter\", \"mom\", \"read\", \"hour\", \"video\", \"screen\", \"right\", \"phone\", \"keep\", \"start\", \"long\", \"turn\", \"internet\", \"hear\", \"away\", \"play\", \"kid\", \"think\", \"know\", \"lol\", \"bit\", \"stop\", \"go\", \"let\", \"bad\", \"son\", \"never\", \"try\", \"thing\", \"child\", \"take\", \"see\", \"need\", \"want\", \"good\", \"people\", \"get\", \"even\", \"game\", \"really\", \"make\", \"roblox\", \"way\", \"well\", \"also\", \"money\", \"buy\", \"account\", \"pet\", \"robux\", \"free\", \"item\", \"pay\", \"purchase\", \"trade\", \"simulator\", \"sell\", \"email\", \"developer\", \"password\", \"update\", \"earn\", \"scam\", \"cost\", \"card\", \"currency\", \"steal\", \"gift\", \"user\", \"player\", \"cash\", \"exploit\", \"save\", \"copy\", \"click\", \"adopt\", \"code\", \"scamme\", \"donate\", \"scammer\", \"link\", \"creator\", \"spend\", \"game\", \"roblox\", \"make\", \"new\", \"use\", \"give\", \"add\", \"people\", \"get\", \"also\", \"good\", \"want\", \"much\", \"way\"], \"Freq\": [7196.0, 3073.0, 3027.0, 845.0, 810.0, 678.0, 576.0, 565.0, 558.0, 1576.0, 530.0, 458.0, 423.0, 496.0, 395.0, 4564.0, 1214.0, 306.0, 2726.0, 493.0, 2610.0, 270.0, 267.0, 2344.0, 254.0, 238.0, 244.0, 2365.0, 215.0, 3356.0, 1472.691308096287, 1447.5979709054393, 2343.252317841441, 2725.926714217379, 1063.2856990309306, 929.9658804108008, 1264.5260242711583, 736.4688378175026, 958.491793587769, 1059.3439299909421, 742.5700607345657, 647.3282532327897, 892.5875285549159, 856.0811705011516, 597.2499225467897, 709.3237767580188, 430.93718910253324, 569.4190380829893, 590.8816898832807, 671.1369756259646, 391.40102916721696, 561.9770758791343, 393.9809146049301, 568.039748078522, 761.7213989566069, 710.1164933245146, 457.47723821146707, 340.674003155935, 473.60705932992283, 441.7401211475939, 4549.7072745376345, 3332.7109935648587, 2154.4990777429794, 2575.0319525686, 754.7879603296122, 543.599262549377, 513.3590419154953, 2966.7168399869483, 887.7911721149991, 1401.473125107057, 1123.4292817844778, 971.6527073374698, 1726.327358683582, 2264.8929351939237, 1618.989998509859, 1388.073989122228, 1450.079387433316, 1309.3115813162647, 2078.017131783176, 1975.0272437159174, 2221.8982291435755, 2035.2808438576785, 1374.90426059193, 4623.041339608709, 1375.5983966690883, 2136.7699876333795, 2023.2996601744933, 1194.1655529078912, 1151.3664457232007, 1168.9620867493284, 809.2787844779726, 844.3391984194121, 676.7333110967305, 574.9740039588147, 529.3168483321368, 421.8148816344999, 269.000841051819, 253.36720888177405, 237.9491072719155, 266.3255967695376, 393.2925417819327, 205.24388674470913, 214.06826670754586, 304.84718231351985, 205.11489290582043, 177.44615414554417, 120.56493682021329, 553.7097752395398, 103.8526548253256, 98.247008644645, 105.6583765962195, 112.98473122949038, 96.06646781025721, 112.17779828745704, 453.8474144640046, 80.01855672355471, 99.16407866899404, 82.61787237124112, 76.40225810881017, 93.90531011152575, 554.95688494913, 137.85095343783368, 236.86389938296412, 126.65650520713874, 133.9360059092991, 105.62269428706556, 104.01296512332425, 395.311707174765, 2573.579649066188, 1050.1574328636686, 890.4511951156387, 257.0838910840551, 492.674671438018, 352.91730919969405, 166.49107835116243, 389.06293103008494, 330.6022048930904, 236.11250253056852, 239.06079512510541, 232.93839950198276, 221.5680415743376, 216.68101431089957], \"Total\": [7196.0, 3073.0, 3027.0, 845.0, 810.0, 678.0, 576.0, 565.0, 558.0, 1576.0, 530.0, 458.0, 423.0, 496.0, 395.0, 4564.0, 1214.0, 306.0, 2726.0, 493.0, 2610.0, 270.0, 267.0, 2344.0, 254.0, 238.0, 244.0, 2365.0, 215.0, 3356.0, 1473.133321288223, 1448.0963422672871, 2344.138474125383, 2726.9867114510653, 1063.713595297065, 930.3640424272324, 1265.1151023603654, 736.8295781031643, 958.9631668793488, 1059.9477196498217, 743.0072588641609, 647.712831886997, 893.119521267961, 856.6405256374867, 597.6643198987409, 709.8363385355422, 431.3008127167086, 569.9104976714016, 591.4257275334325, 671.7773227476044, 391.7753543148964, 562.5458115938906, 394.38176013869764, 568.6533000857994, 762.5638187508551, 710.9223283694397, 458.0021679622313, 341.0681809471581, 474.1986529112309, 442.3024717582804, 4564.968741214035, 3356.615374111469, 2163.0559286330667, 2598.748172719183, 757.2820109978512, 544.6625537162902, 514.1769686330229, 3056.3392635906994, 896.4525556983384, 1435.892427903099, 1156.0103666420998, 997.9456274132416, 1832.5878386387774, 2447.7945812421103, 1716.017355854978, 1461.6658969198065, 1536.4092417512588, 1383.746766983406, 2310.955531285159, 2214.088038841023, 2610.9611601736606, 2365.883048750769, 1550.0117805899329, 7196.620988674897, 1574.335259498146, 3027.221182749018, 3073.457093038162, 1410.8465672187908, 1324.451245721385, 1405.0745892798968, 810.1935581223795, 845.3976327419767, 678.0224959684864, 576.4399716221543, 530.8541290262721, 423.2984300430022, 270.00850539375125, 254.32848459089124, 238.95978970859878, 267.6078860499103, 395.3467411028236, 206.33567244170615, 215.26946950811578, 306.66689360778565, 206.360191729141, 178.76048439499598, 121.51235575002137, 558.5026138741658, 104.76443952294683, 99.1629421056643, 106.69219946643592, 114.10607623234331, 97.0510424960465, 113.37411556213125, 458.729522365762, 80.89931060616537, 100.2690303112789, 83.5695186822306, 77.41714449933818, 95.24929435685941, 565.1848295183353, 140.22564221142454, 244.16200292042538, 129.03417175866872, 138.45315033825267, 107.39903537016049, 105.85888648601497, 496.40504359100544, 7196.620988674897, 3073.457093038162, 3027.221182749018, 493.4268763576855, 1576.893800694901, 1214.4972848907623, 256.38386916970546, 2610.9611601736606, 2365.883048750769, 1405.0745892798968, 2214.088038841023, 2310.955531285159, 1194.734324846006, 1410.8465672187908], \"Category\": [\"Default\", \"Default\", \"Default\", \"Default\", \"Default\", \"Default\", \"Default\", \"Default\", \"Default\", \"Default\", \"Default\", \"Default\", \"Default\", \"Default\", \"Default\", \"Default\", \"Default\", \"Default\", \"Default\", \"Default\", \"Default\", \"Default\", \"Default\", \"Default\", \"Default\", \"Default\", \"Default\", \"Default\", \"Default\", \"Default\", \"Topic1\", \"Topic1\", \"Topic1\", \"Topic1\", \"Topic1\", \"Topic1\", \"Topic1\", \"Topic1\", \"Topic1\", \"Topic1\", \"Topic1\", \"Topic1\", \"Topic1\", \"Topic1\", \"Topic1\", \"Topic1\", \"Topic1\", \"Topic1\", \"Topic1\", \"Topic1\", \"Topic1\", \"Topic1\", \"Topic1\", \"Topic1\", \"Topic1\", \"Topic1\", \"Topic1\", \"Topic1\", \"Topic1\", \"Topic1\", \"Topic1\", \"Topic1\", \"Topic1\", \"Topic1\", \"Topic1\", \"Topic1\", \"Topic1\", \"Topic1\", \"Topic1\", \"Topic1\", \"Topic1\", \"Topic1\", \"Topic1\", \"Topic1\", \"Topic1\", \"Topic1\", \"Topic1\", \"Topic1\", \"Topic1\", \"Topic1\", \"Topic1\", \"Topic1\", \"Topic1\", \"Topic1\", \"Topic1\", \"Topic1\", \"Topic1\", \"Topic1\", \"Topic1\", \"Topic1\", \"Topic2\", \"Topic2\", \"Topic2\", \"Topic2\", \"Topic2\", \"Topic2\", \"Topic2\", \"Topic2\", \"Topic2\", \"Topic2\", \"Topic2\", \"Topic2\", \"Topic2\", \"Topic2\", \"Topic2\", \"Topic2\", \"Topic2\", \"Topic2\", \"Topic2\", \"Topic2\", \"Topic2\", \"Topic2\", \"Topic2\", \"Topic2\", \"Topic2\", \"Topic2\", \"Topic2\", \"Topic2\", \"Topic2\", \"Topic2\", \"Topic2\", \"Topic2\", \"Topic2\", \"Topic2\", \"Topic2\", \"Topic2\", \"Topic2\", \"Topic2\", \"Topic2\", \"Topic2\", \"Topic2\", \"Topic2\", \"Topic2\", \"Topic2\", \"Topic2\", \"Topic2\", \"Topic2\", \"Topic2\", \"Topic2\", \"Topic2\", \"Topic2\", \"Topic2\"], \"logprob\": [30.0, 29.0, 28.0, 27.0, 26.0, 25.0, 24.0, 23.0, 22.0, 21.0, 20.0, 19.0, 18.0, 17.0, 16.0, 15.0, 14.0, 13.0, 12.0, 11.0, 10.0, 9.0, 8.0, 7.0, 6.0, 5.0, 4.0, 3.0, 2.0, 1.0, -5.0919, -5.1091, -4.6275, -4.4762, -5.4177, -5.5516, -5.2443, -5.7849, -5.5214, -5.4214, -5.7767, -5.9139, -5.5927, -5.6344, -5.9945, -5.8225, -6.3208, -6.0422, -6.0052, -5.8778, -6.4171, -6.0553, -6.4105, -6.0446, -5.7512, -5.8214, -6.2611, -6.5559, -6.2264, -6.2961, -3.964, -4.2752, -4.7115, -4.5332, -5.7604, -6.0886, -6.1458, -4.3916, -5.5981, -5.1415, -5.3626, -5.5078, -4.933, -4.6615, -4.9972, -5.1511, -5.1074, -5.2095, -4.7476, -4.7985, -4.6807, -4.7684, -5.1607, -3.948, -5.1601, -4.7197, -4.7743, -5.3016, -5.3381, -5.3229, -4.1856, -4.1432, -4.3644, -4.5274, -4.6101, -4.8372, -5.287, -5.3469, -5.4097, -5.297, -4.9072, -5.5575, -5.5154, -5.1619, -5.5581, -5.703, -6.0895, -4.5651, -6.2387, -6.2942, -6.2215, -6.1545, -6.3167, -6.1616, -4.764, -6.4995, -6.2849, -6.4675, -6.5457, -6.3394, -4.5628, -5.9555, -5.4142, -6.0402, -5.9844, -6.2218, -6.2372, -4.902, -3.0287, -3.925, -4.09, -5.3323, -4.6819, -5.0155, -5.7668, -4.918, -5.0808, -5.4174, -5.405, -5.4309, -5.481, -5.5033], \"loglift\": [30.0, 29.0, 28.0, 27.0, 26.0, 25.0, 24.0, 23.0, 22.0, 21.0, 20.0, 19.0, 18.0, 17.0, 16.0, 15.0, 14.0, 13.0, 12.0, 11.0, 10.0, 9.0, 8.0, 7.0, 6.0, 5.0, 4.0, 3.0, 2.0, 1.0, 0.2002, 0.2001, 0.2001, 0.2001, 0.2001, 0.2001, 0.2, 0.2, 0.2, 0.1999, 0.1999, 0.1999, 0.1999, 0.1998, 0.1998, 0.1998, 0.1996, 0.1996, 0.1996, 0.1995, 0.1995, 0.1995, 0.1995, 0.1994, 0.1994, 0.1994, 0.1993, 0.1993, 0.1992, 0.1992, 0.1971, 0.1933, 0.1965, 0.1913, 0.1972, 0.1985, 0.1989, 0.1707, 0.1908, 0.1762, 0.1719, 0.1738, 0.1408, 0.1228, 0.1423, 0.1488, 0.1427, 0.1452, 0.0942, 0.0862, 0.0391, 0.05, 0.0806, -0.2421, 0.0655, -0.1479, -0.2176, 0.0337, 0.0604, 0.0165, 1.7044, 1.7043, 1.7037, 1.703, 1.7027, 1.7021, 1.7018, 1.7018, 1.7013, 1.7008, 1.7004, 1.7003, 1.7, 1.6996, 1.6995, 1.6982, 1.6977, 1.6969, 1.6968, 1.6963, 1.6958, 1.6957, 1.6954, 1.695, 1.6949, 1.6946, 1.6945, 1.6941, 1.6924, 1.6914, 1.6873, 1.6885, 1.6752, 1.687, 1.6724, 1.6889, 1.688, 1.4778, 0.6772, 0.6317, 0.4819, 1.0536, 0.5422, 0.4697, 1.2738, -0.1982, -0.2624, -0.078, -0.5203, -0.5891, 0.0206, -0.168]}, \"token.table\": {\"Topic\": [1, 2, 1, 2, 1, 2, 1, 1, 2, 1, 2, 1, 2, 1, 2, 1, 2, 1, 2, 1, 2, 1, 2, 1, 2, 1, 2, 1, 2, 1, 2, 1, 2, 1, 2, 1, 2, 1, 2, 1, 2, 1, 2, 1, 2, 1, 2, 1, 2, 1, 2, 1, 2, 1, 2, 1, 1, 2, 1, 2, 1, 2, 1, 2, 1, 2, 1, 2, 1, 2, 1, 2, 1, 1, 2, 1, 2, 1, 2, 1, 2, 1, 2, 1, 2, 1, 2, 1, 2, 1, 1, 2, 1, 1, 2, 1, 2, 1, 2, 1, 2, 1, 2, 1, 1, 1, 2, 1, 2, 1, 2, 1, 2, 1, 1, 2, 1, 2, 1, 2, 1, 1, 2, 1, 2, 1, 2, 1, 2, 1, 2, 1, 2, 1, 2, 1, 2, 1, 2, 1, 1, 1, 2, 1, 2, 1, 2, 1, 2, 1, 2, 1, 2, 1, 2, 1, 2, 1, 2, 1, 1, 2, 1, 2, 1, 2, 1, 2, 1, 2, 1, 2, 1, 2, 1, 2, 1, 2, 1, 2, 1, 2, 1, 2, 1, 2, 1, 1, 2, 1, 2, 1], \"Freq\": [0.00147487731741349, 0.9984919438889327, 0.3510361252112443, 0.6474666309451839, 0.01769332699273307, 0.9819796480966854, 0.9988884732171172, 0.8319843009893977, 0.16796261337339422, 0.9993161427358116, 0.0022608962505335103, 0.9756998315298215, 0.02367865401285791, 0.9987835519226179, 0.0018359991763283417, 0.0011828753254921986, 0.9983467747154157, 0.010084412369839105, 0.9882724122442322, 0.01236104476672499, 0.9888835813379993, 0.9434636511548331, 0.05652623481285905, 0.01049876544232881, 0.9868839515789081, 0.014262726620174858, 0.9841281367920651, 0.012917035450830259, 0.9816946942630996, 0.00954522359450954, 0.9927032538289923, 0.018893076116611337, 0.9824399580637895, 0.00937275644331044, 0.9935121829909066, 0.9988217868117775, 0.0014087754397909414, 0.9999090182702344, 0.0007904419116760746, 0.006521734304185824, 0.9945644813883381, 0.015499770120899287, 0.9842354026771047, 0.008229615777157905, 0.9957835090361066, 0.004645340569124687, 0.994102881792683, 0.8870900319716772, 0.1129023677054862, 0.00997316915198604, 0.987343746046618, 0.9998661755060607, 0.001119670969211714, 0.002362399501218116, 0.996932589514045, 0.9993291471499284, 0.6423848091034771, 0.35766785607448626, 0.8601439538926147, 0.1399054784955555, 0.010303856344878895, 0.9891702091083738, 0.7097586884087044, 0.29065524014880817, 0.9707691928527135, 0.029446992705340146, 0.8920151165415379, 0.10794512043211521, 0.9995810766015227, 0.0021088208367120733, 0.9992801673758631, 0.0016908293864227803, 0.9998000958430987, 0.0037035870353110097, 0.9962649124986617, 0.9988511451780886, 0.001758540748552973, 0.9929645278116739, 0.007150059606204673, 0.9908616875738544, 0.009235215728843692, 0.990571106474504, 0.010039572025079432, 0.018622141186900042, 0.9869734829057022, 0.9969865770416965, 0.002641024045143567, 0.9987026313105749, 0.0014066234243810913, 0.9999902304263191, 0.7059279355528926, 0.2939989998325102, 0.9993025454442949, 0.0012342729585723888, 0.9985268234850625, 0.8144070022642178, 0.18581536947857796, 0.9459823366768507, 0.05347799305888996, 0.9740009608734949, 0.026053523644764265, 0.4782876882225674, 0.5208471859033891, 0.9999094981517991, 0.9989956163984033, 0.0048458958659650525, 0.9934086525228357, 0.003931922928761142, 0.9947765009765689, 0.8510275962328793, 0.14898727944851037, 0.0017347860128191829, 0.9975019573710302, 0.9990320035628337, 0.9967209542797321, 0.0032858932558672486, 0.010899669099590488, 0.9896899542428164, 0.004184804486225307, 0.9959834677216229, 0.998402384804067, 0.8740196801783061, 0.1264025554909033, 0.9990297472976573, 0.0017776330023089987, 0.6582164444665248, 0.3416348327680924, 0.0037675133160752334, 0.9965072721018992, 0.01196608543124983, 0.9931850907937358, 0.9995143315388791, 0.0004265959588300807, 0.008952509577916733, 0.991938061233174, 0.028669489585901552, 0.9706670045512383, 0.036113298886912865, 0.9678364101692648, 0.9988741248616811, 0.9980209211570946, 0.9437589677260948, 0.055974669809961485, 0.004846471713622469, 0.9935267012926061, 0.005058850351013342, 0.9940640939741217, 0.9714445755897622, 0.02854645680717912, 0.20346288037156854, 0.7957211658095997, 0.9992606274557077, 0.0013113656528290125, 0.008763775190760178, 0.9903065965559001, 0.9977109658642395, 0.001944855683945886, 0.9496014122823526, 0.050627164631768085, 0.9996087096978913, 0.9991058807597276, 0.0009434427580356258, 0.9992522818868392, 0.0011673507965967748, 0.9253227445460914, 0.07476117538716764, 0.9958133636244951, 0.004160780070854436, 0.999638167855046, 0.0003667051239380213, 0.0037368106551743945, 0.9939916342763889, 0.9418375281165516, 0.05784170219024013, 0.9978118707020751, 0.002183395778341521, 0.005594077479619947, 0.9901517138927306, 0.6874273965198582, 0.31263995063126393, 0.00882035546687004, 0.9878798122894444, 0.9988428862938911, 0.001488588504163772, 0.8991951475779334, 0.10082409498828608, 0.9988994630769931, 0.8463003899522104, 0.15380836232799802, 0.8690391614778452, 0.1306201346096153, 0.9999334697115965], \"Term\": [\"account\", \"account\", \"add\", \"add\", \"adopt\", \"adopt\", \"age\", \"also\", \"also\", \"away\", \"away\", \"bad\", \"bad\", \"bit\", \"bit\", \"buy\", \"buy\", \"card\", \"card\", \"cash\", \"cash\", \"child\", \"child\", \"click\", \"click\", \"code\", \"code\", \"copy\", \"copy\", \"cost\", \"cost\", \"creator\", \"creator\", \"currency\", \"currency\", \"daughter\", \"daughter\", \"day\", \"day\", \"developer\", \"developer\", \"donate\", \"donate\", \"earn\", \"earn\", \"email\", \"email\", \"even\", \"even\", \"exploit\", \"exploit\", \"feel\", \"feel\", \"free\", \"free\", \"friend\", \"game\", \"game\", \"get\", \"get\", \"gift\", \"gift\", \"give\", \"give\", \"go\", \"go\", \"good\", \"good\", \"hear\", \"hear\", \"hour\", \"hour\", \"internet\", \"item\", \"item\", \"keep\", \"keep\", \"kid\", \"kid\", \"know\", \"know\", \"let\", \"let\", \"link\", \"link\", \"lol\", \"lol\", \"long\", \"long\", \"love\", \"make\", \"make\", \"mom\", \"money\", \"money\", \"much\", \"much\", \"need\", \"need\", \"never\", \"never\", \"new\", \"new\", \"old\", \"parent\", \"password\", \"password\", \"pay\", \"pay\", \"people\", \"people\", \"pet\", \"pet\", \"phone\", \"play\", \"play\", \"player\", \"player\", \"purchase\", \"purchase\", \"read\", \"really\", \"really\", \"right\", \"right\", \"roblox\", \"roblox\", \"robux\", \"robux\", \"save\", \"save\", \"say\", \"say\", \"scam\", \"scam\", \"scamme\", \"scamme\", \"scammer\", \"scammer\", \"school\", \"screen\", \"see\", \"see\", \"sell\", \"sell\", \"simulator\", \"simulator\", \"son\", \"son\", \"spend\", \"spend\", \"start\", \"start\", \"steal\", \"steal\", \"stop\", \"stop\", \"take\", \"take\", \"talk\", \"tell\", \"tell\", \"thank\", \"thank\", \"thing\", \"thing\", \"think\", \"think\", \"time\", \"time\", \"trade\", \"trade\", \"try\", \"try\", \"turn\", \"turn\", \"update\", \"update\", \"use\", \"use\", \"user\", \"user\", \"video\", \"video\", \"want\", \"want\", \"watch\", \"way\", \"way\", \"well\", \"well\", \"year\"]}, \"R\": 30, \"lambda.step\": 0.01, \"plot.opts\": {\"xlab\": \"PC1\", \"ylab\": \"PC2\"}, \"topic.order\": [2, 1]};\n",
              "\n",
              "function LDAvis_load_lib(url, callback){\n",
              "  var s = document.createElement('script');\n",
              "  s.src = url;\n",
              "  s.async = true;\n",
              "  s.onreadystatechange = s.onload = callback;\n",
              "  s.onerror = function(){console.warn(\"failed to load library \" + url);};\n",
              "  document.getElementsByTagName(\"head\")[0].appendChild(s);\n",
              "}\n",
              "\n",
              "if(typeof(LDAvis) !== \"undefined\"){\n",
              "   // already loaded: just create the visualization\n",
              "   !function(LDAvis){\n",
              "       new LDAvis(\"#\" + \"ldavis_el445135963397611792139721400\", ldavis_el445135963397611792139721400_data);\n",
              "   }(LDAvis);\n",
              "}else if(typeof define === \"function\" && define.amd){\n",
              "   // require.js is available: use it to load d3/LDAvis\n",
              "   require.config({paths: {d3: \"https://d3js.org/d3.v5\"}});\n",
              "   require([\"d3\"], function(d3){\n",
              "      window.d3 = d3;\n",
              "      LDAvis_load_lib(\"https://cdn.jsdelivr.net/gh/bmabey/pyLDAvis@3.4.0/pyLDAvis/js/ldavis.v3.0.0.js\", function(){\n",
              "        new LDAvis(\"#\" + \"ldavis_el445135963397611792139721400\", ldavis_el445135963397611792139721400_data);\n",
              "      });\n",
              "    });\n",
              "}else{\n",
              "    // require.js not available: dynamically load d3 & LDAvis\n",
              "    LDAvis_load_lib(\"https://d3js.org/d3.v5.js\", function(){\n",
              "         LDAvis_load_lib(\"https://cdn.jsdelivr.net/gh/bmabey/pyLDAvis@3.4.0/pyLDAvis/js/ldavis.v3.0.0.js\", function(){\n",
              "                 new LDAvis(\"#\" + \"ldavis_el445135963397611792139721400\", ldavis_el445135963397611792139721400_data);\n",
              "            })\n",
              "         });\n",
              "}\n",
              "</script>"
            ]
          },
          "metadata": {},
          "execution_count": 43
        }
      ],
      "source": [
        "pyLDAvis.enable_notebook()\n",
        "vis = pyLDAvis.gensim.prepare(lda_model_tuned, corpus, id2word, mds='mmds', R=30)\n",
        "vis"
      ]
    },
    {
      "cell_type": "code",
      "execution_count": null,
      "metadata": {
        "id": "zpu6N5jXCn5E",
        "colab": {
          "base_uri": "https://localhost:8080/"
        },
        "outputId": "c942f103-9f51-4d20-9ace-725a529b1a9f"
      },
      "outputs": [
        {
          "output_type": "stream",
          "name": "stdout",
          "text": [
            "<gensim.interfaces.TransformedCorpus object at 0x7ba8733b0e20>\n"
          ]
        }
      ],
      "source": [
        "# Get the topic distribution for each document\n",
        "document_topics = lda_model.get_document_topics(corpus)\n",
        "print(document_topics)\n"
      ]
    },
    {
      "cell_type": "code",
      "source": [
        "# Filter reviews that have topic 1 as their main topic\n",
        "reviews_in_topic_1 = [idx for idx, topics in enumerate(document_topics) if max(topics, key=lambda x: x[1])[0] == 1]\n",
        "\n",
        "# Get the number of reviews in topic 1\n",
        "num_reviews_in_topic_1 = len(reviews_in_topic_1)\n",
        "\n",
        "print(f'There are {num_reviews_in_topic_1} reviews in topic 1.')\n"
      ],
      "metadata": {
        "colab": {
          "base_uri": "https://localhost:8080/"
        },
        "id": "v5N3GXaBxAA4",
        "outputId": "84e2dfb5-15b0-49f3-bfe5-e6648c0f33b8"
      },
      "execution_count": null,
      "outputs": [
        {
          "output_type": "stream",
          "name": "stdout",
          "text": [
            "There are 120 reviews in topic 1.\n"
          ]
        }
      ]
    },
    {
      "cell_type": "code",
      "source": [
        "#import pandas as pd\n",
        "#reviews_in_topic_1 = [idx for idx, topics in enumerate(document_topics) if max(topics, key=lambda x: x[1])[0] == 1]\n",
        "\n",
        "#mixture = [dict(lda_model[x]) for x in corpus]\n",
        "pd.DataFrame(reviews_in_topic_1).to_csv(\"topic_mixture.csv\")"
      ],
      "metadata": {
        "id": "iuEUe7FVyOHU"
      },
      "execution_count": null,
      "outputs": []
    },
    {
      "cell_type": "code",
      "execution_count": null,
      "metadata": {
        "id": "LxHTjwof7aoX",
        "colab": {
          "base_uri": "https://localhost:8080/"
        },
        "outputId": "bc423e1d-8296-4fd0-9666-40bfc76dae51"
      },
      "outputs": [
        {
          "output_type": "stream",
          "name": "stdout",
          "text": [
            "[(4, 0.99987066)]\n"
          ]
        }
      ],
      "source": [
        "print(max(document_topics))"
      ]
    },
    {
      "cell_type": "code",
      "execution_count": null,
      "metadata": {
        "id": "GX5bodOS7dlM",
        "colab": {
          "base_uri": "https://localhost:8080/"
        },
        "outputId": "c5e80cb5-3152-4018-97b4-b3aef15a3cef"
      },
      "outputs": [
        {
          "output_type": "stream",
          "name": "stdout",
          "text": [
            "There are 0 reviews in topic 5.\n"
          ]
        }
      ],
      "source": [
        "# Filter reviews that have topic 5 as their main topic\n",
        "reviews_in_topic_5 = [idx for idx, topics in enumerate(document_topics) if max(topics, key=lambda x: x[1])[0] == 5]\n",
        "\n",
        "# Get the number of reviews in topic 5\n",
        "num_reviews_in_topic_5 = len(reviews_in_topic_5)\n",
        "\n",
        "print(f'There are {num_reviews_in_topic_5} reviews in topic 5.')"
      ]
    },
    {
      "cell_type": "code",
      "source": [
        "datax= load_data('cumulative5.csv')\n",
        "filtered_data = datax.drop(columns=['subreddit','date','timestamp'], axis=1)\n",
        "datax= filtered_data.replace('\\n', ' ', regex=True)\n",
        "import re\n",
        "\n",
        "datax= datax.loc[datax.text.str.contains('I am a bot') == False, :]\n",
        "\n",
        "# Remove punctuation\n",
        "# data['text'] = data['text'].map(lambda x: re.sub(\"[,\\.!?/@#$^&*-_=+()%]\", \"\", x))\n",
        "datax['text'] = datax['text'].replace(r'http\\S+', '', regex=True)\n",
        "\n",
        "#data['text'] = data['text'].replace(r'a'+ u'\\u0301'+ 'U+20AC'+ 'U+2122', \"'\" , regex=True)\n",
        "\n",
        "datax['text'] = datax['text'].map(lambda x: re.sub('[%$:,\\.!?/-]', ' ', x))\n",
        "datax['text'] = datax['text'].map(lambda x: re.sub('\\(', ' ', x))\n",
        "datax['text'] = datax['text'].map(lambda x: re.sub('\\)', ' ', x))\n",
        "datax['text'] = datax['text'].replace(r'&\\S+', '', regex=True)\n",
        "datax['text'] = datax['text'].replace('\\\"', '', regex=True)\n",
        "\n",
        "# # Convert the titles to lowercase\n",
        "datax['text'] = datax['text'].map(lambda x: x.lower())\n",
        "\n",
        "pattern = r'[0-9]'\n",
        "datax['text'] = datax['text'].map(lambda x: re.sub(pattern, ' ', x))\n",
        "datax['text'] = datax['text'].map(lambda x: re.sub(' +', ' ', x))\n",
        "\n",
        "datax.shape"
      ],
      "metadata": {
        "colab": {
          "base_uri": "https://localhost:8080/"
        },
        "id": "WpkIGfMHAZSr",
        "outputId": "376bd1fa-f554-4bd3-aa1a-56d287732465"
      },
      "execution_count": null,
      "outputs": [
        {
          "output_type": "execute_result",
          "data": {
            "text/plain": [
              "(12075, 1)"
            ]
          },
          "metadata": {},
          "execution_count": 5
        }
      ]
    },
    {
      "cell_type": "code",
      "source": [
        "datax.head(5)"
      ],
      "metadata": {
        "colab": {
          "base_uri": "https://localhost:8080/",
          "height": 206
        },
        "id": "RG-HinbLDp9k",
        "outputId": "8a1e6d70-a768-44e4-d329-1b34df526340"
      },
      "execution_count": null,
      "outputs": [
        {
          "output_type": "execute_result",
          "data": {
            "text/plain": [
              "                                                text\n",
              "0  live chat hi does anyone know if i can access ...\n",
              "1  forgot pin i created my parental pin almost ye...\n",
              "2  roblox rant this game…honestly either not enou...\n",
              "3         you're not alone that's all i have to say \n",
              "4     i even contacted support and they were useless"
            ],
            "text/html": [
              "\n",
              "  <div id=\"df-a84bef32-0ad4-4fac-a6b6-0e44ec070eae\" class=\"colab-df-container\">\n",
              "    <div>\n",
              "<style scoped>\n",
              "    .dataframe tbody tr th:only-of-type {\n",
              "        vertical-align: middle;\n",
              "    }\n",
              "\n",
              "    .dataframe tbody tr th {\n",
              "        vertical-align: top;\n",
              "    }\n",
              "\n",
              "    .dataframe thead th {\n",
              "        text-align: right;\n",
              "    }\n",
              "</style>\n",
              "<table border=\"1\" class=\"dataframe\">\n",
              "  <thead>\n",
              "    <tr style=\"text-align: right;\">\n",
              "      <th></th>\n",
              "      <th>text</th>\n",
              "    </tr>\n",
              "  </thead>\n",
              "  <tbody>\n",
              "    <tr>\n",
              "      <th>0</th>\n",
              "      <td>live chat hi does anyone know if i can access ...</td>\n",
              "    </tr>\n",
              "    <tr>\n",
              "      <th>1</th>\n",
              "      <td>forgot pin i created my parental pin almost ye...</td>\n",
              "    </tr>\n",
              "    <tr>\n",
              "      <th>2</th>\n",
              "      <td>roblox rant this game…honestly either not enou...</td>\n",
              "    </tr>\n",
              "    <tr>\n",
              "      <th>3</th>\n",
              "      <td>you're not alone that's all i have to say</td>\n",
              "    </tr>\n",
              "    <tr>\n",
              "      <th>4</th>\n",
              "      <td>i even contacted support and they were useless</td>\n",
              "    </tr>\n",
              "  </tbody>\n",
              "</table>\n",
              "</div>\n",
              "    <div class=\"colab-df-buttons\">\n",
              "\n",
              "  <div class=\"colab-df-container\">\n",
              "    <button class=\"colab-df-convert\" onclick=\"convertToInteractive('df-a84bef32-0ad4-4fac-a6b6-0e44ec070eae')\"\n",
              "            title=\"Convert this dataframe to an interactive table.\"\n",
              "            style=\"display:none;\">\n",
              "\n",
              "  <svg xmlns=\"http://www.w3.org/2000/svg\" height=\"24px\" viewBox=\"0 -960 960 960\">\n",
              "    <path d=\"M120-120v-720h720v720H120Zm60-500h600v-160H180v160Zm220 220h160v-160H400v160Zm0 220h160v-160H400v160ZM180-400h160v-160H180v160Zm440 0h160v-160H620v160ZM180-180h160v-160H180v160Zm440 0h160v-160H620v160Z\"/>\n",
              "  </svg>\n",
              "    </button>\n",
              "\n",
              "  <style>\n",
              "    .colab-df-container {\n",
              "      display:flex;\n",
              "      gap: 12px;\n",
              "    }\n",
              "\n",
              "    .colab-df-convert {\n",
              "      background-color: #E8F0FE;\n",
              "      border: none;\n",
              "      border-radius: 50%;\n",
              "      cursor: pointer;\n",
              "      display: none;\n",
              "      fill: #1967D2;\n",
              "      height: 32px;\n",
              "      padding: 0 0 0 0;\n",
              "      width: 32px;\n",
              "    }\n",
              "\n",
              "    .colab-df-convert:hover {\n",
              "      background-color: #E2EBFA;\n",
              "      box-shadow: 0px 1px 2px rgba(60, 64, 67, 0.3), 0px 1px 3px 1px rgba(60, 64, 67, 0.15);\n",
              "      fill: #174EA6;\n",
              "    }\n",
              "\n",
              "    .colab-df-buttons div {\n",
              "      margin-bottom: 4px;\n",
              "    }\n",
              "\n",
              "    [theme=dark] .colab-df-convert {\n",
              "      background-color: #3B4455;\n",
              "      fill: #D2E3FC;\n",
              "    }\n",
              "\n",
              "    [theme=dark] .colab-df-convert:hover {\n",
              "      background-color: #434B5C;\n",
              "      box-shadow: 0px 1px 3px 1px rgba(0, 0, 0, 0.15);\n",
              "      filter: drop-shadow(0px 1px 2px rgba(0, 0, 0, 0.3));\n",
              "      fill: #FFFFFF;\n",
              "    }\n",
              "  </style>\n",
              "\n",
              "    <script>\n",
              "      const buttonEl =\n",
              "        document.querySelector('#df-a84bef32-0ad4-4fac-a6b6-0e44ec070eae button.colab-df-convert');\n",
              "      buttonEl.style.display =\n",
              "        google.colab.kernel.accessAllowed ? 'block' : 'none';\n",
              "\n",
              "      async function convertToInteractive(key) {\n",
              "        const element = document.querySelector('#df-a84bef32-0ad4-4fac-a6b6-0e44ec070eae');\n",
              "        const dataTable =\n",
              "          await google.colab.kernel.invokeFunction('convertToInteractive',\n",
              "                                                    [key], {});\n",
              "        if (!dataTable) return;\n",
              "\n",
              "        const docLinkHtml = 'Like what you see? Visit the ' +\n",
              "          '<a target=\"_blank\" href=https://colab.research.google.com/notebooks/data_table.ipynb>data table notebook</a>'\n",
              "          + ' to learn more about interactive tables.';\n",
              "        element.innerHTML = '';\n",
              "        dataTable['output_type'] = 'display_data';\n",
              "        await google.colab.output.renderOutput(dataTable, element);\n",
              "        const docLink = document.createElement('div');\n",
              "        docLink.innerHTML = docLinkHtml;\n",
              "        element.appendChild(docLink);\n",
              "      }\n",
              "    </script>\n",
              "  </div>\n",
              "\n",
              "\n",
              "<div id=\"df-45455eb4-d9fc-4c2d-b44f-5ccacd39174d\">\n",
              "  <button class=\"colab-df-quickchart\" onclick=\"quickchart('df-45455eb4-d9fc-4c2d-b44f-5ccacd39174d')\"\n",
              "            title=\"Suggest charts\"\n",
              "            style=\"display:none;\">\n",
              "\n",
              "<svg xmlns=\"http://www.w3.org/2000/svg\" height=\"24px\"viewBox=\"0 0 24 24\"\n",
              "     width=\"24px\">\n",
              "    <g>\n",
              "        <path d=\"M19 3H5c-1.1 0-2 .9-2 2v14c0 1.1.9 2 2 2h14c1.1 0 2-.9 2-2V5c0-1.1-.9-2-2-2zM9 17H7v-7h2v7zm4 0h-2V7h2v10zm4 0h-2v-4h2v4z\"/>\n",
              "    </g>\n",
              "</svg>\n",
              "  </button>\n",
              "\n",
              "<style>\n",
              "  .colab-df-quickchart {\n",
              "      --bg-color: #E8F0FE;\n",
              "      --fill-color: #1967D2;\n",
              "      --hover-bg-color: #E2EBFA;\n",
              "      --hover-fill-color: #174EA6;\n",
              "      --disabled-fill-color: #AAA;\n",
              "      --disabled-bg-color: #DDD;\n",
              "  }\n",
              "\n",
              "  [theme=dark] .colab-df-quickchart {\n",
              "      --bg-color: #3B4455;\n",
              "      --fill-color: #D2E3FC;\n",
              "      --hover-bg-color: #434B5C;\n",
              "      --hover-fill-color: #FFFFFF;\n",
              "      --disabled-bg-color: #3B4455;\n",
              "      --disabled-fill-color: #666;\n",
              "  }\n",
              "\n",
              "  .colab-df-quickchart {\n",
              "    background-color: var(--bg-color);\n",
              "    border: none;\n",
              "    border-radius: 50%;\n",
              "    cursor: pointer;\n",
              "    display: none;\n",
              "    fill: var(--fill-color);\n",
              "    height: 32px;\n",
              "    padding: 0;\n",
              "    width: 32px;\n",
              "  }\n",
              "\n",
              "  .colab-df-quickchart:hover {\n",
              "    background-color: var(--hover-bg-color);\n",
              "    box-shadow: 0 1px 2px rgba(60, 64, 67, 0.3), 0 1px 3px 1px rgba(60, 64, 67, 0.15);\n",
              "    fill: var(--button-hover-fill-color);\n",
              "  }\n",
              "\n",
              "  .colab-df-quickchart-complete:disabled,\n",
              "  .colab-df-quickchart-complete:disabled:hover {\n",
              "    background-color: var(--disabled-bg-color);\n",
              "    fill: var(--disabled-fill-color);\n",
              "    box-shadow: none;\n",
              "  }\n",
              "\n",
              "  .colab-df-spinner {\n",
              "    border: 2px solid var(--fill-color);\n",
              "    border-color: transparent;\n",
              "    border-bottom-color: var(--fill-color);\n",
              "    animation:\n",
              "      spin 1s steps(1) infinite;\n",
              "  }\n",
              "\n",
              "  @keyframes spin {\n",
              "    0% {\n",
              "      border-color: transparent;\n",
              "      border-bottom-color: var(--fill-color);\n",
              "      border-left-color: var(--fill-color);\n",
              "    }\n",
              "    20% {\n",
              "      border-color: transparent;\n",
              "      border-left-color: var(--fill-color);\n",
              "      border-top-color: var(--fill-color);\n",
              "    }\n",
              "    30% {\n",
              "      border-color: transparent;\n",
              "      border-left-color: var(--fill-color);\n",
              "      border-top-color: var(--fill-color);\n",
              "      border-right-color: var(--fill-color);\n",
              "    }\n",
              "    40% {\n",
              "      border-color: transparent;\n",
              "      border-right-color: var(--fill-color);\n",
              "      border-top-color: var(--fill-color);\n",
              "    }\n",
              "    60% {\n",
              "      border-color: transparent;\n",
              "      border-right-color: var(--fill-color);\n",
              "    }\n",
              "    80% {\n",
              "      border-color: transparent;\n",
              "      border-right-color: var(--fill-color);\n",
              "      border-bottom-color: var(--fill-color);\n",
              "    }\n",
              "    90% {\n",
              "      border-color: transparent;\n",
              "      border-bottom-color: var(--fill-color);\n",
              "    }\n",
              "  }\n",
              "</style>\n",
              "\n",
              "  <script>\n",
              "    async function quickchart(key) {\n",
              "      const quickchartButtonEl =\n",
              "        document.querySelector('#' + key + ' button');\n",
              "      quickchartButtonEl.disabled = true;  // To prevent multiple clicks.\n",
              "      quickchartButtonEl.classList.add('colab-df-spinner');\n",
              "      try {\n",
              "        const charts = await google.colab.kernel.invokeFunction(\n",
              "            'suggestCharts', [key], {});\n",
              "      } catch (error) {\n",
              "        console.error('Error during call to suggestCharts:', error);\n",
              "      }\n",
              "      quickchartButtonEl.classList.remove('colab-df-spinner');\n",
              "      quickchartButtonEl.classList.add('colab-df-quickchart-complete');\n",
              "    }\n",
              "    (() => {\n",
              "      let quickchartButtonEl =\n",
              "        document.querySelector('#df-45455eb4-d9fc-4c2d-b44f-5ccacd39174d button');\n",
              "      quickchartButtonEl.style.display =\n",
              "        google.colab.kernel.accessAllowed ? 'block' : 'none';\n",
              "    })();\n",
              "  </script>\n",
              "</div>\n",
              "    </div>\n",
              "  </div>\n"
            ]
          },
          "metadata": {},
          "execution_count": 6
        }
      ]
    },
    {
      "cell_type": "code",
      "source": [
        "datax['text'][3]\n",
        "type(datax['text'][3])\n",
        "\n",
        "resultx2 = []\n",
        "for d in datax['text']:\n",
        "  resultx2.append(d)\n",
        "\n",
        "#resultx2.head[5]"
      ],
      "metadata": {
        "id": "MYyTmM6VDpnN"
      },
      "execution_count": null,
      "outputs": []
    },
    {
      "cell_type": "code",
      "source": [],
      "metadata": {
        "id": "Qx-KjA4642T6"
      },
      "execution_count": null,
      "outputs": []
    },
    {
      "cell_type": "code",
      "execution_count": null,
      "metadata": {
        "id": "utX_jISo46a4"
      },
      "outputs": [],
      "source": [
        "# Get the comments without weird spaces\n",
        "\n",
        "\n",
        "i = 0\n",
        "# Print the reviews\n",
        "#filex=[\"\"]\n",
        "id=[\" \"]\n",
        "textx=[\" \"]\n",
        "comment=\"\"\n",
        "for i in datax['text']:\n",
        "    #i += 1\n",
        "    #print(idx)\n",
        "    #print(' '.join(data_words[ix]))\n",
        "    id.append(i)\n",
        "    textx.append(i)\n",
        "    # create a dictionary with the three lists\n",
        "dict = {'ID': id,'Text':textx}\n",
        "\n",
        "# create a Pandas DataFrame from the dictionary\n",
        "df = pd.DataFrame(dict)\n",
        "\n",
        "# write the DataFrame to a CSV file\n",
        "df.to_csv('Data.csv')\n",
        "\n",
        "#pd.DataFrame(filex).to_csv(\"topic_mixture1.csv\")\n",
        "#print(i)\n"
      ]
    },
    {
      "cell_type": "code",
      "execution_count": null,
      "metadata": {
        "id": "mB-ZLPV77gwA"
      },
      "outputs": [],
      "source": [
        "# Get the topic distribution for each document\n",
        "document_topics = lda_model.get_document_topics(corpus)\n",
        "\n",
        "# Filter reviews that have topic 1 as their main topic\n",
        "reviews_in_topic_1_tuned = [idx for idx, topics in enumerate(document_topics) if max(topics, key=lambda x: x[1])[0] == 1]\n",
        "\n",
        "i = 0\n",
        "# Print the reviews\n",
        "filex=[\"\"]\n",
        "id=[\" \"]\n",
        "textx=[\" \"]\n",
        "comment=\"\"\n",
        "for idx in reviews_in_topic_1:\n",
        "    i += 1\n",
        "    #print(idx)\n",
        "    #print(' '.join(data_words[idx]))\n",
        "    filex.append(data_words[idx])\n",
        "    id.append(idx)\n",
        "    textx.append(resultx2[idx])\n",
        "    # create a dictionary with the three lists\n",
        "dict = {'top words': filex, 'ID': id,'Text':textx}\n",
        "\n",
        "# create a Pandas DataFrame from the dictionary\n",
        "df = pd.DataFrame(dict)\n",
        "\n",
        "# write the DataFrame to a CSV file\n",
        "df.to_csv('EmployeeData.csv')\n",
        "\n",
        "#pd.DataFrame(filex).to_csv(\"topic_mixture1.csv\")\n",
        "#print(i)\n"
      ]
    },
    {
      "cell_type": "code",
      "source": [
        "# Get the topic distribution for each document\n",
        "document_topics_tuned = lda_model_tuned.get_document_topics(corpus)\n",
        "\n",
        "# Filter reviews that have topic 1 as their main topic\n",
        "reviews_in_topic_1_tuned = [idx for idx, topics in enumerate(document_topics) if max(topics, key=lambda x: x[1])[0] == 1]\n",
        "\n",
        "i = 0\n",
        "# Print the reviews\n",
        "for idx in reviews_in_topic_1_tuned:\n",
        "    i += 1\n",
        "    print(' '.join(data_words[idx]))\n",
        "\n",
        "print(i)"
      ],
      "metadata": {
        "id": "vk8dxshCz8eX"
      },
      "execution_count": null,
      "outputs": []
    },
    {
      "cell_type": "code",
      "source": [
        "# Filter reviews that have topic 1 as their main topic\n",
        "reviews_in_topic_2_tuned = [idx for idx, topics in enumerate(document_topics) if max(topics, key=lambda x: x[1])[0] == 2]\n",
        "\n",
        "i = 0\n",
        "# Print the reviews\n",
        "filex=[\"\"]\n",
        "id=[\" \"]\n",
        "textx=[\" \"]\n",
        "comment=\"\"\n",
        "for idx in reviews_in_topic_2_tuned:\n",
        "    i += 1\n",
        "    #print(idx)\n",
        "    #print(' '.join(data_words[idx]))\n",
        "    filex.append(data_words[idx])\n",
        "    id.append(idx)\n",
        "    textx.append(resultx2[idx])\n",
        "    # create a dictionary with the three lists\n",
        "dict = {'top words': filex, 'ID': id,'Text':textx}\n",
        "\n",
        "# create a Pandas DataFrame from the dictionary\n",
        "df = pd.DataFrame(dict)\n",
        "\n",
        "# write the DataFrame to a CSV file\n",
        "df.to_csv('EmployeeData2.csv')\n",
        "\n",
        "#pd.DataFrame(filex).to_csv(\"topic_mixture1.csv\")\n",
        "#print(i)\n"
      ],
      "metadata": {
        "id": "VZjX2yPE2Xzd"
      },
      "execution_count": null,
      "outputs": []
    }
  ],
  "metadata": {
    "colab": {
      "provenance": []
    },
    "kernelspec": {
      "display_name": "Python 3",
      "name": "python3"
    },
    "language_info": {
      "name": "python"
    }
  },
  "nbformat": 4,
  "nbformat_minor": 0
}