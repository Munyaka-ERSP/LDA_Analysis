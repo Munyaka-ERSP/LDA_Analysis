{
  "cells": [
    {
      "cell_type": "code",
      "execution_count": 1,
      "metadata": {
        "colab": {
          "base_uri": "https://localhost:8080/",
          "height": 1000
        },
        "id": "IpQ1nKQ1EEEL",
        "outputId": "cb8cc28b-75bd-4dca-d2c2-333021aceb67"
      },
      "outputs": [
        {
          "name": "stdout",
          "output_type": "stream",
          "text": [
            "Requirement already satisfied: pyLDAvis in c:\\users\\owner\\miniconda3\\lib\\site-packages (3.4.1)\n",
            "Requirement already satisfied: numpy>=1.24.2 in c:\\users\\owner\\miniconda3\\lib\\site-packages (from pyLDAvis) (1.26.4)\n",
            "Requirement already satisfied: scipy in c:\\users\\owner\\miniconda3\\lib\\site-packages (from pyLDAvis) (1.12.0)\n",
            "Collecting pandas>=2.0.0 (from pyLDAvis)\n",
            "  Downloading pandas-2.2.1-cp311-cp311-win_amd64.whl.metadata (19 kB)\n",
            "Requirement already satisfied: joblib>=1.2.0 in c:\\users\\owner\\miniconda3\\lib\\site-packages (from pyLDAvis) (1.3.2)\n",
            "Requirement already satisfied: jinja2 in c:\\users\\owner\\miniconda3\\lib\\site-packages (from pyLDAvis) (3.1.3)\n",
            "Requirement already satisfied: numexpr in c:\\users\\owner\\miniconda3\\lib\\site-packages (from pyLDAvis) (2.9.0)\n",
            "Requirement already satisfied: funcy in c:\\users\\owner\\miniconda3\\lib\\site-packages (from pyLDAvis) (2.0)\n",
            "Requirement already satisfied: scikit-learn>=1.0.0 in c:\\users\\owner\\miniconda3\\lib\\site-packages (from pyLDAvis) (1.4.0)\n",
            "Requirement already satisfied: gensim in c:\\users\\owner\\miniconda3\\lib\\site-packages (from pyLDAvis) (4.3.2)\n",
            "Requirement already satisfied: setuptools in c:\\users\\owner\\miniconda3\\lib\\site-packages (from pyLDAvis) (68.2.2)\n",
            "Requirement already satisfied: python-dateutil>=2.8.2 in c:\\users\\owner\\miniconda3\\lib\\site-packages (from pandas>=2.0.0->pyLDAvis) (2.8.2)\n",
            "Requirement already satisfied: pytz>=2020.1 in c:\\users\\owner\\miniconda3\\lib\\site-packages (from pandas>=2.0.0->pyLDAvis) (2024.1)\n",
            "Requirement already satisfied: tzdata>=2022.7 in c:\\users\\owner\\miniconda3\\lib\\site-packages (from pandas>=2.0.0->pyLDAvis) (2024.1)\n",
            "Requirement already satisfied: threadpoolctl>=2.0.0 in c:\\users\\owner\\miniconda3\\lib\\site-packages (from scikit-learn>=1.0.0->pyLDAvis) (3.2.0)\n",
            "Requirement already satisfied: smart-open>=1.8.1 in c:\\users\\owner\\miniconda3\\lib\\site-packages (from gensim->pyLDAvis) (6.4.0)\n",
            "Requirement already satisfied: MarkupSafe>=2.0 in c:\\users\\owner\\miniconda3\\lib\\site-packages (from jinja2->pyLDAvis) (2.1.5)\n",
            "Requirement already satisfied: six>=1.5 in c:\\users\\owner\\miniconda3\\lib\\site-packages (from python-dateutil>=2.8.2->pandas>=2.0.0->pyLDAvis) (1.16.0)\n",
            "Downloading pandas-2.2.1-cp311-cp311-win_amd64.whl (11.6 MB)\n",
            "   ---------------------------------------- 0.0/11.6 MB ? eta -:--:--\n",
            "   ---------------------------------------- 0.0/11.6 MB ? eta -:--:--\n",
            "    --------------------------------------- 0.2/11.6 MB 2.9 MB/s eta 0:00:04\n",
            "   -- ------------------------------------- 0.8/11.6 MB 6.6 MB/s eta 0:00:02\n",
            "   ---- ----------------------------------- 1.3/11.6 MB 8.5 MB/s eta 0:00:02\n",
            "   ------ --------------------------------- 1.8/11.6 MB 8.2 MB/s eta 0:00:02\n",
            "   ------- -------------------------------- 2.2/11.6 MB 8.7 MB/s eta 0:00:02\n",
            "   --------- ------------------------------ 2.7/11.6 MB 8.6 MB/s eta 0:00:02\n",
            "   ----------- ---------------------------- 3.3/11.6 MB 9.2 MB/s eta 0:00:01\n",
            "   ------------- -------------------------- 3.8/11.6 MB 9.4 MB/s eta 0:00:01\n",
            "   --------------- ------------------------ 4.4/11.6 MB 9.6 MB/s eta 0:00:01\n",
            "   ---------------- ----------------------- 4.8/11.6 MB 9.6 MB/s eta 0:00:01\n",
            "   ------------------- -------------------- 5.5/11.6 MB 10.1 MB/s eta 0:00:01\n",
            "   --------------------- ------------------ 6.3/11.6 MB 10.6 MB/s eta 0:00:01\n",
            "   ----------------------- ---------------- 6.9/11.6 MB 10.8 MB/s eta 0:00:01\n",
            "   -------------------------- ------------- 7.8/11.6 MB 11.1 MB/s eta 0:00:01\n",
            "   ----------------------------- ---------- 8.6/11.6 MB 11.2 MB/s eta 0:00:01\n",
            "   ------------------------------- -------- 9.1/11.6 MB 11.4 MB/s eta 0:00:01\n",
            "   --------------------------------- ------ 9.7/11.6 MB 11.5 MB/s eta 0:00:01\n",
            "   ------------------------------------ --- 10.6/11.6 MB 12.3 MB/s eta 0:00:01\n",
            "   -------------------------------------- - 11.2/11.6 MB 12.6 MB/s eta 0:00:01\n",
            "   ---------------------------------------  11.6/11.6 MB 12.6 MB/s eta 0:00:01\n",
            "   ---------------------------------------  11.6/11.6 MB 12.6 MB/s eta 0:00:01\n",
            "   ---------------------------------------  11.6/11.6 MB 12.6 MB/s eta 0:00:01\n",
            "   ---------------------------------------- 11.6/11.6 MB 10.5 MB/s eta 0:00:00\n",
            "Installing collected packages: pandas\n",
            "  Attempting uninstall: pandas\n",
            "    Found existing installation: pandas 1.5.3\n",
            "    Uninstalling pandas-1.5.3:\n",
            "      Successfully uninstalled pandas-1.5.3\n",
            "Successfully installed pandas-2.2.1\n",
            "Note: you may need to restart the kernel to use updated packages.\n",
            "Requirement already satisfied: nltk in c:\\users\\owner\\appdata\\roaming\\python\\python311\\site-packages (3.8.1)\n",
            "Requirement already satisfied: click in c:\\users\\owner\\appdata\\roaming\\python\\python311\\site-packages (from nltk) (8.1.7)\n",
            "Requirement already satisfied: joblib in c:\\users\\owner\\miniconda3\\lib\\site-packages (from nltk) (1.3.2)\n",
            "Requirement already satisfied: regex>=2021.8.3 in c:\\users\\owner\\appdata\\roaming\\python\\python311\\site-packages (from nltk) (2023.12.25)\n",
            "Requirement already satisfied: tqdm in c:\\users\\owner\\miniconda3\\lib\\site-packages (from nltk) (4.65.0)\n",
            "Requirement already satisfied: colorama in c:\\users\\owner\\miniconda3\\lib\\site-packages (from click->nltk) (0.4.6)\n",
            "Note: you may need to restart the kernel to use updated packages.\n",
            "Requirement already satisfied: spacy in c:\\users\\owner\\miniconda3\\lib\\site-packages (3.7.4)\n",
            "Requirement already satisfied: spacy-legacy<3.1.0,>=3.0.11 in c:\\users\\owner\\miniconda3\\lib\\site-packages (from spacy) (3.0.12)\n",
            "Requirement already satisfied: spacy-loggers<2.0.0,>=1.0.0 in c:\\users\\owner\\miniconda3\\lib\\site-packages (from spacy) (1.0.5)\n",
            "Requirement already satisfied: murmurhash<1.1.0,>=0.28.0 in c:\\users\\owner\\miniconda3\\lib\\site-packages (from spacy) (1.0.10)\n",
            "Requirement already satisfied: cymem<2.1.0,>=2.0.2 in c:\\users\\owner\\miniconda3\\lib\\site-packages (from spacy) (2.0.8)\n",
            "Requirement already satisfied: preshed<3.1.0,>=3.0.2 in c:\\users\\owner\\miniconda3\\lib\\site-packages (from spacy) (3.0.9)\n",
            "Requirement already satisfied: thinc<8.3.0,>=8.2.2 in c:\\users\\owner\\miniconda3\\lib\\site-packages (from spacy) (8.2.3)\n",
            "Requirement already satisfied: wasabi<1.2.0,>=0.9.1 in c:\\users\\owner\\miniconda3\\lib\\site-packages (from spacy) (1.1.2)\n",
            "Requirement already satisfied: srsly<3.0.0,>=2.4.3 in c:\\users\\owner\\miniconda3\\lib\\site-packages (from spacy) (2.4.8)\n",
            "Requirement already satisfied: catalogue<2.1.0,>=2.0.6 in c:\\users\\owner\\miniconda3\\lib\\site-packages (from spacy) (2.0.10)\n",
            "Requirement already satisfied: weasel<0.4.0,>=0.1.0 in c:\\users\\owner\\miniconda3\\lib\\site-packages (from spacy) (0.3.4)\n",
            "Requirement already satisfied: typer<0.10.0,>=0.3.0 in c:\\users\\owner\\miniconda3\\lib\\site-packages (from spacy) (0.9.0)\n",
            "Requirement already satisfied: smart-open<7.0.0,>=5.2.1 in c:\\users\\owner\\miniconda3\\lib\\site-packages (from spacy) (6.4.0)\n",
            "Requirement already satisfied: tqdm<5.0.0,>=4.38.0 in c:\\users\\owner\\miniconda3\\lib\\site-packages (from spacy) (4.65.0)\n",
            "Requirement already satisfied: requests<3.0.0,>=2.13.0 in c:\\users\\owner\\miniconda3\\lib\\site-packages (from spacy) (2.31.0)\n",
            "Requirement already satisfied: pydantic!=1.8,!=1.8.1,<3.0.0,>=1.7.4 in c:\\users\\owner\\miniconda3\\lib\\site-packages (from spacy) (2.6.1)\n",
            "Requirement already satisfied: jinja2 in c:\\users\\owner\\miniconda3\\lib\\site-packages (from spacy) (3.1.3)\n",
            "Requirement already satisfied: setuptools in c:\\users\\owner\\miniconda3\\lib\\site-packages (from spacy) (68.2.2)\n",
            "Requirement already satisfied: packaging>=20.0 in c:\\users\\owner\\miniconda3\\lib\\site-packages (from spacy) (23.1)\n",
            "Requirement already satisfied: langcodes<4.0.0,>=3.2.0 in c:\\users\\owner\\miniconda3\\lib\\site-packages (from spacy) (3.3.0)\n",
            "Requirement already satisfied: numpy>=1.19.0 in c:\\users\\owner\\miniconda3\\lib\\site-packages (from spacy) (1.26.4)\n",
            "Requirement already satisfied: annotated-types>=0.4.0 in c:\\users\\owner\\miniconda3\\lib\\site-packages (from pydantic!=1.8,!=1.8.1,<3.0.0,>=1.7.4->spacy) (0.6.0)\n",
            "Requirement already satisfied: pydantic-core==2.16.2 in c:\\users\\owner\\miniconda3\\lib\\site-packages (from pydantic!=1.8,!=1.8.1,<3.0.0,>=1.7.4->spacy) (2.16.2)\n",
            "Requirement already satisfied: typing-extensions>=4.6.1 in c:\\users\\owner\\miniconda3\\lib\\site-packages (from pydantic!=1.8,!=1.8.1,<3.0.0,>=1.7.4->spacy) (4.9.0)\n",
            "Requirement already satisfied: charset-normalizer<4,>=2 in c:\\users\\owner\\miniconda3\\lib\\site-packages (from requests<3.0.0,>=2.13.0->spacy) (2.0.4)\n",
            "Requirement already satisfied: idna<4,>=2.5 in c:\\users\\owner\\miniconda3\\lib\\site-packages (from requests<3.0.0,>=2.13.0->spacy) (3.4)\n",
            "Requirement already satisfied: urllib3<3,>=1.21.1 in c:\\users\\owner\\miniconda3\\lib\\site-packages (from requests<3.0.0,>=2.13.0->spacy) (1.26.18)\n",
            "Requirement already satisfied: certifi>=2017.4.17 in c:\\users\\owner\\miniconda3\\lib\\site-packages (from requests<3.0.0,>=2.13.0->spacy) (2024.2.2)\n",
            "Requirement already satisfied: blis<0.8.0,>=0.7.8 in c:\\users\\owner\\miniconda3\\lib\\site-packages (from thinc<8.3.0,>=8.2.2->spacy) (0.7.11)\n",
            "Requirement already satisfied: confection<1.0.0,>=0.0.1 in c:\\users\\owner\\miniconda3\\lib\\site-packages (from thinc<8.3.0,>=8.2.2->spacy) (0.1.4)\n",
            "Requirement already satisfied: colorama in c:\\users\\owner\\miniconda3\\lib\\site-packages (from tqdm<5.0.0,>=4.38.0->spacy) (0.4.6)\n",
            "Requirement already satisfied: click<9.0.0,>=7.1.1 in c:\\users\\owner\\appdata\\roaming\\python\\python311\\site-packages (from typer<0.10.0,>=0.3.0->spacy) (8.1.7)\n",
            "Requirement already satisfied: cloudpathlib<0.17.0,>=0.7.0 in c:\\users\\owner\\miniconda3\\lib\\site-packages (from weasel<0.4.0,>=0.1.0->spacy) (0.16.0)\n",
            "Requirement already satisfied: MarkupSafe>=2.0 in c:\\users\\owner\\miniconda3\\lib\\site-packages (from jinja2->spacy) (2.1.5)\n",
            "Note: you may need to restart the kernel to use updated packages.\n",
            "Collecting pandas==1.5.3\n",
            "  Using cached pandas-1.5.3-cp311-cp311-win_amd64.whl.metadata (12 kB)\n",
            "Requirement already satisfied: python-dateutil>=2.8.1 in c:\\users\\owner\\miniconda3\\lib\\site-packages (from pandas==1.5.3) (2.8.2)\n",
            "Requirement already satisfied: pytz>=2020.1 in c:\\users\\owner\\miniconda3\\lib\\site-packages (from pandas==1.5.3) (2024.1)\n",
            "Requirement already satisfied: numpy>=1.21.0 in c:\\users\\owner\\miniconda3\\lib\\site-packages (from pandas==1.5.3) (1.26.4)\n",
            "Requirement already satisfied: six>=1.5 in c:\\users\\owner\\miniconda3\\lib\\site-packages (from python-dateutil>=2.8.1->pandas==1.5.3) (1.16.0)\n",
            "Using cached pandas-1.5.3-cp311-cp311-win_amd64.whl (10.3 MB)\n",
            "Installing collected packages: pandas\n",
            "  Attempting uninstall: pandas\n",
            "    Found existing installation: pandas 2.2.1\n",
            "    Uninstalling pandas-2.2.1:\n",
            "      Successfully uninstalled pandas-2.2.1\n",
            "Successfully installed pandas-1.5.3\n",
            "Note: you may need to restart the kernel to use updated packages.\n"
          ]
        },
        {
          "name": "stderr",
          "output_type": "stream",
          "text": [
            "ERROR: pip's dependency resolver does not currently take into account all the packages that are installed. This behaviour is the source of the following dependency conflicts.\n",
            "pyldavis 3.4.1 requires pandas>=2.0.0, but you have pandas 1.5.3 which is incompatible.\n"
          ]
        }
      ],
      "source": [
        "#https://www.machinelearningplus.com/nlp/topic-modeling-gensim-python/#1introduction\n",
        "# TO USE:\n",
        "# Uncomment three !pip install lines\n",
        "# Run this cell ONLY\n",
        "# Runtime -> Restart session\n",
        "# Comment three !pip install lines\n",
        "# Run all\n",
        "\n",
        "# Andy can push\n",
        "\n",
        "# Pandas 1.5.3\n",
        "# Numpy 1.26.3\n",
        "# Json 2.0.9\n",
        "# NLTK (Natural Language Toolkit) 3.8.1\n",
        "# Gensim 4.3.2\n",
        "# Spacy 3.6.1\n",
        "# PyLDAvis 3.4.0\n",
        "# re (removing characters) 2.2.1\n",
        "# clean from cleantext\n",
        "# from prompt_toolkit.completion import word_completer\n",
        "# from pprint import pprint\n",
        "# import matplotlib.pyplot as plt\n",
        "\n",
        "\n",
        "%pip install pyLDAvis\n",
        "%pip install --user -U nltk\n",
        "%pip install -U spacy\n",
        "%pip install \"pandas==1.5.3\""
      ]
    },
    {
      "cell_type": "code",
      "execution_count": 2,
      "metadata": {
        "colab": {
          "base_uri": "https://localhost:8080/"
        },
        "id": "qu1xrf252p8h",
        "outputId": "615c4d49-eea2-4920-f2e7-add1a9d49369"
      },
      "outputs": [
        {
          "name": "stdout",
          "output_type": "stream",
          "text": [
            "1.5.3\n"
          ]
        }
      ],
      "source": [
        "#\n",
        "\n",
        "import numpy as np\n",
        "import json\n",
        "import glob\n",
        "import nltk\n",
        "import pandas as pd #to work with csv files\n",
        "\n",
        "# pd.__version__ = 2.0.0\n",
        "print(pd.__version__)\n",
        "\n",
        "#Gensim\n",
        "import gensim\n",
        "import gensim.corpora as corpora\n",
        "from gensim.utils import simple_preprocess\n",
        "from gensim.models import CoherenceModel\n",
        "\n",
        "#spacy\n",
        "import spacy\n",
        "from nltk.corpus import stopwords\n",
        "\n",
        "#vis\n",
        "import pyLDAvis\n",
        "import pyLDAvis.gensim\n",
        "\n",
        "import warnings\n",
        "warnings.filterwarnings(\"ignore\", category=DeprecationWarning)"
      ]
    },
    {
      "cell_type": "code",
      "execution_count": 3,
      "metadata": {
        "colab": {
          "base_uri": "https://localhost:8080/"
        },
        "id": "SUzbqYoDkUPL",
        "outputId": "a05c8d73-157c-4264-ac71-576be5d0d3b4"
      },
      "outputs": [],
      "source": [
        "import os\n",
        "#The function that loops through the data to check for optimal parameters to input into the LDA model would take over 16 hours to run,\n",
        "#after a while the runtime disconnects, which makes the progress start from 0.\n",
        "#so the purpose of this function is to make sure the runtime doesnt disconnect, while training for optimal params to input to lda model.\n",
        "\n",
        "#def check_and_reconnect_drive():\n",
        "    #try:\n",
        "        # Check if Google Drive is still connected\n",
        "     #   os.listdir('/content/drive')\n",
        "  #  except:\n",
        "        # If not, reconnect it\n",
        "  #      from google.colab import drive\n",
        "  #      drive.mount('/content/drive', force_remount=True)\n",
        "\n",
        "# Then call this function every so often in your main script\n",
        "#check_and_reconnect_drive()"
      ]
    },
    {
      "cell_type": "code",
      "execution_count": 4,
      "metadata": {
        "colab": {
          "base_uri": "https://localhost:8080/"
        },
        "id": "3uFmthrM5V6o",
        "outputId": "dff3d57f-ac31-4157-8dc0-1bd790c4d641"
      },
      "outputs": [
        {
          "name": "stderr",
          "output_type": "stream",
          "text": [
            "[nltk_data] Downloading package stopwords to\n",
            "[nltk_data]     C:\\Users\\Owner\\AppData\\Roaming\\nltk_data...\n",
            "[nltk_data]   Package stopwords is already up-to-date!\n"
          ]
        }
      ],
      "source": [
        "nltk.download('stopwords')\n",
        "\n",
        "stopwords = stopwords.words(\"english\") #get stopwords from nltk"
      ]
    },
    {
      "cell_type": "code",
      "execution_count": 5,
      "metadata": {
        "id": "GWl2ONo787sa"
      },
      "outputs": [],
      "source": [
        "#stopwords.extend(['hi', 'anymore', 'years', 'ago', 'almost', 'somehow', 'remember', 'wants', 'either', 'enough', 'much', 'making', 'simple', 'things', 'add', 'actual', 'say', 'etc', 'anything', 'days', 'long', 'another', 'ever', 'yes', 'th', 'ice', 'mightymouse', 'should', 'obviously', 'even', 'lol', 'stuff', 'never', 'old', 'yr', 'bit', 'like', 'aka', 'nonsense', 'ok', 'absolutely', 'op', 'weird', 'ass', 'fully', 'get', 'would', 'definitely', 'especially', 'still', 'else', 'something', 'often', 'kind', 'let', 'lot', 'able', 'non', 'pg', 'nice', 'trad', 'keep', 'massive', 'quickly', 'be', 'common', 'tv', 'fuckin', 'im', 'could', 'also', 'silly', 'ie', 'seem', 'seems', 'fucked'])#Add custom stop words\n",
        "stopwords.extend(['r/parenting', 'r/roblox', 'get'])#Add reddit paths"
      ]
    },
    {
      "cell_type": "code",
      "execution_count": 6,
      "metadata": {
        "id": "hRpoK3iEB6DX"
      },
      "outputs": [],
      "source": [
        "def wordcounts(text1):\n",
        "  fdist1 = FreqDist(text1)\n",
        "  print(fdist1)\n",
        "  fdist1.most_common(50)"
      ]
    },
    {
      "cell_type": "code",
      "execution_count": 7,
      "metadata": {
        "id": "EXp-FdFNt7gc"
      },
      "outputs": [],
      "source": [
        "def remove_stopwords(texts):\n",
        "    return [[word for word in simple_preprocess(str(doc)) if word not in stopwords] for doc in texts]"
      ]
    },
    {
      "cell_type": "code",
      "execution_count": 8,
      "metadata": {
        "id": "AwfESysf57H_"
      },
      "outputs": [],
      "source": [
        "def load_data(file):\n",
        "  data = pd.read_csv(file)\n",
        "  return data"
      ]
    },
    {
      "cell_type": "code",
      "execution_count": 9,
      "metadata": {
        "id": "FTSUpkwF6ah1"
      },
      "outputs": [],
      "source": [
        "data = load_data('../Dataset/cumulative5.csv')\n",
        "filtered_data = data.drop(columns=['subreddit','date','timestamp'], axis=1)\n",
        "data = filtered_data.replace('\\n', ' ', regex=True)\n",
        "# data.head(5)"
      ]
    },
    {
      "cell_type": "code",
      "execution_count": 10,
      "metadata": {
        "id": "GmdgEwV9YpLv"
      },
      "outputs": [],
      "source": [
        "# data[data.text.str.contains('I am a bot')]"
      ]
    },
    {
      "cell_type": "code",
      "execution_count": 11,
      "metadata": {
        "colab": {
          "base_uri": "https://localhost:8080/"
        },
        "id": "QTvUnK1IzgNM",
        "outputId": "42035f6f-b286-4461-e56e-b73a956c56c0"
      },
      "outputs": [
        {
          "data": {
            "text/plain": [
              "(12075, 1)"
            ]
          },
          "execution_count": 11,
          "metadata": {},
          "output_type": "execute_result"
        }
      ],
      "source": [
        "import re\n",
        "\n",
        "data = data.loc[data.text.str.contains('I am a bot') == False, :]\n",
        "\n",
        "# Remove punctuation\n",
        "# data['text'] = data['text'].map(lambda x: re.sub(\"[,\\.!?/@#$^&*-_=+()%]\", \"\", x))\n",
        "data['text'] = data['text'].replace(r'http\\S+', '', regex=True)\n",
        "\n",
        "#data['text'] = data['text'].replace(r'a'+ u'\\u0301'+ 'U+20AC'+ 'U+2122', \"'\" , regex=True)\n",
        "\n",
        "data['text'] = data['text'].map(lambda x: re.sub('[%$:,\\.!?/-]', ' ', x))\n",
        "data['text'] = data['text'].map(lambda x: re.sub('\\(', ' ', x))\n",
        "data['text'] = data['text'].map(lambda x: re.sub('\\)', ' ', x))\n",
        "data['text'] = data['text'].replace(r'&\\S+', '', regex=True)\n",
        "data['text'] = data['text'].replace('\\\"', '', regex=True)\n",
        "\n",
        "# # Convert the titles to lowercase\n",
        "data['text'] = data['text'].map(lambda x: x.lower())\n",
        "\n",
        "pattern = r'[0-9]'\n",
        "data['text'] = data['text'].map(lambda x: re.sub(pattern, ' ', x))\n",
        "data['text'] = data['text'].map(lambda x: re.sub(' +', ' ', x))\n",
        "\n",
        "data.shape"
      ]
    },
    {
      "cell_type": "code",
      "execution_count": 12,
      "metadata": {
        "colab": {
          "base_uri": "https://localhost:8080/"
        },
        "id": "X8eePq0Gxmtf",
        "outputId": "e66b9fbc-d0cd-42c0-f9ae-0681d7d3ad96"
      },
      "outputs": [
        {
          "data": {
            "text/plain": [
              "Index(['text'], dtype='object')"
            ]
          },
          "execution_count": 12,
          "metadata": {},
          "output_type": "execute_result"
        }
      ],
      "source": [
        "data.columns"
      ]
    },
    {
      "cell_type": "code",
      "execution_count": 13,
      "metadata": {
        "colab": {
          "base_uri": "https://localhost:8080/",
          "height": 206
        },
        "id": "ZIQMdaaulEna",
        "outputId": "3032f721-d695-4170-fcad-3a8e7d10ef04"
      },
      "outputs": [
        {
          "data": {
            "text/html": [
              "<div>\n",
              "<style scoped>\n",
              "    .dataframe tbody tr th:only-of-type {\n",
              "        vertical-align: middle;\n",
              "    }\n",
              "\n",
              "    .dataframe tbody tr th {\n",
              "        vertical-align: top;\n",
              "    }\n",
              "\n",
              "    .dataframe thead th {\n",
              "        text-align: right;\n",
              "    }\n",
              "</style>\n",
              "<table border=\"1\" class=\"dataframe\">\n",
              "  <thead>\n",
              "    <tr style=\"text-align: right;\">\n",
              "      <th></th>\n",
              "      <th>text</th>\n",
              "    </tr>\n",
              "  </thead>\n",
              "  <tbody>\n",
              "    <tr>\n",
              "      <th>0</th>\n",
              "      <td>live chat hi does anyone know if i can access ...</td>\n",
              "    </tr>\n",
              "    <tr>\n",
              "      <th>1</th>\n",
              "      <td>forgot pin i created my parental pin almost ye...</td>\n",
              "    </tr>\n",
              "    <tr>\n",
              "      <th>2</th>\n",
              "      <td>roblox rant this game…honestly either not enou...</td>\n",
              "    </tr>\n",
              "    <tr>\n",
              "      <th>3</th>\n",
              "      <td>you're not alone that's all i have to say</td>\n",
              "    </tr>\n",
              "    <tr>\n",
              "      <th>4</th>\n",
              "      <td>i even contacted support and they were useless</td>\n",
              "    </tr>\n",
              "  </tbody>\n",
              "</table>\n",
              "</div>"
            ],
            "text/plain": [
              "                                                text\n",
              "0  live chat hi does anyone know if i can access ...\n",
              "1  forgot pin i created my parental pin almost ye...\n",
              "2  roblox rant this game…honestly either not enou...\n",
              "3         you're not alone that's all i have to say \n",
              "4     i even contacted support and they were useless"
            ]
          },
          "execution_count": 13,
          "metadata": {},
          "output_type": "execute_result"
        }
      ],
      "source": [
        "data.head(5)"
      ]
    },
    {
      "cell_type": "code",
      "execution_count": 14,
      "metadata": {
        "colab": {
          "base_uri": "https://localhost:8080/",
          "height": 53
        },
        "id": "cpMN8FZ3W5No",
        "outputId": "f9c09c46-5607-48e1-d0fb-6908f32b39b2"
      },
      "outputs": [
        {
          "data": {
            "text/html": [
              "<div>\n",
              "<style scoped>\n",
              "    .dataframe tbody tr th:only-of-type {\n",
              "        vertical-align: middle;\n",
              "    }\n",
              "\n",
              "    .dataframe tbody tr th {\n",
              "        vertical-align: top;\n",
              "    }\n",
              "\n",
              "    .dataframe thead th {\n",
              "        text-align: right;\n",
              "    }\n",
              "</style>\n",
              "<table border=\"1\" class=\"dataframe\">\n",
              "  <thead>\n",
              "    <tr style=\"text-align: right;\">\n",
              "      <th></th>\n",
              "      <th>text</th>\n",
              "    </tr>\n",
              "  </thead>\n",
              "  <tbody>\n",
              "  </tbody>\n",
              "</table>\n",
              "</div>"
            ],
            "text/plain": [
              "Empty DataFrame\n",
              "Columns: [text]\n",
              "Index: []"
            ]
          },
          "execution_count": 14,
          "metadata": {},
          "output_type": "execute_result"
        }
      ],
      "source": [
        "data[data.text.str.contains('I am a bot')]"
      ]
    },
    {
      "cell_type": "code",
      "execution_count": 15,
      "metadata": {
        "colab": {
          "base_uri": "https://localhost:8080/",
          "height": 87
        },
        "id": "csMd6uvm6ukl",
        "outputId": "e2d0ca85-c027-450c-c113-04b0a1b44fc4"
      },
      "outputs": [
        {
          "data": {
            "text/plain": [
              "'definitely not for year olds i hope at the very least chat is not enabled there is a lot of random violence the best option is for them to only join a private server which are free and easy to set up with a couple of clicks for any game that includes only just the kids in the daycare '"
            ]
          },
          "execution_count": 15,
          "metadata": {},
          "output_type": "execute_result"
        }
      ],
      "source": [
        "data['text'][51]"
      ]
    },
    {
      "cell_type": "code",
      "execution_count": 16,
      "metadata": {
        "colab": {
          "base_uri": "https://localhost:8080/"
        },
        "id": "D1IqZjv9_Pcb",
        "outputId": "04b53f83-8dbe-411f-cbe6-6ba9a9338f9f"
      },
      "outputs": [
        {
          "name": "stdout",
          "output_type": "stream",
          "text": [
            "Requirement already satisfied: clean-text in c:\\users\\owner\\miniconda3\\lib\\site-packages (0.6.0)\n",
            "Requirement already satisfied: emoji<2.0.0,>=1.0.0 in c:\\users\\owner\\miniconda3\\lib\\site-packages (from clean-text) (1.7.0)\n",
            "Requirement already satisfied: ftfy<7.0,>=6.0 in c:\\users\\owner\\miniconda3\\lib\\site-packages (from clean-text) (6.1.3)\n",
            "Requirement already satisfied: wcwidth<0.3.0,>=0.2.12 in c:\\users\\owner\\miniconda3\\lib\\site-packages (from ftfy<7.0,>=6.0->clean-text) (0.2.13)\n"
          ]
        },
        {
          "name": "stderr",
          "output_type": "stream",
          "text": [
            "Since the GPL-licensed package `unidecode` is not installed, using Python's `unicodedata` package which yields worse results.\n"
          ]
        }
      ],
      "source": [
        "!pip install clean-text\n",
        "from cleantext import clean"
      ]
    },
    {
      "cell_type": "code",
      "execution_count": 17,
      "metadata": {
        "id": "PxRt_wEr_wkF"
      },
      "outputs": [],
      "source": [
        "data = [clean(d, no_emoji=True) for d in data['text']]"
      ]
    },
    {
      "cell_type": "code",
      "execution_count": 18,
      "metadata": {
        "id": "QqJTjOEHAnmz"
      },
      "outputs": [],
      "source": [
        "data = remove_stopwords(data)"
      ]
    },
    {
      "cell_type": "code",
      "execution_count": 19,
      "metadata": {
        "id": "XYFKmOGIA4Qx"
      },
      "outputs": [],
      "source": [
        "resultx = []\n",
        "for d in data:\n",
        "  resultx.append(' '.join(d))\n",
        "\n",
        "#resultxtokens = resultx.split()\n"
      ]
    },
    {
      "cell_type": "code",
      "execution_count": 20,
      "metadata": {
        "colab": {
          "base_uri": "https://localhost:8080/"
        },
        "id": "KJNDFYA0Pw5Y",
        "outputId": "72aa20e0-ff43-4ba5-f9e6-75ecd468da0c"
      },
      "outputs": [
        {
          "data": {
            "text/plain": [
              "['live chat hi anyone know access live chat history child account tried contacting roblox heard back',\n",
              " 'forgot pin created parental pin almost years ago somehow remember son accidentally blocked brother tried email roblox reset pin son upset wants play brother reset without pin anyone else happen',\n",
              " 'roblox rant gamehonestly either enough protection young kids much protection making game useless chat simple things add parental game controls parents approve friend requests outgoing incoming experience chats stored parent accessible actual inappropriate text controls anyone walk kid roblox say private parts etc friends experience chat history reported users missing anything specifically pissed find days long experience chat child another user extremely inappropriate zero way access anything regarding going honest open conversation child',\n",
              " 'alone say',\n",
              " 'even contacted support useless']"
            ]
          },
          "execution_count": 20,
          "metadata": {},
          "output_type": "execute_result"
        }
      ],
      "source": [
        "resultx[:5]"
      ]
    },
    {
      "cell_type": "code",
      "execution_count": 21,
      "metadata": {
        "colab": {
          "base_uri": "https://localhost:8080/"
        },
        "id": "vz8We9sCDpPV",
        "outputId": "e39bd401-2491-4c63-ecfd-a48f106286a2"
      },
      "outputs": [
        {
          "name": "stderr",
          "output_type": "stream",
          "text": [
            "[nltk_data] Downloading package punkt to\n",
            "[nltk_data]     C:\\Users\\Owner\\AppData\\Roaming\\nltk_data...\n",
            "[nltk_data]   Package punkt is already up-to-date!\n"
          ]
        },
        {
          "data": {
            "text/plain": [
              "[('kids', 3958),\n",
              " ('like', 3569),\n",
              " ('roblox', 3167),\n",
              " ('games', 2714),\n",
              " ('time', 2643),\n",
              " ('game', 2527),\n",
              " ('play', 2502),\n",
              " ('would', 2230),\n",
              " ('kid', 2027),\n",
              " ('also', 1874),\n",
              " ('old', 1811),\n",
              " ('think', 1806),\n",
              " ('money', 1766),\n",
              " ('know', 1712),\n",
              " ('one', 1635),\n",
              " ('make', 1618),\n",
              " ('year', 1554),\n",
              " ('things', 1488),\n",
              " ('want', 1420),\n",
              " ('good', 1391),\n",
              " ('people', 1390),\n",
              " ('even', 1347),\n",
              " ('really', 1333),\n",
              " ('phone', 1333),\n",
              " ('something', 1299),\n",
              " ('child', 1255),\n",
              " ('much', 1246),\n",
              " ('let', 1211),\n",
              " ('way', 1203),\n",
              " ('daughter', 1187),\n",
              " ('son', 1185),\n",
              " ('friends', 1153),\n",
              " ('school', 1085),\n",
              " ('playing', 1080),\n",
              " ('parents', 1076),\n",
              " ('need', 1067),\n",
              " ('age', 1011),\n",
              " ('still', 1005),\n",
              " ('could', 1002),\n",
              " ('see', 964),\n",
              " ('use', 960),\n",
              " ('go', 946),\n",
              " ('day', 943),\n",
              " ('going', 935),\n",
              " ('thing', 933),\n",
              " ('back', 928),\n",
              " ('got', 920),\n",
              " ('lot', 902),\n",
              " ('say', 900),\n",
              " ('stuff', 827)]"
            ]
          },
          "execution_count": 21,
          "metadata": {},
          "output_type": "execute_result"
        }
      ],
      "source": [
        "import nltk\n",
        "from nltk.tokenize import word_tokenize\n",
        "from nltk.probability import FreqDist\n",
        "nltk.download('punkt')\n",
        "words = [word_tokenize(i) for i in resultx]\n",
        "words2= [num for elem in words for num in elem]\n",
        "#words = nltk.tokenize.word_tokenize(resultx)\n",
        "\n",
        "#wordcounts(words2)\n",
        "fdist1 = FreqDist(words2)\n",
        "#print(fdist1)\n",
        "fdist1.most_common(50)\n",
        "\n",
        "\n",
        "#>>> # flatten a list using a listcomp with two 'for'\n",
        "#>>> vec = [[1,2,3], [4,5,6], [7,8,9]]\n",
        "#>>> [num for elem in vec for num in elem]\n",
        "#[1, 2, 3, 4, 5, 6, 7, 8, 9]"
      ]
    },
    {
      "cell_type": "code",
      "execution_count": 22,
      "metadata": {
        "id": "Xisn0ly6HiOK"
      },
      "outputs": [],
      "source": [
        "result = []\n",
        "for d in data:\n",
        "  result.append(' '.join(d))\n",
        "# result"
      ]
    },
    {
      "cell_type": "code",
      "execution_count": 23,
      "metadata": {
        "id": "UFGsHzqL1WeB"
      },
      "outputs": [],
      "source": [
        "import gensim\n",
        "from gensim.utils import simple_preprocess\n",
        "\n",
        "def sent_to_words(sentences):\n",
        "    for sentence in sentences:\n",
        "      yield(gensim.utils.simple_preprocess(str(sentence), deacc=True))  # deacc=True removes punctuations\n",
        "\n",
        "# data = filtered_data.review_text_processed.values.tolist()\n",
        "data_words = list(sent_to_words(result))\n",
        "\n",
        "# prints the first 30 words of the first tokenized review from the data_words list.\n",
        "# print(data_words[:1][0][:30])"
      ]
    },
    {
      "cell_type": "code",
      "execution_count": 24,
      "metadata": {
        "id": "Ah4kOFw09mdw"
      },
      "outputs": [],
      "source": [
        "bigram = gensim.models.Phrases(data_words, min_count=5, threshold=100)\n",
        "bigram_mod = gensim.models.phrases.Phraser(bigram)\n",
        "trigram = gensim.models.Phrases(bigram[data_words], threshold=100)\n",
        "trigram_mod = gensim.models.phrases.Phraser(trigram)"
      ]
    },
    {
      "cell_type": "code",
      "execution_count": 25,
      "metadata": {
        "id": "fwxlchWD81Tg"
      },
      "outputs": [],
      "source": [
        "def make_bigrams(texts):\n",
        "    return [bigram_mod[doc] for doc in texts]\n",
        "\n",
        "def make_trigrams(texts):\n",
        "    return [trigram_mod[bigram_mod[doc]] for doc in texts]\n",
        "\n",
        "def lemmatization(texts, allowed_postags=['NOUN', 'ADJ', 'VERB', 'ADV']):\n",
        "    \"\"\"https://spacy.io/api/annotation\"\"\"\n",
        "    texts_out = []\n",
        "    for sent in texts:\n",
        "        doc = nlp(\" \".join(sent))\n",
        "        texts_out.append([token.lemma_ for token in doc if token.pos_ in allowed_postags])\n",
        "    return texts_out"
      ]
    },
    {
      "cell_type": "code",
      "execution_count": 26,
      "metadata": {
        "id": "oo7MOKefn6kt"
      },
      "outputs": [],
      "source": [
        "# # NO BIGRAMS\n",
        "# !python -m spacy download en_core_web_sm\n",
        "# import spacy\n",
        "\n",
        "# # Initialize spacy 'en' model, keeping only tagger component (for efficiency)\n",
        "# nlp = spacy.load(\"en_core_web_sm\", disable=['parser', 'ner'])\n",
        "\n",
        "# # Do lemmatization keeping only noun, adj, vb, adv\n",
        "# data_lemmatized = lemmatization(data_words, allowed_postags=['NOUN', 'ADJ', 'VERB', 'ADV'])\n"
      ]
    },
    {
      "cell_type": "code",
      "execution_count": 27,
      "metadata": {
        "colab": {
          "base_uri": "https://localhost:8080/"
        },
        "id": "gGmZgbPx9I2A",
        "outputId": "ca064a5a-1cd6-465b-c6ea-3b7f3d5e99b8"
      },
      "outputs": [
        {
          "name": "stdout",
          "output_type": "stream",
          "text": [
            "Collecting en-core-web-sm==3.7.1\n",
            "  Downloading https://github.com/explosion/spacy-models/releases/download/en_core_web_sm-3.7.1/en_core_web_sm-3.7.1-py3-none-any.whl (12.8 MB)\n",
            "     ---------------------------------------- 0.0/12.8 MB ? eta -:--:--\n",
            "     ---------------------------------------- 0.0/12.8 MB ? eta -:--:--\n",
            "     --------------------------------------- 0.0/12.8 MB 165.2 kB/s eta 0:01:18\n",
            "     --------------------------------------- 0.0/12.8 MB 281.8 kB/s eta 0:00:46\n",
            "      --------------------------------------- 0.2/12.8 MB 1.1 MB/s eta 0:00:13\n",
            "     - -------------------------------------- 0.5/12.8 MB 2.4 MB/s eta 0:00:06\n",
            "     --- ------------------------------------ 1.0/12.8 MB 3.8 MB/s eta 0:00:04\n",
            "     ---- ----------------------------------- 1.5/12.8 MB 4.9 MB/s eta 0:00:03\n",
            "     ------ --------------------------------- 2.2/12.8 MB 6.0 MB/s eta 0:00:02\n",
            "     -------- ------------------------------- 2.7/12.8 MB 6.3 MB/s eta 0:00:02\n",
            "     --------- ------------------------------ 3.1/12.8 MB 6.7 MB/s eta 0:00:02\n",
            "     ----------- ---------------------------- 3.6/12.8 MB 7.2 MB/s eta 0:00:02\n",
            "     ------------ --------------------------- 4.0/12.8 MB 7.6 MB/s eta 0:00:02\n",
            "     -------------- ------------------------- 4.7/12.8 MB 8.0 MB/s eta 0:00:02\n",
            "     ---------------- ----------------------- 5.4/12.8 MB 8.5 MB/s eta 0:00:01\n",
            "     ------------------- -------------------- 6.2/12.8 MB 8.9 MB/s eta 0:00:01\n",
            "     --------------------- ------------------ 6.8/12.8 MB 9.3 MB/s eta 0:00:01\n",
            "     ----------------------- ---------------- 7.4/12.8 MB 9.5 MB/s eta 0:00:01\n",
            "     ------------------------- -------------- 8.1/12.8 MB 9.8 MB/s eta 0:00:01\n",
            "     --------------------------- ------------ 8.8/12.8 MB 10.1 MB/s eta 0:00:01\n",
            "     ----------------------------- ---------- 9.5/12.8 MB 10.3 MB/s eta 0:00:01\n",
            "     ------------------------------ -------- 10.1/12.8 MB 10.4 MB/s eta 0:00:01\n",
            "     --------------------------------- ----- 11.0/12.8 MB 13.1 MB/s eta 0:00:01\n",
            "     ----------------------------------- --- 11.6/12.8 MB 13.1 MB/s eta 0:00:01\n",
            "     ------------------------------------- - 12.3/12.8 MB 13.1 MB/s eta 0:00:01\n",
            "     --------------------------------------  12.8/12.8 MB 13.4 MB/s eta 0:00:01\n",
            "     --------------------------------------  12.8/12.8 MB 13.4 MB/s eta 0:00:01\n",
            "     --------------------------------------  12.8/12.8 MB 13.4 MB/s eta 0:00:01\n",
            "     --------------------------------------- 12.8/12.8 MB 11.3 MB/s eta 0:00:00\n",
            "Requirement already satisfied: spacy<3.8.0,>=3.7.2 in c:\\users\\owner\\miniconda3\\lib\\site-packages (from en-core-web-sm==3.7.1) (3.7.4)\n",
            "Requirement already satisfied: spacy-legacy<3.1.0,>=3.0.11 in c:\\users\\owner\\miniconda3\\lib\\site-packages (from spacy<3.8.0,>=3.7.2->en-core-web-sm==3.7.1) (3.0.12)\n",
            "Requirement already satisfied: spacy-loggers<2.0.0,>=1.0.0 in c:\\users\\owner\\miniconda3\\lib\\site-packages (from spacy<3.8.0,>=3.7.2->en-core-web-sm==3.7.1) (1.0.5)\n",
            "Requirement already satisfied: murmurhash<1.1.0,>=0.28.0 in c:\\users\\owner\\miniconda3\\lib\\site-packages (from spacy<3.8.0,>=3.7.2->en-core-web-sm==3.7.1) (1.0.10)\n",
            "Requirement already satisfied: cymem<2.1.0,>=2.0.2 in c:\\users\\owner\\miniconda3\\lib\\site-packages (from spacy<3.8.0,>=3.7.2->en-core-web-sm==3.7.1) (2.0.8)\n",
            "Requirement already satisfied: preshed<3.1.0,>=3.0.2 in c:\\users\\owner\\miniconda3\\lib\\site-packages (from spacy<3.8.0,>=3.7.2->en-core-web-sm==3.7.1) (3.0.9)\n",
            "Requirement already satisfied: thinc<8.3.0,>=8.2.2 in c:\\users\\owner\\miniconda3\\lib\\site-packages (from spacy<3.8.0,>=3.7.2->en-core-web-sm==3.7.1) (8.2.3)\n",
            "Requirement already satisfied: wasabi<1.2.0,>=0.9.1 in c:\\users\\owner\\miniconda3\\lib\\site-packages (from spacy<3.8.0,>=3.7.2->en-core-web-sm==3.7.1) (1.1.2)\n",
            "Requirement already satisfied: srsly<3.0.0,>=2.4.3 in c:\\users\\owner\\miniconda3\\lib\\site-packages (from spacy<3.8.0,>=3.7.2->en-core-web-sm==3.7.1) (2.4.8)\n",
            "Requirement already satisfied: catalogue<2.1.0,>=2.0.6 in c:\\users\\owner\\miniconda3\\lib\\site-packages (from spacy<3.8.0,>=3.7.2->en-core-web-sm==3.7.1) (2.0.10)\n",
            "Requirement already satisfied: weasel<0.4.0,>=0.1.0 in c:\\users\\owner\\miniconda3\\lib\\site-packages (from spacy<3.8.0,>=3.7.2->en-core-web-sm==3.7.1) (0.3.4)\n",
            "Requirement already satisfied: typer<0.10.0,>=0.3.0 in c:\\users\\owner\\miniconda3\\lib\\site-packages (from spacy<3.8.0,>=3.7.2->en-core-web-sm==3.7.1) (0.9.0)\n",
            "Requirement already satisfied: smart-open<7.0.0,>=5.2.1 in c:\\users\\owner\\miniconda3\\lib\\site-packages (from spacy<3.8.0,>=3.7.2->en-core-web-sm==3.7.1) (6.4.0)\n",
            "Requirement already satisfied: tqdm<5.0.0,>=4.38.0 in c:\\users\\owner\\miniconda3\\lib\\site-packages (from spacy<3.8.0,>=3.7.2->en-core-web-sm==3.7.1) (4.65.0)\n",
            "Requirement already satisfied: requests<3.0.0,>=2.13.0 in c:\\users\\owner\\miniconda3\\lib\\site-packages (from spacy<3.8.0,>=3.7.2->en-core-web-sm==3.7.1) (2.31.0)\n",
            "Requirement already satisfied: pydantic!=1.8,!=1.8.1,<3.0.0,>=1.7.4 in c:\\users\\owner\\miniconda3\\lib\\site-packages (from spacy<3.8.0,>=3.7.2->en-core-web-sm==3.7.1) (2.6.1)\n",
            "Requirement already satisfied: jinja2 in c:\\users\\owner\\miniconda3\\lib\\site-packages (from spacy<3.8.0,>=3.7.2->en-core-web-sm==3.7.1) (3.1.3)\n",
            "Requirement already satisfied: setuptools in c:\\users\\owner\\miniconda3\\lib\\site-packages (from spacy<3.8.0,>=3.7.2->en-core-web-sm==3.7.1) (68.2.2)\n",
            "Requirement already satisfied: packaging>=20.0 in c:\\users\\owner\\miniconda3\\lib\\site-packages (from spacy<3.8.0,>=3.7.2->en-core-web-sm==3.7.1) (23.1)\n",
            "Requirement already satisfied: langcodes<4.0.0,>=3.2.0 in c:\\users\\owner\\miniconda3\\lib\\site-packages (from spacy<3.8.0,>=3.7.2->en-core-web-sm==3.7.1) (3.3.0)\n",
            "Requirement already satisfied: numpy>=1.19.0 in c:\\users\\owner\\miniconda3\\lib\\site-packages (from spacy<3.8.0,>=3.7.2->en-core-web-sm==3.7.1) (1.26.4)\n",
            "Requirement already satisfied: annotated-types>=0.4.0 in c:\\users\\owner\\miniconda3\\lib\\site-packages (from pydantic!=1.8,!=1.8.1,<3.0.0,>=1.7.4->spacy<3.8.0,>=3.7.2->en-core-web-sm==3.7.1) (0.6.0)\n",
            "Requirement already satisfied: pydantic-core==2.16.2 in c:\\users\\owner\\miniconda3\\lib\\site-packages (from pydantic!=1.8,!=1.8.1,<3.0.0,>=1.7.4->spacy<3.8.0,>=3.7.2->en-core-web-sm==3.7.1) (2.16.2)\n",
            "Requirement already satisfied: typing-extensions>=4.6.1 in c:\\users\\owner\\miniconda3\\lib\\site-packages (from pydantic!=1.8,!=1.8.1,<3.0.0,>=1.7.4->spacy<3.8.0,>=3.7.2->en-core-web-sm==3.7.1) (4.9.0)\n",
            "Requirement already satisfied: charset-normalizer<4,>=2 in c:\\users\\owner\\miniconda3\\lib\\site-packages (from requests<3.0.0,>=2.13.0->spacy<3.8.0,>=3.7.2->en-core-web-sm==3.7.1) (2.0.4)\n",
            "Requirement already satisfied: idna<4,>=2.5 in c:\\users\\owner\\miniconda3\\lib\\site-packages (from requests<3.0.0,>=2.13.0->spacy<3.8.0,>=3.7.2->en-core-web-sm==3.7.1) (3.4)\n",
            "Requirement already satisfied: urllib3<3,>=1.21.1 in c:\\users\\owner\\miniconda3\\lib\\site-packages (from requests<3.0.0,>=2.13.0->spacy<3.8.0,>=3.7.2->en-core-web-sm==3.7.1) (1.26.18)\n",
            "Requirement already satisfied: certifi>=2017.4.17 in c:\\users\\owner\\miniconda3\\lib\\site-packages (from requests<3.0.0,>=2.13.0->spacy<3.8.0,>=3.7.2->en-core-web-sm==3.7.1) (2024.2.2)\n",
            "Requirement already satisfied: blis<0.8.0,>=0.7.8 in c:\\users\\owner\\miniconda3\\lib\\site-packages (from thinc<8.3.0,>=8.2.2->spacy<3.8.0,>=3.7.2->en-core-web-sm==3.7.1) (0.7.11)\n",
            "Requirement already satisfied: confection<1.0.0,>=0.0.1 in c:\\users\\owner\\miniconda3\\lib\\site-packages (from thinc<8.3.0,>=8.2.2->spacy<3.8.0,>=3.7.2->en-core-web-sm==3.7.1) (0.1.4)\n",
            "Requirement already satisfied: colorama in c:\\users\\owner\\miniconda3\\lib\\site-packages (from tqdm<5.0.0,>=4.38.0->spacy<3.8.0,>=3.7.2->en-core-web-sm==3.7.1) (0.4.6)\n",
            "Requirement already satisfied: click<9.0.0,>=7.1.1 in c:\\users\\owner\\appdata\\roaming\\python\\python311\\site-packages (from typer<0.10.0,>=0.3.0->spacy<3.8.0,>=3.7.2->en-core-web-sm==3.7.1) (8.1.7)\n",
            "Requirement already satisfied: cloudpathlib<0.17.0,>=0.7.0 in c:\\users\\owner\\miniconda3\\lib\\site-packages (from weasel<0.4.0,>=0.1.0->spacy<3.8.0,>=3.7.2->en-core-web-sm==3.7.1) (0.16.0)\n",
            "Requirement already satisfied: MarkupSafe>=2.0 in c:\\users\\owner\\miniconda3\\lib\\site-packages (from jinja2->spacy<3.8.0,>=3.7.2->en-core-web-sm==3.7.1) (2.1.5)\n",
            "\u001b[38;5;2m✔ Download and installation successful\u001b[0m\n",
            "You can now load the package via spacy.load('en_core_web_sm')\n"
          ]
        }
      ],
      "source": [
        "# BIGRAMS DATA\n",
        "!python -m spacy download en_core_web_sm\n",
        "import spacy\n",
        "\n",
        "# Form Bigrams\n",
        "data_words_bigrams = make_bigrams(data_words)\n",
        "\n",
        "# Form Trigrams\n",
        "data_words_trigrams = make_trigrams(data_words)\n",
        "\n",
        "# Initialize spacy 'en' model, keeping only tagger component (for efficiency)\n",
        "nlp = spacy.load(\"en_core_web_sm\", disable=['parser', 'ner'])\n",
        "\n",
        "# Do lemmatization keeping only noun, adj, vb, adv\n",
        "data_lemmatized = lemmatization(data_words_bigrams, allowed_postags=['NOUN', 'ADJ', 'VERB', 'ADV'])\n"
      ]
    },
    {
      "cell_type": "code",
      "execution_count": 28,
      "metadata": {
        "colab": {
          "base_uri": "https://localhost:8080/"
        },
        "id": "Svyyw3T_TWDY",
        "outputId": "062ce0a3-a02a-4bc5-c926-14f53bb314cd"
      },
      "outputs": [
        {
          "name": "stdout",
          "output_type": "stream",
          "text": [
            "<class 'list'>\n"
          ]
        }
      ],
      "source": [
        "print(type(data_lemmatized))"
      ]
    },
    {
      "cell_type": "markdown",
      "metadata": {
        "id": "52HMZJNfK-6g"
      },
      "source": [
        "Remove Duplicate Words (TO REMOVE)"
      ]
    },
    {
      "cell_type": "code",
      "execution_count": 29,
      "metadata": {
        "id": "7TsA85qZqam1"
      },
      "outputs": [],
      "source": [
        "# from collections import Counter\n",
        "# def unique(d):\n",
        "#   UniqW = Counter(d)\n",
        "#   result = [*UniqW]\n",
        "#   # corpus = ' '.join(UniqW.keys())\n",
        "#   return result"
      ]
    },
    {
      "cell_type": "code",
      "execution_count": 30,
      "metadata": {
        "id": "_UK5UWvMEmhe"
      },
      "outputs": [],
      "source": [
        "# single_data = []\n",
        "# for d in data_lemmatized:\n",
        "#   for word in d:\n",
        "#     single_data.append(word)"
      ]
    },
    {
      "cell_type": "code",
      "execution_count": 31,
      "metadata": {
        "id": "4V_DwEN_A0gk"
      },
      "outputs": [],
      "source": [
        "# unique_data = [unique(d) for d in data_lemmatized]\n",
        "# # unique_data = unique(single_data)"
      ]
    },
    {
      "cell_type": "code",
      "execution_count": 32,
      "metadata": {
        "colab": {
          "base_uri": "https://localhost:8080/"
        },
        "id": "nSsieaNDG4TQ",
        "outputId": "90222135-3d0e-41fb-826e-84d8c8159d08"
      },
      "outputs": [],
      "source": [
        "# print(type(unique_data))"
      ]
    },
    {
      "cell_type": "code",
      "execution_count": 33,
      "metadata": {
        "id": "jBk1WzFhCMCE"
      },
      "outputs": [],
      "source": [
        "# unique_data"
      ]
    },
    {
      "cell_type": "code",
      "execution_count": 34,
      "metadata": {
        "colab": {
          "base_uri": "https://localhost:8080/"
        },
        "id": "EYowXc6I5gYo",
        "outputId": "90609a11-3f4c-4c6a-b9aa-fd1db3697258"
      },
      "outputs": [
        {
          "name": "stdout",
          "output_type": "stream",
          "text": [
            "[(0, 1), (1, 1), (2, 2), (3, 1), (4, 1), (5, 1), (6, 1), (7, 1), (8, 2), (9, 1), (10, 1)]\n",
            "['live', 'chat', 'hi', 'anyone', 'know', 'access', 'live', 'chat', 'history', 'child', 'account', 'tried', 'contacting', 'roblox', 'heard', 'back']\n"
          ]
        }
      ],
      "source": [
        "from prompt_toolkit.completion import word_completer\n",
        "id2word = corpora.Dictionary(data_lemmatized)\n",
        "# id2word = corpora.Dictionary(bag_of_words)\n",
        "\n",
        "corpus = []\n",
        "for text in data_lemmatized:\n",
        "  new = id2word.doc2bow(text)\n",
        "  corpus.append(new)\n",
        "\n",
        "print(corpus[0])\n",
        "\n",
        "print(data_words[:1][0][:30])\n",
        "# print(word_completer)"
      ]
    },
    {
      "cell_type": "code",
      "execution_count": 35,
      "metadata": {
        "id": "mKHoJVMrICnA"
      },
      "outputs": [],
      "source": [
        "lda_model = gensim.models.LdaMulticore(corpus=corpus,\n",
        "                                       id2word=id2word,\n",
        "                                       num_topics=5,\n",
        "                                       random_state=100,\n",
        "                                       chunksize=100,\n",
        "                                       passes=10,\n",
        "                                       per_word_topics=True,\n",
        "                                       alpha=0.01,\n",
        "                                       eta=0.61)"
      ]
    },
    {
      "cell_type": "code",
      "execution_count": 36,
      "metadata": {
        "colab": {
          "base_uri": "https://localhost:8080/",
          "height": 916
        },
        "id": "lwJxooAf0IV2",
        "outputId": "4af43a9d-d36c-4696-b6b5-187171bed83f"
      },
      "outputs": [
        {
          "data": {
            "text/html": [
              "\n",
              "<link rel=\"stylesheet\" type=\"text/css\" href=\"https://cdn.jsdelivr.net/gh/bmabey/pyLDAvis@3.4.0/pyLDAvis/js/ldavis.v1.0.0.css\">\n",
              "\n",
              "\n",
              "<div id=\"ldavis_el2321616310796554408120749248\" style=\"background-color:white;\"></div>\n",
              "<script type=\"text/javascript\">\n",
              "\n",
              "var ldavis_el2321616310796554408120749248_data = {\"mdsDat\": {\"x\": [0.15365833336777468, 0.07121378111298042, 0.09379873998300835, -0.18240887974430886, -0.13626197471945464], \"y\": [0.06879385124003884, 0.15059511463424136, -0.08205813116972825, 0.03591564977865635, -0.17324648448320834], \"topics\": [1, 2, 3, 4, 5], \"cluster\": [1, 1, 1, 1, 1], \"Freq\": [42.39775429186137, 36.71747179587812, 15.300490618750896, 3.531978224009496, 2.0523050695001372]}, \"tinfo\": {\"Term\": [\"game\", \"money\", \"play\", \"roblox\", \"account\", \"buy\", \"love\", \"spend\", \"use\", \"phone\", \"make\", \"purchase\", \"pay\", \"lol\", \"girl\", \"free\", \"time\", \"video\", \"give\", \"old\", \"ban\", \"robux\", \"watch\", \"card\", \"want\", \"school\", \"set\", \"scam\", \"pet\", \"show\", \"chat\", \"minecraft\", \"youtube\", \"gamer\", \"server\", \"sex\", \"hobby\", \"filter\", \"video\", \"tiktok\", \"programming\", \"porn\", \"moderation\", \"explore\", \"discord\", \"play\", \"playing\", \"controller\", \"violent\", \"console\", \"content\", \"groom\", \"creative\", \"offline\", \"graphic\", \"harmless\", \"title\", \"chat_feature\", \"violence\", \"mario\", \"gaming\", \"online\", \"channel\", \"platform\", \"interest\", \"game\", \"roblox\", \"friendly\", \"safe\", \"pc\", \"monitor\", \"friend\", \"build\", \"watch\", \"computer\", \"enjoy\", \"kid\", \"age\", \"people\", \"many\", \"fun\", \"internet\", \"also\", \"old\", \"know\", \"lot\", \"see\", \"stuff\", \"think\", \"love\", \"child\", \"thing\", \"good\", \"find\", \"let\", \"make\", \"use\", \"year\", \"want\", \"go\", \"really\", \"even\", \"parent\", \"say\", \"time\", \"get\", \"way\", \"grandma\", \"wake\", \"therapy\", \"homework\", \"cry\", \"privilege\", \"schedule\", \"punishment\", \"father\", \"consequence\", \"routine\", \"therapist\", \"secret\", \"teacher\", \"kindergarten\", \"emergency\", \"morning\", \"wifi\", \"electronic\", \"cope\", \"whine\", \"sleep\", \"distance\", \"smartphone\", \"delay\", \"military\", \"phone\", \"apologize\", \"flip_phone\", \"timer\", \"bed\", \"quiet\", \"dinner\", \"boundary\", \"relationship\", \"minute\", \"wife\", \"weekend\", \"home\", \"night\", \"time\", \"day\", \"week\", \"away\", \"take\", \"break\", \"need\", \"school\", \"tell\", \"work\", \"dad\", \"go\", \"feel\", \"hour\", \"give\", \"say\", \"parent\", \"screen\", \"talk\", \"year\", \"get\", \"back\", \"mom\", \"kid\", \"old\", \"child\", \"want\", \"thing\", \"try\", \"know\", \"make\", \"think\", \"good\", \"help\", \"well\", \"use\", \"also\", \"money\", \"cash\", \"dollar\", \"saving\", \"robux\", \"bank\", \"item\", \"currency\", \"allowance\", \"price\", \"trade\", \"pair\", \"budget\", \"gift_card\", \"pet\", \"donate\", \"buying\", \"invest\", \"credit_card\", \"cash_grab\", \"gamepass\", \"debt\", \"cost\", \"obby_obby\", \"mlg\", \"tix\", \"profit\", \"coin\", \"buy\", \"converse\", \"purchase\", \"buck\", \"save\", \"brand\", \"card\", \"scam\", \"pay\", \"expensive\", \"sell\", \"spend\", \"earn\", \"steal\", \"skin\", \"value\", \"adopt\", \"gift\", \"shoe\", \"make\", \"scamme\", \"want\", \"free\", \"account\", \"give\", \"game\", \"get\", \"much\", \"thing\", \"really\", \"go\", \"roblox\", \"use\", \"kid\", \"people\", \"work\", \"think\", \"good\", \"even\", \"also\", \"makeup\", \"cake\", \"tease\", \"bluey_theme\", \"unicorn\", \"race\", \"sing\", \"binge\", \"inner_beauty\", \"wear\", \"report_post\", \"soap\", \"pink\", \"bluey\", \"outer_beauty\", \"slime\", \"comedy\", \"goosebump\", \"truck\", \"inner\", \"brown\", \"heavy_metal\", \"lip\", \"frozen\", \"queen\", \"beautiful\", \"radio\", \"fifi\", \"stereotypical\", \"patriarchy\", \"tattoo\", \"theme\", \"black\", \"episode\", \"hair\", \"color\", \"cookie\", \"birthday_party\", \"bake\", \"laugh\", \"red\", \"love\", \"party\", \"blue\", \"hot\", \"girl\", \"lol\", \"woman\", \"funny\", \"dress\", \"movie\", \"music\", \"birthday\", \"show\", \"comment\", \"joke\", \"baby\", \"great\", \"make\", \"skin\", \"old\", \"like\", \"watch\", \"mom\", \"kid\", \"think\", \"sound\", \"school\", \"email\", \"phishe\", \"tos\", \"malicious\", \"email_address\", \"anonymous\", \"backdoor\", \"authentication\", \"exploiter\", \"antivirus\", \"script\", \"blockchain\", \"microsoft_reward\", \"domain\", \"virus\", \"step_verification\", \"sht\", \"heroin\", \"toolbox\", \"security\", \"screenshot\", \"iron\", \"gmail\", \"pin\", \"tap\", \"password\", \"billing\", \"confirmation\", \"official\", \"datamine\", \"illegal\", \"recover\", \"hacker\", \"hack\", \"account\", \"epic\", \"setting\", \"vote\", \"model\", \"link\", \"appeal\", \"apple\", \"log\", \"studio\", \"ban\", \"download\", \"delete\", \"website\", \"purchase\", \"code\", \"free\", \"roblox\", \"use\", \"contact\", \"add\", \"user\", \"set\", \"scam\", \"support\", \"send\", \"app\"], \"Freq\": [5052.0, 1378.0, 3762.0, 2363.0, 552.0, 895.0, 865.0, 811.0, 1595.0, 1151.0, 2690.0, 316.0, 448.0, 422.0, 320.0, 339.0, 2790.0, 812.0, 1279.0, 1946.0, 221.0, 285.0, 806.0, 314.0, 2240.0, 1064.0, 540.0, 250.0, 252.0, 526.0, 502.5073777491864, 425.6286616590496, 369.09916357715167, 161.63910132338458, 138.31090417228532, 116.63404862062315, 136.53933335407967, 76.94581841766926, 791.9118687628577, 88.05058158935041, 58.17477691450321, 60.05339639521865, 68.83769517804609, 53.95906198669412, 80.160371098927, 3592.2607135934372, 121.16083985112243, 37.85693860229165, 32.89642830549235, 92.96674119314622, 256.32857879570304, 38.43638447110979, 69.45041038952624, 26.72447024821123, 31.28782596043722, 27.827776386131653, 46.420394419053686, 26.761717604152008, 32.31612974717939, 26.070181004222334, 259.6029353605122, 572.5306437294014, 80.05907447741612, 178.9214409089758, 239.7660247626482, 4365.766051159797, 1988.3539706102365, 75.54117145097294, 274.2510425017051, 137.3200500745844, 190.0863837256807, 1046.2282737791747, 186.21965365217017, 637.5736827747951, 270.1705041504614, 267.18016544924643, 2889.0047347946966, 680.7731293413799, 941.9622694953441, 406.6690095753403, 430.06417898269314, 395.1165121570609, 985.897167977387, 1073.5470577659971, 1083.1488617627028, 592.8099701037943, 757.7821479482155, 516.7338805184696, 1045.924196033906, 535.970382093071, 860.1278376802708, 1045.526929443509, 841.4217378761715, 522.373193075688, 640.9993555940227, 1072.1210140739267, 768.272541112702, 814.7892677661231, 859.2213275807347, 808.9743878871591, 605.7486515933526, 595.2329956960368, 622.080343558778, 664.669264447077, 749.1662842453422, 652.9856840844255, 594.2184397208529, 205.19432753201963, 119.20816079225726, 75.66264206420104, 142.40706649022104, 78.30482080358986, 81.27850706743159, 59.63896275018259, 98.39697538406115, 102.21275071210368, 144.9203106869881, 55.60716589727662, 48.58587808279601, 65.48608136470774, 134.48441651925006, 53.152672245873525, 45.45014594958339, 118.07196229255698, 40.03090878352102, 103.2786588277469, 32.32285663171785, 37.08695450104103, 171.26253327114503, 33.97800680904673, 27.653349143005652, 28.381576170817, 44.32281823152493, 1074.1265834965122, 26.385981977899732, 25.244949136881427, 58.11605449332218, 176.95766895589722, 70.42095194996232, 78.83331913193776, 170.22059347556402, 112.83218714070442, 240.3641762657883, 202.87867491166088, 129.32587081763438, 337.5992075447351, 229.37121578508516, 1911.3739719481853, 922.7564416871164, 337.4910935245277, 357.37511171937274, 987.8334220024493, 253.46872696982985, 1019.822856147328, 725.3749854653547, 690.6230491111562, 732.9741569861914, 232.3754788666355, 1350.6001916746952, 632.2827312450536, 380.4542133653076, 728.0363075705583, 959.6106312585091, 782.8401780370716, 400.2393043529612, 634.8236485257149, 872.4831970009654, 939.746789007236, 434.91374105294307, 476.39212672364573, 1500.3017879571296, 817.2120757122266, 742.1162124499558, 874.5258235462136, 845.049220566999, 584.7155161519714, 753.5464101594071, 879.6826545429475, 742.3443057475085, 600.9176499346305, 439.90100400779573, 512.4360744320899, 521.1182385369169, 529.3023622282113, 1376.002869170869, 164.48782680277873, 96.47088603975011, 71.61781412622909, 278.320996605051, 68.9016101991736, 201.31248350203657, 65.34673812370752, 83.1938660709325, 69.79134916498728, 136.28830724241323, 51.516607433321376, 47.54863649220857, 42.59107458373159, 238.22007812391945, 63.94518006841072, 28.163461748262105, 39.155250398648946, 62.65754561039087, 22.807933937444673, 23.90270199873767, 23.414772807039974, 119.23232321073762, 20.197154843679385, 23.575954643337514, 18.776553454840595, 26.867250292772955, 34.22161228913316, 811.3166798009659, 35.98474724625761, 280.3630365352187, 47.50149821119455, 205.31136188431879, 70.19186808664134, 260.7452919021556, 204.3664474510513, 353.2761207073637, 61.74554139544587, 138.20974243589492, 573.8020799292128, 178.49557357636164, 93.79002278454138, 99.08405125473293, 124.39674487818537, 197.77357627257447, 162.95874817093923, 111.29907256031144, 684.3351006596088, 94.82318458611569, 492.13466906067197, 165.30329090026748, 214.31511778531907, 336.5889188812578, 682.846912061311, 352.3247598351348, 267.262015824292, 350.61626575000014, 266.4420246159468, 323.17204352348347, 300.3854047399866, 263.7691307448263, 363.7347898987541, 244.95838013087547, 224.90256972010383, 251.95821145440226, 229.86457529038918, 204.41077975782483, 202.4214379014971, 23.812454674639163, 23.267891419370134, 10.364394124040311, 16.16851464651199, 8.891096048376475, 10.583261819531218, 8.305285534947323, 6.179441736753603, 6.408992218673231, 61.05652734220141, 5.43030125522794, 5.4628980208274465, 7.1838584343379335, 78.10989527429915, 5.578772482345068, 10.739245189770402, 4.9384876441038665, 5.0065842372634615, 6.90055751190021, 4.512019564830965, 4.412888050396744, 5.086091715025199, 5.893542054651009, 4.698283571920387, 5.225313476714776, 19.572883787664395, 4.345784427834139, 4.17263040174577, 6.067427790809484, 6.074630514782191, 10.341312900257485, 35.72337988558039, 23.71718728767513, 19.627006855523824, 22.263297738848237, 24.26888524286263, 12.561655353404111, 9.813063980331902, 22.787663267854647, 18.366566881249806, 11.351047513727725, 127.71944071888764, 34.014023292153304, 9.628940925002524, 10.974303814134684, 51.72883304831612, 58.0008049563293, 20.28501376584146, 21.53890537142554, 17.224132387537573, 23.007360495617544, 22.344042893207376, 20.852043018491297, 36.8497570905966, 27.830475430851617, 19.67930471159176, 22.16568743490119, 33.72183770585322, 47.77845348528956, 19.231758205247875, 38.07300295677386, 23.37881758242928, 25.114820341667308, 24.440375689536157, 28.83173412676768, 24.44018305504629, 20.787072220921196, 20.771100413780047, 52.478101159846744, 12.103385382116745, 11.455145993044878, 14.795474955950153, 5.712703403764828, 6.436609816476289, 8.154999559841396, 5.4866240307269285, 9.42420167735849, 4.934146078259757, 22.79048735193655, 10.238899353927225, 4.198533927565858, 4.380818134957464, 17.347462254403855, 5.080746061356835, 3.257926374030666, 3.5818764201900426, 6.883926063325167, 13.575629672506688, 3.487965025365987, 3.297912671280402, 2.9838284652463707, 8.9760172505702, 6.137597032299401, 52.051468722900076, 2.931556652314932, 4.432795249420348, 10.213869747261414, 3.114049859510647, 15.742706141770881, 10.986961946508078, 9.344026903969016, 17.14675808101329, 118.65276574998127, 5.633365329172726, 24.84475219806636, 10.33936197441012, 23.873322507729718, 22.573571089975534, 14.636324490892525, 18.9676385299897, 18.18002093180508, 12.336337438252775, 28.243730528594988, 16.807804122556924, 18.009158082746136, 15.12270113962465, 28.795162607565448, 19.10708040096747, 26.616958603960978, 49.28313182304211, 40.416374423203074, 17.342223792368145, 16.868552932563976, 13.78491350647497, 18.418480089055574, 15.438592713002333, 14.104515657127946, 14.027610725025186, 13.859930969217107], \"Total\": [5052.0, 1378.0, 3762.0, 2363.0, 552.0, 895.0, 865.0, 811.0, 1595.0, 1151.0, 2690.0, 316.0, 448.0, 422.0, 320.0, 339.0, 2790.0, 812.0, 1279.0, 1946.0, 221.0, 285.0, 806.0, 314.0, 2240.0, 1064.0, 540.0, 250.0, 252.0, 526.0, 504.92659323428046, 427.70561010871694, 372.1557064467966, 164.0736325831476, 140.56806553327198, 118.89236134795978, 139.73879571710253, 78.8652550900933, 812.1644045325016, 90.81937074805722, 60.155339177668786, 62.13989563383902, 71.35779209819054, 56.14742341260631, 83.84656125777741, 3762.4741136796747, 127.77042879753147, 39.94743549481294, 34.79909542540453, 98.40480761553275, 271.78943449301994, 40.77164936271604, 74.01397919601379, 28.481280914906975, 33.350019092548955, 29.66371085674392, 49.524343615642465, 28.55438605053253, 34.55212383186241, 27.900178360055268, 278.7926503725934, 624.3360786839085, 85.83894284629578, 194.20873728821277, 261.31069575014254, 5052.438900195127, 2363.5531697430333, 81.80905680041863, 317.47523250712953, 153.8642925758826, 217.1421963787149, 1348.115142746397, 212.96268001702185, 806.8667109272034, 318.69096374634415, 322.5891277947617, 4783.165065639589, 949.9204122357736, 1396.3139553250473, 544.688104083965, 588.7712126060497, 535.6191073518027, 1729.427704055673, 1946.9766965981175, 2001.2920054649517, 951.5974499646046, 1319.2629009574298, 804.3389104200368, 2065.056655653165, 865.4518785616401, 1697.0268156799011, 2252.9628012699836, 1684.1486898541248, 840.7448125083774, 1163.470220817477, 2690.2906660165327, 1595.551932106075, 1766.1168515056831, 2240.03162572292, 2486.464556272859, 1275.6694831989726, 1249.2080726363922, 1452.761983456081, 1818.915133178181, 2790.966059670803, 1956.3167747150417, 1260.6199049634613, 207.25338606492846, 121.0894294441283, 77.4764634074702, 145.88886506985577, 80.34533288969641, 83.40846330601806, 61.72256685761694, 101.92577206266316, 105.89108915551716, 150.55551774569054, 57.77140467771118, 50.479599628771574, 68.15444254271851, 140.30990657934754, 55.46529074245671, 47.44509662218339, 124.10904645088833, 42.091318855031396, 108.82460926330252, 34.12103500112056, 39.17980819484225, 181.00425832237343, 36.0315140145986, 29.536125166296593, 30.348016107611425, 47.4759015129106, 1151.2233426778785, 28.29620281731369, 27.07398942409658, 62.33026685265565, 190.3777157173241, 76.30312988335288, 85.6605383205612, 188.2756022340073, 124.25902599654246, 271.14643992170886, 228.18799764044536, 144.6919576717567, 399.4420727123068, 269.2907358321447, 2790.966059670803, 1255.898932083623, 419.75569105957624, 450.8378237748975, 1384.7833687915222, 314.46583118335275, 1530.7172206066787, 1064.3569149146915, 1070.8928608290173, 1172.5487458814532, 295.67235275178314, 2486.464556272859, 993.9254010333809, 536.5418372595673, 1279.1524870781493, 1818.915133178181, 1452.761983456081, 614.6623591068086, 1146.9746709074416, 1766.1168515056831, 1956.3167747150417, 699.1329805727423, 800.5092174384158, 4783.165065639589, 1946.9766965981175, 1697.0268156799011, 2240.03162572292, 2252.9628012699836, 1275.22746198442, 2001.2920054649517, 2690.2906660165327, 2065.056655653165, 1684.1486898541248, 788.6778024255395, 1236.3090564180193, 1595.551932106075, 1729.427704055673, 1378.7245664934721, 166.5139607139833, 98.56551658825576, 73.44118943620032, 285.89754054974117, 70.78455107686516, 207.13592423463714, 67.56561359834343, 86.14038622175015, 72.41607613390022, 141.46733124820184, 53.66671947946913, 49.557827775721634, 44.560363476512336, 252.4501029844391, 67.9129206233203, 30.118477164477305, 42.082104306937175, 67.67874396753346, 24.77193173765605, 25.97297590464222, 25.452019328407754, 129.7673023122905, 21.98249532095686, 25.862217436075593, 20.603875789371255, 29.486068129861316, 37.674700729823826, 895.0162894107547, 39.812792198006875, 316.46417967008495, 52.73065880931371, 237.8469108473248, 79.55262406287157, 314.38603678665277, 250.10632843637626, 448.43280901039594, 70.83521916532875, 170.40573262721188, 811.5042377761441, 231.50044356342195, 112.73222938363602, 120.16978329280909, 155.84241088529723, 275.14182526081305, 246.047564901528, 148.1567612164572, 2690.2906660165327, 127.9984955454601, 2240.03162572292, 339.10857765749734, 552.2195998302417, 1279.1524870781493, 5052.438900195127, 1956.3167747150417, 1159.8004227233146, 2252.9628012699836, 1275.6694831989726, 2486.464556272859, 2363.5531697430333, 1595.551932106075, 4783.165065639589, 1396.3139553250473, 1172.5487458814532, 2065.056655653165, 1684.1486898541248, 1249.2080726363922, 1729.427704055673, 25.97592079084465, 25.553032070094414, 12.685390495225885, 20.03195948836086, 11.197826936617872, 13.383385118266665, 10.538827108069194, 8.284066212672299, 8.712424896990084, 83.01089425382277, 7.390853560294967, 7.535848676603452, 9.921628055643827, 107.99193988667481, 7.773840487697141, 15.099780805881657, 6.994052362550876, 7.095317375968972, 9.95627066087053, 6.540272165633338, 6.4106983458171864, 7.394255492372191, 8.780404056131516, 7.003299518303861, 7.793265134112405, 29.273824684449934, 6.549638925553079, 6.329864250195073, 9.21431642310578, 9.304074049982544, 16.181924261992407, 67.91794977143842, 43.60350392134631, 35.23698524682549, 44.309192881160534, 51.30275388831103, 23.50825194110139, 17.282932913875243, 55.519970498051705, 41.33276235427099, 21.82067143406901, 865.4518785616401, 123.39195325851887, 18.327103696714953, 23.366226971597335, 320.3166618471456, 422.42236623022006, 70.04491894526146, 79.9086788153131, 63.21802226524257, 122.02309775687193, 125.85776244952429, 112.81130827316163, 526.4714180853578, 256.90033340669453, 99.75276079057063, 145.4715027865726, 571.5854540093544, 2690.2906660165327, 120.16978329280909, 1946.9766965981175, 422.19411843482527, 806.8667109272034, 800.5092174384158, 4783.165065639589, 2065.056655653165, 381.7999023948489, 1064.3569149146915, 60.5239513044579, 14.465963922763402, 14.229969090772105, 19.283150920575906, 7.907611553404564, 8.919613021593428, 11.342593328251185, 7.805548120695418, 13.446162105450423, 7.103363749637026, 32.93655041008529, 14.91664514211284, 6.288143421518168, 6.583031272635945, 26.215301561972797, 7.740929747404488, 5.392958295123211, 5.929841897934025, 11.440195754751416, 22.61238783571237, 5.810508694317267, 5.58374774175099, 5.1106452951551535, 15.448511519674238, 10.577507041633154, 89.76947959312047, 5.056667846332578, 7.648636358938143, 17.67439310877247, 5.456735112963798, 30.347346395701216, 21.33717505177934, 18.66178221358387, 41.60666902999722, 552.2195998302417, 10.908323558676097, 78.84454838347662, 24.956457156939862, 93.62763312591932, 92.11314584475234, 45.96552561877585, 71.26014126387881, 70.27798779406605, 39.94770678252867, 221.16769873123206, 79.79167180200184, 95.107756476617, 66.34072605659705, 316.46417967008495, 125.55537133520946, 339.10857765749734, 2363.5531697430333, 1595.551932106075, 145.96177705943046, 277.5196753990502, 86.67340726154954, 540.7876690195941, 250.10632843637626, 157.961667386539, 193.38286812915248, 352.39714688555523], \"Category\": [\"Default\", \"Default\", \"Default\", \"Default\", \"Default\", \"Default\", \"Default\", \"Default\", \"Default\", \"Default\", \"Default\", \"Default\", \"Default\", \"Default\", \"Default\", \"Default\", \"Default\", \"Default\", \"Default\", \"Default\", \"Default\", \"Default\", \"Default\", \"Default\", \"Default\", \"Default\", \"Default\", \"Default\", \"Default\", \"Default\", \"Topic1\", \"Topic1\", \"Topic1\", \"Topic1\", \"Topic1\", \"Topic1\", \"Topic1\", \"Topic1\", \"Topic1\", \"Topic1\", \"Topic1\", \"Topic1\", \"Topic1\", \"Topic1\", \"Topic1\", \"Topic1\", \"Topic1\", \"Topic1\", \"Topic1\", \"Topic1\", \"Topic1\", \"Topic1\", \"Topic1\", \"Topic1\", \"Topic1\", \"Topic1\", \"Topic1\", \"Topic1\", \"Topic1\", \"Topic1\", \"Topic1\", \"Topic1\", \"Topic1\", \"Topic1\", \"Topic1\", \"Topic1\", \"Topic1\", \"Topic1\", \"Topic1\", \"Topic1\", \"Topic1\", \"Topic1\", \"Topic1\", \"Topic1\", \"Topic1\", \"Topic1\", \"Topic1\", \"Topic1\", \"Topic1\", \"Topic1\", \"Topic1\", \"Topic1\", \"Topic1\", \"Topic1\", \"Topic1\", \"Topic1\", \"Topic1\", \"Topic1\", \"Topic1\", \"Topic1\", \"Topic1\", \"Topic1\", \"Topic1\", \"Topic1\", \"Topic1\", \"Topic1\", \"Topic1\", \"Topic1\", \"Topic1\", \"Topic1\", \"Topic1\", \"Topic1\", \"Topic1\", \"Topic1\", \"Topic1\", \"Topic1\", \"Topic1\", \"Topic2\", \"Topic2\", \"Topic2\", \"Topic2\", \"Topic2\", \"Topic2\", \"Topic2\", \"Topic2\", \"Topic2\", \"Topic2\", \"Topic2\", \"Topic2\", \"Topic2\", \"Topic2\", \"Topic2\", \"Topic2\", \"Topic2\", \"Topic2\", \"Topic2\", \"Topic2\", \"Topic2\", \"Topic2\", \"Topic2\", \"Topic2\", \"Topic2\", \"Topic2\", \"Topic2\", \"Topic2\", \"Topic2\", \"Topic2\", \"Topic2\", \"Topic2\", \"Topic2\", \"Topic2\", \"Topic2\", \"Topic2\", \"Topic2\", \"Topic2\", \"Topic2\", \"Topic2\", \"Topic2\", \"Topic2\", \"Topic2\", \"Topic2\", \"Topic2\", \"Topic2\", \"Topic2\", \"Topic2\", \"Topic2\", \"Topic2\", \"Topic2\", \"Topic2\", \"Topic2\", \"Topic2\", \"Topic2\", \"Topic2\", \"Topic2\", \"Topic2\", \"Topic2\", \"Topic2\", \"Topic2\", \"Topic2\", \"Topic2\", \"Topic2\", \"Topic2\", \"Topic2\", \"Topic2\", \"Topic2\", \"Topic2\", \"Topic2\", \"Topic2\", \"Topic2\", \"Topic2\", \"Topic2\", \"Topic2\", \"Topic2\", \"Topic2\", \"Topic3\", \"Topic3\", \"Topic3\", \"Topic3\", \"Topic3\", \"Topic3\", \"Topic3\", \"Topic3\", \"Topic3\", \"Topic3\", \"Topic3\", \"Topic3\", \"Topic3\", \"Topic3\", \"Topic3\", \"Topic3\", \"Topic3\", \"Topic3\", \"Topic3\", \"Topic3\", \"Topic3\", \"Topic3\", \"Topic3\", \"Topic3\", \"Topic3\", \"Topic3\", \"Topic3\", \"Topic3\", \"Topic3\", \"Topic3\", \"Topic3\", \"Topic3\", \"Topic3\", \"Topic3\", \"Topic3\", \"Topic3\", \"Topic3\", \"Topic3\", \"Topic3\", \"Topic3\", \"Topic3\", \"Topic3\", \"Topic3\", \"Topic3\", \"Topic3\", \"Topic3\", \"Topic3\", \"Topic3\", \"Topic3\", \"Topic3\", \"Topic3\", \"Topic3\", \"Topic3\", \"Topic3\", \"Topic3\", \"Topic3\", \"Topic3\", \"Topic3\", \"Topic3\", \"Topic3\", \"Topic3\", \"Topic3\", \"Topic3\", \"Topic3\", \"Topic3\", \"Topic3\", \"Topic3\", \"Topic3\", \"Topic4\", \"Topic4\", \"Topic4\", \"Topic4\", \"Topic4\", \"Topic4\", \"Topic4\", \"Topic4\", \"Topic4\", \"Topic4\", \"Topic4\", \"Topic4\", \"Topic4\", \"Topic4\", \"Topic4\", \"Topic4\", \"Topic4\", \"Topic4\", \"Topic4\", \"Topic4\", \"Topic4\", \"Topic4\", \"Topic4\", \"Topic4\", \"Topic4\", \"Topic4\", \"Topic4\", \"Topic4\", \"Topic4\", \"Topic4\", \"Topic4\", \"Topic4\", \"Topic4\", \"Topic4\", \"Topic4\", \"Topic4\", \"Topic4\", \"Topic4\", \"Topic4\", \"Topic4\", \"Topic4\", \"Topic4\", \"Topic4\", \"Topic4\", \"Topic4\", \"Topic4\", \"Topic4\", \"Topic4\", \"Topic4\", \"Topic4\", \"Topic4\", \"Topic4\", \"Topic4\", \"Topic4\", \"Topic4\", \"Topic4\", \"Topic4\", \"Topic4\", \"Topic4\", \"Topic4\", \"Topic4\", \"Topic4\", \"Topic4\", \"Topic4\", \"Topic4\", \"Topic4\", \"Topic4\", \"Topic4\", \"Topic5\", \"Topic5\", \"Topic5\", \"Topic5\", \"Topic5\", \"Topic5\", \"Topic5\", \"Topic5\", \"Topic5\", \"Topic5\", \"Topic5\", \"Topic5\", \"Topic5\", \"Topic5\", \"Topic5\", \"Topic5\", \"Topic5\", \"Topic5\", \"Topic5\", \"Topic5\", \"Topic5\", \"Topic5\", \"Topic5\", \"Topic5\", \"Topic5\", \"Topic5\", \"Topic5\", \"Topic5\", \"Topic5\", \"Topic5\", \"Topic5\", \"Topic5\", \"Topic5\", \"Topic5\", \"Topic5\", \"Topic5\", \"Topic5\", \"Topic5\", \"Topic5\", \"Topic5\", \"Topic5\", \"Topic5\", \"Topic5\", \"Topic5\", \"Topic5\", \"Topic5\", \"Topic5\", \"Topic5\", \"Topic5\", \"Topic5\", \"Topic5\", \"Topic5\", \"Topic5\", \"Topic5\", \"Topic5\", \"Topic5\", \"Topic5\", \"Topic5\", \"Topic5\", \"Topic5\", \"Topic5\"], \"logprob\": [30.0, 29.0, 28.0, 27.0, 26.0, 25.0, 24.0, 23.0, 22.0, 21.0, 20.0, 19.0, 18.0, 17.0, 16.0, 15.0, 14.0, 13.0, 12.0, 11.0, 10.0, 9.0, 8.0, 7.0, 6.0, 5.0, 4.0, 3.0, 2.0, 1.0, -5.5096, -5.6756, -5.8181, -6.6438, -6.7997, -6.9702, -6.8126, -7.3861, -5.0548, -7.2513, -7.6658, -7.634, -7.4975, -7.741, -7.3452, -3.5427, -6.9321, -8.0954, -8.2358, -7.197, -6.1827, -8.0802, -7.4886, -8.4436, -8.286, -8.4032, -7.8915, -8.4422, -8.2536, -8.4684, -6.1701, -5.3791, -7.3464, -6.5423, -6.2495, -3.3477, -4.1341, -7.4045, -6.1152, -6.8069, -6.4817, -4.7763, -6.5023, -5.2715, -6.1302, -6.1413, -3.7605, -5.206, -4.8812, -5.7212, -5.6653, -5.75, -4.8357, -4.7505, -4.7416, -5.3443, -5.0988, -5.4817, -4.7765, -5.4451, -4.9721, -4.7769, -4.9941, -5.4708, -5.2662, -4.7518, -5.0851, -5.0263, -4.9732, -5.0334, -5.3227, -5.3403, -5.2961, -5.2299, -5.1102, -5.2476, -5.342, -6.2614, -6.8045, -7.2591, -6.6267, -7.2248, -7.1875, -7.4971, -6.9964, -6.9583, -6.6092, -7.567, -7.702, -7.4035, -6.6839, -7.6122, -7.7687, -6.8141, -7.8957, -6.9479, -8.1096, -7.9721, -6.4422, -8.0596, -8.2656, -8.2396, -7.7939, -4.6061, -8.3125, -8.3567, -7.5229, -6.4095, -7.3309, -7.218, -6.4483, -6.8595, -6.1032, -6.2728, -6.723, -5.7635, -6.15, -4.0298, -4.758, -5.7638, -5.7066, -4.6898, -6.0501, -4.658, -4.9987, -5.0478, -4.9883, -6.137, -4.3771, -5.136, -5.644, -4.995, -4.7188, -4.9224, -5.5933, -5.132, -4.814, -4.7398, -5.5102, -5.4191, -4.2719, -4.8795, -4.9759, -4.8117, -4.846, -5.2142, -4.9606, -4.8058, -4.9755, -5.1869, -5.4988, -5.3462, -5.3294, -5.3138, -3.4831, -5.6072, -6.1408, -6.4387, -5.0812, -6.4773, -5.4051, -6.5303, -6.2888, -6.4645, -5.7952, -6.7681, -6.8482, -6.9583, -5.2368, -6.552, -7.372, -7.0425, -6.5723, -7.5829, -7.536, -7.5566, -5.9289, -7.7045, -7.5498, -7.7774, -7.4191, -7.1771, -4.0113, -7.1269, -5.0739, -6.8492, -5.3855, -6.4588, -5.1464, -5.3901, -4.8427, -6.587, -5.7812, -4.3577, -5.5254, -6.1689, -6.114, -5.8865, -5.4229, -5.6165, -5.9978, -4.1815, -6.158, -4.5112, -5.6022, -5.3425, -4.8911, -4.1837, -4.8454, -5.1218, -4.8503, -5.1248, -4.9318, -5.0049, -5.1349, -4.8136, -5.2089, -5.2943, -5.1807, -5.2725, -5.3899, -5.3996, -6.0738, -6.0969, -6.9056, -6.4609, -7.0589, -6.8847, -7.1271, -7.4227, -7.3863, -5.1322, -7.552, -7.546, -7.2721, -4.8859, -7.525, -6.8701, -7.6469, -7.6332, -7.3124, -7.7372, -7.7594, -7.6175, -7.4701, -7.6968, -7.5905, -6.2698, -7.7748, -7.8154, -7.441, -7.4398, -6.9078, -5.6682, -6.0778, -6.2671, -6.141, -6.0548, -6.7133, -6.9603, -6.1177, -6.3334, -6.8147, -4.3941, -5.7172, -6.9792, -6.8484, -5.298, -5.1835, -6.2341, -6.1741, -6.3977, -6.1082, -6.1374, -6.2065, -5.6371, -5.9178, -6.2644, -6.1454, -5.7258, -5.3774, -6.2874, -5.6045, -6.0921, -6.0205, -6.0477, -5.8825, -6.0477, -6.2096, -6.2104, -4.7407, -6.2076, -6.2626, -6.0068, -6.9584, -6.8391, -6.6024, -6.9988, -6.4578, -7.1049, -5.5747, -6.3749, -7.2663, -7.2238, -5.8476, -7.0756, -7.52, -7.4252, -6.7719, -6.0928, -7.4518, -7.5078, -7.6079, -6.5065, -6.8866, -4.7488, -7.6255, -7.212, -6.3773, -7.5651, -5.9447, -6.3044, -6.4663, -5.8593, -3.9249, -6.9724, -5.4884, -6.3651, -5.5283, -5.5843, -6.0176, -5.7583, -5.8007, -6.1885, -5.3602, -5.8792, -5.8102, -5.9849, -5.3409, -5.751, -5.4195, -4.8035, -5.0018, -5.8479, -5.8756, -6.0775, -5.7877, -5.9642, -6.0546, -6.06, -6.0721], \"loglift\": [30.0, 29.0, 28.0, 27.0, 26.0, 25.0, 24.0, 23.0, 22.0, 21.0, 20.0, 19.0, 18.0, 17.0, 16.0, 15.0, 14.0, 13.0, 12.0, 11.0, 10.0, 9.0, 8.0, 7.0, 6.0, 5.0, 4.0, 3.0, 2.0, 1.0, 0.8533, 0.8532, 0.8498, 0.8431, 0.8419, 0.8389, 0.8349, 0.8334, 0.8328, 0.8271, 0.8246, 0.8239, 0.8221, 0.8183, 0.8131, 0.8118, 0.805, 0.8043, 0.8018, 0.8012, 0.7995, 0.7991, 0.7944, 0.7944, 0.7942, 0.7942, 0.7933, 0.7932, 0.7912, 0.7902, 0.7868, 0.7715, 0.7884, 0.7761, 0.772, 0.712, 0.6852, 0.7784, 0.7117, 0.7443, 0.725, 0.6046, 0.7239, 0.6226, 0.6929, 0.6696, 0.3539, 0.5249, 0.4644, 0.5659, 0.544, 0.5538, 0.2961, 0.2628, 0.2442, 0.3848, 0.3036, 0.4156, 0.1778, 0.3789, 0.1785, 0.0903, 0.1642, 0.3822, 0.2619, -0.0619, 0.1272, 0.0845, -0.1001, -0.2648, 0.1133, 0.1168, 0.0099, -0.1486, -0.4571, -0.2392, 0.106, 0.9919, 0.9863, 0.9782, 0.9778, 0.9762, 0.976, 0.9676, 0.9667, 0.9666, 0.9638, 0.9637, 0.9637, 0.962, 0.9595, 0.9593, 0.959, 0.9521, 0.9517, 0.9496, 0.9478, 0.947, 0.9466, 0.9432, 0.9361, 0.9349, 0.9332, 0.9326, 0.932, 0.932, 0.9319, 0.9288, 0.9217, 0.9189, 0.9011, 0.9055, 0.8814, 0.8844, 0.8896, 0.8337, 0.8415, 0.6234, 0.6937, 0.7838, 0.7696, 0.6641, 0.7863, 0.5958, 0.6185, 0.5633, 0.5321, 0.761, 0.3916, 0.5496, 0.6581, 0.4383, 0.3624, 0.3836, 0.5729, 0.4104, 0.2967, 0.2687, 0.5272, 0.4829, -0.1575, 0.1338, 0.1748, 0.0614, 0.0213, 0.2222, 0.0252, -0.1159, -0.0212, -0.0286, 0.4181, 0.1212, -0.1171, -0.1821, 1.8753, 1.865, 1.8558, 1.8521, 1.8504, 1.8503, 1.8488, 1.8439, 1.8425, 1.8404, 1.84, 1.8364, 1.8359, 1.8321, 1.8193, 1.8171, 1.8102, 1.8052, 1.8002, 1.7947, 1.7942, 1.7939, 1.7926, 1.7926, 1.7847, 1.7844, 1.7843, 1.7812, 1.7791, 1.7762, 1.7562, 1.7728, 1.7302, 1.7521, 1.6902, 1.6753, 1.6388, 1.74, 1.6679, 1.5307, 1.6173, 1.6933, 1.6843, 1.6519, 1.5471, 1.4653, 1.5912, 0.5083, 1.5773, 0.3618, 1.1587, 0.9308, 0.5422, -0.1241, 0.163, 0.4095, 0.017, 0.3112, -0.1631, -0.1856, 0.0774, -0.6991, 0.1368, 0.226, -0.2264, -0.1142, 0.0672, -0.2679, 3.2564, 3.2496, 3.1412, 3.129, 3.1126, 3.1086, 3.1051, 3.0502, 3.0363, 3.0361, 3.0351, 3.0216, 3.0204, 3.0194, 3.0115, 3.0025, 2.9953, 2.9946, 2.9767, 2.9721, 2.9699, 2.9691, 2.9446, 2.9441, 2.9436, 2.9408, 2.9331, 2.9266, 2.9255, 2.917, 2.8956, 2.7008, 2.7344, 2.7581, 2.6551, 2.5948, 2.7166, 2.7773, 2.4528, 2.5322, 2.6898, 1.4299, 2.0547, 2.6997, 2.5876, 1.52, 1.3578, 2.1041, 2.0323, 2.043, 1.6749, 1.6147, 1.655, 0.684, 1.1208, 1.7202, 1.4619, 0.513, -0.6875, 1.511, -0.5912, 0.4497, -0.1264, -0.1457, -1.7681, -1.0934, 0.4327, -0.5933, 3.7436, 3.7079, 3.6693, 3.6213, 3.5611, 3.56, 3.5563, 3.5337, 3.5308, 3.5218, 3.518, 3.5099, 3.4823, 3.4789, 3.4733, 3.4651, 3.3822, 3.3821, 3.3783, 3.376, 3.3759, 3.3596, 3.3481, 3.3433, 3.3419, 3.3412, 3.341, 3.3407, 3.3378, 3.3253, 3.2299, 3.2225, 3.1945, 2.9998, 2.3485, 3.2254, 2.7314, 3.005, 2.5196, 2.48, 2.7418, 2.5626, 2.5341, 2.7112, 1.8282, 2.3286, 2.2221, 2.4076, 1.4892, 2.0035, 1.3414, 0.0159, 0.2105, 1.756, 1.0858, 2.0476, 0.5065, 1.1012, 1.4703, 1.2626, 0.6504]}, \"token.table\": {\"Topic\": [1, 2, 3, 5, 1, 2, 3, 5, 1, 2, 3, 1, 2, 3, 4, 1, 2, 3, 1, 2, 3, 4, 5, 1, 2, 3, 5, 1, 2, 3, 5, 1, 2, 3, 1, 2, 3, 5, 1, 2, 3, 4, 5, 1, 2, 3, 4, 5, 1, 2, 3, 5, 1, 2, 3, 1, 2, 3, 4, 1, 2, 3, 4, 5, 1, 2, 3, 5, 1, 2, 3, 4, 1, 2, 3, 5, 1, 2, 3, 1, 2, 3, 4, 1, 2, 3, 1, 2, 3, 5, 1, 2, 3, 4, 1, 2, 3, 4, 1, 2, 3, 4, 1, 2, 3, 4, 1, 2, 3, 5, 1, 2, 3, 4, 1, 2, 3, 4, 1, 2, 3, 4, 1, 2, 3, 1, 2, 3, 4, 1, 2, 3, 1, 2, 3, 4, 1, 2, 3, 5, 1, 2, 3, 1, 2, 3, 4, 5, 1, 2, 3, 4, 5, 1, 2, 3, 1, 2, 3, 4, 1, 2, 3, 1, 2, 3, 1, 2, 3, 1, 2, 3, 5, 1, 2, 3, 1, 2, 3, 1, 2, 3, 4, 5, 1, 2, 3, 5, 1, 2, 3, 5, 1, 2, 3, 4, 1, 2, 3, 4, 1, 2, 3, 4, 5, 1, 2, 3, 5, 1, 2, 3, 5, 1, 2, 3, 5, 1, 2, 3, 1, 2, 3, 5, 1, 2, 3, 4, 5, 1, 2, 3, 1, 2, 3, 4, 1, 2, 3, 4, 5, 1, 2, 3, 1, 2, 3, 1, 2, 3, 4, 1, 2, 3, 1, 2, 3, 1, 2, 3, 1, 2, 3, 4, 1, 2, 3, 5, 1, 2, 3, 4, 1, 2, 3, 1, 2, 3, 1, 2, 3, 5, 1, 2, 3, 4, 1, 2, 3, 5, 1, 2, 3, 1, 2, 3, 1, 2, 3, 5, 1, 2, 3, 4, 5, 1, 2, 3, 5, 1, 2, 3, 4, 1, 2, 3, 1, 2, 3, 5, 1, 2, 3, 5, 1, 2, 3, 5, 1, 2, 3, 1, 2, 3, 4, 1, 2, 3, 4, 5, 1, 2, 3, 4, 1, 2, 3, 4, 5, 1, 2, 3, 4, 1, 2, 3, 5, 1, 2, 3, 1, 2, 3, 4, 1, 2, 3, 4, 1, 2, 3, 4, 1, 2, 3, 1, 2, 3, 4, 5, 1, 2, 3, 1, 2, 3, 5, 1, 2, 3, 4, 1, 2, 3, 4, 1, 2, 3, 4, 1, 2, 3, 4, 1, 2, 3, 4, 1, 2, 3, 5, 1, 2, 3, 1, 2, 3, 1, 2, 3, 4, 1, 2, 3, 4, 5, 1, 2, 3, 1, 2, 3, 1, 2, 3, 4, 1, 2, 3, 4, 5, 1, 2, 3, 5, 1, 2, 3, 4, 5, 1, 2, 3, 4, 5, 1, 2, 3, 4, 1, 2, 3, 1, 2, 3, 1, 2, 3, 4, 1, 2, 3, 1, 2, 3, 5, 1, 2, 3, 5, 1, 2, 3, 4, 1, 2, 3, 1, 2, 3, 4, 1, 2, 3, 4, 5, 1, 2, 3, 5, 1, 2, 3, 4, 1, 2, 3, 4, 1, 2, 3, 1, 2, 3, 4, 1, 2, 3, 1, 2, 3, 4, 5, 1, 2, 3, 4, 1, 2, 3, 4, 1, 2, 3, 4, 1, 2, 3, 1, 2, 3, 4, 1, 2, 3, 5, 1, 2, 3, 5, 1, 2, 3, 4, 1, 2, 3, 4, 5, 1, 2, 3, 1, 2, 3, 4, 5, 1, 2, 3, 4, 1, 2, 3, 4, 1, 2, 3, 4, 1, 2, 3, 5, 1, 2, 3, 4, 1, 2, 3, 5, 1, 2, 3, 4, 1, 2, 3, 4, 1, 2, 3, 4, 5, 1, 2, 3, 4, 5, 1, 2, 3, 4, 1, 2, 3, 5, 1, 2, 3, 4, 1, 2, 3, 1, 2, 3, 5, 1, 2, 3, 1, 2, 3, 1, 2, 3, 4, 1, 2, 3, 5, 1, 2, 3, 4, 5, 1, 2, 3, 1, 2, 3, 4, 1, 2, 3, 1, 2, 3, 1, 2, 3, 1, 2, 3, 4, 1, 2, 3, 4, 1, 2, 3, 4, 1, 2, 3, 4, 5, 1, 2, 3, 4, 1, 2, 3, 1, 2, 3, 5, 1, 2, 3, 1, 2, 3, 4, 1, 2, 3, 1, 2, 3, 4, 1, 2, 3, 4, 1, 2, 3, 4, 5, 1, 2, 3, 4, 1, 2, 3, 5, 1, 2, 3, 4, 1, 2, 3, 5, 1, 2, 3, 1, 2, 3, 4, 5, 1, 2, 3, 4, 1, 2, 3, 5, 1, 2, 3, 1, 2, 3, 5, 1, 2, 3, 4, 1, 2, 3, 5, 1, 2, 3, 1, 2, 3, 1, 2, 3, 1, 2, 3, 1, 2, 3, 1, 2, 3, 5, 1, 2, 3, 1, 2, 3, 1, 2, 3, 5, 1, 2, 3, 4, 1, 2, 3, 1, 2, 3, 4, 1, 2, 3, 4, 1, 2, 3, 4, 1, 2, 3, 5, 1, 2, 3, 4, 1, 2, 3, 1, 2, 3, 4, 1, 2, 3, 5, 1, 2, 3, 5, 1, 2, 3, 4, 1, 2, 3, 1, 2, 3, 1, 2, 3, 1, 2, 3, 4, 5, 1, 2, 3, 5, 1, 2, 3, 5, 1, 2, 3, 1, 2, 3, 4, 1, 2, 3, 1, 2, 3, 5, 1, 2, 3, 5, 1, 2, 3, 1, 2, 3, 5, 1, 2, 3, 4, 5, 1, 2, 3, 1, 2, 3, 4, 5, 1, 2, 3, 1, 2, 3, 4, 5, 1, 2, 3, 5, 1, 2, 3, 1, 2, 3, 4, 1, 2, 3, 4, 1, 2, 3, 5, 1, 2, 3, 4, 1, 2, 3, 4, 1, 2, 3, 4, 1, 2, 3, 4, 1, 2, 3, 1, 2, 3, 4, 1, 2, 3, 4, 1, 2, 3, 1, 2, 3, 5, 1, 2, 3, 5, 1, 2, 3, 4, 1, 2, 3, 4, 5, 1, 2, 3, 4, 5, 1, 2, 3, 4, 5, 1, 2, 3, 4, 5, 1, 2, 3, 1, 2, 3, 5, 1, 2, 3, 4, 1, 2, 3, 4, 1, 2, 3, 4, 1, 2, 3, 4, 1, 2, 3, 4, 1, 2, 3, 1, 2, 3, 1, 2, 3, 4, 1, 2, 3, 4, 1, 2, 3, 1, 2, 3, 4, 1, 2, 3, 1, 2, 3, 1, 2, 3, 1, 2, 3, 5, 1, 2, 3, 5, 1, 2, 3, 1, 2, 3, 4, 1, 2, 3, 4, 5, 1, 2, 3, 4, 1, 2, 3, 4, 5, 1, 2, 3, 4, 5, 1, 2, 3, 4, 1, 2, 3, 1, 2, 3, 1, 2, 3, 1, 2, 3, 4, 5, 1, 2, 3, 5, 1, 2, 3, 1, 2, 3, 4, 1, 2, 3, 4, 1, 2, 3, 4, 5, 1, 2, 3, 4, 1, 2, 3, 5, 1, 2, 3, 4, 1, 2, 3, 4, 1, 2, 3, 4, 1, 2, 3, 1, 2, 3, 4, 1, 2, 3, 1, 2, 3, 4, 1, 2, 3, 4, 1, 2, 3, 4, 1, 2, 3, 5], \"Freq\": [0.39114873877421363, 0.005432621371864078, 0.3875269911929709, 0.21549398108394177, 0.4936586921377931, 0.18377075400749965, 0.25944106448117593, 0.061256918002499876, 0.2762211813051611, 0.0036344892276994885, 0.7196288670844987, 0.7169021648847076, 0.24423098715602373, 0.031581593166727207, 0.007369038405569682, 0.011608956540149613, 0.023217913080299225, 0.9635433928324179, 0.5701307997366619, 0.30588153454431455, 0.11680164457079686, 0.0052040336689959, 0.0017346778896653, 0.11211248712013706, 0.11211248712013706, 0.11211248712013706, 0.6726749227208224, 0.14077837419646416, 0.14077837419646416, 0.14077837419646416, 0.7038918709823208, 0.03534043088594653, 0.9188512030346098, 0.03534043088594653, 0.41430528393981314, 0.45119548045500196, 0.09080663757584946, 0.03972790393943414, 0.5221304374728298, 0.02175543489470124, 0.06526630468410373, 0.08702173957880496, 0.32633152342051863, 0.08419854204023802, 0.26662871646075376, 0.3788934391810711, 0.01403309034003967, 0.26662871646075376, 0.12811400103326853, 0.12811400103326853, 0.12811400103326853, 0.6405700051663427, 0.17522930826550293, 0.791859025959298, 0.031053295135658746, 0.37120672410475947, 0.42620031286102017, 0.04811939016172808, 0.15123236907971682, 0.16591979383517383, 0.6221992268819019, 0.21169077144487697, 0.0014303430503032227, 0.0014303430503032227, 0.08816325958802415, 0.08816325958802415, 0.08816325958802415, 0.7053060767041932, 0.5403461084521425, 0.036023073896809504, 0.018011536948404752, 0.41426534981330926, 0.7053471229972632, 0.03617164733319299, 0.13112222158282458, 0.12660076566617545, 0.014127376451312052, 0.014127376451312052, 0.9747889751405316, 0.0683204200871773, 0.0683204200871773, 0.17080105021794326, 0.683204200871773, 0.06303258737392245, 0.9297306637653561, 0.0052527156144935375, 0.1977586882091266, 0.1977586882091266, 0.1977586882091266, 0.5932760646273798, 0.12071366576842184, 0.12071366576842184, 0.12071366576842184, 0.724281994610531, 0.168422831813929, 0.07977923612238742, 0.558454652856712, 0.18615155095223734, 0.3471632986079015, 0.057860549767983584, 0.057860549767983584, 0.5786054976798358, 0.27520724072189395, 0.022933936726824495, 0.16053755708777145, 0.5504144814437879, 0.0670392028819395, 0.0670392028819395, 0.134078405763879, 0.6703920288193951, 0.27281997650813894, 0.16369198590488337, 0.05456399530162779, 0.5456399530162779, 0.2592786093979124, 0.00925995033563973, 0.00925995033563973, 0.722276126179899, 0.09984045750302445, 0.049920228751512224, 0.049920228751512224, 0.7987236600241956, 0.09029316490445077, 0.9029316490445076, 0.00531136264143828, 0.012570295597159508, 0.012570295597159508, 0.8799206918011655, 0.10056236477727606, 0.17807976080984322, 0.8045389193730418, 0.012719982914988803, 0.15598924579760862, 0.15598924579760862, 0.15598924579760862, 0.6239569831904345, 0.01896429937688114, 0.056892898130643424, 0.9102863700902948, 0.03792859875376228, 0.020178446975633983, 0.020178446975633983, 0.9685654548304312, 0.8733924647507875, 0.0986088266654115, 0.018782633650554572, 0.004695658412638643, 0.004695658412638643, 0.031284346811647594, 0.05921679932204722, 0.9061287594373642, 0.0011172981004159853, 0.0022345962008319706, 0.03320220987731186, 0.03320220987731186, 0.929661876564732, 0.03913429910223195, 0.03913429910223195, 0.03913429910223195, 0.9000888793513349, 0.006361605688477923, 0.16222094505618706, 0.830189542346369, 0.006005502455843171, 0.006005502455843171, 0.9849024027582801, 0.040368268837100436, 0.040368268837100436, 0.92847018325331, 0.9319779268862728, 0.01164972408607841, 0.01164972408607841, 0.04659889634431364, 0.9961844092585027, 0.001980485903098415, 0.001980485903098415, 0.9455640178086218, 0.03502088954846747, 0.03502088954846747, 0.5067686568378988, 0.43723528299269876, 0.05126613156383395, 0.0035355952802644105, 0.0011785317600881368, 0.7168152110332003, 0.007964613455924448, 0.11946920183886672, 0.1513276556625645, 0.02654301110900095, 0.02654301110900095, 0.9024623777060323, 0.02654301110900095, 0.3313662271816821, 0.09746065505343593, 0.09746065505343593, 0.46781114425649245, 0.14297862643328554, 0.14297862643328554, 0.14297862643328554, 0.7148931321664278, 0.5449584208143802, 0.28804945100188667, 0.038925601486741436, 0.10899168416287602, 0.019462800743370718, 0.8472157378610246, 0.14434045904298937, 0.003137836066151943, 0.003137836066151943, 0.13074225954426597, 0.13074225954426597, 0.13074225954426597, 0.5229690381770639, 0.019926204266172576, 0.9630998728650079, 0.006642068088724192, 0.006642068088724192, 0.9450757768192657, 0.010162105127088879, 0.040648420508355515, 0.22608658694641384, 0.6028975651904369, 0.04795776086742112, 0.11646884782087986, 0.9419056354325449, 0.0036793188884083785, 0.011037956665225137, 0.014717275553633514, 0.02943455110726703, 0.9512500497042967, 0.025032896044849914, 0.025032896044849914, 0.025117555056840813, 0.025117555056840813, 0.9042319820462692, 0.050235110113681626, 0.1276147629996621, 0.2552295259993242, 0.0425382543332207, 0.552997306331869, 0.0425382543332207, 0.029307434547842973, 0.9378379055309751, 0.029307434547842973, 0.007706101476884044, 0.0693549132919564, 0.9170260757492013, 0.9322563217046459, 0.013510961184125302, 0.04053288355237591, 0.013510961184125302, 0.01477568792470078, 0.05910275169880312, 0.9308683392561492, 0.01244627365441212, 0.9708093450441454, 0.01244627365441212, 0.01480042800979636, 0.01480042800979636, 0.9620278206367634, 0.19954520417920335, 0.7846523282978843, 0.0033821221047322597, 0.01014636631419678, 0.18325976601361083, 0.18325976601361083, 0.18325976601361083, 0.5497792980408325, 0.19667187676496384, 0.7349317500164438, 0.05732945395577893, 0.011147393824734793, 0.03928961341326149, 0.03928961341326149, 0.9036611085050142, 0.03295108307752596, 0.9226303261707268, 0.03295108307752596, 0.6098345933989071, 0.04205755816544187, 0.157715843120407, 0.18925901174448842, 0.01167398687430346, 0.9222449630699733, 0.01167398687430346, 0.0583699343715173, 0.9541238042434256, 0.011926547553042819, 0.011926547553042819, 0.023853095106085638, 0.027753482676160596, 0.9436184109894603, 0.027753482676160596, 0.01014553603140301, 0.01014553603140301, 0.9739714590146891, 0.15190570401157838, 0.15190570401157838, 0.15190570401157838, 0.6076228160463135, 0.01472473854491563, 0.01472473854491563, 0.9423832668746003, 0.01472473854491563, 0.02944947708983126, 0.5765012683798152, 0.17545690776776984, 0.03759790880737925, 0.2130548165751491, 0.22145583645847833, 0.490366495015202, 0.015818274032748453, 0.2689106585567237, 0.00863929230205591, 0.21598230755139775, 0.768897014882976, 0.036756392024546114, 0.9464770946320624, 0.009189098006136528, 0.009189098006136528, 0.01652238458407366, 0.09913430750444195, 0.01652238458407366, 0.8591639983718302, 0.12646043539777282, 0.12646043539777282, 0.12646043539777282, 0.758762612386637, 0.021076993645165024, 0.9484647140324262, 0.021076993645165024, 0.8276782352375847, 0.10849714694125641, 0.027899266356323078, 0.03409910332439487, 0.18334622999051678, 0.09167311499525839, 0.09167311499525839, 0.09167311499525839, 0.5500386899715504, 0.39730981245795605, 0.028379272318425432, 0.028379272318425432, 0.5675854463685086, 0.4763017571158356, 0.3498216266548238, 0.1633034595825722, 0.008005071548165304, 0.001601014309633061, 0.05646908483001989, 0.05646908483001989, 0.8752708148653083, 0.014117271207504972, 0.07437066369998979, 0.07437066369998979, 0.14874132739997958, 0.6693359732999081, 0.9617538386966451, 0.017810256272160093, 0.017810256272160093, 0.009443665259985645, 0.9632538565185357, 0.009443665259985645, 0.01888733051997129, 0.31591908172739647, 0.635862610355779, 0.031189463482641056, 0.017103899329190257, 0.1579812710784725, 0.1579812710784725, 0.1579812710784725, 0.63192508431389, 0.9763488358978553, 0.012679855011660458, 0.012679855011660458, 0.6208780503118462, 0.2711881139293121, 0.10347967505197435, 0.0035682646569646327, 0.0011894215523215444, 0.036935819998140836, 0.9233954999535209, 0.036935819998140836, 0.2654017206574491, 0.16513884840907944, 0.4865698212053234, 0.07962051619723473, 0.7758981164391313, 0.2225329205848369, 0.0007417764019494563, 0.0007417764019494563, 0.9289924975594034, 0.012223585494202676, 0.061117927471013384, 0.012223585494202676, 0.1427898374739499, 0.1427898374739499, 0.1427898374739499, 0.7139491873697495, 0.7303346202962465, 0.1222885875844878, 0.1222885875844878, 0.023778336474761515, 0.6757714030638164, 0.037542855725767585, 0.025028570483845054, 0.27531427532229563, 0.8641371199622787, 0.00039584842875047124, 0.13518223841828594, 0.00039584842875047124, 0.038501556528270885, 0.038501556528270885, 0.9240373566785012, 0.9873615732735317, 0.006094824526379825, 0.006094824526379825, 0.9325927338920954, 0.05739032208566741, 0.01076068539106264, 0.003586895130354213, 0.3337905233139538, 0.4804947808807298, 0.17992996050001797, 0.004600481944602732, 0.0010223293210228294, 0.004064254813495981, 0.3332688947066704, 0.6624735345998449, 0.022441468650207436, 0.022441468650207436, 0.9649831519589197, 0.593163024690447, 0.24038712053244432, 0.006243821312531021, 0.16233935412580655, 0.16026236283076983, 0.5691268299551241, 0.26345568914131434, 0.002345302870694193, 0.005472373364953116, 0.1956700068674285, 0.1956700068674285, 0.1956700068674285, 0.5870100206022855, 0.3253615652630369, 0.543341748665467, 0.12990331962912352, 0.0012065323804562554, 0.0004021774601520852, 0.49936208427822637, 0.3568568521417527, 0.13656751413078724, 0.006531489806255042, 0.0005937718005686401, 0.14093802250296592, 0.14093802250296592, 0.14093802250296592, 0.7046901125148295, 0.004825011639070251, 0.9891273860094014, 0.004825011639070251, 0.9295347002342798, 0.02998499033013806, 0.02998499033013806, 0.5371025414425185, 0.2764241092766056, 0.12596541688554178, 0.05948366908483918, 0.9320201805411729, 0.024526846856346655, 0.024526846856346655, 0.3845537355673548, 0.024034608472959674, 0.1682422593107177, 0.4085883440403144, 0.21434180048936638, 0.053585450122341595, 0.26792725061170797, 0.4822690511010744, 0.022568680108483355, 0.42880492206118376, 0.022568680108483355, 0.4965109623866338, 0.9439142707135145, 0.03371122395405409, 0.03371122395405409, 0.13524011998660118, 0.13524011998660118, 0.13524011998660118, 0.676200599933006, 0.30811061152306496, 0.5578957574903234, 0.12425860053193567, 0.0012679449033870986, 0.007607669420322592, 0.16863856022002932, 0.16863856022002932, 0.16863856022002932, 0.6745542408801173, 0.9804006059802666, 0.014312417605551336, 0.007156208802775668, 0.007156208802775668, 0.15020951496817977, 0.8461802676540794, 0.0025034919161363296, 0.0025034919161363296, 0.013709065452269732, 0.9733436471111508, 0.006854532726134866, 0.04279681102197387, 0.25678086613184326, 0.21398405510986937, 0.4707649212417126, 0.2590664703985699, 0.7082392715932128, 0.031684388466012146, 0.2306626717448867, 0.1318072409970781, 0.09885543074780859, 0.03295181024926953, 0.5272289639883124, 0.15289883580910021, 0.15289883580910021, 0.15289883580910021, 0.7644941790455011, 0.11477860777261609, 0.11477860777261609, 0.11477860777261609, 0.6886716466356965, 0.9184469059371408, 0.00382686210807142, 0.04209548318878562, 0.03444175897264278, 0.7374643558795935, 0.2595127733348443, 0.0018669983693154267, 0.023763070228290637, 0.023763070228290637, 0.9267597389033349, 0.023763070228290637, 0.1790911850338019, 0.1790911850338019, 0.1790911850338019, 0.5372735551014056, 0.004827747787811211, 0.004827747787811211, 0.9703773053500533, 0.014483243363433632, 0.4511153339853601, 0.3408426967889387, 0.010024785199674667, 0.20049570399349337, 0.6039933726631056, 0.3135998819642293, 0.07610023802331964, 0.006062931051308433, 0.00020906658797615287, 0.018029293394373855, 0.9555525499018143, 0.018029293394373855, 0.5411504153530016, 0.3767566141977499, 0.08094770755972876, 0.000999354414317639, 0.0004996772071588195, 0.5080715346340754, 0.024193882601622637, 0.024193882601622637, 0.4354898868292075, 0.5509380373737635, 0.3334851146661782, 0.11345369880395755, 0.0017189954364235992, 0.7366279785065493, 0.15158903737755355, 0.056845889016582586, 0.054477310307558306, 0.42339233604865334, 0.16284320617255899, 0.16284320617255899, 0.2496929161312571, 0.11388997517735892, 0.11388997517735892, 0.11388997517735892, 0.6833398510641535, 0.39841778171065095, 0.11383365191732885, 0.21343809734499158, 0.2561257168139899, 0.4332156974383905, 0.3172180516761985, 0.11126304797598008, 0.13730333580014562, 0.6231626619239649, 0.2679704532725313, 0.09773040060527612, 0.011559509749011153, 0.6193296395529454, 0.2253158203597469, 0.008088260218042197, 0.14789961541562874, 0.0011554657454345995, 0.3984699547678586, 0.32710220167510784, 0.2542476203929247, 0.0178419382731877, 0.0022302422841484625, 0.03849719161264363, 0.03849719161264363, 0.03849719161264363, 0.9239325987034471, 0.05185874466879577, 0.05185874466879577, 0.10371748933759153, 0.7778811700319366, 0.7472166124951023, 0.1248420875913193, 0.1248420875913193, 0.0018359130528135192, 0.9318936841358779, 0.035842064774456846, 0.035842064774456846, 0.15902945161491985, 0.15902945161491985, 0.15902945161491985, 0.6361178064596794, 0.04212663554068836, 0.9267859818951438, 0.02106331777034418, 0.9960121867274937, 0.002338056776355619, 0.002338056776355619, 0.08482501192581045, 0.8851305592258482, 0.02581630797742057, 0.0036880439967743673, 0.03866644468795955, 0.03866644468795955, 0.9279946725110293, 0.03866644468795955, 0.3845018697800871, 0.20293154238393488, 0.138847897420587, 0.021361214987782616, 0.2563345798533914, 0.966958169124037, 0.014013886509044013, 0.014013886509044013, 0.3647678173330514, 0.594621510447029, 0.009993638831042505, 0.029980916493127514, 0.0007253080305541467, 0.0007253080305541467, 0.9980238500425059, 0.8750026626267676, 0.11973720646471557, 0.00460527717171983, 0.04028715184737616, 0.9507767835980775, 0.008057430369475233, 0.5654667130110139, 0.18848890433700463, 0.05736618827647967, 0.18848890433700463, 0.4130020912350294, 0.35092244495335484, 0.2302120216278765, 0.005173303856806213, 0.48467411793105947, 0.325764571068417, 0.007945477343132123, 0.1748005015489067, 0.2188516569162444, 0.666354298670356, 0.11367220389082544, 0.0013065770562163844, 0.0006532885281081922, 0.1299710511460607, 0.8503820203556542, 0.0037134586041731627, 0.01485383441669265, 0.04549074094635002, 0.04549074094635002, 0.9098148189270003, 0.11315805797073306, 0.11315805797073306, 0.11315805797073306, 0.5657902898536653, 0.947991071071116, 0.035110780410041335, 0.035110780410041335, 0.5516244759768114, 0.41962495053357074, 0.009245102949332035, 0.019517439559700964, 0.9177749285414929, 0.05445784916302052, 0.02722892458151026, 0.12863654735167224, 0.12863654735167224, 0.12863654735167224, 0.7718192841100333, 0.018633522035617668, 0.018633522035617668, 0.9689431458521187, 0.018633522035617668, 0.42814997025202917, 0.5389733548349499, 0.029598792155686907, 0.0013766880072412515, 0.002065032010861877, 0.5754021889194645, 0.024312768545892864, 0.12156384272946431, 0.2755447101867858, 0.011139643501694484, 0.16709465252541728, 0.23393251353558417, 0.5792614620881131, 0.21495959611410792, 0.10747979805705396, 0.10747979805705396, 0.6448787883423237, 0.06243967755568679, 0.14717923995269028, 0.7871859348984799, 0.002229988484131671, 0.8903950208748694, 0.09748850593520468, 0.0064992337290136456, 0.6746333776924204, 0.14681511934919975, 0.17546197190514118, 0.0028646852555941414, 0.0007161713138985353, 0.051495324605992786, 0.003961178815845599, 0.9427605581712526, 0.003961178815845599, 0.06912778196732652, 0.06912778196732652, 0.06912778196732652, 0.8295333836079183, 0.06601672949335376, 0.9329206246823939, 0.0008686411775441285, 0.06473115540785039, 0.25892462163140156, 0.12946231081570078, 0.5825803986706535, 0.10078991012278062, 0.10078991012278062, 0.10078991012278062, 0.7055293708594643, 0.9216887072096944, 0.005149098922959187, 0.06693828599846942, 0.005149098922959187, 0.9546909537371003, 0.044651469996612715, 0.0002657825595036471, 0.9470109879003374, 0.03913268545042717, 0.007826537090085434, 0.96556325671275, 0.0160927209452125, 0.0160927209452125, 0.01380908844261266, 0.01380908844261266, 0.9666361909828862, 0.011989191028865871, 0.9711244733381356, 0.011989191028865871, 0.033914321692395256, 0.033914321692395256, 0.9156866856946718, 0.033914321692395256, 0.9641704426052192, 0.016623628320779644, 0.016623628320779644, 0.01962212264401996, 0.9614840095569782, 0.00981106132200998, 0.006319830579514582, 0.01579957644878646, 0.8847762811320415, 0.09163754340296146, 0.12831592186217755, 0.12831592186217755, 0.12831592186217755, 0.6415796093108878, 0.06552811146336547, 0.9173935604871165, 0.013105622292673093, 0.07471951163051595, 0.07471951163051595, 0.07471951163051595, 0.8219146279356754, 0.1526801723524867, 0.1526801723524867, 0.1526801723524867, 0.6107206894099468, 0.4750446788774355, 0.30493792092957495, 0.20851796135544198, 0.010974629545023262, 0.3280659217076751, 0.04686656024395359, 0.09373312048790718, 0.5155321626834894, 0.045828104007775025, 0.045828104007775025, 0.32079672805442516, 0.5041091440855253, 0.08047705122264721, 0.9093906788159135, 0.008047705122264721, 0.13530236958991923, 0.13530236958991923, 0.13530236958991923, 0.6765118479495962, 0.8411065278536283, 0.01057729537039271, 0.12692754444471252, 0.02073149892596971, 0.00349775656718536, 0.00349775656718536, 0.9723763256775302, 0.0174887828359268, 0.01730960162001757, 0.9693376907209839, 0.01730960162001757, 0.01730960162001757, 0.8630594513978245, 0.13229378452083443, 0.0031498520124008194, 0.021021925330825617, 0.11351839678645834, 0.8618989385638504, 0.013616337203643985, 0.013616337203643985, 0.9803762786623669, 0.3656025439944793, 0.5277871311800002, 0.10060942188118753, 0.004398226093166668, 0.0016493347849375005, 0.11595068458004738, 0.003998299468277496, 0.8156530915286092, 0.05997449202416244, 0.23437775477091574, 0.007812591825697192, 0.7421962234412333, 0.015625183651394384, 0.016201529698316394, 0.9720917818989836, 0.016201529698316394, 0.29783242402799404, 0.6811624839756962, 0.0009395344606561327, 0.019730223673778788, 0.3465317126454907, 0.6507637796159449, 0.0016269094490398623, 0.17210197120572412, 0.17210197120572412, 0.17210197120572412, 0.5163059136171724, 0.1821684397818048, 0.0910842198909024, 0.030361406630300798, 0.6983123524969184, 0.01467255783617055, 0.9537162593510857, 0.01467255783617055, 0.1768941886660324, 0.13267064149952432, 0.0884470943330162, 0.6191296603311134, 0.5745632651762557, 0.3009256151384874, 0.12052184586151009, 0.003789995152877676, 0.0007579990305755351, 0.005868347176955896, 0.18191876248563277, 0.8098319104199136, 0.35163404420388256, 0.5584775996179312, 0.015513266656053643, 0.005171088885351214, 0.072395244394917, 0.9817308040519052, 0.007113991333709458, 0.007113991333709458, 0.3494902173761511, 0.5029700482873709, 0.11279842994680009, 0.0018491545892918048, 0.03328478260725249, 0.5707433287731357, 0.10146548067077968, 0.01268318508384746, 0.3170796270961865, 0.9840834068185302, 0.008410969289047266, 0.008410969289047266, 0.006749607589889191, 0.18223940492700816, 0.7492064424777002, 0.06074646830900272, 0.5907253258515489, 0.21463653318721873, 0.12346349254132051, 0.07027921883121321, 0.1854269855756697, 0.1854269855756697, 0.1854269855756697, 0.5562809567270092, 0.09488721939790971, 0.09488721939790971, 0.09488721939790971, 0.7590977551832777, 0.008321559485244072, 0.008321559485244072, 0.8238343890391631, 0.15810963021963736, 0.03867312330040773, 0.9447291549099603, 0.005524731900058247, 0.011049463800116495, 0.06622612691241721, 0.06622612691241721, 0.1986783807372516, 0.7284873960365893, 0.033856844605367906, 0.9479916489503013, 0.033856844605367906, 0.13269905526429954, 0.13269905526429954, 0.13269905526429954, 0.6634952763214976, 0.35358835650090353, 0.573598889434799, 0.018334211077824625, 0.05500263323347388, 0.09735007695892327, 0.19470015391784654, 0.707328407271164, 0.008870577699629508, 0.1241880877948131, 0.8338343037651736, 0.03548231079851803, 0.12918344858190933, 0.12918344858190933, 0.12918344858190933, 0.6459172429095467, 0.21705354018284076, 0.10852677009142038, 0.10852677009142038, 0.6511606205485223, 0.4255563427594556, 0.1251636302233693, 0.1251636302233693, 0.02503272604467386, 0.3003927125360863, 0.6427638813718655, 0.17032621227842468, 0.18275878251772576, 0.0024865140478602145, 0.0012432570239301072, 0.26588729211894296, 0.4937906853637512, 0.1266129962471157, 0.02532259924942314, 0.08862909737298098, 0.170423768308218, 0.713468996137794, 0.11409726861312901, 0.001444269222951, 0.0007221346114755, 0.4254671113302907, 0.5536303600301938, 0.02005275319794403, 0.09454023486479297, 0.18908046972958595, 0.09454023486479297, 0.5672414091887579, 0.24718939078185367, 0.06179734769546342, 0.06179734769546342, 0.6179734769546341, 0.014254161012280109, 0.9550287878227672, 0.007127080506140054, 0.021381241518420163, 0.07883084090918191, 0.07883084090918191, 0.07883084090918191, 0.7883084090918191, 0.2642654651567285, 0.6452559590929308, 0.08964482210263583, 0.0009338002302357898, 0.4564330947021085, 0.014723648216197049, 0.014723648216197049, 0.5300513357830937, 0.019809982792138383, 0.9706891568147807, 0.019809982792138383, 0.012907145680369053, 0.980943071708048, 0.012907145680369053, 0.464277527977992, 0.37506167413136066, 0.1557948492545652, 0.004882459663248482, 0.506523633207127, 0.35931217575496005, 0.12203055025640153, 0.011621957167276336, 0.9689562840522374, 0.022021733728459943, 0.011010866864229972, 0.2683658575512542, 0.6847091505746953, 0.04586225603012088, 0.0007165977504706388, 0.03208714002023862, 0.9305270605869201, 0.01604357001011931, 0.9288361367695283, 0.020192089929772353, 0.020192089929772353, 0.048534557780427964, 0.048534557780427964, 0.9221565978281313, 0.2622332750516109, 0.08741109168387032, 0.08741109168387032, 0.6118776417870923, 0.07027422151243344, 0.07027422151243344, 0.07027422151243344, 0.7730164366367679, 0.02120630942515311, 0.007068769808384371, 0.9613526939402743, 0.10043921404528838, 0.10043921404528838, 0.10043921404528838, 0.7030744983170187, 0.4571733415251081, 0.4587416891804258, 0.07684903511056705, 0.0023525214829765422, 0.0047050429659530844, 0.08930304117577605, 0.08930304117577605, 0.08930304117577605, 0.8037273705819844, 0.4813381404554259, 0.3265327749704126, 0.16545998578155263, 0.0012534847407693383, 0.025069694815386765, 0.5768782095887585, 0.01153756419177517, 0.18460102706840273, 0.06922538515065102, 0.16152589868485237, 0.08983433919220005, 0.06416738513728575, 0.7956755757023433, 0.04491716959610002, 0.9751720163799734, 0.01108150018613606, 0.013544055783055186, 0.9261369910491882, 0.028941780970287132, 0.028941780970287132, 0.948300511739994, 0.028736379143636182, 0.028736379143636182, 0.07629132151205713, 0.22887396453617137, 0.038145660756028564, 0.038145660756028564, 0.6484762328524856, 0.40069790103276787, 0.040069790103276784, 0.12020937030983035, 0.40069790103276787, 0.00825835916966979, 0.982744741190705, 0.00825835916966979, 0.3834767286925143, 0.3906194849894645, 0.21963975613121892, 0.0062499117598314325, 0.790713002977714, 0.1772287765294876, 0.0012393620736327804, 0.03098405184081951, 0.471196748251581, 0.3656930992322876, 0.15706558275052698, 0.003966302594710277, 0.001586521037884111, 0.024093223160379304, 0.012046611580189652, 0.21683900844341372, 0.7348433063915688, 0.6933900596860543, 0.015073696949696831, 0.060294787798787323, 0.22610545424545248, 0.05241143948392, 0.80284795936732, 0.13579327502652, 0.007147014475080001, 0.08984604403163417, 0.8915492061600621, 0.006911234156279551, 0.013822468312559103, 0.4472991580294793, 0.41413592931481624, 0.13346177409559506, 0.004853155421658003, 0.02552335108500207, 0.9443639901450765, 0.02552335108500207, 0.10079408311492781, 0.8896173422752324, 0.00438235143977947, 0.00876470287955894, 0.023757868064057223, 0.9503147225622889, 0.023757868064057223, 0.49967935614789877, 0.1998717424591595, 0.014276553032797106, 0.28553106065594214, 0.1825084038097942, 0.6251339251989679, 0.191889676902821, 0.0008528430084569821, 0.4614643698717788, 0.49373856506526514, 0.03453905099653805, 0.010191851113732537, 0.9915204673954187, 0.002687047337114956, 0.002687047337114956, 0.002687047337114956], \"Term\": [\"account\", \"account\", \"account\", \"account\", \"add\", \"add\", \"add\", \"add\", \"adopt\", \"adopt\", \"adopt\", \"age\", \"age\", \"age\", \"age\", \"allowance\", \"allowance\", \"allowance\", \"also\", \"also\", \"also\", \"also\", \"also\", \"anonymous\", \"anonymous\", \"anonymous\", \"anonymous\", \"antivirus\", \"antivirus\", \"antivirus\", \"antivirus\", \"apologize\", \"apologize\", \"apologize\", \"app\", \"app\", \"app\", \"app\", \"appeal\", \"appeal\", \"appeal\", \"appeal\", \"appeal\", \"apple\", \"apple\", \"apple\", \"apple\", \"apple\", \"authentication\", \"authentication\", \"authentication\", \"authentication\", \"away\", \"away\", \"away\", \"baby\", \"baby\", \"baby\", \"baby\", \"back\", \"back\", \"back\", \"back\", \"back\", \"backdoor\", \"backdoor\", \"backdoor\", \"backdoor\", \"bake\", \"bake\", \"bake\", \"bake\", \"ban\", \"ban\", \"ban\", \"ban\", \"bank\", \"bank\", \"bank\", \"beautiful\", \"beautiful\", \"beautiful\", \"beautiful\", \"bed\", \"bed\", \"bed\", \"billing\", \"billing\", \"billing\", \"billing\", \"binge\", \"binge\", \"binge\", \"binge\", \"birthday\", \"birthday\", \"birthday\", \"birthday\", \"birthday_party\", \"birthday_party\", \"birthday_party\", \"birthday_party\", \"black\", \"black\", \"black\", \"black\", \"blockchain\", \"blockchain\", \"blockchain\", \"blockchain\", \"blue\", \"blue\", \"blue\", \"blue\", \"bluey\", \"bluey\", \"bluey\", \"bluey\", \"bluey_theme\", \"bluey_theme\", \"bluey_theme\", \"bluey_theme\", \"boundary\", \"boundary\", \"boundary\", \"brand\", \"brand\", \"brand\", \"brand\", \"break\", \"break\", \"break\", \"brown\", \"brown\", \"brown\", \"brown\", \"buck\", \"buck\", \"buck\", \"buck\", \"budget\", \"budget\", \"budget\", \"build\", \"build\", \"build\", \"build\", \"build\", \"buy\", \"buy\", \"buy\", \"buy\", \"buy\", \"buying\", \"buying\", \"buying\", \"cake\", \"cake\", \"cake\", \"cake\", \"card\", \"card\", \"card\", \"cash\", \"cash\", \"cash\", \"cash_grab\", \"cash_grab\", \"cash_grab\", \"channel\", \"channel\", \"channel\", \"channel\", \"chat\", \"chat\", \"chat\", \"chat_feature\", \"chat_feature\", \"chat_feature\", \"child\", \"child\", \"child\", \"child\", \"child\", \"code\", \"code\", \"code\", \"code\", \"coin\", \"coin\", \"coin\", \"coin\", \"color\", \"color\", \"color\", \"color\", \"comedy\", \"comedy\", \"comedy\", \"comedy\", \"comment\", \"comment\", \"comment\", \"comment\", \"comment\", \"computer\", \"computer\", \"computer\", \"computer\", \"confirmation\", \"confirmation\", \"confirmation\", \"confirmation\", \"consequence\", \"consequence\", \"consequence\", \"consequence\", \"console\", \"console\", \"console\", \"contact\", \"contact\", \"contact\", \"contact\", \"content\", \"content\", \"content\", \"content\", \"content\", \"controller\", \"controller\", \"controller\", \"converse\", \"converse\", \"converse\", \"converse\", \"cookie\", \"cookie\", \"cookie\", \"cookie\", \"cookie\", \"cope\", \"cope\", \"cope\", \"cost\", \"cost\", \"cost\", \"creative\", \"creative\", \"creative\", \"creative\", \"credit_card\", \"credit_card\", \"credit_card\", \"cry\", \"cry\", \"cry\", \"currency\", \"currency\", \"currency\", \"dad\", \"dad\", \"dad\", \"dad\", \"datamine\", \"datamine\", \"datamine\", \"datamine\", \"day\", \"day\", \"day\", \"day\", \"debt\", \"debt\", \"debt\", \"delay\", \"delay\", \"delay\", \"delete\", \"delete\", \"delete\", \"delete\", \"dinner\", \"dinner\", \"dinner\", \"dinner\", \"discord\", \"discord\", \"discord\", \"discord\", \"distance\", \"distance\", \"distance\", \"dollar\", \"dollar\", \"dollar\", \"domain\", \"domain\", \"domain\", \"domain\", \"donate\", \"donate\", \"donate\", \"donate\", \"donate\", \"download\", \"download\", \"download\", \"download\", \"dress\", \"dress\", \"dress\", \"dress\", \"earn\", \"earn\", \"earn\", \"electronic\", \"electronic\", \"electronic\", \"electronic\", \"email\", \"email\", \"email\", \"email\", \"email_address\", \"email_address\", \"email_address\", \"email_address\", \"emergency\", \"emergency\", \"emergency\", \"enjoy\", \"enjoy\", \"enjoy\", \"enjoy\", \"epic\", \"epic\", \"epic\", \"epic\", \"epic\", \"episode\", \"episode\", \"episode\", \"episode\", \"even\", \"even\", \"even\", \"even\", \"even\", \"expensive\", \"expensive\", \"expensive\", \"expensive\", \"exploiter\", \"exploiter\", \"exploiter\", \"exploiter\", \"explore\", \"explore\", \"explore\", \"father\", \"father\", \"father\", \"father\", \"feel\", \"feel\", \"feel\", \"feel\", \"fifi\", \"fifi\", \"fifi\", \"fifi\", \"filter\", \"filter\", \"filter\", \"find\", \"find\", \"find\", \"find\", \"find\", \"flip_phone\", \"flip_phone\", \"flip_phone\", \"free\", \"free\", \"free\", \"free\", \"friend\", \"friend\", \"friend\", \"friend\", \"friendly\", \"friendly\", \"friendly\", \"friendly\", \"frozen\", \"frozen\", \"frozen\", \"frozen\", \"fun\", \"fun\", \"fun\", \"fun\", \"funny\", \"funny\", \"funny\", \"funny\", \"game\", \"game\", \"game\", \"game\", \"gamepass\", \"gamepass\", \"gamepass\", \"gamer\", \"gamer\", \"gamer\", \"gaming\", \"gaming\", \"gaming\", \"gaming\", \"get\", \"get\", \"get\", \"get\", \"get\", \"gift\", \"gift\", \"gift\", \"gift_card\", \"gift_card\", \"gift_card\", \"girl\", \"girl\", \"girl\", \"girl\", \"give\", \"give\", \"give\", \"give\", \"give\", \"gmail\", \"gmail\", \"gmail\", \"gmail\", \"go\", \"go\", \"go\", \"go\", \"go\", \"good\", \"good\", \"good\", \"good\", \"good\", \"goosebump\", \"goosebump\", \"goosebump\", \"goosebump\", \"grandma\", \"grandma\", \"grandma\", \"graphic\", \"graphic\", \"graphic\", \"great\", \"great\", \"great\", \"great\", \"groom\", \"groom\", \"groom\", \"hack\", \"hack\", \"hack\", \"hack\", \"hacker\", \"hacker\", \"hacker\", \"hacker\", \"hair\", \"hair\", \"hair\", \"hair\", \"harmless\", \"harmless\", \"harmless\", \"heavy_metal\", \"heavy_metal\", \"heavy_metal\", \"heavy_metal\", \"help\", \"help\", \"help\", \"help\", \"help\", \"heroin\", \"heroin\", \"heroin\", \"heroin\", \"hobby\", \"hobby\", \"hobby\", \"hobby\", \"home\", \"home\", \"home\", \"home\", \"homework\", \"homework\", \"homework\", \"hot\", \"hot\", \"hot\", \"hot\", \"hour\", \"hour\", \"hour\", \"illegal\", \"illegal\", \"illegal\", \"illegal\", \"illegal\", \"inner\", \"inner\", \"inner\", \"inner\", \"inner_beauty\", \"inner_beauty\", \"inner_beauty\", \"inner_beauty\", \"interest\", \"interest\", \"interest\", \"interest\", \"internet\", \"internet\", \"internet\", \"invest\", \"invest\", \"invest\", \"invest\", \"iron\", \"iron\", \"iron\", \"iron\", \"item\", \"item\", \"item\", \"item\", \"joke\", \"joke\", \"joke\", \"joke\", \"kid\", \"kid\", \"kid\", \"kid\", \"kid\", \"kindergarten\", \"kindergarten\", \"kindergarten\", \"know\", \"know\", \"know\", \"know\", \"know\", \"laugh\", \"laugh\", \"laugh\", \"laugh\", \"let\", \"let\", \"let\", \"let\", \"like\", \"like\", \"like\", \"like\", \"link\", \"link\", \"link\", \"link\", \"lip\", \"lip\", \"lip\", \"lip\", \"log\", \"log\", \"log\", \"log\", \"lol\", \"lol\", \"lol\", \"lol\", \"lot\", \"lot\", \"lot\", \"lot\", \"love\", \"love\", \"love\", \"love\", \"love\", \"make\", \"make\", \"make\", \"make\", \"make\", \"makeup\", \"makeup\", \"makeup\", \"makeup\", \"malicious\", \"malicious\", \"malicious\", \"malicious\", \"many\", \"many\", \"many\", \"many\", \"mario\", \"mario\", \"mario\", \"microsoft_reward\", \"microsoft_reward\", \"microsoft_reward\", \"microsoft_reward\", \"military\", \"military\", \"military\", \"minecraft\", \"minecraft\", \"minecraft\", \"minute\", \"minute\", \"minute\", \"minute\", \"mlg\", \"mlg\", \"mlg\", \"mlg\", \"model\", \"model\", \"model\", \"model\", \"model\", \"moderation\", \"moderation\", \"moderation\", \"mom\", \"mom\", \"mom\", \"mom\", \"money\", \"money\", \"money\", \"monitor\", \"monitor\", \"monitor\", \"morning\", \"morning\", \"morning\", \"movie\", \"movie\", \"movie\", \"movie\", \"much\", \"much\", \"much\", \"much\", \"music\", \"music\", \"music\", \"music\", \"need\", \"need\", \"need\", \"need\", \"need\", \"night\", \"night\", \"night\", \"night\", \"obby_obby\", \"obby_obby\", \"obby_obby\", \"official\", \"official\", \"official\", \"official\", \"offline\", \"offline\", \"offline\", \"old\", \"old\", \"old\", \"old\", \"online\", \"online\", \"online\", \"outer_beauty\", \"outer_beauty\", \"outer_beauty\", \"outer_beauty\", \"pair\", \"pair\", \"pair\", \"pair\", \"parent\", \"parent\", \"parent\", \"parent\", \"parent\", \"party\", \"party\", \"party\", \"party\", \"password\", \"password\", \"password\", \"password\", \"patriarchy\", \"patriarchy\", \"patriarchy\", \"patriarchy\", \"pay\", \"pay\", \"pay\", \"pay\", \"pc\", \"pc\", \"pc\", \"people\", \"people\", \"people\", \"people\", \"people\", \"pet\", \"pet\", \"pet\", \"pet\", \"phishe\", \"phishe\", \"phishe\", \"phishe\", \"phone\", \"phone\", \"phone\", \"pin\", \"pin\", \"pin\", \"pin\", \"pink\", \"pink\", \"pink\", \"pink\", \"platform\", \"platform\", \"platform\", \"platform\", \"play\", \"play\", \"play\", \"playing\", \"playing\", \"playing\", \"porn\", \"porn\", \"porn\", \"price\", \"price\", \"price\", \"privilege\", \"privilege\", \"privilege\", \"profit\", \"profit\", \"profit\", \"profit\", \"programming\", \"programming\", \"programming\", \"punishment\", \"punishment\", \"punishment\", \"purchase\", \"purchase\", \"purchase\", \"purchase\", \"queen\", \"queen\", \"queen\", \"queen\", \"quiet\", \"quiet\", \"quiet\", \"race\", \"race\", \"race\", \"race\", \"radio\", \"radio\", \"radio\", \"radio\", \"really\", \"really\", \"really\", \"really\", \"recover\", \"recover\", \"recover\", \"recover\", \"red\", \"red\", \"red\", \"red\", \"relationship\", \"relationship\", \"relationship\", \"report_post\", \"report_post\", \"report_post\", \"report_post\", \"roblox\", \"roblox\", \"roblox\", \"roblox\", \"robux\", \"robux\", \"robux\", \"robux\", \"routine\", \"routine\", \"routine\", \"routine\", \"safe\", \"safe\", \"safe\", \"save\", \"save\", \"save\", \"saving\", \"saving\", \"saving\", \"say\", \"say\", \"say\", \"say\", \"say\", \"scam\", \"scam\", \"scam\", \"scam\", \"scamme\", \"scamme\", \"scamme\", \"scamme\", \"schedule\", \"schedule\", \"schedule\", \"school\", \"school\", \"school\", \"school\", \"screen\", \"screen\", \"screen\", \"screenshot\", \"screenshot\", \"screenshot\", \"screenshot\", \"script\", \"script\", \"script\", \"script\", \"secret\", \"secret\", \"secret\", \"security\", \"security\", \"security\", \"security\", \"see\", \"see\", \"see\", \"see\", \"see\", \"sell\", \"sell\", \"sell\", \"send\", \"send\", \"send\", \"send\", \"send\", \"server\", \"server\", \"server\", \"set\", \"set\", \"set\", \"set\", \"set\", \"setting\", \"setting\", \"setting\", \"setting\", \"sex\", \"sex\", \"sex\", \"shoe\", \"shoe\", \"shoe\", \"shoe\", \"show\", \"show\", \"show\", \"show\", \"sht\", \"sht\", \"sht\", \"sht\", \"sing\", \"sing\", \"sing\", \"sing\", \"skin\", \"skin\", \"skin\", \"skin\", \"sleep\", \"sleep\", \"sleep\", \"sleep\", \"slime\", \"slime\", \"slime\", \"slime\", \"smartphone\", \"smartphone\", \"smartphone\", \"soap\", \"soap\", \"soap\", \"soap\", \"sound\", \"sound\", \"sound\", \"sound\", \"spend\", \"spend\", \"spend\", \"steal\", \"steal\", \"steal\", \"steal\", \"step_verification\", \"step_verification\", \"step_verification\", \"step_verification\", \"stereotypical\", \"stereotypical\", \"stereotypical\", \"stereotypical\", \"studio\", \"studio\", \"studio\", \"studio\", \"studio\", \"stuff\", \"stuff\", \"stuff\", \"stuff\", \"stuff\", \"support\", \"support\", \"support\", \"support\", \"support\", \"take\", \"take\", \"take\", \"take\", \"take\", \"talk\", \"talk\", \"talk\", \"tap\", \"tap\", \"tap\", \"tap\", \"tattoo\", \"tattoo\", \"tattoo\", \"tattoo\", \"teacher\", \"teacher\", \"teacher\", \"teacher\", \"tease\", \"tease\", \"tease\", \"tease\", \"tell\", \"tell\", \"tell\", \"tell\", \"theme\", \"theme\", \"theme\", \"theme\", \"therapist\", \"therapist\", \"therapist\", \"therapy\", \"therapy\", \"therapy\", \"thing\", \"thing\", \"thing\", \"thing\", \"think\", \"think\", \"think\", \"think\", \"tiktok\", \"tiktok\", \"tiktok\", \"time\", \"time\", \"time\", \"time\", \"timer\", \"timer\", \"timer\", \"title\", \"title\", \"title\", \"tix\", \"tix\", \"tix\", \"toolbox\", \"toolbox\", \"toolbox\", \"toolbox\", \"tos\", \"tos\", \"tos\", \"tos\", \"trade\", \"trade\", \"trade\", \"truck\", \"truck\", \"truck\", \"truck\", \"try\", \"try\", \"try\", \"try\", \"try\", \"unicorn\", \"unicorn\", \"unicorn\", \"unicorn\", \"use\", \"use\", \"use\", \"use\", \"use\", \"user\", \"user\", \"user\", \"user\", \"user\", \"value\", \"value\", \"value\", \"value\", \"video\", \"video\", \"video\", \"violence\", \"violence\", \"violence\", \"violent\", \"violent\", \"violent\", \"virus\", \"virus\", \"virus\", \"virus\", \"virus\", \"vote\", \"vote\", \"vote\", \"vote\", \"wake\", \"wake\", \"wake\", \"want\", \"want\", \"want\", \"want\", \"watch\", \"watch\", \"watch\", \"watch\", \"way\", \"way\", \"way\", \"way\", \"way\", \"wear\", \"wear\", \"wear\", \"wear\", \"website\", \"website\", \"website\", \"website\", \"week\", \"week\", \"week\", \"week\", \"weekend\", \"weekend\", \"weekend\", \"weekend\", \"well\", \"well\", \"well\", \"well\", \"whine\", \"whine\", \"whine\", \"wife\", \"wife\", \"wife\", \"wife\", \"wifi\", \"wifi\", \"wifi\", \"woman\", \"woman\", \"woman\", \"woman\", \"work\", \"work\", \"work\", \"work\", \"year\", \"year\", \"year\", \"year\", \"youtube\", \"youtube\", \"youtube\", \"youtube\"]}, \"R\": 30, \"lambda.step\": 0.01, \"plot.opts\": {\"xlab\": \"PC1\", \"ylab\": \"PC2\"}, \"topic.order\": [4, 3, 1, 2, 5]};\n",
              "\n",
              "function LDAvis_load_lib(url, callback){\n",
              "  var s = document.createElement('script');\n",
              "  s.src = url;\n",
              "  s.async = true;\n",
              "  s.onreadystatechange = s.onload = callback;\n",
              "  s.onerror = function(){console.warn(\"failed to load library \" + url);};\n",
              "  document.getElementsByTagName(\"head\")[0].appendChild(s);\n",
              "}\n",
              "\n",
              "if(typeof(LDAvis) !== \"undefined\"){\n",
              "   // already loaded: just create the visualization\n",
              "   !function(LDAvis){\n",
              "       new LDAvis(\"#\" + \"ldavis_el2321616310796554408120749248\", ldavis_el2321616310796554408120749248_data);\n",
              "   }(LDAvis);\n",
              "}else if(typeof define === \"function\" && define.amd){\n",
              "   // require.js is available: use it to load d3/LDAvis\n",
              "   require.config({paths: {d3: \"https://d3js.org/d3.v5\"}});\n",
              "   require([\"d3\"], function(d3){\n",
              "      window.d3 = d3;\n",
              "      LDAvis_load_lib(\"https://cdn.jsdelivr.net/gh/bmabey/pyLDAvis@3.4.0/pyLDAvis/js/ldavis.v3.0.0.js\", function(){\n",
              "        new LDAvis(\"#\" + \"ldavis_el2321616310796554408120749248\", ldavis_el2321616310796554408120749248_data);\n",
              "      });\n",
              "    });\n",
              "}else{\n",
              "    // require.js not available: dynamically load d3 & LDAvis\n",
              "    LDAvis_load_lib(\"https://d3js.org/d3.v5.js\", function(){\n",
              "         LDAvis_load_lib(\"https://cdn.jsdelivr.net/gh/bmabey/pyLDAvis@3.4.0/pyLDAvis/js/ldavis.v3.0.0.js\", function(){\n",
              "                 new LDAvis(\"#\" + \"ldavis_el2321616310796554408120749248\", ldavis_el2321616310796554408120749248_data);\n",
              "            })\n",
              "         });\n",
              "}\n",
              "</script>"
            ],
            "text/plain": [
              "PreparedData(topic_coordinates=              x         y  topics  cluster       Freq\n",
              "topic                                                \n",
              "3      0.153658  0.068794       1        1  42.397754\n",
              "2      0.071214  0.150595       2        1  36.717472\n",
              "0      0.093799 -0.082058       3        1  15.300491\n",
              "1     -0.182409  0.035916       4        1   3.531978\n",
              "4     -0.136262 -0.173246       5        1   2.052305, topic_info=        Term         Freq        Total Category  logprob  loglift\n",
              "41      game  5052.000000  5052.000000  Default  30.0000  30.0000\n",
              "83     money  1378.000000  1378.000000  Default  29.0000  29.0000\n",
              "21      play  3762.000000  3762.000000  Default  28.0000  28.0000\n",
              "9     roblox  2363.000000  2363.000000  Default  27.0000  27.0000\n",
              "1    account   552.000000   552.000000  Default  26.0000  26.0000\n",
              "..       ...          ...          ...      ...      ...      ...\n",
              "223      set    18.418480   540.787669   Topic5  -5.7877   0.5065\n",
              "115     scam    15.438593   250.106328   Topic5  -5.9642   1.1012\n",
              "75   support    14.104516   157.961667   Topic5  -6.0546   1.4703\n",
              "118     send    14.027611   193.382868   Topic5  -6.0600   1.2626\n",
              "300      app    13.859931   352.397147   Topic5  -6.0721   0.6504\n",
              "\n",
              "[381 rows x 6 columns], token_table=      Topic      Freq     Term\n",
              "term                          \n",
              "1         1  0.391149  account\n",
              "1         2  0.005433  account\n",
              "1         3  0.387527  account\n",
              "1         5  0.215494  account\n",
              "30        1  0.493659      add\n",
              "...     ...       ...      ...\n",
              "234       4  0.010192     year\n",
              "1130      1  0.991520  youtube\n",
              "1130      2  0.002687  youtube\n",
              "1130      3  0.002687  youtube\n",
              "1130      5  0.002687  youtube\n",
              "\n",
              "[1160 rows x 3 columns], R=30, lambda_step=0.01, plot_opts={'xlab': 'PC1', 'ylab': 'PC2'}, topic_order=[4, 3, 1, 2, 5])"
            ]
          },
          "execution_count": 36,
          "metadata": {},
          "output_type": "execute_result"
        }
      ],
      "source": [
        "pyLDAvis.enable_notebook()\n",
        "vis = pyLDAvis.gensim.prepare(lda_model, corpus, id2word, mds='mmds', R=30)\n",
        "vis"
      ]
    },
    {
      "cell_type": "code",
      "execution_count": 37,
      "metadata": {
        "colab": {
          "base_uri": "https://localhost:8080/"
        },
        "id": "Y1l1MVCTFxYG",
        "outputId": "9bf6a9b8-e820-48c4-dcf5-6c9dedc7e3f7"
      },
      "outputs": [
        {
          "name": "stdout",
          "output_type": "stream",
          "text": [
            "[(0,\n",
            "  '0.031*\"money\" + 0.018*\"buy\" + 0.015*\"make\" + 0.015*\"game\" + 0.013*\"spend\" + '\n",
            "  '0.011*\"want\" + 0.008*\"kid\" + 0.008*\"pay\" + 0.008*\"get\" + 0.008*\"thing\"'),\n",
            " (1,\n",
            "  '0.012*\"love\" + 0.008*\"bluey\" + 0.006*\"wear\" + 0.006*\"lol\" + 0.005*\"girl\" + '\n",
            "  '0.005*\"make\" + 0.004*\"old\" + 0.004*\"show\" + 0.003*\"theme\" + 0.003*\"party\"'),\n",
            " (2,\n",
            "  '0.018*\"time\" + 0.014*\"kid\" + 0.013*\"go\" + 0.010*\"phone\" + 0.009*\"need\" + '\n",
            "  '0.009*\"take\" + 0.009*\"say\" + 0.009*\"get\" + 0.009*\"day\" + 0.008*\"make\"'),\n",
            " (3,\n",
            "  '0.035*\"game\" + 0.029*\"play\" + 0.023*\"kid\" + 0.016*\"roblox\" + 0.009*\"know\" + '\n",
            "  '0.009*\"old\" + 0.009*\"make\" + 0.008*\"friend\" + 0.008*\"think\" + '\n",
            "  '0.008*\"thing\"'),\n",
            " (4,\n",
            "  '0.020*\"account\" + 0.009*\"email\" + 0.009*\"password\" + 0.008*\"roblox\" + '\n",
            "  '0.007*\"use\" + 0.005*\"purchase\" + 0.005*\"ban\" + 0.004*\"free\" + '\n",
            "  '0.004*\"setting\" + 0.004*\"model\"')]\n"
          ]
        }
      ],
      "source": [
        "from pprint import pprint\n",
        "pprint(lda_model.print_topics())\n",
        "doc_lda = lda_model[corpus]"
      ]
    },
    {
      "cell_type": "code",
      "execution_count": 38,
      "metadata": {
        "colab": {
          "base_uri": "https://localhost:8080/"
        },
        "id": "fctISv2EHVRZ",
        "outputId": "262b3b73-5fe7-4e09-8504-71eddabfbcce"
      },
      "outputs": [
        {
          "name": "stdout",
          "output_type": "stream",
          "text": [
            "Coherence Score:  0.5254998879902841\n"
          ]
        }
      ],
      "source": [
        "from gensim.models import CoherenceModel\n",
        "\n",
        "# Compute Coherence Score\n",
        "\n",
        "coherence_model_lda = CoherenceModel(model=lda_model, texts=data_lemmatized, dictionary=id2word, coherence='c_v')\n",
        "# coherence_model_lda = CoherenceModel(model=lda_model, texts=data_lemmatized, corpus=corpus, coherence='c_v')\n",
        "coherence_lda = coherence_model_lda.get_coherence()\n",
        "print('Coherence Score: ', coherence_lda)"
      ]
    },
    {
      "cell_type": "code",
      "execution_count": 39,
      "metadata": {
        "id": "kA3X0xe_un0-"
      },
      "outputs": [
        {
          "name": "stdout",
          "output_type": "stream",
          "text": [
            "bloxburg stats\n",
            "stripping\n",
            "yeah snowy strange lol\n",
            "worth replying take downvote buzz\n",
            "jokes lolol\n",
            "farted\n",
            "welcome capitalism\n",
            "guess stuck knee deep roblox capitalism crap\n",
            "lol\n",
            "lit totally relate\n",
            "check black mirror arkangel episode\n",
            "hated outdoors child asthmatic allergic everything constantly getting bitten bugs like getting dirty anxiety thing loved creative pretend play best playdates usually involved sort small plastic barbie bratz polly pocket hot wheels littlest pet shop dudes lego perhaps combination thereof polly spider man often dated vaguely polly sized spider man action figure mix good ol open world storytelling got older bake dates make cupcakes cookies banana bread go upstairs experiment makeup ate gossiped kind relationship trying build little niblings one based idea indoorsy synonymous screens time\n",
            "lol\n",
            "wow classic hardcore\n",
            "love bed wars lol\n",
            "remember parking runescape telling friend eating klondike bar confused half word censored lol\n",
            "hell come lol\n",
            "yeah business raising losers energy littering reckless driving parents realize zombie kids contributing might worst consumer generation ever\n",
            "news\n",
            "im dad boys lean manly stuff hoping theyll like fuckin love doin arts crafts stuff glue sticks glitter spray painting mailbox breaking pallets make accent wall cutting sheet metal old dryer make address accent numbers etc\n",
            "problem roblox problem daughter planned fun evening kids wanted roblox tie dye mario party movies snacks hit starbucks everyone stared phone entire tkme\n",
            "grown huge craft room envy every kid takes look shocked craft dissing thread lol\n",
            "alternatively turn constructive event show make rule blight humanity support fashion albeit really micro anymore\n",
            "world headless horseman cosmetics bundle show arrives shalom peace\n",
            "world skin carrying birkin bag adult world major flex\n",
            "yah even genshin impact dolphin skin absolutely bonkers\n",
            "love gaming never ever buy shaders bits bobs freaking trap\n",
            "brothers name stan buying canadough\n",
            "wonderful book reading children spending skins\n",
            "terraria stardewvalley\n",
            "takes two super luckys tale great\n",
            "oh gosh yeah heard gross\n",
            "remake tmnt amazing\n",
            "live banjo kazooie\n",
            "apologies correct made claim mind focused mario luigi donkey kong yoshi zelda pokemon kirby animal crossing sectors blanked ones mentioned\n",
            "reading comments shook\n",
            "roblox turned bane existence kids obsessed obsessed\n",
            "sorry year old hospitalized think make exception short term godspeed recovery\n",
            "oh man boys farts\n",
            "ohhh sorry misunderstood\n",
            "sounds like anime\n",
            "farms funny comes mouth armpit\n",
            "even penises attached someone yeah bar serving drinks hades\n",
            "even worse laughed felt nostalgic childhood also great\n",
            "lol legit reaction\n",
            "maybe nazi loving dicks kidding think either\n",
            "big hairy man penises shooting cum\n",
            "kids older littles penises peeing many men women body hair neither surprising sexual boobs nursing kids sexualize body parts us naturally functional played games either us alone living room stupid stuff showed clicked report voted score moved reaction malcontent wants give\n",
            "separate question mentally emotionally taxing job thank intense\n",
            "thank appreciate advice\n",
            "hmmm wander lol\n",
            "oh man funny need noise canceling headphones plan survive teenage years xbox\n",
            "love\n",
            "post comment gutrolling lol son right swear god sounds exactly imagine nonstop talking bossiness micromanaging hilariously irritating love\n",
            "heh yea parent kid care decibel levels noise floor relative noise levels crappy microphone much\n",
            "screen names young black spiral notebook erased words theres theing gravity earth sucks onto cover\n",
            "sound dramatic lol\n",
            "lol rich\n",
            "saaaammeee spill spill spill\n",
            "currently renovating like almost rich moms\n",
            "bless imagination\n",
            "renovating house face body\n",
            "brilliant\n",
            "cute\n",
            "yup biodad household like growing upper middle class probably making figures yearly huge house often given expired food lunches left eat literal crumbs mostly empty cereal boxes meal bathroom supposed use often toilet paper outsiders would seen privileged see inside kitchen cabinets upstairs bathroom saw fancy house biodad expensive cars\n",
            "post comment removed violating rule decent civil remember human disagree remain respectful insult users children name call intentionally rude bullying including baiting antagonizing tolerated consider blocking users along report posts violate rules questions moderation reach modmail moderators rely community help illuminate posts comments meet parenting standards please report posts comments feel contribute spirit community content may automatically removed auto moderation manually removed human moderator may removed direct result rule violation simply part larger sweep content longer contributed original topic\n",
            "probably secondary yes policy bothered singular biscuit lunchbox well balanced overall\n",
            "best part mother law funeral\n",
            "appreciated\n",
            "smash\n",
            "wow could see inlaws\n",
            "faraday bag\n",
            "lol\n",
            "methinks son law mother law heads\n",
            "bro comment red\n",
            "love complete power play joke\n",
            "preaching choir\n",
            "yea insane open pandora box digitally\n",
            "amazing advice\n",
            "reddit lol every mil evil underhanded intentions\n",
            "zomg mental image rocking gray haired baby lol thank\n",
            "another part reddit mil incomplete abbreviation waiting another character topic\n",
            "come accentigne region france sparkling punctuation\n",
            "lot hoops jump\n",
            "lol even purchase anything tuck head tail chalk stupid parenting\n",
            "thank post op definitely bookmarking replies advice\n",
            "great\n",
            "post comment removed violating rule decent civil remember human disagree remain respectful insult users children name call intentionally rude bullying including baiting antagonizing tolerated consider blocking users along report posts violate rules questions moderation reach modmail moderators rely community help illuminate posts comments meet parenting standards please report posts comments feel contribute spirit community content may automatically removed auto moderation manually removed human moderator may removed direct result rule violation simply part larger sweep content longer contributed original topic\n",
            "laughed hard\n",
            "bluey awesome want bluey themed birthday party\n",
            "daughter bluey party birthday said kids class said bluey babies kids come told ignore haters everyone come blast played keepy uppy freeze dance\n",
            "adult bluey themed bday party lot adults love bluey one coworkers single kids bluey window stickers car love\n",
            "shit dude love baked watch episodes bluey youtube\n",
            "nope bluey fun party idea age beauty bluey\n",
            "bluey everyone\n",
            "old bluey character\n",
            "power rangers themed party birthday remember\n",
            "bluey cake balloons colors match everything else gives wants minimizing teasing liking baby show like wanted coco melon\n",
            "cartoon sheets high school homie pokemon sheets age adults anime geek themed parties time full cosplay parties\n",
            "bluey something\n",
            "year old son loves bluey love bluey year olds think subtle obvious nods show hit parents\n",
            "awww located bluey loving yo watching new episodes weekend would love attend close female friend turned well looooves playing reborns barbie etc\n",
            "year old went bluey themed party blast huge blow inflatable dog front yard\n",
            "almost yr old loves bluey\n",
            "niece adores bluey\n",
            "want th birthday bluey\n",
            "wife threw bluey themed party daughters refer bluey yrs old bingo yrs enjoy bluey jumped aboard happily took role bandit bluey ages\n",
            "old embrace little kid stuff long reckon mine mermaid themed party wore mermaid dress mermaid face paint glitter gems friends danced around baby shark awesome think last kiddy party still sweet memory us\n",
            "would ecstatic bluey themed party\n",
            "old bluey cute everyone even teen gets stuck trance lol\n",
            "adult roommate watches bluey\n",
            "kid turns friday loves bluey bluey hilarious\n",
            "year old loves bluey\n",
            "yos friends highschool girls boys really squishmallows really like seeing cheerful math nerds carrying stuffies around school\n",
            "spent weekend binge watching bluey disney next month mostly without grandson room love idea bluey themed birthday party maybe celebrate mine\n",
            "kids school friend bluey party turned always thought bluey babies mom go deep themes kid wore bluey dress bluey cake bluey party bags bluey decor games\n",
            "young kids growing fast little mermaid beauty beast everything nobody thought babyish\n",
            "make fun bluey birthday party age would enjoy plenty things depends party plan accordingly\n",
            "son still loves bluey little brother got bluey garbage truck birthday jealous lots fights tears haha say party\n",
            "th chucky cheese\n",
            "think theme irrelevant son turning feb think acts mature like turned bluey bday\n",
            "middle schoolers love bluey fine\n",
            "turning april birthday theme bluey daughter loves make happy plus bluey awesome\n",
            "fucking love bluey would love bluey themed party granny tooth fairy episodes piss ur pants hilarious\n",
            "year old got bluey plush dolls christmas loved throw best bluey party\n",
            "never old things love support daughter decision build confidence passion even others yr old yr old still love bluey binge new episodes religiously also party despite bluey theme consider ways make appealing year olds friend decorate cupcake bluey pinata full candy bracelet making kits yr old party hit hope goes well\n",
            "never watched bluey neither year old twin daughters several girls th grade class love bluey\n",
            "mean getting brother fiance matching bluey little sleepies pjs bridal shower gift like seems like bluey everybody\n",
            "son march still loves bluey granted wants minecraft theme would completely unfazed likely excited attend bluey themed birthday party peer\n",
            "hope daughter enjoys bluey party\n",
            "bluey everyone\n",
            "bluey awesome one old bluey\n",
            "daughter going adores blues rock party bluey\n",
            "ohhh feel kid around age older things younger think bluey young make many themes older version seem baby ish bluey decor use lots blue orange instead bluey pictured items make seem little older mature bluey coloring books stickers take aways blue orange nail polish etc dog face painting temporary tattoos doggie bags cookie candy bar dance party freeze dance decorate dog bone like decorate cookie baking party bone shaped cookies cake could go show catalog activities different episodes like stations make art obstacle course puppets magic spells pass parcel pizza making musical statues musical chairs dirt slime clay sciency activity cricket\n",
            "think absolutely way age necessary bluey themed party pinterest friend need little bit creative work around theme think ways decorate bluey themed colors much characters faces everything also bluey themed foods like mini pavlovas edamame toffee apples etc could also plan games like pass parcel charades could nail salon like stumpfest think really fun theme daughter\n",
            "prepared make dreaded duck cake personally think bluey birthday would issue\n",
            "make something cute like blue themed tea party blue themed spaday something girly semi elegant glamorous ish keep blue theme way feel sophisticated little ones cutesy aesthetic daughter likes\n",
            "kid loved still love themed parties everything disney musicals capybaras still making friends treasure hunts around garden mum endorsed nonsense helping plan pirate themed wedding end day birthday making feel special people age respect deserve\n",
            "bluey birthday year old party older younger kids everyone loved pass parcel bluey cake even think twice let love loves\n",
            "played dolls rewatch bluey time\n",
            "boy loves bluey\n",
            "think may seem bit old bluey kids grow fast nowadays could bluey theme big girl prizes party things think year olds wear lip gloss idk lol example could hand blue lip gloss chapsticks hair brushes something big girls makes sense\n",
            "almost bluey birthday party\n",
            "make happy\n",
            "daughters three younger ones watch bluey still roblox watching youtube videos watch carefully weird stuff comes sometimes playing stuffies mini brands stuff teen mostly draws goes starbucks friend also got first phone downloaded games think theme party matters much plan fun games incorporate colors show snacks blueberry blue yogurt find pavlova dessert whole episode cake pretty funny would blast planning bluey party think gave good ideas hope fun frozen party oldest years ago amazing made cupcakes light blue frosting coconut snow melted white chocolate made snowflakes put cupcake melted olaf yogurt cups olaf noses carrots dips around sven reindeer mix almond joy pieces really hard find chex mix frozen heart punch little sandwiches sure forgetting things made little labels foods everyone even parents loved everyone even parents love bluey sure fine\n",
            "shit im want bluey themed party\n",
            "lean make dress theme everyone comes granny attire granniest year olds wins prize\n",
            "niece bluey birthday party everyone ages loved importantly niece moon decorations themed cake\n",
            "nailed\n",
            "bluey themed scavenger hunt comes mind remember neighborhoods kids remember age could mature thing weather permits\n",
            "daughter bff bluey themed party th birthday particularly top played games loosely based things show like nannas balance stack toilet paper rolls relay race wrapped paper meant canned food less painful someone dropped one toe friend got cute retro nanna style sunglasses etsy part party bags yeah definitely tailor party way suited kids ages interest\n",
            "year old loves bluey baby alive nintendo switch roblox also loves ag dolls\n",
            "pretty sure going make th stumpfest serve spiked lemonade\n",
            "gave year old gf pirate themed birthday party last year birthday party last year movie premiere themed birthday party included movie ticket invitations red carpet pajamas daughter wants mickey minnie mouse birthday party th months trying say ishave fun\n",
            "th minion themed complete pinata\n",
            "random love kid suburban american black child hitting accent says far reel liiife well timed oh biscuits\n",
            "hell yeah would awesome\n",
            "came comments say would rock bluey themed bday forget haters\n",
            "year love bluey paryy\n",
            "would serve chili dogs\n",
            "yup daughter spring picked bluey playset christmas money zero concerns\n",
            "would best birthday present party\n",
            "great comment helpful bluey party matter\n",
            "yeah theme bluey balloons table way one thing bluey\n",
            "lol pretty sure anyone family would love bluey themed party flippin love show\n",
            "girl\n",
            "face painting always fun pass parcel luckys dad rules\n",
            "wanna come lol\n",
            "okay definitely spiked lemonade right going back forth one\n",
            "ooh excellent idea stumpfest seriousness op think probably fine want sell idea dubious yo friends maybe birthday party around particular bluey episode game eg dance mode queens grannies themed birthday find fun\n",
            "much better well timed oh biscuits wonder og millennial mom boomer got giggle would quote filbert rocko modern life oh fish sticks\n",
            "loser response lol\n",
            "quite certain age worn ironically example seniors high school wear kid themed backpacks like paw patrol celebrate last year year old wore bag could teased\n",
            "watched cricket episode yet love one\n",
            "op worried old bluey bday party comment demonstrates never old bluey bday party watch bluey\n",
            "post comment removed violating rule decent civil remember human disagree remain respectful insult users children name call intentionally rude bullying including baiting antagonizing tolerated consider blocking users along report posts violate rules questions moderation reach modmail moderators rely community help illuminate posts comments meet parenting standards please report posts comments feel contribute spirit community content may automatically removed auto moderation manually removed human moderator may removed direct result rule violation simply part larger sweep content longer contributed original topic\n",
            "thank lol getting downvoted buncha folks recall\n",
            "lol year old brother still looking one lovey blankets childhood convinced bottom box somewhere\n",
            "pinkalicious stan years ago nanny nyc took little girl babysat see live show little obsession mom sent picture last halloween went pinkalicious\n",
            "pink boy color sanguine masculine\n",
            "ha crazy remember distinctly th grade friend showed face lotion\n",
            "im sorry imagine daughter cherishes stuffie kid know special meaning family nearly everyone knows bc dang loved unique mother preserved similarly loved blankie stuffie pristine bag box makes appreciate level care admiration children wish society would value childish things lot learn lot littlest\n",
            "yeah thing mom buried bird comfort blanket\n",
            "cut tree drink spiked lemonade sit around stump wards couny ill bring saws\n",
            "stumpfest\n",
            "diesel bring ammonia nitrate\n",
            "shes sitting floor watching bluey playing cards humanity trust missing anything special reddit\n",
            "th grade makes perfect sense though since awkward stages puberty pimples body hair etc even skincare routine got college kids growing fast like one bit\n",
            "post comment removed violating rule decent civil remember human disagree remain respectful insult users children name call intentionally rude bullying including baiting antagonizing tolerated consider blocking users along report posts violate rules questions moderation reach modmail moderators rely community help illuminate posts comments meet parenting standards please report posts comments feel contribute spirit community content may automatically removed auto moderation manually removed human moderator may removed direct result rule violation simply part larger sweep content longer contributed original topic\n",
            "man say scavenger hunt overnight science museum sounds amazing byob\n",
            "reply going pointless unhelpful even bother replying lol\n",
            "thinking sew tracker tile pocket daughter stuffie spare never og stuffie seen lot repairs kiddo permit us redo areas fur plucked aware said fur coming deer stuffie\n",
            "nail salon started\n",
            "perhaps nothing special\n",
            "post comment removed violating rule decent civil remember human disagree remain respectful insult users children name call intentionally rude bullying including baiting antagonizing tolerated consider blocking users along report posts violate rules questions moderation reach modmail moderators rely community help illuminate posts comments meet parenting standards please report posts comments feel contribute spirit community content may automatically removed auto moderation manually removed human moderator may removed direct result rule violation simply part larger sweep content longer contributed original topic\n",
            "chris hanson\n",
            "jigsaw puzzle blanket fort watch old movie childhood bake something make homemade pizza lunch board game outing zoo aquarium museum etc make craft legos\n",
            "kid mom would let us pull cook book pick main course side dessert spend day making even really complicated fun charge getting different things store picking right green onions potatoes also remember getting special snacks days mom would fancy crackers cheese use leftover pie crust make cinnamon bites slathering butter cinnamon sugar strips rolling baking take breaks veg watch movies pretty relaxing\n",
            "individuals adhd excel greater success multitasking\n",
            "tv household radio either watched baseball news dad none girls either total outcast\n",
            "post comment removed violating rule medical legal advice reddit internet general best places give medical legal advice ask symptoms post pictures symptoms injury ask seek medical professional make appointment visit emergency department acute urgent care center etc give medical advice home remedies suggest medications suggest medical procedures people seeking support medical diagnosis ask something legal illegal whether call police engage attorney call report child welfare agencies always consult professional matters consider looking local helplines area like ask nurse legal aid offices questions moderation reach modmail moderators rely community help illuminate posts comments meet parenting standards please report posts comments feel contribute spirit community content may automatically removed auto moderation manually removed human moderator may removed direct result rule violation simply part larger sweep content longer contributed original topic\n",
            "course tv gave us rolf harris jimmy savile gary glitter et al\n",
            "happy encouraging behaviours\n",
            "remember buddy com\n",
            "omg loved coke music xanga xanga huge middle school someone made like gossip girl style page posting rumors people school using initials wild west us millennials\n",
            "post comment removed violating rule decent civil remember human disagree remain respectful insult users children name call intentionally rude bullying including baiting antagonizing tolerated consider blocking users along report posts violate rules questions moderation reach modmail moderators rely community help illuminate posts comments meet parenting standards please report posts comments feel contribute spirit community content may automatically removed auto moderation manually removed human moderator may removed direct result rule violation simply part larger sweep content longer contributed original topic\n",
            "rules sweets nothing unsafe anything else fair game buy allowance funny enough mind daughter buys leaf tickets animal crossing contribute clutter room mountain plastic ocean unlike horrible lol balls\n",
            "roblox turns kids crackheads stock lol\n",
            "mmhmm\n",
            "retarded acceptable synonym stupid insulting individuals diagnosed mentally retarded year old sister retarded means read beyond th grade level math complicated basic addition subtraction struggles right vs left also stupid saying shit like cheesecake tastes like cheese taking big ass bottle sunscreen th july parade using sister met lot people mental handicaps stupid none stupid disabilities\n",
            "pipe fucking dumbshit\n",
            "lol\n",
            "lol love\n",
            "thanks reply outschool looks interesting signed try live classes\n",
            "untreated adhd curiosity\n",
            "untreated adhd curiosity\n",
            "like small art supply book would awesome option\n",
            "love bake cake treasure hunt would much rewarding like head\n",
            "trend told kids mammal mating noises quit\n",
            "kids trend sort drives nuts\n",
            "hoooooyeahhh euphemism slang term noise rather supposed mimic sound one makes orgasm\n",
            "sexualizing damn reason\n",
            "thought sound letterkenny\n",
            "hoooyeahhh moaning sound\n",
            "side note hell live kids lemonade stand makes day lol\n",
            "thanks started lemonade stand became concession stand sell lemonade fruit punch water bottles soft pretzels small bags chips stop investing hot dog cooker lol might permit next year let sell hearts content\n",
            "make round neighborhood lol sounds like great little community shop service\n",
            "great idea love\n",
            "army would great\n",
            "great advice\n",
            "helpful comment\n",
            "baby screaming ear oldest favorite ice type pokemon screaming try calm baby hey hey listening wanna know favorite ice type pokemon mine insert paragraphs text\n",
            "bought noise cancelling headphones first mommy cute hearing million times day reach breaking point\n",
            "yes year old boy non stop yammering irritating gibberish blah blah nyeeer vroom boinka doinka want believe would tolerable would use real words probably fooling thinking home quiet kids never watched tv music played kept dull roar gone window got tv blaring annoying nursery rhymes toddler screeching lyrics gibberish added silent parts enough make wanna tear hair\n",
            "sometimes put wax earplugs drown constant noise\n",
            "love kid like absolutely hate watching movies comment every fucking thing really like movie watch beforehand asleep watch movie night\n",
            "yup lol\n",
            "felt spiritual level\n",
            "lol\n",
            "yeeep lol\n",
            "book hilarious\n",
            "mutter twins backflips rocking chair nap time lol\n",
            "audiobook narrated samuel jackson really funny\n",
            "oh god house dinner today toddler mommy fast count baby howls like wolf fun toddler sings radio jingle wrong repeatedly\n",
            "also toddler smearing poop oldest mom hungry put pepperoni drink water\n",
            "oh god son random like doll red hair instead brown like indeed\n",
            "cute\n",
            "occasionally tell son quiet pretend raptors hunting us game knows pretending literally whispering hearing singing things like buiurpie maaama buuuurp car red car red car literally turn radio tune minute even remember shopping list making\n",
            "sound pollution excellent explanation\n",
            "omg sound pollution word looking motherhood hate sound pollution\n",
            "love give award excellent parenting advice someone username\n",
            "kind thank award\n",
            "year old talks occasionally sings sleep lol tucked read books still encore sunshine\n",
            "worst car trapped tiny box shaking velociraptor earsplitting kids say fun say\n",
            "adorable actually\n",
            "mastermind level hilarious\n",
            "calls sunshine song\n",
            "documentaries\n",
            "hilda favorite kids show next bluey\n",
            "like stinky dirty prime cheerful upbeat much less stimulating lot shows think trash truck netflix similar treehouse detectives animal netflix also move slower pace still engaging\n",
            "good age show kids classic movies color black white movies released ratings system interesting adults tiny bit slower paced studies shown watching movies also show kids adults deal grown issues child friendly way look comedies action musical movies actors like cary grant irene dunne steve mcqueen natalie wood jack lemmon ingrid bergman humphrey bogart kathleen hepburn judy garland etc two fun halloween movies arsenic old lace cary grant ghost mr chicken knotts kids love halloween scene meet st louis musical judy garland youngest daughter five years old interesting character bringing baby favorite wife magnificent seven man shot liberty valance great escape like hot great race natalie wood tony curtis jack lemmon long movie hrs divided many different manageable sections many different cool scenes kids love long car race western brawl humongous pie fight villain wearing black twirling handlebar mustache hero sparkling white clothes head toe movie musicals music man ron howard age relatable film cast fantastic singin rain one funny silly guys dolls lil abner show boat oklahoma hope helps\n",
            "puffin rock waffles mochi netflix\n",
            "think bluey peppa pig ben holly low stimulating shows\n",
            "think baking shows could great great british bake early seasons roku last like years netflix holiday baking championship food network also fun chopped food network great contestants actual chefs weird ingredients basket make appetizer main course dessert depending level reach\n",
            "waffles mochi\n",
            "like grown feeling stuff recommend netflix binge emily wonder lab bear grylls vs wild storybots matilda pup academy worst witch little lunch izzy koala world baking impossible\n",
            "scooby doo cartoons movies netflix prime video\n",
            "yes hilda one kindergartner favorite shows also one mine charming\n",
            "love shows make happy\n",
            "would disagree octonauts sonic boom since op asking slower paced shows sonic definitely highly stimulating son watches octonauts bit intense bluey really chill though good recommendation\n",
            "trash truck\n",
            "remember enjoying andy griffith show happiest millionaire\n",
            "chokehold tumble leaf let year old watch rotation tumble leaf give mouse cookie puffing rock recently added old classic teletubbies newer redo came netflix\n",
            "little disappointed thought meant liked band cake\n",
            "year old loves keep rewatching floor lava\n",
            "loved andy griffith show barney fife\n",
            "like band cake never played really queen monkees though\n",
            "bro remember like yesterday got absolutely roasted one time wore payless timbalands timberlands school never kid better walk snow barefoot subjected ridicule peers give kid dignity real chucks like kid self esteem priceless\n",
            "graduated highschool yrs ago gen rough reminds episode atlanta two kids designer shirt one bootleg one real shirt got bullied bad killed show school uniforms needed low income schools\n",
            "size shoe\n",
            "size shoe son outgrew would send size\n",
            "unfortunate live world wearing wrong sneakers make freaking outcast adopted instantly made loser\n",
            "kids assholes heard picking children wearing brand name stuff honestly sickening\n",
            "reminds keds rage course afford super stiff walmart knockoffs blank label back instead blue keds label brilliant idea coloring part blue pretty soon one mean girls loudly called class kids cruel sometimes\n",
            "grade knockoff nikes subjected ridicule kids dicks\n",
            "goshhhh wish clothing big deal school sorry make kind bullied wearing eclectic options older brother brought back city lived big fashion drag dressing kids school wore like carhart american eagle jeans always weird one lol whatever love fashion even though everryone else time thought weird\n",
            "almost afraid kids older mostly shop thrift stores mom taught name count like clothes adult found love terra sky sketchy breathable material\n",
            "plan sounds great\n",
            "size wear\n",
            "paint markers draw cool stuff write coversation like brand name conversation piece lol\n",
            "agree parents afford much growing mom talented seamstress although could make beautiful things occasionally tried copy trendy clothes since kids mean would made fun eventually wear things made\n",
            "yeah got mocked wearing ankle length boots dr martens everyone cost care much name brand stuff thought stupid mean tease someone clothes made bitter cantankerous person today\n",
            "oh yeah two four stripes kids called knockoff brands bobos grew\n",
            "look two stripes\n",
            "excellent advice\n",
            "love\n",
            "mine imitation green asics even cool shoe distinctive one memories sure stick\n",
            "relate son middle school first time bullied knock shoes day payless could afford adidas popular back white ones three black stripes side payless ones stripes anyhow felt bad one memories middle school\n",
            "mother experience embarrassed wear handmade clothes mother grandmere made sew us\n",
            "sneaker head one dumbest first world disease hobbies imaginable yes judgy\n",
            "god miss payless appreciate like kid miss chunky wedge heel sandals would buy ballet flats nevermind fact wear heels anymore make ankles collapse thanks hypermobility\n",
            "payless exciting american brand seen commer uals us tv stations cable time finally came small town mall really shame payless shoes new exciting like finally\n",
            "funny though kind sarcastic towards real brand possibilities would gas pap gop nap fav perfect school\n",
            "depends size school variable lol\n",
            "got downvoted far oblivion one upvote mattered award\n",
            "love response\n",
            "real like dude one life wasting petty childish hostile others reason trolls judge people brand names\n",
            "agreed soooo comfy\n",
            "early girl office one older guys building complimented converse black hot pink stitching hot pink sparkly laces day go everything\n",
            "vegetables kid willingly eat frozen ones still frozen defrost want anymore\n",
            "one enjoys folding towels shocking\n",
            "year old obsessed making hot tea favorite decaf chai honey oat milk drinks mugs every day\n",
            "daughter likes pretend animals sits cat trees meows tries pick sticks mouth outside like dog chewed chunk dining room table beaver\n",
            "week alone ummtoo many count dancing elevator music broom definitely hour video youtube elevator music performing weird version irish jig broom even irish asking go live woods squirrels deers predatory animals long island harm people thing like money cesspool island putting paper bag head running wall years old way span hour yesterday\n",
            "love strange tiny humans lol\n",
            "son went frozen lima bean phase years weird\n",
            "mine enough frozen peas\n",
            "adorable\n",
            "chewed chunk dining room table beaver probably funniest thing visualized long time\n",
            "well ur kids saints cuz drew portrait yr old poo emoji drew ad word mother fuc think ur winning give props spelling properly lol\n",
            "exceptional caretaker\n",
            "ughhhhh shaun mcbride business partner went high school dick biased also show horrible\n",
            "dad blippi vibes\n",
            "classics dominoes rummy hearts many variations play set bones pack cards\n",
            "say scrabble chess lol kids fav play sus scrabble totally let play words inappropriate school grandparents butt holes fart blaster poop etc haha makes laugh much also still spelling idc\n",
            "holy crap terrifying\n",
            "hilarious\n",
            "genuine question grandma evaluated forgetfulness\n",
            "phase\n",
            "excellent response\n",
            "yo boy lego duplo bins ikea kallax tons pokemon figurines games shows likes currently trip right playing cans playdoh youtuber figurine nerf recently downsized found best ones size especially loves drawing crafting supplies pom poms beads tape paper etc really gaming well uses pc nintendo switch independently family\n",
            "son still huge legos also green army men colors actual service members usa lmao sometimes dusts transformers beyblades\n",
            "organize legos buy drawers\n",
            "yep two racks ikea alex drawers sorted parts one trofast bricks reshelving tub parts need sorted back drawers\n",
            "ended getting fold card table costco attaching large green blue squares surface also repurpose old used dinner tables friends husband made really cool one storage inserts believe order custom ones etsy well depends want spend crafty want\n",
            "amazon catalogue similar old sears giftbook one circle ideas\n",
            "shoot\n",
            "hard work chatgpt say something victorian nun would find offensive four year old gory imagination chatgpt\n",
            "oh sounds awesome thanks\n",
            "oh sounds interesting thanks\n",
            "lol love\n",
            "snacks teenage loved bag treats\n",
            "good headphones kind little figurine gaming desk wear makeup black made think maybe emo vibes\n",
            "nice blanket know sounds lame favorite food kinds food related blankets amazon\n",
            "fuzzy rugs kids bedrooms\n",
            "mashed potatoes lol\n",
            "mom mean stop plenty moms generation older millennial enjoy video gaming listen heavy metal music tattoos etc things traditionally frowned women let patriarchy dictate interests best thing kids bend becoming stereotypical suburban housewife want kids fine long ignoring parenting duties day every day game instead would neglect even abandoning parenting duties garden day something\n",
            "feel like moms baking cooking reading books arts crafts motherly well really sexist mindset\n",
            "yep uh sorry saddled sexist mindset ok moms like blaming really hope kick beliefs people much interesting stereotypes\n",
            "love post btw anyone wants play animal crossing aussie hit\n",
            "yus another monster hunter mumma hiiii\n",
            "cook clean art game lol\n",
            "wife please joking aside huge gamer since playing wow pretty hardcore since also avid souls gamer nioh sekiro etc loving nier automata right hobby cooking baking cleaning house instead reads watches films writes reviews basically film critic never expected mummy role chauvinistic kitchen whilst maternity bring home bacon although haitus hobbies since dd weeks ago fully intent return time next couple months granted much used basically matter hobbies long offspring raised happy full belly adequate sleep knowing right wrong let kid embrace gaming life certainly future let face better child watching hobby posts fans\n",
            "gamer heavy metal listener mom relate questioning think ideal type mom long understand may hobbies child future may know sure baby wants play wow age happy wait first tattoo still take time discover new activities children baking star wars cookies great geek cooking books good luck\n",
            "checking late semi heavily tattooed crazy hair coloured comfortably dressed mom chair parent council daughter school cook bake tidy etc stay home parent picked crochet first covid lockdown listen heavy metal punk also guild master raid leader heroic raiding guild world warcraft honestly sounds impressive lol point makes happy kids appreciate\n",
            "sound like awesome mum\n",
            "oh screw mother punk scientist gamer crochet grow vegetables make tea none things contradictory important thing teach kid roles stereotypes absolutely fine\n",
            "gamer huge metal fan know looking husband blast car unborn baby gets used weeks fully intend expose music throughout life ever seen master hand puppets album funny heavy metal nursery rhymes super epic kids\n",
            "heavymetal listen trap music semi sneakerhead\n",
            "love baker gamer writer whisky drinker diy er absolute best like rest us\n",
            "mom eligible positions tack great moms great momming mom quilts extent runs business making quilt patters also also taught quilting classes sometimes even put together entire retreats rollerblades hikes kayaks paddleboards always crafty mom cannot cook absolute shit used consider smoke alarm dinner bell siblings got variety stories exchanged anybody please soup horrific amounts garlic salt great mom\n",
            "best thing kids bend becoming stereotypical suburban housewife want love added want want stereotype either interests align ops respect people feel differently traditional stereotypical interests appeal nice mention respect think gets lost sometimes whoever feel entitled authentic\n",
            "hi sorry ignorance meant gestational parent mom like surrogate\n",
            "year old caught fish animal crossing stop raving like world shocked wonderful\n",
            "hello good hunter bot dream look fine note surely mankind pure dark availed nothing forgive whatever thou art stay away artorias abysswalker good one praise sun\n",
            "dirty ones lol\n",
            "mom sounds like rockstar\n",
            "yeah totally gets lost sometimes tomboy growing took embarrassingly late realize absolutely fine also like baking knitting mind one tough girl likes drinking whiskey girly girl wears dresses avoids dirt much happier adult hikes games drinks whiskey knits cross stitches craft nights bakes cookies friends plays dungeons dragons paints nails feel like\n",
            "love\n",
            "thing bake carrot cake dry chicken good cook basic recipes mostly taste use seasonings everything\n",
            "got icebourne xmas bloody brilliant almost like prequel rather expansion play whilst toddler naps xd\n",
            "know patriarchy edit sorry typo mean statement made men right mean yes statements may made family matriarchs western society fundamentally matriarchy experienced impact patriarchy women internalizing sexist patriarchal ideas raised ideas empower women protect women non existent higher status society woman expressed mean reflective female dominated society\n",
            "lol yeah pp coming patriarchal matriarchal actual sociological anthropological classifications human societies\n",
            "silly miss obvious connection beloved classic thank\n",
            "love turnaround time something like naruto\n",
            "show really successful dark skin women actresses singers models influencers etc explain see lot representations right mean making huge impact society could become role model one day voice dark skinned girls feeling way inspire love skin\n",
            "resonates much black dark skin tone around also started thoughts mom approach slow drip positive black influences example would give beautiful black barbie dolls play take plays musicals shows featuring black artists alvin ailey give books spoke confidence look expose potential role models looked like expose musicians looked like back looked like buying cassette cds leaving magazines around house especially bathrooms specific black culture essence ebony etc occasionally serious talks really seeing beautiful examples dark skinned people course formative years helped see could beautiful emphasize slow drip black beautiful proverbial signs house steady showcase black positivity\n",
            "love little one love skin color\n",
            "reading tv books shows great representation beyonce brown skin girls great video features brown dark skin women also tries convey lighter brown skinned people treated favorably invalidate experience colorism real harmful obviously media end seeing reflected great likes musicals disney version cinderella featuring singer brandy dreamwork home princess frog cheetah girls also cutesy fun age\n",
            "maybe show miles morales spiderman representation like matters\n",
            "yes race light skin color darker said know would help said skin beautiful mine look like live multi cultural city sorts races city schools media huge family tons black people\n",
            "skai jackson masai martin normani three beautiful dark skinned women princess tiana jess craig creek animated world\n",
            "year old always chooses dark skin colors well comes coloring avatars etc says beautiful color girl super pale bright red hair see peach calls skin color self portrait even painted browns\n",
            "obviously fair red headed princess bronze wakanda queen another life kidding\n",
            "girl children treat differently open affection wishing girl could based sees little girls treated acceptable given physical affection like cuddles could someone made negative comment something likes girls kids pick stuff even act differently reluctant mlp smiling trucks see\n",
            "lmao fuck little pony kissing lips turn kid girl actual hell\n",
            "real post ughhhhh\n",
            "unhappy would happy boy happy girl\n",
            "yep ish daycare dance classes week three older girls bringing swishy skirts want swishy skirt fun scottish men wear swishy skirts called kilts\n",
            "middle school freakin brutal\n",
            "okay missing something thread comment\n",
            "lol yes joke kid glued something want gift try solvant glue remover\n",
            "father lol think gendered thing enjoy certain ships dramoine great ship\n",
            "drink lot\n",
            "amen mine haaaalllpppp\n",
            "single mama girls alive mystery\n",
            "girl alcohol everyday lmao\n",
            "likes dancing pop music guys schedule dance day kids toddlers love music music videos every evening dinner family dance living room funny mix favourites footloose always rotation something look forward could guys something like cares dance great exercise great laugh bit silly together\n",
            "update first thing finally gave request make slime hate slime smell glue makes gag hate wet slurpy labia sound makes hate mess hate everything pandemic bets went michaels got glue blast actually relaxing fun layering colors chatted laughed slime play achievement unlocked really soap cutting asmr took two nice expensive soaps saving whatever showed slice little curls put double boiler added shimmer pigment stirred made mini soap balls relaxing plus soap lavender scented extra sensory bonus plus hands super clean afterwards turning fancy soap toy achievement unlocked morning sitting around staring ipad staring phone sudden said floor lava jumped action climbing furniture made way empty amazon boxes waiting recycled ripped used duct tape make lava resistant boots shuffled around house lava boots awhile floor lava achievement unlocked also done dance parties stuff mainly found success following lead trying find way yes kinda fun remembering kid\n",
            "oh yeah cooking together shit ton tiny little bits pieces shopkins legos doll accessories teeny tiny forks dinglehoppers disney character play sets castles dolls ponies russian nesting dolls snow globes buy one every city travel beanie boos american girl stuff rocket ship snap circuits vehicles horses basically big plastic dump room basically pacific garbage patch hate plastic toys much\n",
            "love scavenger hunt idea\n",
            "love patience approach\n",
            "well takes kinds know easily offended lot insult comedy meanspirited pranks arewhere draw line past dark dark humor like dead baby jokes kinds stuff hope discover soon lol plenty people mind like recognize like people posting roast subs hey house values\n",
            "origins impact mama jokes\n",
            "fingering another girl wife named matilda joke loose vagina sorry dense beyond fingering elbow part\n",
            "oh duh haha\n",
            "goosebumps tv series\n",
            "seen movie coraline super creepy also horror movie nut around age watch poltergeist old school cheesy horror movies could select cheesy vs scary side\n",
            "might bit old fringe tv good show sciencey mystery episodes certainly creepy think dr criminal minds baby less serial killers though\n",
            "likes older movies poltergeist birds christine fright night little shop horrors nintendo switch little nightmares games creepy yr old loves\n",
            "kubo two strings studio made coraline great plenty scary parts\n",
            "courage cowardly dog\n",
            "something wicked way comes movie\n",
            "watcher woods old movie disney\n",
            "goosebumps creeped gremlins night books\n",
            "goosebumps\n",
            "loved books age still haunt day lol\n",
            "ah seen krampus heard great film thanks warning santa lol\n",
            "watched first episode sure would love gory bodies plane\n",
            "excellent film\n",
            "great film see likes animated films remember beautiful\n",
            "thanks seek\n",
            "desperately miss watching whatever want whenever want watch tv hobby sit watch watch background noise whatever frustrating tried music spend time curating music list tried podcasts actually care miss hear kids decided yell good part got netflix amazon prime many shows actually ok watch parents kids netflix love puffin rock spirit numberblocks alphablocks octonauts storybots word party none make want blow brains like little pony blippi puffin rock legit relaxing actually sat watched puffin rock without kids like episodes realized wandered amazon prime tumble leaf give mouse cookie pete cat stinky dirty show even spring pbs channel tumble leaf also decently relaxing show disney bluey heard really good none shows anything scary tense moments kid sensitive nothing frightening monsters scary people stuff like help baby seal ledge dinner call lift across lake jump\n",
            "awe old days watching news family nothing else watch need tv shows local world news giving suspense murder comedy need\n",
            "dish washing folding laundry worry hears earpods favorite piece tech\n",
            "carbon copy plan car ever\n",
            "love exploding kittens\n",
            "gubs sleeping queens\n",
            "thanks reply appreciate\n",
            "tried everything imaginable wasted thousands sports equipment introduce different things taken bring garage woodworking change oil help redo bathroom electrical carpentry bring basement gym exercise lift weights gardening list goes begged find hobby tried hard light spark nothing\n",
            "sarcastic\n",
            "regular money put glitter hair spray lol makes little magical\n",
            "cute haha\n",
            "internet full much darker hateful content hustler\n",
            "walks like duck quacks like duck probably duck shaped lootbox\n",
            "adorable\n",
            "sweet\n",
            "give choice eating entire cookie jar eat vegetable saute supper would gladly eat cookie jar buy cookies weekdays eat better manage cravings feel\n",
            "wow happy early birthday next birthday year old june grow fast remember girl babyshe sweetest baby\n",
            "oh awesome congratulations\n",
            "great\n",
            "yepp adhd therapist lol\n",
            "depends smashing capitalism patriarchy let radicalize\n",
            "may looking likes math think might enjoy sodoku\n",
            "chess\n",
            "music\n",
            "inner voice\n",
            "thanks reply dont live us look equivalent country\n",
            "kid would love probably tape candy something misplaced\n",
            "jackpot kids love cash want ugly ass sweater pajamas came\n",
            "love idea\n",
            "love roblox lol\n",
            "love post feel like liberal screentime rules year old tech executive lives world robotics ai\n",
            "books screens chance give new wonderful hobby two dozen gorgeous books bed fast right classic booklist tweens list trixie beldon little women hitchhikers guide earthsea cycle series unfortunate events discworld bio woman discovered structure dna come\n",
            "already makeup\n",
            "uncommon almost years ago girls full face makeup foundation everything\n",
            "mascara lip gloss mostly hair takes forever waist length hair curling takes forever\n",
            "among us roblox lots jewel dropping games speed runners angry birds makeup nail hair styling games\n",
            "year old girl year old boy enjoy cockroach poker sargrada avacado smash pass pigs qwirkle games encourage counting planning reflexes paying close attention things\n",
            "zelda breath wild pokemon sword shield minecraft slime rancher\n",
            "blaming hormone surge temporarily emotionally disregulated result\n",
            "say mom sounds like wonderful grandparent person wow special son special bond matter distance love love love\n",
            "expressed preference outer beauty inner beaty sound like isnt tying dress yo wear make inappropriately praise virtues think important due either side nothing wrong praising wears presents\n",
            "permitted kids play makeup art form makeup character makeup practice one actor avid cosplayer guess internalized makeup creating character\n",
            "would rather know existence facebook duration lifetime\n",
            "ideal awesome much equality gender roles however living arrangements environment presently align values participate use makeup growing thanks\n",
            "small house moving would awkward considered python school likes\n",
            "small house moving would awkward considered python school likes\n",
            "nobody tell weight lifting simulator lol\n",
            "good illustration industry needs regulated unadulterated capitalism equals businesses ram rodding everyone\n",
            "ok ok ok entitled damn changed damn lot judge book cover\n",
            "look thread comment lmao\n",
            "roblox twitter drama every tuesdays entitled people network\n",
            "guess read reply seeing replying example commodity accurate comparison would forcing women wear hijabs control roblox job nanny dictate devs lays users\n",
            "play os runescape\n",
            "okay appologize offended kinds games bore death\n",
            "open decaying winter let learn pure suffering\n",
            "frustrating baby scanned ultra rare frost dragon adopt nothing done super upsetting\n",
            "cheer lol\n",
            "happy cake day\n",
            "happy cake day\n",
            "happy cake day\n",
            "happy cake day\n",
            "sorry diagnose ur niece cringe\n",
            "preach dude preach\n",
            "babft hotel elephant\n",
            "car crusher\n",
            "love subreddit\n",
            "breaths alex rich lesbian virgin gets bullied wants die single famous queen half rat pegasus unicorn gold digger\n",
            "makes acceptable\n",
            "world magic well made fucking love\n",
            "alex rich famous lesbian gay queen pro says bad word half unicorn half demon dont touch tail gold digger cheater russian eats tacos evil angle bad bullied single cuffed youtuver ice powers\n",
            "problems name cuz bored rich bet lesbian ok respect lgbtq community nothing wrong wants die well ok single hmmmmmmmmmmm queen presidents half rat pegasus unicorn ok gotta take science gold digger ofc\n",
            "oh almost forgot unofficial royale high subreddit nobody likes alex rich lesbian virgin gets bullied wants die single famous queen half rat pegasus unicorn gold digger devil ice powers youtuber people fact make fun lot know sucks search nice people community\n",
            "john rich famous asexual says bad words half wolf half dolphin creature night leader pack dont touch tail gold digger likes bones kills pigs demon bad single teen youtuber ice powers fire powers use force dodge bullets cant killed tattoos wings furry dresses cool mansion watches jojo plays\n",
            "chris demon angel wings evil cool hot buff tattoos piercings red eyes glowing eyes nice god bad bully single cusses famous youtuber furry wolf famous rich cringe dresses cool lifts protect nice guy pretty watches jojo posts jojokes kill touch girl part ussr golden hand mansion stan speedwagon gay trans bi lesbian king darkness\n",
            "remember animal survival games forever wip\n",
            "thanks appreciate support\n",
            "idiot downvoted comments\n",
            "laughs pet sim nfts\n",
            "lfw luck win\n",
            "power bill man power bill\n",
            "poop\n",
            "offended comment\n",
            "pay win lol\n",
            "slaves\n",
            "commenter joking\n",
            "illegal lol\n",
            "chaotic good\n",
            "dog\n",
            "billion hell\n",
            "write book tecnoboat comment funny\n",
            "enchants damn wow suddenly exist\n",
            "sure dislike comment oppinion\n",
            "username need joke\n",
            "lol really funny feel like upsetting lot pet sim enjoyers post\n",
            "ya know noticed lol guy deserve upvotes\n",
            "lmao funniest example ive tho girl tiktok flexing fact boyfriend beamed someone headless hilarious people gonna stoop low head\n",
            "unsure reply\n",
            "recent reply reddit displaying\n",
            "thought reddit\n",
            "art\n",
            "please make story game panel square room like random bacon hair stories\n",
            "great\n",
            "downvoted\n",
            "like little one hat cute\n",
            "nothing satire reply\n",
            "indeed remember game dominated copy pastes least servers wend oders trolls\n",
            "oh ok crazy coincidence lol\n",
            "bro everyone able job even chores people actually creative donate sometimes beacuse really make someones day fun like stop replying everyone turn reddit stay ur basement pkaying adopt smth like bro shut\n",
            "could gotten red shaggy hair rbx\n",
            "trap\n",
            "joking\n",
            "roblox taken downward trend opinion lost appeal childish charm used back\n",
            "534\n"
          ]
        }
      ],
      "source": [
        "# Get the topic distribution for each document\n",
        "document_topics = lda_model.get_document_topics(corpus)\n",
        "\n",
        "# Filter reviews that have topic 1 as their main topic\n",
        "reviews_in_topic_1 = [idx for idx, topics in enumerate(document_topics) if max(topics, key=lambda x: x[1])[0] == 1]\n",
        "\n",
        "i = 0\n",
        "# Print the reviews\n",
        "for idx in reviews_in_topic_1:\n",
        "    i += 1\n",
        "    print(' '.join(data_words[idx]))\n",
        "\n",
        "print(i)"
      ]
    },
    {
      "cell_type": "code",
      "execution_count": 40,
      "metadata": {
        "id": "OGD7bxby_HDV"
      },
      "outputs": [],
      "source": [
        "\n",
        "def compute_coherence_values(corpus, dictionary, k, a, b):\n",
        "    lda_model = gensim.models.LdaModel(corpus=corpus,\n",
        "                                       id2word=dictionary,\n",
        "                                       num_topics=k,\n",
        "                                       random_state=100,\n",
        "                                       chunksize=100,\n",
        "                                       passes=10,\n",
        "                                       alpha=a,\n",
        "                                       eta=b,\n",
        "                                       per_word_topics=True)\n",
        "    coherence_model_lda = CoherenceModel(model=lda_model, texts=data_lemmatized, dictionary=id2word, coherence='c_v')\n",
        "    return coherence_model_lda.get_coherence()\n",
        "\n",
        "#data_words"
      ]
    },
    {
      "cell_type": "code",
      "execution_count": 41,
      "metadata": {
        "colab": {
          "base_uri": "https://localhost:8080/"
        },
        "id": "0m7_xdHC-hPo",
        "outputId": "6faa1142-eec2-45fc-f478-f89c991ef7e5"
      },
      "outputs": [],
      "source": [
        "# import numpy as np\n",
        "# import tqdm\n",
        "# grid = {}\n",
        "# grid['Validation_Set'] = {}\n",
        "\n",
        "#  # Topics range\n",
        "# min_topics = 2\n",
        "# max_topics = 11\n",
        "# step_size = 1\n",
        "# topics_range = range(min_topics, max_topics, step_size)\n",
        "# # Alpha parameter\n",
        "# #A list of alpha values to be tested.\n",
        "# #It includes a range of values from 0.01 to 1 with a step size of 0.3, as well as two special values: 'symmetric' and 'asymmetric'.\n",
        "# alpha = list(np.arange(0.01, 1, 0.3))\n",
        "#  #assumes that all documents are equally likely to be a mixture of topics, resulting in a uniform distribution of topics across documents. So it maps rreviews to each topic evenly\n",
        "#  #It makes the model assume that every document should have roughly the same proportion of topics.\n",
        "# # alpha.append('symmetric')\n",
        "# # #allows for more variability in document-topic proportions.\n",
        "# # #It doesn't enforce a uniform distribution and allows documents to have varying degrees of focus on different topics.\n",
        "# alpha.append('asymmetric')\n",
        "\n",
        "# # # Beta parameter\n",
        "# # #A list of beta values to be tested. It follows a similar pattern to alpha, including a range and 'symmetric'.\n",
        "# beta = list(np.arange(0.01, 1, 0.3))\n",
        "# beta.append('symmetric')\n",
        "\n",
        "# # # Validation sets:\n",
        "# # # We have the corpus sets, which contains 2 versions of the corpus, 15% and 20%\n",
        "# num_of_docs = len(corpus)\n",
        "\n",
        "# # #A list containing two versions of the 15% corpus, one with 20% of the documents and another with 15% of the documents.\n",
        "# corpus_sets = [gensim.utils.ClippedCorpus(corpus, int(num_of_docs*0.20)),\n",
        "#                gensim.utils.ClippedCorpus(corpus, int(num_of_docs*0.15))]\n",
        "\n",
        "# corpus_title = ['20% Corpus', '15% Corpus']\n",
        "\n",
        "# #Stores the results of the LDA model with different hyperparameters.\n",
        "# model_results = {'Validation_Set': [],\n",
        "#                   'Topics': [],\n",
        "#                   'Alpha': [],\n",
        "#                   'Beta': [],\n",
        "#                   'Coherence': []\n",
        "#                  }\n",
        "\n",
        "#  # Can take a long time to run\n",
        "# if 1 == 1:\n",
        "#    #progress bar\n",
        "#     pbar = tqdm.tqdm(total=(len(beta)*len(alpha)*len(topics_range)*len(corpus_title)))\n",
        "\n",
        "#      # iterate through validation corpus sets\n",
        "#     for i in range(len(corpus_sets)):\n",
        "#          # iterate through number of topics\n",
        "#         for k in topics_range:\n",
        "#              # iterate through alpha values\n",
        "#             for a in alpha:\n",
        "#                  # iterare through beta values\n",
        "#                 for b in beta:\n",
        "#                      #reconnect the runtime\n",
        "#                    # check_and_reconnect_drive()\n",
        "#                      # get the coherence score for the given parameters\n",
        "#                     cv = compute_coherence_values(corpus=corpus_sets[i], dictionary=id2word,\n",
        "#                                                   k=k, a=a, b=b)\n",
        "\n",
        "#                      # Save the model results\n",
        "#                     model_results['Validation_Set'].append(corpus_title[i])\n",
        "#                     model_results['Topics'].append(k)\n",
        "#                     model_results['Alpha'].append(a)\n",
        "#                     model_results['Beta'].append(b)\n",
        "#                     model_results['Coherence'].append(cv)\n",
        "#                     pbar.update(1)\n",
        "#     pd.DataFrame(model_results).to_csv('../Dataset/lda_tuning_results.csv', index=False)\n",
        "#      # pd.DataFrame(model_results).to_csv('/content/drive/My Drive/Classes/lda_tuning_results.csv', index=False)\n",
        "#     pbar.close()"
      ]
    },
    {
      "cell_type": "code",
      "execution_count": 61,
      "metadata": {},
      "outputs": [
        {
          "name": "stdout",
          "output_type": "stream",
          "text": [
            "c:\\Users\\Owner\\Favorites\\LDA_Analysis\\Code\n"
          ]
        }
      ],
      "source": [
        "import os\n",
        "\n",
        "\n",
        "print(os.getcwd())"
      ]
    },
    {
      "cell_type": "code",
      "execution_count": 42,
      "metadata": {
        "id": "0OlYh9gFgvgq"
      },
      "outputs": [],
      "source": [
        "# if 1==1:\n",
        "# # pd.DataFrame(model_results).to_csv('./results/lda_tuning_results.csv', index=False)\n",
        "#     pd.DataFrame(model_results).to_csv('/content/drive/My Drive/Classes/lda_tuning_results.csv', index=False)\n",
        "#     pbar.close()"
      ]
    },
    {
      "cell_type": "code",
      "execution_count": 43,
      "metadata": {
        "colab": {
          "base_uri": "https://localhost:8080/",
          "height": 357
        },
        "id": "4m8kMDVthlHA",
        "outputId": "cbd62656-9469-468e-ee1c-97142b34da6b"
      },
      "outputs": [],
      "source": [
        "# import matplotlib.pyplot as plt\n",
        "# import pandas as pd\n",
        "\n",
        "# # Load the model results from the CSV file\n",
        "# model_results_df = pd.read_csv('/content/lda_tuning_results.csv')\n",
        "\n",
        "# # Filter the results for the 75% Corpus (you can change this if needed)\n",
        "# # filtered_results = model_results_df[model_results_df['Validation_Set'] == '20% Corpus']\n",
        "\n",
        "# # Group the results by the number of topics (Topics) and calculate the mean coherence score\n",
        "# coherence_by_topics = model_results_df.groupby('Topics')['Coherence'].mean()\n",
        "\n",
        "# # Plot the coherence score against the number of topics\n",
        "# plt.figure(figsize=(12, 6))\n",
        "# plt.plot(coherence_by_topics.index, coherence_by_topics.values, marker='o', linestyle='-')\n",
        "# plt.xlabel('Number of Topics')\n",
        "# plt.ylabel('Coherence Score (C_v)')\n",
        "# plt.title('Coherence Score vs. Number of Topics')\n",
        "# plt.grid(True)\n",
        "# plt.show()"
      ]
    },
    {
      "cell_type": "code",
      "execution_count": 44,
      "metadata": {
        "colab": {
          "base_uri": "https://localhost:8080/"
        },
        "id": "V6JTcRaZhwfJ",
        "outputId": "a257d6b4-6f47-4c2d-95ad-1f00ebb34a82"
      },
      "outputs": [],
      "source": [
        "# data_topic_3 = model_results_df[model_results_df['Topics'] == 2]\n",
        "# max_coherence = np.array(data_topic_3['Coherence'])\n",
        "# print(max_coherence[4])\n",
        "# # print(np.argmax(max_coherence))"
      ]
    },
    {
      "cell_type": "markdown",
      "metadata": {
        "id": "CKhsArw_Ik3B"
      },
      "source": [
        "##Visualizing the Data\n"
      ]
    },
    {
      "cell_type": "code",
      "execution_count": 45,
      "metadata": {
        "colab": {
          "base_uri": "https://localhost:8080/",
          "height": 916
        },
        "id": "8e-qsTyyIf-V",
        "outputId": "61d19bab-0544-4637-f384-ba5954102864"
      },
      "outputs": [
        {
          "data": {
            "text/html": [
              "\n",
              "<link rel=\"stylesheet\" type=\"text/css\" href=\"https://cdn.jsdelivr.net/gh/bmabey/pyLDAvis@3.4.0/pyLDAvis/js/ldavis.v1.0.0.css\">\n",
              "\n",
              "\n",
              "<div id=\"ldavis_el232161631082598736613030351\" style=\"background-color:white;\"></div>\n",
              "<script type=\"text/javascript\">\n",
              "\n",
              "var ldavis_el232161631082598736613030351_data = {\"mdsDat\": {\"x\": [0.15365833336777468, 0.07121378111298042, 0.09379873998300835, -0.18240887974430886, -0.13626197471945464], \"y\": [0.06879385124003884, 0.15059511463424136, -0.08205813116972825, 0.03591564977865635, -0.17324648448320834], \"topics\": [1, 2, 3, 4, 5], \"cluster\": [1, 1, 1, 1, 1], \"Freq\": [42.406643022675446, 36.71062135866889, 15.301080472471401, 3.5294164952025566, 2.052238650981707]}, \"tinfo\": {\"Term\": [\"game\", \"money\", \"play\", \"roblox\", \"account\", \"buy\", \"love\", \"spend\", \"use\", \"phone\", \"make\", \"purchase\", \"pay\", \"lol\", \"girl\", \"free\", \"time\", \"video\", \"give\", \"old\", \"ban\", \"robux\", \"watch\", \"card\", \"want\", \"school\", \"set\", \"scam\", \"pet\", \"show\", \"chat\", \"minecraft\", \"youtube\", \"gamer\", \"server\", \"sex\", \"hobby\", \"filter\", \"video\", \"tiktok\", \"programming\", \"porn\", \"moderation\", \"explore\", \"discord\", \"play\", \"playing\", \"controller\", \"violent\", \"console\", \"content\", \"groom\", \"creative\", \"offline\", \"graphic\", \"harmless\", \"title\", \"chat_feature\", \"violence\", \"mario\", \"gaming\", \"online\", \"channel\", \"platform\", \"interest\", \"game\", \"roblox\", \"friendly\", \"safe\", \"pc\", \"monitor\", \"friend\", \"build\", \"watch\", \"computer\", \"enjoy\", \"kid\", \"age\", \"people\", \"many\", \"fun\", \"internet\", \"also\", \"old\", \"know\", \"lot\", \"see\", \"stuff\", \"think\", \"love\", \"child\", \"thing\", \"good\", \"find\", \"let\", \"make\", \"use\", \"year\", \"want\", \"go\", \"really\", \"even\", \"parent\", \"say\", \"time\", \"get\", \"way\", \"grandma\", \"wake\", \"therapy\", \"homework\", \"cry\", \"privilege\", \"schedule\", \"punishment\", \"father\", \"consequence\", \"routine\", \"therapist\", \"secret\", \"teacher\", \"kindergarten\", \"emergency\", \"morning\", \"wifi\", \"electronic\", \"cope\", \"whine\", \"sleep\", \"distance\", \"smartphone\", \"delay\", \"military\", \"phone\", \"apologize\", \"flip_phone\", \"timer\", \"bed\", \"quiet\", \"dinner\", \"boundary\", \"relationship\", \"minute\", \"wife\", \"weekend\", \"home\", \"night\", \"time\", \"day\", \"week\", \"away\", \"take\", \"break\", \"need\", \"school\", \"tell\", \"work\", \"dad\", \"go\", \"feel\", \"hour\", \"give\", \"say\", \"parent\", \"screen\", \"talk\", \"year\", \"get\", \"back\", \"mom\", \"kid\", \"old\", \"child\", \"want\", \"thing\", \"try\", \"know\", \"make\", \"think\", \"good\", \"help\", \"well\", \"use\", \"also\", \"money\", \"cash\", \"dollar\", \"saving\", \"robux\", \"bank\", \"item\", \"currency\", \"allowance\", \"price\", \"trade\", \"pair\", \"budget\", \"gift_card\", \"pet\", \"donate\", \"buying\", \"invest\", \"credit_card\", \"cash_grab\", \"gamepass\", \"debt\", \"cost\", \"obby_obby\", \"mlg\", \"tix\", \"profit\", \"coin\", \"buy\", \"converse\", \"purchase\", \"buck\", \"save\", \"brand\", \"card\", \"scam\", \"pay\", \"expensive\", \"sell\", \"spend\", \"earn\", \"steal\", \"skin\", \"value\", \"adopt\", \"gift\", \"shoe\", \"make\", \"scamme\", \"want\", \"free\", \"account\", \"give\", \"game\", \"get\", \"much\", \"thing\", \"really\", \"go\", \"roblox\", \"use\", \"kid\", \"people\", \"work\", \"think\", \"good\", \"even\", \"also\", \"makeup\", \"cake\", \"tease\", \"bluey_theme\", \"unicorn\", \"race\", \"sing\", \"binge\", \"inner_beauty\", \"wear\", \"report_post\", \"soap\", \"pink\", \"bluey\", \"outer_beauty\", \"slime\", \"comedy\", \"goosebump\", \"truck\", \"inner\", \"brown\", \"heavy_metal\", \"lip\", \"frozen\", \"queen\", \"beautiful\", \"radio\", \"fifi\", \"stereotypical\", \"patriarchy\", \"tattoo\", \"theme\", \"black\", \"episode\", \"hair\", \"color\", \"cookie\", \"birthday_party\", \"bake\", \"laugh\", \"red\", \"love\", \"party\", \"blue\", \"hot\", \"girl\", \"lol\", \"woman\", \"funny\", \"dress\", \"movie\", \"music\", \"birthday\", \"show\", \"comment\", \"joke\", \"baby\", \"great\", \"make\", \"skin\", \"old\", \"like\", \"watch\", \"mom\", \"kid\", \"think\", \"sound\", \"school\", \"email\", \"phishe\", \"tos\", \"malicious\", \"email_address\", \"anonymous\", \"backdoor\", \"authentication\", \"exploiter\", \"antivirus\", \"script\", \"blockchain\", \"microsoft_reward\", \"domain\", \"virus\", \"step_verification\", \"sht\", \"heroin\", \"toolbox\", \"security\", \"screenshot\", \"iron\", \"gmail\", \"pin\", \"tap\", \"password\", \"billing\", \"confirmation\", \"official\", \"datamine\", \"illegal\", \"recover\", \"hacker\", \"hack\", \"account\", \"epic\", \"setting\", \"vote\", \"model\", \"link\", \"appeal\", \"apple\", \"log\", \"studio\", \"ban\", \"download\", \"delete\", \"website\", \"purchase\", \"code\", \"free\", \"roblox\", \"use\", \"contact\", \"add\", \"user\", \"set\", \"scam\", \"support\", \"send\", \"app\"], \"Freq\": [5053.0, 1378.0, 3763.0, 2363.0, 552.0, 895.0, 865.0, 811.0, 1595.0, 1151.0, 2690.0, 316.0, 448.0, 422.0, 320.0, 339.0, 2790.0, 812.0, 1279.0, 1947.0, 221.0, 285.0, 806.0, 314.0, 2240.0, 1064.0, 540.0, 250.0, 252.0, 526.0, 502.6127288091366, 425.71789503677996, 369.1765455019381, 161.67298908584908, 138.3399011601952, 116.65850103902049, 136.56795893079894, 76.96195016794394, 792.0778936979243, 88.06904146180288, 58.18697330142546, 60.06598663616633, 68.85212705401977, 53.97037454572496, 80.17717678265467, 3593.0138338271936, 121.18624131479835, 37.86487533871547, 32.903325067100276, 92.98623174225753, 256.3823182802706, 38.444442688807655, 69.46497072171736, 26.730073054044386, 31.294385477320805, 27.833610500948968, 46.430126490605076, 26.767328218922113, 32.32290484874626, 26.075646637810028, 259.6573613164632, 572.6506752211599, 80.07585892422884, 178.95895192728565, 239.8162918949676, 4366.681337385135, 1988.7708305562503, 75.55700871592592, 274.30853944463445, 137.34883932916725, 190.1262354828774, 1046.4476163450217, 186.25869474641976, 637.7073505899375, 270.22714560537304, 267.2361799773392, 2889.6104168692073, 680.9158539538682, 942.1597526128437, 406.7542680473643, 430.154342270057, 395.19934863907645, 986.1038620802947, 1073.7721277360117, 1083.3759447583432, 592.9342531719936, 757.941017560947, 516.8422141757159, 1046.1434748496188, 536.0827486977332, 860.3081641459203, 1045.7461249719743, 841.598142593546, 522.4827090191686, 641.1337416041182, 1072.3457850727796, 768.4336100444647, 814.9600889655644, 859.4014639958416, 809.1439899925416, 605.875647266122, 595.3577867534235, 622.2107631833846, 664.8086128718494, 749.3233475355923, 653.1225830375489, 594.3430180757956, 205.15604405650154, 119.18591991084432, 75.64852554870113, 142.3804973471597, 78.29021133204044, 81.26334278987633, 59.62783580141246, 98.3786172830187, 102.19368069498096, 144.8932726434272, 55.59679116811202, 48.576813327953715, 65.4738635084792, 134.4593255192731, 53.1427554560133, 45.44166623393684, 118.04993339374596, 40.02344014471987, 103.2593899422259, 32.31682609809921, 37.08003512109638, 171.23058051163892, 33.971667471076366, 27.64818980781524, 28.37628096899749, 44.31454884344257, 1073.9261817638853, 26.38105909768554, 25.24023914122092, 58.10521167629034, 176.92465364466182, 70.40781338603435, 78.81861105750268, 170.1888351126435, 112.81113583618735, 240.31933108820385, 202.84082347162578, 129.30174225682646, 337.5362210521141, 229.32842158395067, 1911.0173634612886, 922.5842813546678, 337.4281272029343, 357.30843560066694, 987.6491201404923, 253.42143685260166, 1019.6325859589867, 725.2396509469424, 690.4941983241443, 732.837404676652, 232.33212415472318, 1350.3482077626907, 632.1647651162953, 380.3832313370113, 727.9004765244841, 959.4315949734882, 782.6941221341092, 400.16463098457984, 634.7052083334399, 872.3204162383875, 939.5714587550655, 434.83259841241136, 476.3032453859412, 1500.0218739484928, 817.059606982365, 741.9777544906515, 874.3626616871196, 844.8915582108498, 584.6064247242654, 753.405819647515, 879.5185305646002, 742.2058052324267, 600.8055356456229, 439.8189308846258, 512.3404683100979, 521.0210125679196, 529.2036093325063, 1376.055915574851, 164.49416798702055, 96.47460509710676, 71.62057507069044, 278.3317261815318, 68.90426643102566, 201.32024431675995, 65.34925731138298, 83.19707328475981, 69.79403969724211, 136.29356130457109, 51.51859345444888, 47.55046954374986, 42.59271651588087, 238.22926176647127, 63.94764522450204, 28.164547480278294, 39.156759876047, 62.659961126776366, 22.808813208051404, 23.903623473841314, 23.41567547194373, 119.23691974620019, 20.197933465918574, 23.57686352197599, 18.777277311354467, 26.868286054430758, 34.222931569427615, 811.3479569394939, 35.98613449731819, 280.37384483455503, 47.50332944550395, 205.31927686014376, 70.19457405933528, 260.7553439161452, 204.3743259993994, 353.2897398852274, 61.747921753079076, 138.21507057146482, 573.8242006221413, 178.50245477444417, 93.79363849171, 99.08787105244468, 124.40154050770818, 197.78120065858337, 162.9650304075403, 111.30336326035147, 684.3614825204478, 94.82684012279304, 492.15364138627785, 165.3096635215353, 214.32337986570582, 336.6018947493805, 682.8732365508645, 352.3383423370044, 267.2723190650614, 350.62978238756847, 266.4522962451652, 323.1845021564998, 300.3969849233475, 263.7792993310851, 363.74881226966596, 244.96782354228276, 224.91123995825322, 251.96792471690398, 229.87343681923855, 204.41866001523144, 202.42924146761612, 23.795183597407053, 23.251015311668382, 10.356876870828655, 16.156787688119675, 8.884647372310619, 10.575585822463708, 8.299261744881633, 6.174959812611592, 6.404343802493501, 61.012243289437436, 5.426362679652507, 5.458935802949533, 7.178648010820523, 78.05324248262744, 5.574726221188063, 10.731456058594244, 4.93490577895487, 5.002952981930388, 6.89555256539801, 4.508747015257989, 4.409687400510942, 5.082402793239519, 5.889267492394101, 4.694875925815115, 5.221523577947454, 19.55868765407923, 4.342632447934848, 4.169604009762488, 6.063027109930208, 6.070224609796298, 10.33381238776425, 35.69746986238346, 23.699985307494142, 19.612771466696067, 22.247150258886897, 24.251283118382236, 12.552544435494298, 9.805946604647469, 22.771135467692254, 18.35324568444633, 11.342814644796167, 127.6268063242048, 33.98935305839201, 9.62195709302672, 10.966344195887329, 51.69131433456269, 57.95873720667423, 20.270301127258364, 21.523283290323533, 17.211639793859774, 22.99067334994289, 22.327836849111588, 20.83691911588065, 36.823030110560644, 27.81029009938789, 19.66503139134015, 22.149610751299196, 33.69737939311796, 47.74379996588343, 19.217809488670333, 38.045388761450056, 23.36186102042933, 25.096604663875237, 24.42264918372719, 28.810822586414414, 24.42245668895434, 20.771995441367707, 20.75603521851379, 52.47640280597379, 12.102993679082807, 11.454775269045104, 14.794996128560475, 5.7125185229910125, 6.436401507849092, 8.154735638800423, 5.48644646658177, 9.423896681006402, 4.933986394012108, 22.789749781185986, 10.238567991435286, 4.198398050005523, 4.380676358115663, 17.34690083680195, 5.080581632679728, 3.257820937443731, 3.5817604995763728, 6.883703278158929, 13.57519032308812, 3.4878521440158883, 3.2978059406130544, 2.9837318993166178, 8.975726758854146, 6.137398400651913, 52.04978417617402, 2.9314617780629257, 4.432651790438154, 10.213539194805062, 3.113949079213293, 15.74219665904655, 10.986606374393968, 9.34372450232089, 17.146203158819997, 118.64892577902587, 5.633183016024706, 24.843948144943525, 10.33902736063666, 23.87254989308008, 22.572840539306977, 14.635850814104769, 18.967024678465993, 18.179432570026023, 12.335938196168872, 28.24281647400708, 16.807260169963435, 18.00857525061802, 15.122211722182284, 28.79423070692773, 19.10646203667298, 26.6160971967505, 49.281536868271395, 40.415066424161274, 17.341662544299098, 16.868007013950862, 13.784467383983404, 18.417884009999703, 15.438093072330366, 14.10405919132101, 14.027156748100019, 13.859482418928126], \"Total\": [5053.0, 1378.0, 3763.0, 2363.0, 552.0, 895.0, 865.0, 811.0, 1595.0, 1151.0, 2690.0, 316.0, 448.0, 422.0, 320.0, 339.0, 2790.0, 812.0, 1279.0, 1947.0, 221.0, 285.0, 806.0, 314.0, 2240.0, 1064.0, 540.0, 250.0, 252.0, 526.0, 505.03148342359043, 427.7944377401126, 372.2326332140269, 164.1070299195628, 140.59666947091782, 118.91634001439171, 139.76662642561357, 78.88100423109825, 812.3288893805641, 90.83725736779118, 60.16712856363587, 62.15206348643126, 71.37179109579237, 56.15834072097843, 83.86291032215874, 3763.1956034238715, 127.79459806439469, 39.954917836517346, 34.80558686505877, 98.42405011921377, 271.8397450998736, 40.77924641698247, 74.02791707485048, 28.486524293981013, 33.356183506291664, 29.669169429779252, 49.533622166378166, 28.559630459652354, 34.558432907192774, 27.905253653507007, 278.8438692693918, 624.4501436139686, 85.8552352853064, 194.24628534058826, 261.35461376396364, 5053.379830993802, 2363.9750505871493, 81.82452532409313, 317.52467212577994, 153.89003265628776, 217.17699412761613, 1348.2781082159456, 212.99703146156816, 806.9554522265747, 318.73875792433194, 322.63071331649354, 4783.483902722289, 950.0160919628208, 1396.4799032134097, 544.7625260695321, 588.8402088360266, 535.6757083604931, 1729.5370550529733, 1947.0223591527417, 2001.3834054454574, 951.669661960832, 1319.3503121767935, 804.4254989140827, 2065.129408236386, 865.4355407274818, 1697.0677578605887, 2253.0296013086313, 1684.213602283165, 840.812799524549, 1163.5358445187944, 2690.342835114109, 1595.6232027270557, 1766.1142029081516, 2240.057591738626, 2486.392758217837, 1275.7238180513734, 1249.2517847015783, 1452.746675245486, 1818.8766302077152, 2790.770131858336, 1956.2850387039211, 1260.6626843001197, 207.2149882428911, 121.06707869445262, 77.46222779073726, 145.86253359860154, 80.33062251086184, 83.39320975188137, 61.71126856997627, 101.90754618005846, 105.8709099125953, 150.52889652917864, 57.7607360604534, 50.47039534364847, 68.14226510022294, 140.28299737613509, 55.45535811437489, 47.43650172887152, 124.08767345782404, 42.08378038005402, 108.80582880569915, 34.11487819349348, 39.17280713765066, 180.9726421405971, 36.024989647185286, 29.530828116897617, 30.342635583259753, 47.46779527162905, 1151.038547934915, 28.29114290404825, 27.06916279260046, 62.31959775398515, 190.346903345821, 76.29060713484344, 85.64279798571059, 188.24711273263082, 124.23983370836537, 271.10629439467255, 228.15358785378757, 144.66923961580994, 399.39105680168467, 269.25210295714993, 2790.770131858336, 1255.771542171491, 419.697559567421, 450.7879208339887, 1384.6531642149089, 314.4301232941573, 1530.6027657496002, 1064.2730249826177, 1070.8267368158663, 1172.4651042812616, 295.6394962125969, 2486.392758217837, 993.8621883176002, 536.5002627538071, 1279.070407878352, 1818.8766302077152, 1452.746675245486, 614.6320078529384, 1146.959149985849, 1766.1142029081516, 1956.2850387039211, 699.0813536469204, 800.4640765048329, 4783.483902722289, 1947.0223591527417, 1697.0677578605887, 2240.057591738626, 2253.0296013086313, 1275.2417889135768, 2001.3834054454574, 2690.342835114109, 2065.129408236386, 1684.213602283165, 788.6494941777885, 1236.3312258310414, 1595.6232027270557, 1729.5370550529733, 1378.7772190289875, 166.51999745704632, 98.56896634805412, 73.44369252049776, 285.9080322738965, 70.78695151819885, 207.1433194205161, 67.56789362638507, 86.14313440377138, 72.41864976096994, 141.47278078657084, 53.66833762627406, 49.55940019602344, 44.56175959984145, 252.46148204191846, 67.91497247438194, 30.119283717127768, 42.08292969920095, 67.6803595991933, 24.772594405647986, 25.973655115137824, 25.452629997231504, 129.7700807463798, 21.983024359066828, 25.862904647737366, 20.604357637784968, 29.48689945989459, 37.6757782379121, 895.043220766337, 39.81254652016356, 316.47323721397777, 52.731836688278975, 237.85043463415852, 79.54982284465537, 314.38679147188225, 250.11947104721418, 448.43971000544445, 70.83693063003119, 170.40514952711072, 811.5131624161658, 231.49822093355291, 112.73310654761396, 120.15969397394046, 155.84292288963155, 275.16488422612645, 246.03840411963844, 148.15001559101174, 2690.342835114109, 128.00789090916064, 2240.057591738626, 339.1222133301405, 552.2684645143944, 1279.070407878352, 5053.379830993802, 1956.2850387039211, 1159.8305519209746, 2253.0296013086313, 1275.7238180513734, 2486.392758217837, 2363.9750505871493, 1595.6232027270557, 4783.483902722289, 1396.4799032134097, 1172.4651042812616, 2065.129408236386, 1684.213602283165, 1249.2517847015783, 1729.5370550529733, 25.958698085235312, 25.536222671062536, 12.677920010121225, 20.020647204844064, 11.19143380153585, 13.375767993151143, 10.532818625345376, 8.279617518201139, 8.707806246810403, 82.96769284449195, 7.386943010785895, 7.531906408368999, 9.916347685446269, 107.94114666386237, 7.7698195409994915, 15.092145427732051, 6.990504678429535, 7.091741366103019, 9.951321699845952, 6.537027644437856, 6.4075321507170475, 7.390648118110487, 8.776163411343513, 6.999868011389324, 7.789622452216544, 29.259933674951974, 6.546493675703787, 6.326829201114139, 9.210142691630448, 9.299865286699516, 16.175249248667416, 67.89835748254036, 43.58895668175496, 35.22552557921392, 44.28977081582299, 51.2879144953443, 23.498625705624267, 17.27697675381047, 55.509544475732575, 41.32375940595967, 21.81275750116006, 865.4355407274818, 123.38216121681369, 18.32062211060132, 23.357548084866966, 320.3048036990415, 422.3955869590348, 70.03512174148834, 79.90386691055376, 63.202859165659426, 122.01667436516911, 125.84669513079952, 112.8009338764382, 526.491405896969, 256.8958030300572, 99.74161373622465, 145.45556263221042, 571.5986221105716, 2690.342835114109, 120.15969397394046, 1947.0223591527417, 422.2314219489755, 806.9554522265747, 800.4640765048329, 4783.483902722289, 2065.129408236386, 381.77257205888765, 1064.2730249826177, 60.52106503338639, 14.465385332982049, 14.229470314186884, 19.282594731838653, 7.9072221792253075, 8.919218361886863, 11.342183902226123, 7.805162713915872, 13.445768113925984, 7.102950442289346, 32.936061102481894, 14.916262357740555, 6.287786341314128, 6.582683044186, 26.213696700570743, 7.740567939724553, 5.392623013611114, 5.92951939477186, 11.440241106120855, 22.612003925164515, 5.810179005165317, 5.58341573157384, 5.1103244176286085, 15.44750172866644, 10.576947281507048, 89.7657164380955, 5.056349790078713, 7.648345278808673, 17.67396809489486, 5.456450560022985, 30.347221697747486, 21.33783605601927, 18.662053066175908, 41.609306922607445, 552.2684645143944, 10.907897270940438, 78.85143906501978, 24.957851423218838, 93.62961075160665, 92.11802748088188, 45.96713645345891, 71.25785633663268, 70.28208847418924, 39.94973069320264, 221.19890199445717, 79.79798098845517, 95.1188124116521, 66.34943830695691, 316.47323721397777, 125.57383121577216, 339.1222133301405, 2363.9750505871493, 1595.6232027270557, 145.95175408678637, 277.54071432529264, 86.6797142128506, 540.777873285242, 250.11947104721418, 157.95324170820265, 193.37620766306267, 352.39864015781], \"Category\": [\"Default\", \"Default\", \"Default\", \"Default\", \"Default\", \"Default\", \"Default\", \"Default\", \"Default\", \"Default\", \"Default\", \"Default\", \"Default\", \"Default\", \"Default\", \"Default\", \"Default\", \"Default\", \"Default\", \"Default\", \"Default\", \"Default\", \"Default\", \"Default\", \"Default\", \"Default\", \"Default\", \"Default\", \"Default\", \"Default\", \"Topic1\", \"Topic1\", \"Topic1\", \"Topic1\", \"Topic1\", \"Topic1\", \"Topic1\", \"Topic1\", \"Topic1\", \"Topic1\", \"Topic1\", \"Topic1\", \"Topic1\", \"Topic1\", \"Topic1\", \"Topic1\", \"Topic1\", \"Topic1\", \"Topic1\", \"Topic1\", \"Topic1\", \"Topic1\", \"Topic1\", \"Topic1\", \"Topic1\", \"Topic1\", \"Topic1\", \"Topic1\", \"Topic1\", \"Topic1\", \"Topic1\", \"Topic1\", \"Topic1\", \"Topic1\", \"Topic1\", \"Topic1\", \"Topic1\", \"Topic1\", \"Topic1\", \"Topic1\", \"Topic1\", \"Topic1\", \"Topic1\", \"Topic1\", \"Topic1\", \"Topic1\", \"Topic1\", \"Topic1\", \"Topic1\", \"Topic1\", \"Topic1\", \"Topic1\", \"Topic1\", \"Topic1\", \"Topic1\", \"Topic1\", \"Topic1\", \"Topic1\", \"Topic1\", \"Topic1\", \"Topic1\", \"Topic1\", \"Topic1\", \"Topic1\", \"Topic1\", \"Topic1\", \"Topic1\", \"Topic1\", \"Topic1\", \"Topic1\", \"Topic1\", \"Topic1\", \"Topic1\", \"Topic1\", \"Topic1\", \"Topic1\", \"Topic1\", \"Topic2\", \"Topic2\", \"Topic2\", \"Topic2\", \"Topic2\", \"Topic2\", \"Topic2\", \"Topic2\", \"Topic2\", \"Topic2\", \"Topic2\", \"Topic2\", \"Topic2\", \"Topic2\", \"Topic2\", \"Topic2\", \"Topic2\", \"Topic2\", \"Topic2\", \"Topic2\", \"Topic2\", \"Topic2\", \"Topic2\", \"Topic2\", \"Topic2\", \"Topic2\", \"Topic2\", \"Topic2\", \"Topic2\", \"Topic2\", \"Topic2\", \"Topic2\", \"Topic2\", \"Topic2\", \"Topic2\", \"Topic2\", \"Topic2\", \"Topic2\", \"Topic2\", \"Topic2\", \"Topic2\", \"Topic2\", \"Topic2\", \"Topic2\", \"Topic2\", \"Topic2\", \"Topic2\", \"Topic2\", \"Topic2\", \"Topic2\", \"Topic2\", \"Topic2\", \"Topic2\", \"Topic2\", \"Topic2\", \"Topic2\", \"Topic2\", \"Topic2\", \"Topic2\", \"Topic2\", \"Topic2\", \"Topic2\", \"Topic2\", \"Topic2\", \"Topic2\", \"Topic2\", \"Topic2\", \"Topic2\", \"Topic2\", \"Topic2\", \"Topic2\", \"Topic2\", \"Topic2\", \"Topic2\", \"Topic2\", \"Topic2\", \"Topic2\", \"Topic3\", \"Topic3\", \"Topic3\", \"Topic3\", \"Topic3\", \"Topic3\", \"Topic3\", \"Topic3\", \"Topic3\", \"Topic3\", \"Topic3\", \"Topic3\", \"Topic3\", \"Topic3\", \"Topic3\", \"Topic3\", \"Topic3\", \"Topic3\", \"Topic3\", \"Topic3\", \"Topic3\", \"Topic3\", \"Topic3\", \"Topic3\", \"Topic3\", \"Topic3\", \"Topic3\", \"Topic3\", \"Topic3\", \"Topic3\", \"Topic3\", \"Topic3\", \"Topic3\", \"Topic3\", \"Topic3\", \"Topic3\", \"Topic3\", \"Topic3\", \"Topic3\", \"Topic3\", \"Topic3\", \"Topic3\", \"Topic3\", \"Topic3\", \"Topic3\", \"Topic3\", \"Topic3\", \"Topic3\", \"Topic3\", \"Topic3\", \"Topic3\", \"Topic3\", \"Topic3\", \"Topic3\", \"Topic3\", \"Topic3\", \"Topic3\", \"Topic3\", \"Topic3\", \"Topic3\", \"Topic3\", \"Topic3\", \"Topic3\", \"Topic3\", \"Topic3\", \"Topic3\", \"Topic3\", \"Topic3\", \"Topic4\", \"Topic4\", \"Topic4\", \"Topic4\", \"Topic4\", \"Topic4\", \"Topic4\", \"Topic4\", \"Topic4\", \"Topic4\", \"Topic4\", \"Topic4\", \"Topic4\", \"Topic4\", \"Topic4\", \"Topic4\", \"Topic4\", \"Topic4\", \"Topic4\", \"Topic4\", \"Topic4\", \"Topic4\", \"Topic4\", \"Topic4\", \"Topic4\", \"Topic4\", \"Topic4\", \"Topic4\", \"Topic4\", \"Topic4\", \"Topic4\", \"Topic4\", \"Topic4\", \"Topic4\", \"Topic4\", \"Topic4\", \"Topic4\", \"Topic4\", \"Topic4\", \"Topic4\", \"Topic4\", \"Topic4\", \"Topic4\", \"Topic4\", \"Topic4\", \"Topic4\", \"Topic4\", \"Topic4\", \"Topic4\", \"Topic4\", \"Topic4\", \"Topic4\", \"Topic4\", \"Topic4\", \"Topic4\", \"Topic4\", \"Topic4\", \"Topic4\", \"Topic4\", \"Topic4\", \"Topic4\", \"Topic4\", \"Topic4\", \"Topic4\", \"Topic4\", \"Topic4\", \"Topic4\", \"Topic4\", \"Topic5\", \"Topic5\", \"Topic5\", \"Topic5\", \"Topic5\", \"Topic5\", \"Topic5\", \"Topic5\", \"Topic5\", \"Topic5\", \"Topic5\", \"Topic5\", \"Topic5\", \"Topic5\", \"Topic5\", \"Topic5\", \"Topic5\", \"Topic5\", \"Topic5\", \"Topic5\", \"Topic5\", \"Topic5\", \"Topic5\", \"Topic5\", \"Topic5\", \"Topic5\", \"Topic5\", \"Topic5\", \"Topic5\", \"Topic5\", \"Topic5\", \"Topic5\", \"Topic5\", \"Topic5\", \"Topic5\", \"Topic5\", \"Topic5\", \"Topic5\", \"Topic5\", \"Topic5\", \"Topic5\", \"Topic5\", \"Topic5\", \"Topic5\", \"Topic5\", \"Topic5\", \"Topic5\", \"Topic5\", \"Topic5\", \"Topic5\", \"Topic5\", \"Topic5\", \"Topic5\", \"Topic5\", \"Topic5\", \"Topic5\", \"Topic5\", \"Topic5\", \"Topic5\", \"Topic5\", \"Topic5\"], \"logprob\": [30.0, 29.0, 28.0, 27.0, 26.0, 25.0, 24.0, 23.0, 22.0, 21.0, 20.0, 19.0, 18.0, 17.0, 16.0, 15.0, 14.0, 13.0, 12.0, 11.0, 10.0, 9.0, 8.0, 7.0, 6.0, 5.0, 4.0, 3.0, 2.0, 1.0, -5.5096, -5.6756, -5.8181, -6.6438, -6.7997, -6.9702, -6.8126, -7.3861, -5.0548, -7.2513, -7.6658, -7.634, -7.4975, -7.741, -7.3452, -3.5427, -6.9321, -8.0954, -8.2358, -7.197, -6.1827, -8.0802, -7.4886, -8.4436, -8.286, -8.4032, -7.8915, -8.4422, -8.2536, -8.4684, -6.1701, -5.3791, -7.3464, -6.5423, -6.2495, -3.3477, -4.1341, -7.4045, -6.1152, -6.8069, -6.4817, -4.7763, -6.5023, -5.2715, -6.1302, -6.1413, -3.7605, -5.206, -4.8812, -5.7212, -5.6653, -5.75, -4.8357, -4.7505, -4.7416, -5.3443, -5.0988, -5.4817, -4.7765, -5.4451, -4.9721, -4.7769, -4.9941, -5.4708, -5.2662, -4.7518, -5.0851, -5.0263, -4.9732, -5.0334, -5.3227, -5.3403, -5.2961, -5.2299, -5.1102, -5.2476, -5.342, -6.2614, -6.8045, -7.2591, -6.6267, -7.2248, -7.1875, -7.4971, -6.9964, -6.9583, -6.6092, -7.567, -7.702, -7.4035, -6.6839, -7.6122, -7.7687, -6.8141, -7.8957, -6.9479, -8.1096, -7.9721, -6.4422, -8.0596, -8.2656, -8.2396, -7.7939, -4.6061, -8.3125, -8.3567, -7.5229, -6.4095, -7.3309, -7.218, -6.4483, -6.8595, -6.1032, -6.2728, -6.723, -5.7635, -6.15, -4.0298, -4.758, -5.7638, -5.7066, -4.6898, -6.0501, -4.658, -4.9987, -5.0478, -4.9883, -6.137, -4.3771, -5.136, -5.644, -4.995, -4.7188, -4.9224, -5.5933, -5.132, -4.814, -4.7398, -5.5102, -5.4191, -4.2719, -4.8795, -4.9759, -4.8117, -4.846, -5.2142, -4.9606, -4.8058, -4.9755, -5.1869, -5.4988, -5.3462, -5.3294, -5.3138, -3.4831, -5.6072, -6.1408, -6.4387, -5.0812, -6.4773, -5.4051, -6.5303, -6.2888, -6.4645, -5.7952, -6.7681, -6.8482, -6.9583, -5.2368, -6.552, -7.372, -7.0425, -6.5723, -7.5829, -7.536, -7.5566, -5.9289, -7.7045, -7.5498, -7.7774, -7.4191, -7.1771, -4.0113, -7.1269, -5.0739, -6.8492, -5.3855, -6.4588, -5.1464, -5.3901, -4.8427, -6.587, -5.7812, -4.3577, -5.5254, -6.1689, -6.114, -5.8865, -5.4229, -5.6165, -5.9978, -4.1815, -6.158, -4.5112, -5.6022, -5.3425, -4.8911, -4.1837, -4.8454, -5.1218, -4.8503, -5.1248, -4.9318, -5.0049, -5.1349, -4.8136, -5.2089, -5.2943, -5.1807, -5.2725, -5.3899, -5.3996, -6.0738, -6.0969, -6.9056, -6.4609, -7.0589, -6.8847, -7.1271, -7.4227, -7.3863, -5.1322, -7.552, -7.546, -7.2721, -4.8859, -7.525, -6.8701, -7.6469, -7.6332, -7.3124, -7.7372, -7.7594, -7.6175, -7.4701, -7.6968, -7.5905, -6.2698, -7.7748, -7.8154, -7.441, -7.4398, -6.9078, -5.6682, -6.0778, -6.2671, -6.141, -6.0548, -6.7133, -6.9603, -6.1177, -6.3334, -6.8147, -4.3941, -5.7172, -6.9792, -6.8484, -5.298, -5.1835, -6.2341, -6.1741, -6.3977, -6.1082, -6.1374, -6.2065, -5.6371, -5.9178, -6.2644, -6.1454, -5.7258, -5.3774, -6.2874, -5.6045, -6.0921, -6.0205, -6.0477, -5.8825, -6.0477, -6.2096, -6.2104, -4.7407, -6.2076, -6.2626, -6.0068, -6.9584, -6.8391, -6.6024, -6.9988, -6.4578, -7.1049, -5.5747, -6.3749, -7.2663, -7.2238, -5.8476, -7.0756, -7.52, -7.4252, -6.7719, -6.0928, -7.4518, -7.5078, -7.6079, -6.5065, -6.8866, -4.7488, -7.6255, -7.212, -6.3773, -7.5651, -5.9447, -6.3044, -6.4663, -5.8593, -3.9249, -6.9724, -5.4884, -6.3651, -5.5283, -5.5843, -6.0176, -5.7583, -5.8007, -6.1885, -5.3602, -5.8792, -5.8102, -5.9849, -5.3409, -5.751, -5.4195, -4.8035, -5.0018, -5.8479, -5.8756, -6.0775, -5.7877, -5.9642, -6.0546, -6.06, -6.0721], \"loglift\": [30.0, 29.0, 28.0, 27.0, 26.0, 25.0, 24.0, 23.0, 22.0, 21.0, 20.0, 19.0, 18.0, 17.0, 16.0, 15.0, 14.0, 13.0, 12.0, 11.0, 10.0, 9.0, 8.0, 7.0, 6.0, 5.0, 4.0, 3.0, 2.0, 1.0, 0.8531, 0.853, 0.8496, 0.8429, 0.8417, 0.8387, 0.8347, 0.8332, 0.8326, 0.8269, 0.8244, 0.8237, 0.8219, 0.8181, 0.8129, 0.8116, 0.8048, 0.8041, 0.8017, 0.801, 0.7993, 0.7989, 0.7942, 0.7942, 0.7941, 0.794, 0.7932, 0.7931, 0.791, 0.7901, 0.7866, 0.7713, 0.7882, 0.7759, 0.7719, 0.7118, 0.685, 0.7782, 0.7116, 0.7442, 0.7248, 0.6044, 0.7237, 0.6225, 0.6928, 0.6695, 0.3538, 0.5248, 0.4643, 0.5657, 0.5439, 0.5537, 0.296, 0.2627, 0.2441, 0.3847, 0.3036, 0.4155, 0.1778, 0.3789, 0.1785, 0.0903, 0.1641, 0.3821, 0.2619, -0.062, 0.1272, 0.0845, -0.1002, -0.2647, 0.1133, 0.1167, 0.0099, -0.1486, -0.457, -0.2392, 0.1059, 0.9921, 0.9864, 0.9784, 0.9779, 0.9764, 0.9762, 0.9678, 0.9669, 0.9668, 0.9639, 0.9639, 0.9639, 0.9622, 0.9597, 0.9595, 0.9591, 0.9522, 0.9519, 0.9498, 0.948, 0.9472, 0.9468, 0.9434, 0.9362, 0.9351, 0.9334, 0.9328, 0.9322, 0.9321, 0.9321, 0.929, 0.9219, 0.9191, 0.9013, 0.9056, 0.8816, 0.8845, 0.8898, 0.8338, 0.8416, 0.6234, 0.6938, 0.7839, 0.7697, 0.6642, 0.7864, 0.5959, 0.6186, 0.5633, 0.5322, 0.7611, 0.3916, 0.5497, 0.6582, 0.4384, 0.3625, 0.3836, 0.573, 0.4104, 0.2967, 0.2687, 0.5273, 0.483, -0.1576, 0.1338, 0.1748, 0.0613, 0.0213, 0.2222, 0.0251, -0.1159, -0.0212, -0.0287, 0.4181, 0.1212, -0.1171, -0.1821, 1.8753, 1.865, 1.8558, 1.8521, 1.8504, 1.8503, 1.8487, 1.8439, 1.8424, 1.8403, 1.84, 1.8364, 1.8359, 1.8321, 1.8192, 1.8171, 1.8101, 1.8052, 1.8002, 1.7947, 1.7942, 1.7938, 1.7926, 1.7926, 1.7847, 1.7844, 1.7842, 1.7811, 1.7791, 1.7762, 1.7561, 1.7728, 1.7302, 1.7521, 1.6902, 1.6753, 1.6388, 1.7399, 1.6679, 1.5307, 1.6173, 1.6933, 1.6844, 1.6519, 1.547, 1.4653, 1.5913, 0.5083, 1.5772, 0.3618, 1.1587, 0.9307, 0.5423, -0.1243, 0.163, 0.4095, 0.0169, 0.3112, -0.1631, -0.1857, 0.0773, -0.6992, 0.1367, 0.2261, -0.2264, -0.1143, 0.0671, -0.268, 3.257, 3.2503, 3.1418, 3.1296, 3.1132, 3.1091, 3.1057, 3.0507, 3.0368, 3.0367, 3.0356, 3.0221, 3.021, 3.0198, 3.012, 3.003, 2.9958, 2.9951, 2.9772, 2.9726, 2.9704, 2.9696, 2.9451, 2.9446, 2.944, 2.9412, 2.9336, 2.9271, 2.9259, 2.9174, 2.896, 2.7011, 2.7347, 2.7584, 2.6555, 2.5951, 2.717, 2.7777, 2.453, 2.5324, 2.6901, 1.4299, 2.0548, 2.7001, 2.5879, 1.5201, 1.3578, 2.1042, 2.0323, 2.0433, 1.675, 1.6148, 1.6551, 0.6839, 1.1208, 1.7203, 1.462, 0.513, -0.6875, 1.5111, -0.5912, 0.4496, -0.1265, -0.1456, -1.7681, -1.0934, 0.4328, -0.5932, 3.7436, 3.7079, 3.6693, 3.6213, 3.5611, 3.56, 3.5563, 3.5337, 3.5308, 3.5219, 3.518, 3.5099, 3.4823, 3.479, 3.4734, 3.4652, 3.3823, 3.3822, 3.3783, 3.376, 3.3759, 3.3597, 3.3482, 3.3433, 3.342, 3.3412, 3.3411, 3.3407, 3.3379, 3.3253, 3.2299, 3.2224, 3.1945, 2.9997, 2.3484, 3.2254, 2.7313, 3.005, 2.5196, 2.4799, 2.7418, 2.5626, 2.534, 2.7111, 1.828, 2.3286, 2.222, 2.4075, 1.4892, 2.0034, 1.3414, 0.0157, 0.2104, 1.7561, 1.0857, 2.0476, 0.5066, 1.1011, 1.4704, 1.2626, 0.6504]}, \"token.table\": {\"Topic\": [1, 2, 3, 5, 1, 2, 3, 5, 1, 2, 3, 1, 2, 3, 4, 1, 2, 3, 1, 2, 3, 4, 5, 1, 2, 3, 5, 1, 2, 3, 5, 1, 2, 3, 1, 2, 3, 5, 1, 2, 3, 4, 5, 1, 2, 3, 4, 5, 1, 2, 3, 5, 1, 2, 3, 1, 2, 3, 4, 1, 2, 3, 4, 5, 1, 2, 3, 5, 1, 2, 3, 4, 1, 2, 3, 5, 1, 2, 3, 1, 2, 3, 4, 1, 2, 3, 1, 2, 3, 5, 1, 2, 3, 4, 1, 2, 3, 4, 1, 2, 3, 4, 1, 2, 3, 4, 1, 2, 3, 5, 1, 2, 3, 4, 1, 2, 3, 4, 1, 2, 3, 4, 1, 2, 3, 1, 2, 3, 4, 1, 2, 3, 1, 2, 3, 4, 1, 2, 3, 5, 1, 2, 3, 1, 2, 3, 4, 5, 1, 2, 3, 4, 5, 1, 2, 3, 1, 2, 3, 4, 1, 2, 3, 1, 2, 3, 1, 2, 3, 1, 2, 3, 5, 1, 2, 3, 1, 2, 3, 1, 2, 3, 4, 5, 1, 2, 3, 5, 1, 2, 3, 5, 1, 2, 3, 4, 1, 2, 3, 4, 1, 2, 3, 4, 5, 1, 2, 3, 5, 1, 2, 3, 5, 1, 2, 3, 5, 1, 2, 3, 1, 2, 3, 5, 1, 2, 3, 4, 5, 1, 2, 3, 1, 2, 3, 4, 1, 2, 3, 4, 5, 1, 2, 3, 1, 2, 3, 1, 2, 3, 4, 1, 2, 3, 1, 2, 3, 1, 2, 3, 1, 2, 3, 4, 1, 2, 3, 5, 1, 2, 3, 4, 1, 2, 3, 1, 2, 3, 1, 2, 3, 5, 1, 2, 3, 4, 1, 2, 3, 5, 1, 2, 3, 1, 2, 3, 1, 2, 3, 5, 1, 2, 3, 4, 5, 1, 2, 3, 5, 1, 2, 3, 4, 1, 2, 3, 1, 2, 3, 5, 1, 2, 3, 5, 1, 2, 3, 5, 1, 2, 3, 1, 2, 3, 4, 1, 2, 3, 4, 5, 1, 2, 3, 4, 1, 2, 3, 4, 5, 1, 2, 3, 4, 1, 2, 3, 5, 1, 2, 3, 1, 2, 3, 4, 1, 2, 3, 4, 1, 2, 3, 4, 1, 2, 3, 1, 2, 3, 4, 5, 1, 2, 3, 1, 2, 3, 5, 1, 2, 3, 4, 1, 2, 3, 4, 1, 2, 3, 4, 1, 2, 3, 4, 1, 2, 3, 4, 1, 2, 3, 5, 1, 2, 3, 1, 2, 3, 1, 2, 3, 4, 1, 2, 3, 4, 5, 1, 2, 3, 1, 2, 3, 1, 2, 3, 4, 1, 2, 3, 4, 5, 1, 2, 3, 5, 1, 2, 3, 4, 5, 1, 2, 3, 4, 5, 1, 2, 3, 4, 1, 2, 3, 1, 2, 3, 1, 2, 3, 4, 1, 2, 3, 1, 2, 3, 5, 1, 2, 3, 5, 1, 2, 3, 4, 1, 2, 3, 1, 2, 3, 4, 1, 2, 3, 4, 5, 1, 2, 3, 5, 1, 2, 3, 4, 1, 2, 3, 4, 1, 2, 3, 1, 2, 3, 4, 1, 2, 3, 1, 2, 3, 4, 5, 1, 2, 3, 4, 1, 2, 3, 4, 1, 2, 3, 4, 1, 2, 3, 1, 2, 3, 4, 1, 2, 3, 5, 1, 2, 3, 5, 1, 2, 3, 4, 1, 2, 3, 4, 5, 1, 2, 3, 1, 2, 3, 4, 5, 1, 2, 3, 4, 1, 2, 3, 4, 1, 2, 3, 4, 1, 2, 3, 5, 1, 2, 3, 4, 1, 2, 3, 5, 1, 2, 3, 4, 1, 2, 3, 4, 1, 2, 3, 4, 5, 1, 2, 3, 4, 5, 1, 2, 3, 4, 1, 2, 3, 5, 1, 2, 3, 4, 1, 2, 3, 1, 2, 3, 5, 1, 2, 3, 1, 2, 3, 1, 2, 3, 4, 1, 2, 3, 5, 1, 2, 3, 4, 5, 1, 2, 3, 1, 2, 3, 4, 1, 2, 3, 1, 2, 3, 1, 2, 3, 1, 2, 3, 4, 1, 2, 3, 4, 1, 2, 3, 4, 1, 2, 3, 4, 5, 1, 2, 3, 4, 1, 2, 3, 1, 2, 3, 5, 1, 2, 3, 1, 2, 3, 4, 1, 2, 3, 1, 2, 3, 4, 1, 2, 3, 4, 1, 2, 3, 4, 5, 1, 2, 3, 4, 1, 2, 3, 5, 1, 2, 3, 4, 1, 2, 3, 5, 1, 2, 3, 1, 2, 3, 4, 5, 1, 2, 3, 1, 2, 3, 5, 1, 2, 3, 1, 2, 3, 5, 1, 2, 3, 4, 1, 2, 3, 5, 1, 2, 3, 1, 2, 3, 1, 2, 3, 1, 2, 3, 1, 2, 3, 1, 2, 3, 5, 1, 2, 3, 1, 2, 3, 1, 2, 3, 5, 1, 2, 3, 4, 1, 2, 3, 1, 2, 3, 4, 1, 2, 3, 4, 1, 2, 3, 4, 1, 2, 3, 5, 1, 2, 3, 4, 1, 2, 3, 1, 2, 3, 4, 1, 2, 3, 5, 1, 2, 3, 5, 1, 2, 3, 4, 1, 2, 3, 1, 2, 3, 1, 2, 3, 1, 2, 3, 4, 5, 1, 2, 3, 5, 1, 2, 3, 5, 1, 2, 3, 1, 2, 3, 4, 1, 2, 3, 1, 2, 3, 5, 1, 2, 3, 5, 1, 2, 3, 1, 2, 3, 5, 1, 2, 3, 4, 5, 1, 2, 3, 1, 2, 3, 4, 5, 1, 2, 3, 1, 2, 3, 4, 5, 1, 2, 3, 5, 1, 2, 3, 1, 2, 3, 4, 1, 2, 3, 4, 1, 2, 3, 5, 1, 2, 3, 4, 1, 2, 3, 4, 1, 2, 3, 4, 1, 2, 3, 4, 1, 2, 3, 1, 2, 3, 4, 1, 2, 3, 4, 1, 2, 3, 1, 2, 3, 5, 1, 2, 3, 5, 1, 2, 3, 4, 1, 2, 3, 4, 5, 1, 2, 3, 4, 5, 1, 2, 3, 4, 5, 1, 2, 3, 4, 5, 1, 2, 3, 1, 2, 3, 5, 1, 2, 3, 4, 1, 2, 3, 4, 1, 2, 3, 4, 1, 2, 3, 4, 1, 2, 3, 4, 1, 2, 3, 1, 2, 3, 1, 2, 3, 4, 1, 2, 3, 4, 1, 2, 3, 1, 2, 3, 4, 1, 2, 3, 1, 2, 3, 1, 2, 3, 1, 2, 3, 5, 1, 2, 3, 5, 1, 2, 3, 1, 2, 3, 4, 1, 2, 3, 4, 5, 1, 2, 3, 4, 1, 2, 3, 4, 5, 1, 2, 3, 4, 5, 1, 2, 3, 4, 1, 2, 3, 1, 2, 3, 1, 2, 3, 1, 2, 3, 4, 5, 1, 2, 3, 5, 1, 2, 3, 1, 2, 3, 4, 1, 2, 3, 4, 1, 2, 3, 4, 5, 1, 2, 3, 4, 1, 2, 3, 5, 1, 2, 3, 4, 1, 2, 3, 4, 1, 2, 3, 4, 1, 2, 3, 1, 2, 3, 4, 1, 2, 3, 1, 2, 3, 4, 1, 2, 3, 4, 1, 2, 3, 4, 1, 2, 3, 5], \"Freq\": [0.3911141299547625, 0.005432140693816146, 0.38749270282555176, 0.21547491418804046, 0.4936212704253137, 0.18375682329701457, 0.25942139759578525, 0.06125227443233819, 0.2761980338215843, 0.0036341846555471616, 0.7195685617983381, 0.7168299629461973, 0.24420638972616412, 0.031578412464590186, 0.0073682962417377105, 0.011608586185322501, 0.023217172370645002, 0.9635126533817676, 0.5700947528816028, 0.30586219500442996, 0.11679425971813771, 0.005203704640907126, 0.0017345682136357087, 0.11211744790027203, 0.11211744790027203, 0.11211744790027203, 0.6727046874016323, 0.1407865658256924, 0.1407865658256924, 0.1407865658256924, 0.703932829128462, 0.03534675157492161, 0.919015540947962, 0.03534675157492161, 0.41430352834113876, 0.4511935685358977, 0.0908062527870989, 0.03972773559435577, 0.5221121403614007, 0.021754672515058363, 0.0652640175451751, 0.08701869006023345, 0.32632008772587545, 0.08420124191857681, 0.2666372660754932, 0.37890558863359564, 0.014033540319762802, 0.2666372660754932, 0.1281203271031229, 0.1281203271031229, 0.1281203271031229, 0.6406016355156144, 0.1752487064290555, 0.7919466860148457, 0.031056732784895912, 0.37124740383109944, 0.42624701921348457, 0.048124663459586964, 0.15124894230155903, 0.16593204695685135, 0.6222451760881925, 0.21170640473805172, 0.0014304486806625116, 0.0014304486806625116, 0.08816644207327044, 0.08816644207327044, 0.08816644207327044, 0.7053315365861635, 0.5404475983966194, 0.03602983989310796, 0.01801491994655398, 0.4143431587707415, 0.7052476237151895, 0.03616654480590715, 0.13110372492141342, 0.12658290682067502, 0.014126897380838709, 0.014126897380838709, 0.974755919277871, 0.06835285487034798, 0.06835285487034798, 0.17088213717586995, 0.6835285487034798, 0.06304279076291816, 0.9298811637530429, 0.005253565896909847, 0.19777112769416075, 0.19777112769416075, 0.19777112769416075, 0.5933133830824823, 0.12077852603718629, 0.12077852603718629, 0.12077852603718629, 0.7246711562231177, 0.1684383218033686, 0.07978657348580619, 0.5585060144006433, 0.1861686714668811, 0.34728298159437465, 0.057880496932395775, 0.057880496932395775, 0.5788049693239578, 0.2752990875099987, 0.022941590625833223, 0.16059113438083256, 0.5505981750199974, 0.06704092325656005, 0.06704092325656005, 0.1340818465131201, 0.6704092325656005, 0.27291649649313626, 0.16374989789588176, 0.05458329929862726, 0.5458329929862725, 0.2594006165896524, 0.009264307735344729, 0.009264307735344729, 0.7226160033568888, 0.0998968704426345, 0.04994843522131725, 0.04994843522131725, 0.799174963541076, 0.09030682995996471, 0.9030682995996471, 0.005312166468233218, 0.012570738239767005, 0.012570738239767005, 0.8799516767836902, 0.10056590591813604, 0.1780999842295981, 0.8046302858944343, 0.012721427444971293, 0.15606632576757232, 0.15606632576757232, 0.15606632576757232, 0.6242653030702893, 0.018963875768474345, 0.05689162730542303, 0.9102660368867684, 0.03792775153694869, 0.020177806754009875, 0.020177806754009875, 0.9685347241924739, 0.8732516069528447, 0.09859292336564375, 0.01877960445059881, 0.0046949011126497025, 0.0046949011126497025, 0.03128340548295128, 0.05921501752130064, 0.9061014945240532, 0.0011172644815339743, 0.0022345289630679487, 0.03320132076817403, 0.03320132076817403, 0.9296369815088728, 0.03916005953116914, 0.03916005953116914, 0.03916005953116914, 0.9006813692168902, 0.006361590417448799, 0.1622205556449444, 0.8301875494770683, 0.006005284742200102, 0.006005284742200102, 0.9848666977208167, 0.04036718898413025, 0.04036718898413025, 0.9284453466349957, 0.9318010687892379, 0.011647513359865474, 0.011647513359865474, 0.0465900534394619, 0.9959775113230188, 0.0019800745751948684, 0.0019800745751948684, 0.9453903837496874, 0.03501445865739583, 0.03501445865739583, 0.5067564309183273, 0.4372247345830219, 0.05126489475569125, 0.0035355099831511205, 0.0011785033277170402, 0.7167098361867607, 0.00796344262429734, 0.11945163936446011, 0.15130540986164948, 0.026542251992388244, 0.026542251992388244, 0.9024365677412003, 0.026542251992388244, 0.33146210305632895, 0.09748885384009674, 0.09748885384009674, 0.4679464984324644, 0.14305118814749965, 0.14305118814749965, 0.14305118814749965, 0.7152559407374982, 0.5449680311967564, 0.28805453077542836, 0.038926287942625454, 0.10899360623935128, 0.019463143971312727, 0.8470886997184621, 0.14431881550758985, 0.003137365554512823, 0.003137365554512823, 0.13074723532300606, 0.13074723532300606, 0.13074723532300606, 0.5229889412920242, 0.01992972823937813, 0.9632701982366096, 0.006643242746459377, 0.006643242746459377, 0.9448910087255704, 0.01016011837339323, 0.04064047349357292, 0.2261021130337181, 0.602938968089915, 0.0479610542798796, 0.11647684610827902, 0.9417313127112663, 0.003678637940278384, 0.011035913820835153, 0.014714551761113536, 0.029429103522227072, 0.9510719094826764, 0.02502820814428096, 0.02502820814428096, 0.025117710053878056, 0.025117710053878056, 0.90423756193961, 0.05023542010775611, 0.1276670405147126, 0.2553340810294252, 0.04255568017157086, 0.5532238422304212, 0.04255568017157086, 0.029312723742649146, 0.9380071597647727, 0.029312723742649146, 0.0077059364858867675, 0.0693534283729809, 0.9170064418205254, 0.9320807977108596, 0.0135084173581284, 0.040525252074385204, 0.0135084173581284, 0.014775335206876166, 0.059101340827504664, 0.9308461180331985, 0.012448552852491412, 0.9709871224943301, 0.012448552852491412, 0.014799928580421262, 0.014799928580421262, 0.961995357727382, 0.19956738106999275, 0.7847395323430223, 0.0033824979842371652, 0.010147493952711495, 0.18326932297830398, 0.18326932297830398, 0.18326932297830398, 0.5498079689349119, 0.19669182785659042, 0.73500630409568, 0.05733526965860126, 0.010352201466136338, 0.039288670762462286, 0.039288670762462286, 0.9036394275366326, 0.03295692614624773, 0.9227939320949363, 0.03295692614624773, 0.609763710558007, 0.04205266969365566, 0.1576975113512087, 0.18923701362145046, 0.011676405062885135, 0.9224359999679257, 0.011676405062885135, 0.05838202531442568, 0.9539377979214005, 0.011924222474017507, 0.011924222474017507, 0.023848444948035015, 0.02775850901814575, 0.9437893066169555, 0.02775850901814575, 0.010145180953495323, 0.010145180953495323, 0.9739373715355509, 0.1519137399275553, 0.1519137399275553, 0.1519137399275553, 0.6076549597102212, 0.014724293680266275, 0.014724293680266275, 0.9423547955370416, 0.014724293680266275, 0.02944858736053255, 0.576455687602611, 0.17544303535731637, 0.03759493614799637, 0.21303797150531276, 0.2215089662843409, 0.490484139629612, 0.015822069020310064, 0.2689751733452711, 0.008639375248477877, 0.2159843812119469, 0.7732240847387699, 0.03676273637088902, 0.9466404615503922, 0.009190684092722255, 0.009190684092722255, 0.016523172542458577, 0.09913903525475147, 0.016523172542458577, 0.8592049722078461, 0.126466662670401, 0.126466662670401, 0.126466662670401, 0.758799976022406, 0.02108081252946536, 0.9486365638259413, 0.02108081252946536, 0.8275715515592558, 0.10848316218941555, 0.027895670277278285, 0.03409470811667346, 0.183353395280699, 0.0916766976403495, 0.0916766976403495, 0.0916766976403495, 0.550060185842097, 0.39743906640987636, 0.028388504743562595, 0.028388504743562595, 0.567770094871252, 0.476285091033217, 0.3498093861874215, 0.16329774549710296, 0.008004791445936419, 0.001600958289187284, 0.056467720501489474, 0.056467720501489474, 0.8752496677730869, 0.014116930125372368, 0.07437284292923994, 0.07437284292923994, 0.1487456858584799, 0.6693555863631595, 0.9615668715765285, 0.017806793918083864, 0.017806793918083864, 0.009445465244660485, 0.9634374549553694, 0.009445465244660485, 0.01889093048932097, 0.3159391751602262, 0.6359030531887355, 0.031191447229194307, 0.01710498719020333, 0.15805705641996823, 0.15805705641996823, 0.15805705641996823, 0.6322282256798729, 0.9761539010635887, 0.012677323390436217, 0.012677323390436217, 0.6208278469299864, 0.2711661860153963, 0.1034713078216644, 0.003567976131781531, 0.0011893253772605103, 0.03694240592743256, 0.9235601481858139, 0.03694240592743256, 0.2653910491920023, 0.16513220838613474, 0.48655025685200415, 0.07961731475760069, 0.7758043341548259, 0.22250602318016038, 0.0007416867439338679, 0.0007416867439338679, 0.9288168761013502, 0.01222127468554408, 0.061106373427720406, 0.01222127468554408, 0.1428598365530497, 0.1428598365530497, 0.1428598365530497, 0.7142991827652485, 0.7302490447280944, 0.12227425865214603, 0.12227425865214603, 0.02377555029347284, 0.675812098811799, 0.0375451166006555, 0.025030077733770337, 0.2753308550714737, 0.864174106449699, 0.0003957747224408972, 0.1351570677135664, 0.0003957747224408972, 0.038500549713435805, 0.038500549713435805, 0.9240131931224593, 0.9871606358326298, 0.0060935841718063564, 0.0060935841718063564, 0.932421432399553, 0.057379780455357104, 0.010758708835379457, 0.003586236278459819, 0.3337959382609325, 0.48050257575080635, 0.17993287943008918, 0.004600556576337508, 0.0010223459058527795, 0.004064406138456909, 0.3332813033534665, 0.6624982005684761, 0.02244076555728194, 0.02244076555728194, 0.9649529189631235, 0.5931849844453911, 0.24039602001207958, 0.006244052467846223, 0.1623453641640018, 0.16027264702342864, 0.5691633513807612, 0.2634725953507095, 0.0023454533710745656, 0.0054727245325073195, 0.1956822929969756, 0.1956822929969756, 0.1956822929969756, 0.5870468789909268, 0.3253709605315389, 0.5429552493418758, 0.1299070707684636, 0.0012065672207597238, 0.00040218907358657467, 0.4999365869380002, 0.3568430982775987, 0.1365622505887649, 0.006531238071636582, 0.0005937489156033256, 0.14100909048654572, 0.14100909048654572, 0.14100909048654572, 0.7050454524327286, 0.004825905734327627, 0.9893106755371636, 0.004825905734327627, 0.9293629168982345, 0.029979448932201114, 0.029979448932201114, 0.5370901680386015, 0.27641774120553436, 0.12596251497973718, 0.05948229874043144, 0.9318465479091087, 0.02452227757655549, 0.02452227757655549, 0.3845293561308221, 0.024033084758176382, 0.16823159330723467, 0.4085624408889985, 0.21433868962948197, 0.05358467240737049, 0.26792336203685246, 0.4822620516663344, 0.022578576984704998, 0.4289929627093949, 0.022578576984704998, 0.4967286936635099, 0.9437406081174659, 0.03370502171848092, 0.03370502171848092, 0.1353061306693171, 0.1353061306693171, 0.1353061306693171, 0.6765306533465855, 0.30812167102616506, 0.5579157829280355, 0.12426306074306244, 0.001267990415745535, 0.007607942494473211, 0.1686477323746869, 0.1686477323746869, 0.1686477323746869, 0.6745909294987475, 0.9802053859611041, 0.014309567678264294, 0.007154783839132147, 0.007154783839132147, 0.15022870186548182, 0.8462883538422142, 0.0025038116977580305, 0.0025038116977580305, 0.013711540247228881, 0.9735193575532506, 0.0068557701236144405, 0.04281271289120823, 0.2568762773472494, 0.21406356445604113, 0.4709398418032905, 0.25908654599072445, 0.7082941545070165, 0.031686843754261264, 0.23066361954707615, 0.13180778259832923, 0.09885583694874692, 0.03295194564958231, 0.5272311303933169, 0.1529747240476897, 0.1529747240476897, 0.1529747240476897, 0.7648736202384484, 0.11483948673826909, 0.11483948673826909, 0.11483948673826909, 0.6890369204296145, 0.9182925701734519, 0.003826219042389383, 0.042088409466283214, 0.03443597138150445, 0.7373864333123302, 0.2594853524820605, 0.001866801096993241, 0.023762604152034298, 0.023762604152034298, 0.9267415619293375, 0.023762604152034298, 0.17910183444608418, 0.17910183444608418, 0.17910183444608418, 0.5373055033382526, 0.004827575433267664, 0.004827575433267664, 0.9703426620868004, 0.014482726299802991, 0.4511657503257006, 0.34088078913497377, 0.010025905562793347, 0.20051811125586694, 0.6041621669000069, 0.3135789793598652, 0.07609516565799396, 0.006062526934290727, 0.0002090526529065768, 0.0180325226272551, 0.9557236992445204, 0.0180325226272551, 0.541125701878672, 0.37623975393780246, 0.08094401080733599, 0.0009993087753992097, 0.0004996543876996048, 0.5081822249930968, 0.024199153571099852, 0.024199153571099852, 0.4355847642797973, 0.5509069643360232, 0.3334663060255491, 0.1134472999880734, 0.0017188984846677787, 0.7365628985272034, 0.15157564471299362, 0.05684086676737261, 0.05447249731873208, 0.42336989910138967, 0.16283457657745756, 0.16283457657745756, 0.24967968408543492, 0.11394500684746404, 0.11394500684746404, 0.11394500684746404, 0.6836700410847844, 0.3983945356188848, 0.11382701017682424, 0.21342564408154546, 0.25611077289785456, 0.4332431626889793, 0.3172381628432963, 0.11127010189279796, 0.13731204063366556, 0.6231153767980535, 0.2679501198710011, 0.09772298489412981, 0.011558632621886321, 0.6193413313595146, 0.22532007390877865, 0.0080884129095459, 0.14790240748883932, 0.0011554875585065572, 0.39846222793926256, 0.327095858756111, 0.2542426902149772, 0.017841592295787873, 0.002230199036973484, 0.03852273317854781, 0.03852273317854781, 0.03852273317854781, 0.9245455962851475, 0.051860240486662296, 0.051860240486662296, 0.10372048097332459, 0.7779036072999345, 0.7471145325221059, 0.12482503246069583, 0.12482503246069583, 0.0018356622420690563, 0.9317241951223918, 0.03583554596624584, 0.03583554596624584, 0.15903848281699137, 0.15903848281699137, 0.15903848281699137, 0.6361539312679655, 0.04213382965345721, 0.9269442523760586, 0.021066914826728605, 0.9958053738389121, 0.002337571300091343, 0.002337571300091343, 0.08483757284704331, 0.8852616297082779, 0.02582013086649144, 0.0036885901237844916, 0.03866541726926583, 0.03866541726926583, 0.92797001446238, 0.03866541726926583, 0.38449374840941813, 0.2029272561049707, 0.138844964703401, 0.021360763800523232, 0.2563291656062788, 0.9667685081265643, 0.014011137798935714, 0.014011137798935714, 0.3647883878499537, 0.5946550432074588, 0.009994202406848047, 0.029982607220544143, 0.0007252803326009813, 0.0007252803326009813, 0.9979857376589502, 0.8748624630487032, 0.11971802125929623, 0.004604539279203701, 0.040294090949327385, 0.9509405464041264, 0.008058818189865478, 0.5654964811899246, 0.18849882706330817, 0.05736920823665901, 0.18849882706330817, 0.41299136258020974, 0.35091332895646216, 0.2302060413547307, 0.005173169468645634, 0.4847167415608275, 0.3257932197376054, 0.007946176091161107, 0.17481587400554435, 0.21886802212586914, 0.6664041270698106, 0.11368070402955592, 0.0013066747589604128, 0.0006533373794802064, 0.12998969967402657, 0.8505040350100596, 0.003713991419257902, 0.014855965677031608, 0.04548964617725828, 0.04548964617725828, 0.9097929235451656, 0.11316077913356093, 0.11316077913356093, 0.11316077913356093, 0.5658038956678046, 0.9478165788623393, 0.035104317735642196, 0.035104317735642196, 0.5516115390001775, 0.4196151092766713, 0.009244886128494592, 0.01951698182682192, 0.9176072835595745, 0.054447901642278425, 0.027223950821139212, 0.1287031178424721, 0.1287031178424721, 0.1287031178424721, 0.7722187070548325, 0.01863296021880947, 0.01863296021880947, 0.9689139313780925, 0.01863296021880947, 0.42815448185065996, 0.5389790342267954, 0.0295991040507691, 0.0013767025139892603, 0.0020650537709838903, 0.5754478548583294, 0.024314698092605468, 0.12157349046302733, 0.27556657838286197, 0.011140110497414936, 0.16710165746122402, 0.23394232044571364, 0.5792857458655766, 0.21505687860450629, 0.10752843930225314, 0.10752843930225314, 0.6451706358135189, 0.06243871667756643, 0.1471769750256923, 0.7871738209707483, 0.002229954167055944, 0.8902460908952334, 0.09747219973305477, 0.0064981466488703175, 0.6745532089881023, 0.1467976728689607, 0.17544112123363595, 0.0028643448364675255, 0.0007160862091168814, 0.05149300358555882, 0.003961000275812217, 0.9427180656433076, 0.06913054695611412, 0.06913054695611412, 0.06913054695611412, 0.8295665634733694, 0.06602732822141538, 0.9330704014447385, 0.0008687806344923077, 0.06473538683243951, 0.25894154732975805, 0.12947077366487902, 0.5826184814919556, 0.10084357988653932, 0.10084357988653932, 0.10084357988653932, 0.7059050592057752, 0.9215105436180894, 0.005148103595631785, 0.0669253467432132, 0.005148103595631785, 0.954773649483162, 0.04464290929951885, 0.0002657316029733265, 0.9468318836061369, 0.03912528444653458, 0.007825056889306917, 0.9653742230633889, 0.016089570384389816, 0.016089570384389816, 0.01380859769273067, 0.01380859769273067, 0.9666018384911469, 0.011991383986481462, 0.9713021029049984, 0.011991383986481462, 0.03391336553916458, 0.03391336553916458, 0.9156608695574437, 0.03391336553916458, 0.963981519222015, 0.016620371021069225, 0.016620371021069225, 0.019625632006350528, 0.961655968311176, 0.009812816003175264, 0.006319649704368952, 0.015799124260922382, 0.8847509586116533, 0.09163492071334982, 0.12837592657850178, 0.12837592657850178, 0.12837592657850178, 0.6418796328925089, 0.06553886759824198, 0.9175441463753878, 0.013107773519648399, 0.07476206229893002, 0.07476206229893002, 0.07476206229893002, 0.8223826852882302, 0.15275352723723423, 0.15275352723723423, 0.15275352723723423, 0.6110141089489369, 0.47502444606360433, 0.30492493319924435, 0.20850908028534446, 0.010974162120281288, 0.3280557588699508, 0.04686510840999297, 0.09373021681998595, 0.5155161925099228, 0.045844730999591285, 0.045844730999591285, 0.320913116997139, 0.5042920409955042, 0.0804894831352843, 0.9095311594287125, 0.008048948313528429, 0.1353739968671574, 0.1353739968671574, 0.1353739968671574, 0.6768699843357869, 0.8413794382076852, 0.010575407720056376, 0.1269048926406765, 0.020727799131310495, 0.0034976282129842787, 0.0034976282129842787, 0.9723406432096294, 0.017488141064921393, 0.01731279876616154, 0.9695167309050463, 0.01731279876616154, 0.01731279876616154, 0.8629250702492225, 0.13227318595061074, 0.003149361570252637, 0.021021613888116616, 0.11351671499582973, 0.8618861694127813, 0.013615873136020565, 0.013615873136020565, 0.9803428657934807, 0.36561028326811656, 0.5272485137655997, 0.10061155163618846, 0.004398319197210425, 0.0016493696989539092, 0.11594459191274145, 0.00399808937630143, 0.8156102327654916, 0.05997134064452144, 0.23436055220446655, 0.007812018406815551, 0.7421417486474774, 0.015624036813631103, 0.016204495923885762, 0.9722697554331458, 0.016204495923885762, 0.2978559002800784, 0.6812161757194223, 0.0009396085182336859, 0.019731778882907405, 0.3465488247904005, 0.6507959150993436, 0.001626989787748359, 0.17211173685199516, 0.17211173685199516, 0.17211173685199516, 0.5163352105559854, 0.1821711461285779, 0.09108557306428895, 0.03036185768809632, 0.6983227268262153, 0.014675179912631467, 0.9538866943210453, 0.014675179912631467, 0.17689719200643106, 0.1326728940048233, 0.08844859600321553, 0.6191401720225087, 0.5745251985042374, 0.3009056778445677, 0.12051386089996538, 0.003789744053458031, 0.0007579488106916062, 0.005868367257533519, 0.1819193849835391, 0.8098346815396257, 0.3516461555523041, 0.5584968352889536, 0.015513800980248712, 0.005171266993416237, 0.07239773790782732, 0.9815310740952158, 0.007112544015182723, 0.007112544015182723, 0.3494965480962068, 0.5029791591649114, 0.11280047319507204, 0.0018491880851651153, 0.03328538553297208, 0.5706934525683627, 0.10145661378993114, 0.012682076723741392, 0.3170519180935348, 0.9838849731318692, 0.00840927327463136, 0.00840927327463136, 0.0067499149157070355, 0.18224770272408997, 0.7492405556434809, 0.053999319325656284, 0.590702899452191, 0.2146283846884167, 0.12345880535174411, 0.0702765507386851, 0.18543851433263092, 0.18543851433263092, 0.18543851433263092, 0.5563155429978928, 0.09494134813958306, 0.09494134813958306, 0.09494134813958306, 0.7595307851166645, 0.008322258212615573, 0.008322258212615573, 0.8239035630489417, 0.1581229060396959, 0.0386798795508645, 0.9448942004568327, 0.005525697078694929, 0.011051394157389857, 0.06625963185873392, 0.06625963185873392, 0.19877889557620174, 0.7288559504460731, 0.03386291762769082, 0.948161693575343, 0.03386291762769082, 0.13276851115527144, 0.13276851115527144, 0.13276851115527144, 0.6638425557763572, 0.35361366918516224, 0.5736399522337076, 0.01833552358737878, 0.055006570762136345, 0.09734900634857069, 0.19469801269714138, 0.7073206284060706, 0.008870508678634169, 0.12418712150087836, 0.8338278157916118, 0.035482034714536675, 0.12918948684217413, 0.12918948684217413, 0.12918948684217413, 0.6459474342108706, 0.21715190165484233, 0.10857595082742116, 0.10857595082742116, 0.651455704964527, 0.42553478346457324, 0.12515728925428624, 0.12515728925428624, 0.02503145785085725, 0.300377494210287, 0.642694694161129, 0.1703078783367015, 0.18273911033208118, 0.0024862463990759343, 0.0012431231995379672, 0.26590147530868247, 0.4938170255732674, 0.12661975014699164, 0.02532395002939833, 0.08863382510289415, 0.1704397939492745, 0.7135360865334034, 0.1141079976440058, 0.0014444050334684278, 0.0007222025167342139, 0.4263447394844299, 0.5536378518867341, 0.02005302455652738, 0.09454523818497428, 0.18909047636994855, 0.09454523818497428, 0.5672714291098456, 0.24729139801845937, 0.06182284950461484, 0.06182284950461484, 0.6182284950461484, 0.014256895257502102, 0.9552119822526408, 0.007128447628751051, 0.021385342886253152, 0.07887729211114008, 0.07887729211114008, 0.07887729211114008, 0.788772921111401, 0.26428178366325494, 0.6443619460340845, 0.08965035770909001, 0.0009338578928030209, 0.456564799936014, 0.014727896772129484, 0.014727896772129484, 0.5302042837966614, 0.01981359553835646, 0.9708661813794666, 0.01981359553835646, 0.012909517690370086, 0.9811233444681265, 0.012909517690370086, 0.46426376262098373, 0.3750505539337775, 0.1557902300955691, 0.0048823149032799435, 0.5065057888518864, 0.35929951752208383, 0.12202625123391526, 0.011621547736563358, 0.9687654884129383, 0.022017397463930416, 0.011008698731965208, 0.2683846983489289, 0.6847572210210989, 0.04586547581930961, 0.0007166480596767126, 0.03209263333013259, 0.9306863665738452, 0.016046316665066295, 0.9286621488226905, 0.02018830758310197, 0.02018830758310197, 0.048533422763258886, 0.048533422763258886, 0.9221350325019187, 0.26223223550724944, 0.08741074516908315, 0.08741074516908315, 0.6118752161835821, 0.07027668479008617, 0.07027668479008617, 0.07027668479008617, 0.7730435326909478, 0.021205492557086796, 0.007068497519028933, 0.9613156625879349, 0.10048916416956756, 0.10048916416956756, 0.10048916416956756, 0.7034241491869729, 0.45795237034815967, 0.45873653536587916, 0.07684817173650625, 0.0023524950531583545, 0.004704990106316709, 0.08935405576564869, 0.08935405576564869, 0.08935405576564869, 0.8041865018908382, 0.48131664085068626, 0.32651818995209314, 0.1654525952924234, 0.0012534287522153287, 0.025068575044306575, 0.5768362350298025, 0.01153672470059605, 0.1845875952095368, 0.0692203482035763, 0.1615141458083447, 0.08983404405161756, 0.06416717432258398, 0.7956729616000413, 0.04491702202580878, 0.9749745581545601, 0.011079256342665456, 0.013541313307702224, 0.9259679131266314, 0.02893649728520723, 0.02893649728520723, 0.9481236483079849, 0.02873101964569651, 0.02873101964569651, 0.07629599223815138, 0.22888797671445416, 0.03814799611907569, 0.03814799611907569, 0.6485159340242868, 0.40067551611020413, 0.040067551611020415, 0.12020265483306124, 0.40067551611020413, 0.008259883783301536, 0.9829261702128828, 0.008259883783301536, 0.3834722835555693, 0.39016853996224393, 0.2196372101389291, 0.0062498393128963565, 0.7906260478687046, 0.17720928659126137, 0.001239225780358471, 0.030980644508961777, 0.4711807586577135, 0.36568068980001, 0.1570602528859045, 0.0039661680021693055, 0.0015864672008677222, 0.024105768539913978, 0.012052884269956989, 0.2169519168592258, 0.7352259404673763, 0.6932990116236867, 0.015071717643993187, 0.06028687057597275, 0.22607576465989782, 0.05241869889039914, 0.8029591602756596, 0.13581208348876142, 0.007148004394145337, 0.08986015295665739, 0.8916892101083694, 0.006912319458204415, 0.01382463891640883, 0.44729113723410374, 0.41412850318962224, 0.1334593809107181, 0.004853068396753386, 0.02552791267896799, 0.9445327691218156, 0.02552791267896799, 0.10080928472945852, 0.88975151304696, 0.0043830123795416745, 0.008766024759083349, 0.023762123815139924, 0.950484952605597, 0.023762123815139924, 0.49974925622591204, 0.19989970249036482, 0.014278550177883202, 0.285571003557664, 0.18252142363860385, 0.6251785211546571, 0.1919033659751676, 0.0008529038487785227, 0.4614650619184137, 0.49373930551270767, 0.034539102793893536, 0.010191866398198093, 0.9913155566557534, 0.0026864920234573263, 0.0026864920234573263, 0.0026864920234573263], \"Term\": [\"account\", \"account\", \"account\", \"account\", \"add\", \"add\", \"add\", \"add\", \"adopt\", \"adopt\", \"adopt\", \"age\", \"age\", \"age\", \"age\", \"allowance\", \"allowance\", \"allowance\", \"also\", \"also\", \"also\", \"also\", \"also\", \"anonymous\", \"anonymous\", \"anonymous\", \"anonymous\", \"antivirus\", \"antivirus\", \"antivirus\", \"antivirus\", \"apologize\", \"apologize\", \"apologize\", \"app\", \"app\", \"app\", \"app\", \"appeal\", \"appeal\", \"appeal\", \"appeal\", \"appeal\", \"apple\", \"apple\", \"apple\", \"apple\", \"apple\", \"authentication\", \"authentication\", \"authentication\", \"authentication\", \"away\", \"away\", \"away\", \"baby\", \"baby\", \"baby\", \"baby\", \"back\", \"back\", \"back\", \"back\", \"back\", \"backdoor\", \"backdoor\", \"backdoor\", \"backdoor\", \"bake\", \"bake\", \"bake\", \"bake\", \"ban\", \"ban\", \"ban\", \"ban\", \"bank\", \"bank\", \"bank\", \"beautiful\", \"beautiful\", \"beautiful\", \"beautiful\", \"bed\", \"bed\", \"bed\", \"billing\", \"billing\", \"billing\", \"billing\", \"binge\", \"binge\", \"binge\", \"binge\", \"birthday\", \"birthday\", \"birthday\", \"birthday\", \"birthday_party\", \"birthday_party\", \"birthday_party\", \"birthday_party\", \"black\", \"black\", \"black\", \"black\", \"blockchain\", \"blockchain\", \"blockchain\", \"blockchain\", \"blue\", \"blue\", \"blue\", \"blue\", \"bluey\", \"bluey\", \"bluey\", \"bluey\", \"bluey_theme\", \"bluey_theme\", \"bluey_theme\", \"bluey_theme\", \"boundary\", \"boundary\", \"boundary\", \"brand\", \"brand\", \"brand\", \"brand\", \"break\", \"break\", \"break\", \"brown\", \"brown\", \"brown\", \"brown\", \"buck\", \"buck\", \"buck\", \"buck\", \"budget\", \"budget\", \"budget\", \"build\", \"build\", \"build\", \"build\", \"build\", \"buy\", \"buy\", \"buy\", \"buy\", \"buy\", \"buying\", \"buying\", \"buying\", \"cake\", \"cake\", \"cake\", \"cake\", \"card\", \"card\", \"card\", \"cash\", \"cash\", \"cash\", \"cash_grab\", \"cash_grab\", \"cash_grab\", \"channel\", \"channel\", \"channel\", \"channel\", \"chat\", \"chat\", \"chat\", \"chat_feature\", \"chat_feature\", \"chat_feature\", \"child\", \"child\", \"child\", \"child\", \"child\", \"code\", \"code\", \"code\", \"code\", \"coin\", \"coin\", \"coin\", \"coin\", \"color\", \"color\", \"color\", \"color\", \"comedy\", \"comedy\", \"comedy\", \"comedy\", \"comment\", \"comment\", \"comment\", \"comment\", \"comment\", \"computer\", \"computer\", \"computer\", \"computer\", \"confirmation\", \"confirmation\", \"confirmation\", \"confirmation\", \"consequence\", \"consequence\", \"consequence\", \"consequence\", \"console\", \"console\", \"console\", \"contact\", \"contact\", \"contact\", \"contact\", \"content\", \"content\", \"content\", \"content\", \"content\", \"controller\", \"controller\", \"controller\", \"converse\", \"converse\", \"converse\", \"converse\", \"cookie\", \"cookie\", \"cookie\", \"cookie\", \"cookie\", \"cope\", \"cope\", \"cope\", \"cost\", \"cost\", \"cost\", \"creative\", \"creative\", \"creative\", \"creative\", \"credit_card\", \"credit_card\", \"credit_card\", \"cry\", \"cry\", \"cry\", \"currency\", \"currency\", \"currency\", \"dad\", \"dad\", \"dad\", \"dad\", \"datamine\", \"datamine\", \"datamine\", \"datamine\", \"day\", \"day\", \"day\", \"day\", \"debt\", \"debt\", \"debt\", \"delay\", \"delay\", \"delay\", \"delete\", \"delete\", \"delete\", \"delete\", \"dinner\", \"dinner\", \"dinner\", \"dinner\", \"discord\", \"discord\", \"discord\", \"discord\", \"distance\", \"distance\", \"distance\", \"dollar\", \"dollar\", \"dollar\", \"domain\", \"domain\", \"domain\", \"domain\", \"donate\", \"donate\", \"donate\", \"donate\", \"donate\", \"download\", \"download\", \"download\", \"download\", \"dress\", \"dress\", \"dress\", \"dress\", \"earn\", \"earn\", \"earn\", \"electronic\", \"electronic\", \"electronic\", \"electronic\", \"email\", \"email\", \"email\", \"email\", \"email_address\", \"email_address\", \"email_address\", \"email_address\", \"emergency\", \"emergency\", \"emergency\", \"enjoy\", \"enjoy\", \"enjoy\", \"enjoy\", \"epic\", \"epic\", \"epic\", \"epic\", \"epic\", \"episode\", \"episode\", \"episode\", \"episode\", \"even\", \"even\", \"even\", \"even\", \"even\", \"expensive\", \"expensive\", \"expensive\", \"expensive\", \"exploiter\", \"exploiter\", \"exploiter\", \"exploiter\", \"explore\", \"explore\", \"explore\", \"father\", \"father\", \"father\", \"father\", \"feel\", \"feel\", \"feel\", \"feel\", \"fifi\", \"fifi\", \"fifi\", \"fifi\", \"filter\", \"filter\", \"filter\", \"find\", \"find\", \"find\", \"find\", \"find\", \"flip_phone\", \"flip_phone\", \"flip_phone\", \"free\", \"free\", \"free\", \"free\", \"friend\", \"friend\", \"friend\", \"friend\", \"friendly\", \"friendly\", \"friendly\", \"friendly\", \"frozen\", \"frozen\", \"frozen\", \"frozen\", \"fun\", \"fun\", \"fun\", \"fun\", \"funny\", \"funny\", \"funny\", \"funny\", \"game\", \"game\", \"game\", \"game\", \"gamepass\", \"gamepass\", \"gamepass\", \"gamer\", \"gamer\", \"gamer\", \"gaming\", \"gaming\", \"gaming\", \"gaming\", \"get\", \"get\", \"get\", \"get\", \"get\", \"gift\", \"gift\", \"gift\", \"gift_card\", \"gift_card\", \"gift_card\", \"girl\", \"girl\", \"girl\", \"girl\", \"give\", \"give\", \"give\", \"give\", \"give\", \"gmail\", \"gmail\", \"gmail\", \"gmail\", \"go\", \"go\", \"go\", \"go\", \"go\", \"good\", \"good\", \"good\", \"good\", \"good\", \"goosebump\", \"goosebump\", \"goosebump\", \"goosebump\", \"grandma\", \"grandma\", \"grandma\", \"graphic\", \"graphic\", \"graphic\", \"great\", \"great\", \"great\", \"great\", \"groom\", \"groom\", \"groom\", \"hack\", \"hack\", \"hack\", \"hack\", \"hacker\", \"hacker\", \"hacker\", \"hacker\", \"hair\", \"hair\", \"hair\", \"hair\", \"harmless\", \"harmless\", \"harmless\", \"heavy_metal\", \"heavy_metal\", \"heavy_metal\", \"heavy_metal\", \"help\", \"help\", \"help\", \"help\", \"help\", \"heroin\", \"heroin\", \"heroin\", \"heroin\", \"hobby\", \"hobby\", \"hobby\", \"hobby\", \"home\", \"home\", \"home\", \"home\", \"homework\", \"homework\", \"homework\", \"hot\", \"hot\", \"hot\", \"hot\", \"hour\", \"hour\", \"hour\", \"illegal\", \"illegal\", \"illegal\", \"illegal\", \"illegal\", \"inner\", \"inner\", \"inner\", \"inner\", \"inner_beauty\", \"inner_beauty\", \"inner_beauty\", \"inner_beauty\", \"interest\", \"interest\", \"interest\", \"interest\", \"internet\", \"internet\", \"internet\", \"invest\", \"invest\", \"invest\", \"invest\", \"iron\", \"iron\", \"iron\", \"iron\", \"item\", \"item\", \"item\", \"item\", \"joke\", \"joke\", \"joke\", \"joke\", \"kid\", \"kid\", \"kid\", \"kid\", \"kid\", \"kindergarten\", \"kindergarten\", \"kindergarten\", \"know\", \"know\", \"know\", \"know\", \"know\", \"laugh\", \"laugh\", \"laugh\", \"laugh\", \"let\", \"let\", \"let\", \"let\", \"like\", \"like\", \"like\", \"like\", \"link\", \"link\", \"link\", \"link\", \"lip\", \"lip\", \"lip\", \"lip\", \"log\", \"log\", \"log\", \"log\", \"lol\", \"lol\", \"lol\", \"lol\", \"lot\", \"lot\", \"lot\", \"lot\", \"love\", \"love\", \"love\", \"love\", \"love\", \"make\", \"make\", \"make\", \"make\", \"make\", \"makeup\", \"makeup\", \"makeup\", \"makeup\", \"malicious\", \"malicious\", \"malicious\", \"malicious\", \"many\", \"many\", \"many\", \"many\", \"mario\", \"mario\", \"mario\", \"microsoft_reward\", \"microsoft_reward\", \"microsoft_reward\", \"microsoft_reward\", \"military\", \"military\", \"military\", \"minecraft\", \"minecraft\", \"minecraft\", \"minute\", \"minute\", \"minute\", \"minute\", \"mlg\", \"mlg\", \"mlg\", \"mlg\", \"model\", \"model\", \"model\", \"model\", \"model\", \"moderation\", \"moderation\", \"moderation\", \"mom\", \"mom\", \"mom\", \"mom\", \"money\", \"money\", \"money\", \"monitor\", \"monitor\", \"monitor\", \"morning\", \"morning\", \"morning\", \"movie\", \"movie\", \"movie\", \"movie\", \"much\", \"much\", \"much\", \"much\", \"music\", \"music\", \"music\", \"music\", \"need\", \"need\", \"need\", \"need\", \"need\", \"night\", \"night\", \"night\", \"night\", \"obby_obby\", \"obby_obby\", \"obby_obby\", \"official\", \"official\", \"official\", \"official\", \"offline\", \"offline\", \"offline\", \"old\", \"old\", \"old\", \"old\", \"online\", \"online\", \"online\", \"outer_beauty\", \"outer_beauty\", \"outer_beauty\", \"outer_beauty\", \"pair\", \"pair\", \"pair\", \"pair\", \"parent\", \"parent\", \"parent\", \"parent\", \"parent\", \"party\", \"party\", \"party\", \"party\", \"password\", \"password\", \"password\", \"password\", \"patriarchy\", \"patriarchy\", \"patriarchy\", \"patriarchy\", \"pay\", \"pay\", \"pay\", \"pay\", \"pc\", \"pc\", \"pc\", \"people\", \"people\", \"people\", \"people\", \"people\", \"pet\", \"pet\", \"pet\", \"phishe\", \"phishe\", \"phishe\", \"phishe\", \"phone\", \"phone\", \"phone\", \"pin\", \"pin\", \"pin\", \"pin\", \"pink\", \"pink\", \"pink\", \"pink\", \"platform\", \"platform\", \"platform\", \"platform\", \"play\", \"play\", \"play\", \"playing\", \"playing\", \"playing\", \"porn\", \"porn\", \"porn\", \"price\", \"price\", \"price\", \"privilege\", \"privilege\", \"privilege\", \"profit\", \"profit\", \"profit\", \"profit\", \"programming\", \"programming\", \"programming\", \"punishment\", \"punishment\", \"punishment\", \"purchase\", \"purchase\", \"purchase\", \"purchase\", \"queen\", \"queen\", \"queen\", \"queen\", \"quiet\", \"quiet\", \"quiet\", \"race\", \"race\", \"race\", \"race\", \"radio\", \"radio\", \"radio\", \"radio\", \"really\", \"really\", \"really\", \"really\", \"recover\", \"recover\", \"recover\", \"recover\", \"red\", \"red\", \"red\", \"red\", \"relationship\", \"relationship\", \"relationship\", \"report_post\", \"report_post\", \"report_post\", \"report_post\", \"roblox\", \"roblox\", \"roblox\", \"roblox\", \"robux\", \"robux\", \"robux\", \"robux\", \"routine\", \"routine\", \"routine\", \"routine\", \"safe\", \"safe\", \"safe\", \"save\", \"save\", \"save\", \"saving\", \"saving\", \"saving\", \"say\", \"say\", \"say\", \"say\", \"say\", \"scam\", \"scam\", \"scam\", \"scam\", \"scamme\", \"scamme\", \"scamme\", \"scamme\", \"schedule\", \"schedule\", \"schedule\", \"school\", \"school\", \"school\", \"school\", \"screen\", \"screen\", \"screen\", \"screenshot\", \"screenshot\", \"screenshot\", \"screenshot\", \"script\", \"script\", \"script\", \"script\", \"secret\", \"secret\", \"secret\", \"security\", \"security\", \"security\", \"security\", \"see\", \"see\", \"see\", \"see\", \"see\", \"sell\", \"sell\", \"sell\", \"send\", \"send\", \"send\", \"send\", \"send\", \"server\", \"server\", \"server\", \"set\", \"set\", \"set\", \"set\", \"set\", \"setting\", \"setting\", \"setting\", \"setting\", \"sex\", \"sex\", \"sex\", \"shoe\", \"shoe\", \"shoe\", \"shoe\", \"show\", \"show\", \"show\", \"show\", \"sht\", \"sht\", \"sht\", \"sht\", \"sing\", \"sing\", \"sing\", \"sing\", \"skin\", \"skin\", \"skin\", \"skin\", \"sleep\", \"sleep\", \"sleep\", \"sleep\", \"slime\", \"slime\", \"slime\", \"slime\", \"smartphone\", \"smartphone\", \"smartphone\", \"soap\", \"soap\", \"soap\", \"soap\", \"sound\", \"sound\", \"sound\", \"sound\", \"spend\", \"spend\", \"spend\", \"steal\", \"steal\", \"steal\", \"steal\", \"step_verification\", \"step_verification\", \"step_verification\", \"step_verification\", \"stereotypical\", \"stereotypical\", \"stereotypical\", \"stereotypical\", \"studio\", \"studio\", \"studio\", \"studio\", \"studio\", \"stuff\", \"stuff\", \"stuff\", \"stuff\", \"stuff\", \"support\", \"support\", \"support\", \"support\", \"support\", \"take\", \"take\", \"take\", \"take\", \"take\", \"talk\", \"talk\", \"talk\", \"tap\", \"tap\", \"tap\", \"tap\", \"tattoo\", \"tattoo\", \"tattoo\", \"tattoo\", \"teacher\", \"teacher\", \"teacher\", \"teacher\", \"tease\", \"tease\", \"tease\", \"tease\", \"tell\", \"tell\", \"tell\", \"tell\", \"theme\", \"theme\", \"theme\", \"theme\", \"therapist\", \"therapist\", \"therapist\", \"therapy\", \"therapy\", \"therapy\", \"thing\", \"thing\", \"thing\", \"thing\", \"think\", \"think\", \"think\", \"think\", \"tiktok\", \"tiktok\", \"tiktok\", \"time\", \"time\", \"time\", \"time\", \"timer\", \"timer\", \"timer\", \"title\", \"title\", \"title\", \"tix\", \"tix\", \"tix\", \"toolbox\", \"toolbox\", \"toolbox\", \"toolbox\", \"tos\", \"tos\", \"tos\", \"tos\", \"trade\", \"trade\", \"trade\", \"truck\", \"truck\", \"truck\", \"truck\", \"try\", \"try\", \"try\", \"try\", \"try\", \"unicorn\", \"unicorn\", \"unicorn\", \"unicorn\", \"use\", \"use\", \"use\", \"use\", \"use\", \"user\", \"user\", \"user\", \"user\", \"user\", \"value\", \"value\", \"value\", \"value\", \"video\", \"video\", \"video\", \"violence\", \"violence\", \"violence\", \"violent\", \"violent\", \"violent\", \"virus\", \"virus\", \"virus\", \"virus\", \"virus\", \"vote\", \"vote\", \"vote\", \"vote\", \"wake\", \"wake\", \"wake\", \"want\", \"want\", \"want\", \"want\", \"watch\", \"watch\", \"watch\", \"watch\", \"way\", \"way\", \"way\", \"way\", \"way\", \"wear\", \"wear\", \"wear\", \"wear\", \"website\", \"website\", \"website\", \"website\", \"week\", \"week\", \"week\", \"week\", \"weekend\", \"weekend\", \"weekend\", \"weekend\", \"well\", \"well\", \"well\", \"well\", \"whine\", \"whine\", \"whine\", \"wife\", \"wife\", \"wife\", \"wife\", \"wifi\", \"wifi\", \"wifi\", \"woman\", \"woman\", \"woman\", \"woman\", \"work\", \"work\", \"work\", \"work\", \"year\", \"year\", \"year\", \"year\", \"youtube\", \"youtube\", \"youtube\", \"youtube\"]}, \"R\": 30, \"lambda.step\": 0.01, \"plot.opts\": {\"xlab\": \"PC1\", \"ylab\": \"PC2\"}, \"topic.order\": [4, 3, 1, 2, 5]};\n",
              "\n",
              "function LDAvis_load_lib(url, callback){\n",
              "  var s = document.createElement('script');\n",
              "  s.src = url;\n",
              "  s.async = true;\n",
              "  s.onreadystatechange = s.onload = callback;\n",
              "  s.onerror = function(){console.warn(\"failed to load library \" + url);};\n",
              "  document.getElementsByTagName(\"head\")[0].appendChild(s);\n",
              "}\n",
              "\n",
              "if(typeof(LDAvis) !== \"undefined\"){\n",
              "   // already loaded: just create the visualization\n",
              "   !function(LDAvis){\n",
              "       new LDAvis(\"#\" + \"ldavis_el232161631082598736613030351\", ldavis_el232161631082598736613030351_data);\n",
              "   }(LDAvis);\n",
              "}else if(typeof define === \"function\" && define.amd){\n",
              "   // require.js is available: use it to load d3/LDAvis\n",
              "   require.config({paths: {d3: \"https://d3js.org/d3.v5\"}});\n",
              "   require([\"d3\"], function(d3){\n",
              "      window.d3 = d3;\n",
              "      LDAvis_load_lib(\"https://cdn.jsdelivr.net/gh/bmabey/pyLDAvis@3.4.0/pyLDAvis/js/ldavis.v3.0.0.js\", function(){\n",
              "        new LDAvis(\"#\" + \"ldavis_el232161631082598736613030351\", ldavis_el232161631082598736613030351_data);\n",
              "      });\n",
              "    });\n",
              "}else{\n",
              "    // require.js not available: dynamically load d3 & LDAvis\n",
              "    LDAvis_load_lib(\"https://d3js.org/d3.v5.js\", function(){\n",
              "         LDAvis_load_lib(\"https://cdn.jsdelivr.net/gh/bmabey/pyLDAvis@3.4.0/pyLDAvis/js/ldavis.v3.0.0.js\", function(){\n",
              "                 new LDAvis(\"#\" + \"ldavis_el232161631082598736613030351\", ldavis_el232161631082598736613030351_data);\n",
              "            })\n",
              "         });\n",
              "}\n",
              "</script>"
            ],
            "text/plain": [
              "PreparedData(topic_coordinates=              x         y  topics  cluster       Freq\n",
              "topic                                                \n",
              "3      0.153658  0.068794       1        1  42.406643\n",
              "2      0.071214  0.150595       2        1  36.710621\n",
              "0      0.093799 -0.082058       3        1  15.301080\n",
              "1     -0.182409  0.035916       4        1   3.529416\n",
              "4     -0.136262 -0.173246       5        1   2.052239, topic_info=        Term         Freq        Total Category  logprob  loglift\n",
              "41      game  5053.000000  5053.000000  Default  30.0000  30.0000\n",
              "83     money  1378.000000  1378.000000  Default  29.0000  29.0000\n",
              "21      play  3763.000000  3763.000000  Default  28.0000  28.0000\n",
              "9     roblox  2363.000000  2363.000000  Default  27.0000  27.0000\n",
              "1    account   552.000000   552.000000  Default  26.0000  26.0000\n",
              "..       ...          ...          ...      ...      ...      ...\n",
              "223      set    18.417884   540.777873   Topic5  -5.7877   0.5066\n",
              "115     scam    15.438093   250.119471   Topic5  -5.9642   1.1011\n",
              "75   support    14.104059   157.953242   Topic5  -6.0546   1.4704\n",
              "118     send    14.027157   193.376208   Topic5  -6.0600   1.2626\n",
              "300      app    13.859482   352.398640   Topic5  -6.0721   0.6504\n",
              "\n",
              "[381 rows x 6 columns], token_table=      Topic      Freq     Term\n",
              "term                          \n",
              "1         1  0.391114  account\n",
              "1         2  0.005432  account\n",
              "1         3  0.387493  account\n",
              "1         5  0.215475  account\n",
              "30        1  0.493621      add\n",
              "...     ...       ...      ...\n",
              "234       4  0.010192     year\n",
              "1130      1  0.991316  youtube\n",
              "1130      2  0.002686  youtube\n",
              "1130      3  0.002686  youtube\n",
              "1130      5  0.002686  youtube\n",
              "\n",
              "[1159 rows x 3 columns], R=30, lambda_step=0.01, plot_opts={'xlab': 'PC1', 'ylab': 'PC2'}, topic_order=[4, 3, 1, 2, 5])"
            ]
          },
          "execution_count": 45,
          "metadata": {},
          "output_type": "execute_result"
        }
      ],
      "source": [
        "pyLDAvis.enable_notebook()\n",
        "vis = pyLDAvis.gensim.prepare(lda_model, corpus, id2word, mds='mmds', R=30)\n",
        "vis"
      ]
    },
    {
      "cell_type": "code",
      "execution_count": 46,
      "metadata": {
        "id": "5oHuguVRlrZ2"
      },
      "outputs": [],
      "source": [
        "lda_model_tuned = gensim.models.LdaMulticore(corpus=corpus,\n",
        "                                       id2word=id2word,\n",
        "                                       num_topics=2,\n",
        "                                       random_state=100,\n",
        "                                       chunksize=100,\n",
        "                                       passes=10,\n",
        "                                       per_word_topics=True,\n",
        "                                       alpha=0.31,\n",
        "                                       eta='symmetric')"
      ]
    },
    {
      "cell_type": "code",
      "execution_count": 47,
      "metadata": {
        "colab": {
          "base_uri": "https://localhost:8080/",
          "height": 916
        },
        "id": "PPYjc5x3rmNh",
        "outputId": "1cea7564-45ae-48e6-f8bf-17b28b1f8eaa"
      },
      "outputs": [
        {
          "data": {
            "text/html": [
              "\n",
              "<link rel=\"stylesheet\" type=\"text/css\" href=\"https://cdn.jsdelivr.net/gh/bmabey/pyLDAvis@3.4.0/pyLDAvis/js/ldavis.v1.0.0.css\">\n",
              "\n",
              "\n",
              "<div id=\"ldavis_el2321616310825985126562556934\" style=\"background-color:white;\"></div>\n",
              "<script type=\"text/javascript\">\n",
              "\n",
              "var ldavis_el2321616310825985126562556934_data = {\"mdsDat\": {\"x\": [-0.005137301117619539, 0.005137301117619539], \"y\": [-0.09066297289867117, 0.09066297289867117], \"topics\": [1, 2], \"cluster\": [1, 1], \"Freq\": [71.33777135536326, 28.662228644636738]}, \"tinfo\": {\"Term\": [\"game\", \"money\", \"buy\", \"roblox\", \"make\", \"spend\", \"account\", \"pay\", \"purchase\", \"robux\", \"phone\", \"card\", \"people\", \"school\", \"adopt\", \"scam\", \"player\", \"free\", \"pet\", \"save\", \"use\", \"want\", \"item\", \"get\", \"new\", \"give\", \"watch\", \"mom\", \"earn\", \"gift\", \"internet\", \"school\", \"screen\", \"phone\", \"wife\", \"tv\", \"bed\", \"sleep\", \"social_media\", \"night\", \"social\", \"boundary\", \"parenting\", \"homework\", \"safety\", \"teacher\", \"class\", \"relationship\", \"wake\", \"sex\", \"healthy\", \"expose\", \"ready\", \"tiktok\", \"joke\", \"weekend\", \"predator\", \"feeling\", \"strict\", \"morning\", \"watch\", \"mom\", \"home\", \"girl\", \"activity\", \"tablet\", \"monitor\", \"friend\", \"talk\", \"old\", \"room\", \"dad\", \"parent\", \"love\", \"fine\", \"year\", \"feel\", \"age\", \"time\", \"kid\", \"chat\", \"day\", \"together\", \"play\", \"daughter\", \"online\", \"read\", \"think\", \"say\", \"know\", \"tell\", \"go\", \"need\", \"child\", \"thing\", \"video\", \"take\", \"let\", \"also\", \"want\", \"get\", \"make\", \"game\", \"good\", \"use\", \"try\", \"roblox\", \"see\", \"money\", \"buy\", \"robux\", \"purchase\", \"scam\", \"pet\", \"card\", \"adopt\", \"item\", \"simulator\", \"cash\", \"developer\", \"scamme\", \"trade\", \"skin\", \"dollar\", \"donate\", \"allowance\", \"saving\", \"update\", \"scammer\", \"save\", \"bank\", \"currency\", \"price\", \"click\", \"brand\", \"refund\", \"credit_card\", \"original\", \"pay\", \"player\", \"sell\", \"cost\", \"steal\", \"waste\", \"account\", \"email\", \"password\", \"spend\", \"game\", \"free\", \"earn\", \"roblox\", \"gift\", \"make\", \"people\", \"new\", \"want\", \"get\", \"use\", \"give\", \"good\", \"thing\", \"much\", \"go\", \"really\", \"play\", \"kid\", \"also\", \"think\", \"know\", \"work\", \"even\", \"way\", \"say\", \"child\", \"see\"], \"Freq\": [4985.0, 1382.0, 908.0, 2429.0, 2785.0, 817.0, 718.0, 440.0, 363.0, 321.0, 1280.0, 306.0, 1422.0, 1130.0, 287.0, 275.0, 279.0, 377.0, 252.0, 241.0, 1711.0, 2308.0, 218.0, 2021.0, 448.0, 1350.0, 863.0, 857.0, 227.0, 245.0, 567.8223903906173, 1128.8002353198249, 654.9481130597311, 1278.2089191372406, 236.79073528308467, 224.85677074487276, 192.54211356267754, 188.3577362418929, 177.43836295485835, 282.4889241913333, 177.2383773725732, 196.64337430755626, 163.00445705151705, 147.9089621714685, 182.23657004957693, 144.93347143289944, 153.6756913678461, 132.06387395888947, 124.17440139830859, 122.6299845310285, 129.45632848364195, 109.00703669962631, 115.91660665605433, 99.89527871735523, 112.45231360844909, 150.69075335316836, 101.67218733510136, 94.84140547286154, 104.22411303614145, 127.94545734967441, 857.0563049638521, 849.6192924879974, 408.71061233154086, 366.45215598474624, 258.02626659035354, 242.4040951862385, 229.65644903702912, 1359.9839575184542, 1179.0768636063642, 1988.0364414921362, 284.73049410561396, 310.98628605145313, 1476.6367343502513, 935.3953070151908, 287.90113128117696, 1729.2984801015955, 991.9427867143473, 929.0960529809652, 2577.3636044797913, 4299.827363314438, 509.26065901930093, 1184.945506661613, 400.43278012335725, 3147.802245943718, 993.8715387139251, 597.3258081250441, 438.95434634358065, 1742.997881565136, 1550.5978419037838, 1671.1299110472037, 958.7306869364536, 2004.8208345547794, 1312.6665516880728, 1423.278518888432, 1757.5946891484052, 728.289372304357, 1134.860012455419, 985.1124425637419, 1320.2807887412248, 1607.5178628384228, 1384.819812922368, 1611.7805905417613, 2206.9926405497636, 1203.27949617921, 1132.8935199860327, 1021.8514281529569, 1237.0461279632357, 1027.4198010270218, 1381.673998028442, 907.0821052257375, 321.2589783700842, 363.3589587249745, 274.6681187588838, 252.44445687521397, 306.0969263195176, 286.56819452423713, 217.6220090411454, 169.48279812411315, 161.91091705972144, 153.68777995029558, 133.8987196475825, 135.18207226296232, 125.48413434513199, 95.13035797238778, 83.63983185516958, 85.99465928475887, 72.9705593759701, 97.59840314429755, 80.32650309725722, 239.46576423751895, 70.38278458520753, 69.24934679880299, 67.29682437151426, 78.24780268125623, 83.61478091529129, 65.68565519596811, 69.00246216550163, 72.3962196820248, 436.01790062748586, 276.9313402554392, 157.82817076422884, 126.00911958400894, 121.649787072832, 102.08533521663306, 640.5932942017498, 128.2757118193545, 152.20291577680737, 683.9573309137284, 2778.300397924959, 296.0132977220322, 193.04652896715402, 1191.9810903605644, 196.40458596327343, 1173.2833971160517, 582.5798508430323, 269.0532886360685, 700.9955654856792, 636.589872625786, 579.0507948025487, 467.308283181803, 520.8965034136886, 569.1978810624291, 412.7923965538314, 576.166419423894, 423.8204377685227, 675.0000371255447, 702.241781352823, 450.97604740689025, 413.26648852210536, 404.7075085860896, 354.9572017704414, 357.29115993030365, 354.48760412055435, 356.3969859764575, 350.4840653015022, 339.3860299630636], \"Total\": [4985.0, 1382.0, 908.0, 2429.0, 2785.0, 817.0, 718.0, 440.0, 363.0, 321.0, 1280.0, 306.0, 1422.0, 1130.0, 287.0, 275.0, 279.0, 377.0, 252.0, 241.0, 1711.0, 2308.0, 218.0, 2021.0, 448.0, 1350.0, 863.0, 857.0, 227.0, 245.0, 568.3412535709647, 1130.259385244556, 655.9003977564865, 1280.6380301388801, 237.3448602382161, 225.38827938613252, 193.00926502254245, 188.82990923239163, 177.90089709032276, 283.2831932944775, 177.73849494022755, 197.20467669983782, 163.49570982804266, 148.373259342241, 182.80928295750624, 145.40069048309945, 154.17820547276935, 132.54105126757642, 124.63140083563724, 123.08610697326363, 129.93838179955912, 109.48305638547605, 116.43891442459811, 100.3579182265719, 112.97401165186932, 151.39456979529817, 102.163339966489, 95.30642537552343, 104.74545389269191, 128.6035385301176, 863.2493816622756, 857.4320409284371, 411.72970795704833, 369.07972075926, 259.742896992496, 243.99189985992334, 231.20978760126388, 1404.62813243114, 1218.3787399551136, 2081.1811509796466, 289.1492084091189, 316.5381999913394, 1554.5043518918765, 981.5356356337477, 293.44466295088705, 1863.9041755719525, 1056.2558184534114, 996.824102316574, 2915.6113212980263, 5002.069144667261, 534.4159134928957, 1321.964914902685, 419.2240602205843, 3822.8022830692626, 1109.0269673258824, 652.0510176318857, 467.6541646986582, 2156.2643700872413, 1906.9948278802412, 2075.8374196332934, 1124.5389108069212, 2580.9872539786734, 1603.9936040875677, 1773.7625841899342, 2326.792570210834, 827.4397710604827, 1438.9405726009106, 1213.178329131855, 1771.256836148115, 2308.5134283241023, 2021.4096855481541, 2785.063987657813, 4985.293038474722, 1724.1759995928985, 1711.9443147885813, 1325.7655812750447, 2429.0272183238003, 1366.8058309900853, 1382.261615876203, 908.1134302078955, 321.7882303920671, 363.95997512724165, 275.2110487944935, 252.9912984836084, 306.77059007700336, 287.25417618813685, 218.18176993450354, 170.01159172674977, 162.47939627973466, 154.25486372700044, 134.47459921488297, 135.77881765216165, 126.04963782895376, 95.67253759091597, 84.1920807885733, 86.58625225328285, 73.49907841144544, 98.30567884278015, 80.91453291449709, 241.24442332184458, 70.92061339948452, 69.78898392826741, 67.84173308598679, 78.88401962898492, 84.30180333169149, 66.23009822439732, 69.59712961180645, 73.02854011280513, 440.4304024613012, 279.4819112161734, 159.73025788018404, 127.32662077468613, 123.13390526790673, 104.30183493108404, 718.9882139143804, 133.41826498502377, 160.5777892622656, 817.4139546585857, 4985.293038474722, 377.46710439823755, 227.28712038028073, 2429.0272183238003, 245.8335187972272, 2785.063987657813, 1422.7358177957567, 448.9845530939366, 2308.5134283241023, 2021.4096855481541, 1711.9443147885813, 1350.6472264050697, 1724.1759995928985, 2326.792570210834, 1190.4086115327516, 2580.9872539786734, 1325.97144888338, 3822.8022830692626, 5002.069144667261, 1771.256836148115, 2156.2643700872413, 2075.8374196332934, 1192.551485700276, 1289.0772913469098, 1310.7323807814919, 1906.9948278802412, 1773.7625841899342, 1366.8058309900853], \"Category\": [\"Default\", \"Default\", \"Default\", \"Default\", \"Default\", \"Default\", \"Default\", \"Default\", \"Default\", \"Default\", \"Default\", \"Default\", \"Default\", \"Default\", \"Default\", \"Default\", \"Default\", \"Default\", \"Default\", \"Default\", \"Default\", \"Default\", \"Default\", \"Default\", \"Default\", \"Default\", \"Default\", \"Default\", \"Default\", \"Default\", \"Topic1\", \"Topic1\", \"Topic1\", \"Topic1\", \"Topic1\", \"Topic1\", \"Topic1\", \"Topic1\", \"Topic1\", \"Topic1\", \"Topic1\", \"Topic1\", \"Topic1\", \"Topic1\", \"Topic1\", \"Topic1\", \"Topic1\", \"Topic1\", \"Topic1\", \"Topic1\", \"Topic1\", \"Topic1\", \"Topic1\", \"Topic1\", \"Topic1\", \"Topic1\", \"Topic1\", \"Topic1\", \"Topic1\", \"Topic1\", \"Topic1\", \"Topic1\", \"Topic1\", \"Topic1\", \"Topic1\", \"Topic1\", \"Topic1\", \"Topic1\", \"Topic1\", \"Topic1\", \"Topic1\", \"Topic1\", \"Topic1\", \"Topic1\", \"Topic1\", \"Topic1\", \"Topic1\", \"Topic1\", \"Topic1\", \"Topic1\", \"Topic1\", \"Topic1\", \"Topic1\", \"Topic1\", \"Topic1\", \"Topic1\", \"Topic1\", \"Topic1\", \"Topic1\", \"Topic1\", \"Topic1\", \"Topic1\", \"Topic1\", \"Topic1\", \"Topic1\", \"Topic1\", \"Topic1\", \"Topic1\", \"Topic1\", \"Topic1\", \"Topic1\", \"Topic1\", \"Topic1\", \"Topic1\", \"Topic1\", \"Topic1\", \"Topic1\", \"Topic1\", \"Topic2\", \"Topic2\", \"Topic2\", \"Topic2\", \"Topic2\", \"Topic2\", \"Topic2\", \"Topic2\", \"Topic2\", \"Topic2\", \"Topic2\", \"Topic2\", \"Topic2\", \"Topic2\", \"Topic2\", \"Topic2\", \"Topic2\", \"Topic2\", \"Topic2\", \"Topic2\", \"Topic2\", \"Topic2\", \"Topic2\", \"Topic2\", \"Topic2\", \"Topic2\", \"Topic2\", \"Topic2\", \"Topic2\", \"Topic2\", \"Topic2\", \"Topic2\", \"Topic2\", \"Topic2\", \"Topic2\", \"Topic2\", \"Topic2\", \"Topic2\", \"Topic2\", \"Topic2\", \"Topic2\", \"Topic2\", \"Topic2\", \"Topic2\", \"Topic2\", \"Topic2\", \"Topic2\", \"Topic2\", \"Topic2\", \"Topic2\", \"Topic2\", \"Topic2\", \"Topic2\", \"Topic2\", \"Topic2\", \"Topic2\", \"Topic2\", \"Topic2\", \"Topic2\", \"Topic2\", \"Topic2\", \"Topic2\", \"Topic2\", \"Topic2\", \"Topic2\", \"Topic2\", \"Topic2\", \"Topic2\"], \"logprob\": [30.0, 29.0, 28.0, 27.0, 26.0, 25.0, 24.0, 23.0, 22.0, 21.0, 20.0, 19.0, 18.0, 17.0, 16.0, 15.0, 14.0, 13.0, 12.0, 11.0, 10.0, 9.0, 8.0, 7.0, 6.0, 5.0, 4.0, 3.0, 2.0, 1.0, -5.9077, -5.2206, -5.765, -5.0963, -6.7824, -6.8341, -6.9892, -7.0112, -7.0709, -6.6059, -7.072, -6.9681, -7.1558, -7.2529, -7.0442, -7.2733, -7.2147, -7.3662, -7.4278, -7.4404, -7.3862, -7.5581, -7.4967, -7.6454, -7.527, -7.2343, -7.6278, -7.6973, -7.603, -7.3979, -5.496, -5.5047, -6.2365, -6.3457, -6.6965, -6.7589, -6.813, -5.0343, -5.177, -4.6546, -6.598, -6.5098, -4.952, -5.4086, -6.5869, -4.7941, -5.3499, -5.4153, -4.395, -3.8832, -6.0166, -5.1721, -6.257, -4.1951, -5.3479, -5.8571, -6.1651, -4.7862, -4.9031, -4.8283, -5.3839, -4.6462, -5.0697, -4.9888, -4.7778, -5.6588, -5.2153, -5.3568, -5.0639, -4.8671, -5.0162, -4.8644, -4.5501, -5.1567, -5.217, -5.3202, -5.1291, -5.3147, -4.1066, -4.5275, -5.5654, -5.4423, -5.7221, -5.8065, -5.6138, -5.6797, -5.9549, -6.2049, -6.2506, -6.3028, -6.4406, -6.4311, -6.5055, -6.7824, -6.9112, -6.8834, -7.0476, -6.7568, -6.9516, -5.8593, -7.0837, -7.1, -7.1286, -6.9778, -6.9115, -7.1528, -7.1035, -7.0555, -5.26, -5.7139, -6.2762, -6.5013, -6.5365, -6.7119, -4.8753, -6.4835, -6.3125, -4.8098, -3.4081, -5.6473, -6.0748, -4.2543, -6.0575, -4.2701, -4.9702, -5.7428, -4.7852, -4.8816, -4.9763, -5.1907, -5.0821, -4.9935, -5.3147, -4.9813, -5.2884, -4.823, -4.7834, -5.2263, -5.3136, -5.3345, -5.4657, -5.4591, -5.467, -5.4616, -5.4784, -5.5106], \"loglift\": [30.0, 29.0, 28.0, 27.0, 26.0, 25.0, 24.0, 23.0, 22.0, 21.0, 20.0, 19.0, 18.0, 17.0, 16.0, 15.0, 14.0, 13.0, 12.0, 11.0, 10.0, 9.0, 8.0, 7.0, 6.0, 5.0, 4.0, 3.0, 2.0, 1.0, 0.3368, 0.3365, 0.3363, 0.3358, 0.3354, 0.3354, 0.3353, 0.3352, 0.3351, 0.3349, 0.3349, 0.3349, 0.3347, 0.3346, 0.3346, 0.3345, 0.3345, 0.3341, 0.3341, 0.334, 0.334, 0.3334, 0.3332, 0.3331, 0.3331, 0.3331, 0.3329, 0.3329, 0.3328, 0.3326, 0.3305, 0.3286, 0.3304, 0.3306, 0.3311, 0.3312, 0.331, 0.3054, 0.305, 0.292, 0.3223, 0.32, 0.2864, 0.2896, 0.3187, 0.2628, 0.2749, 0.2674, 0.2144, 0.1865, 0.2895, 0.2283, 0.2919, 0.1435, 0.2281, 0.2501, 0.2744, 0.125, 0.1309, 0.1209, 0.1782, 0.0851, 0.1373, 0.1176, 0.0572, 0.2101, 0.1003, 0.1295, 0.0439, -0.0242, -0.0405, -0.2092, -0.4771, -0.022, -0.0751, 0.0774, -0.337, 0.0523, 1.2492, 1.2485, 1.2479, 1.2479, 1.2476, 1.2474, 1.2474, 1.2472, 1.247, 1.2465, 1.2461, 1.2459, 1.2453, 1.2452, 1.2451, 1.2439, 1.243, 1.2427, 1.2424, 1.2424, 1.2423, 1.2422, 1.242, 1.2418, 1.2415, 1.2415, 1.2414, 1.2413, 1.241, 1.2409, 1.2395, 1.2404, 1.2376, 1.2392, 1.2375, 1.2281, 1.1341, 1.2103, 1.196, 1.0713, 0.6649, 1.0065, 1.0863, 0.5377, 1.0251, 0.3851, 0.3567, 0.7375, 0.0577, 0.0942, 0.1656, 0.1882, 0.0526, -0.1584, 0.1905, -0.2499, 0.109, -0.4844, -0.7137, -0.1184, -0.4024, -0.3854, 0.0377, -0.0335, -0.0581, -0.4276, -0.372, -0.1435]}, \"token.table\": {\"Topic\": [1, 2, 1, 2, 1, 2, 1, 2, 1, 2, 1, 2, 1, 2, 1, 1, 2, 1, 2, 1, 2, 1, 2, 1, 2, 1, 2, 1, 2, 1, 2, 1, 2, 1, 2, 1, 2, 1, 2, 1, 2, 1, 2, 1, 2, 1, 2, 1, 2, 1, 2, 1, 2, 1, 2, 1, 2, 1, 1, 2, 1, 1, 2, 1, 2, 1, 2, 1, 2, 1, 2, 1, 2, 1, 2, 1, 2, 1, 2, 1, 2, 1, 1, 2, 1, 1, 2, 1, 2, 1, 2, 1, 2, 1, 2, 1, 2, 1, 2, 1, 2, 1, 2, 1, 2, 1, 2, 1, 2, 1, 2, 1, 2, 1, 2, 1, 2, 1, 2, 1, 2, 1, 2, 1, 2, 1, 1, 2, 1, 2, 1, 2, 1, 2, 1, 2, 1, 2, 1, 2, 1, 1, 2, 1, 2, 1, 2, 1, 2, 1, 2, 1, 2, 1, 1, 2, 1, 2, 1, 2, 1, 2, 1, 2, 1, 2, 1, 2, 1, 2, 1, 2, 1, 2, 1, 2, 1, 2, 1, 2, 1, 2, 1, 1, 2, 1, 2, 1, 1, 2, 1, 1, 2, 1, 2, 1, 2, 1, 2, 1, 2, 1, 2, 1, 1, 2, 1, 2, 1, 2, 1, 1, 2, 1, 2, 1, 2, 1, 2, 1, 2, 1, 2, 1, 2, 1, 2, 1, 1, 2, 1, 2, 1, 2, 1, 2, 1, 2, 1, 2, 1, 2, 1, 2], \"Freq\": [0.10848578389810505, 0.8915306087010941, 0.993289914709212, 0.007699921819451255, 0.0034812374645688386, 0.9991151523312567, 0.9319598089984443, 0.06821664909784092, 0.011549177542351543, 0.9932292686422327, 0.7452335387286656, 0.2546214590656274, 0.014100272855328524, 0.9870190998729966, 0.9999519970062506, 0.9989621103147095, 0.005070873656419845, 0.011862142451039016, 0.9964199658872774, 0.0011011840225411806, 0.9987739084448508, 0.0032597648938543526, 0.9974880575194319, 0.0061546265120184076, 0.997049494946982, 0.9524416978402093, 0.04678004409824211, 0.8022494175283751, 0.1973206578601063, 0.9988441591194883, 0.006486001033243431, 0.012676838790711964, 0.9887934256755332, 0.007853817166557604, 0.9895809629862581, 0.014368408662508405, 0.9914201977130799, 0.014328909001280914, 0.9886947210883831, 0.9825038494832822, 0.01895505818938808, 0.8962811809678184, 0.10369450282826873, 0.8963929274077841, 0.10363361270452863, 0.006482777760380998, 0.9983477750986738, 0.01045232022877743, 0.9929704217338559, 0.011877601677421919, 0.9977185409034411, 0.1495905264808389, 0.8491462238471149, 0.037476128179010956, 0.9593888813826805, 0.7229977645686297, 0.2769422767714601, 0.995587843439671, 0.9391664241457188, 0.06059138220294961, 0.9967848403261788, 0.9814456909996747, 0.02044678522915989, 0.2145882357858207, 0.7841742937358386, 0.9682277953853186, 0.03203694911201421, 0.44270216072899976, 0.5572390586792756, 0.6851654119904069, 0.3151266190887287, 0.19932188352401634, 0.7972875340960653, 0.9916556760340978, 0.008128325213394244, 0.6537606435917571, 0.34576015918159747, 0.7768345221035978, 0.2231704163250236, 0.6977245944057014, 0.3021733280842647, 0.9927782554579858, 0.9933701457429613, 0.007286333587356684, 0.9974843220139821, 0.9993995622017221, 0.001759506271481905, 0.004583334346862216, 0.9991668876159631, 0.9913784450279526, 0.008851593259178147, 0.8596442543350802, 0.1403419224519131, 0.8049763359093846, 0.1951019844663679, 0.8119169097793411, 0.18793609688293375, 0.9525889494539839, 0.046865338689714715, 0.5788017823445637, 0.421175242363631, 0.991332209931892, 0.009330185505241336, 0.0007234520502590308, 0.9998107334579807, 0.9947675761748017, 0.008650152836302624, 0.995306983485713, 0.007775835808482133, 0.6535571000265693, 0.346939694487112, 0.818581817691786, 0.18142216980069284, 0.4009046608833787, 0.5991297432090493, 0.9954702808890481, 0.003530036457053362, 0.9552267946806146, 0.04468616293022996, 0.9155725301498346, 0.08434922807075529, 0.01369327660741031, 0.9859159157335423, 0.9501420811092929, 0.05017676528539258, 0.9969680560513543, 0.04982009054150013, 0.9465817202885024, 0.00908202516821364, 0.9899407433352867, 0.5904117893801333, 0.4097738966769258, 0.003952705116712902, 0.9960816894116513, 0.9979400657509804, 0.0015617215426462917, 0.8234796797998469, 0.17657204061781978, 0.010734147290411089, 0.9911195998146238, 0.998401188072526, 0.014740189475002628, 0.9875926948251761, 0.002747554864103935, 0.9973624156697284, 0.9387278744387489, 0.06201163635244583, 0.9962305177202392, 0.008588194118277924, 0.6802559744099976, 0.31976555781578603, 0.015098875387619882, 0.9965257755829122, 0.9959178589395361, 0.5092573647048785, 0.49073142985304374, 0.003107633858396869, 0.9975504685453949, 0.9856502861206241, 0.013833688226254373, 0.9955730751501588, 0.005470181731594279, 0.008290347078124151, 0.9906964758358361, 0.013605612772476312, 0.9932097323907707, 0.8133215556352849, 0.18668115654813758, 0.0036335750486046923, 0.9992331383662904, 0.007436348617794021, 0.9964707147843989, 0.012358719305179781, 0.9886975444143825, 0.9988857555522236, 0.000884752662136602, 0.9986272340136302, 0.0015246217313185193, 0.7513869027439419, 0.24802352485900325, 0.012521109190847415, 0.9891676260769457, 0.9993004330433302, 0.005881951870712702, 0.9940498661504467, 0.007933382572324208, 0.991672821540526, 0.9956049905665618, 0.9958450478582261, 0.005626243208238566, 0.994935960947598, 0.16270825723247034, 0.8367853229098474, 0.008121240025842314, 0.9907912831527624, 0.992883186191015, 0.009546953713375144, 0.9918362049680055, 0.008196993429487648, 0.7887747566589685, 0.21126654275271048, 0.9676793933907905, 0.032009750926412915, 0.9972442325977398, 0.8527939680734236, 0.1476160570387782, 0.7555465074571323, 0.24454264092326977, 0.8083424389790752, 0.19153495542074472, 0.9964335825922191, 0.883862667556361, 0.1159276607039387, 0.9541437096657355, 0.04532182620912244, 0.007364919044749685, 0.9942640710412074, 0.7708753451097285, 0.22930147251796232, 0.9982772867019082, 0.00443678794089737, 0.010172352317502386, 0.9968905271152338, 0.6618205920675179, 0.3382119353990228, 0.8798223453375508, 0.11964617058848562, 0.9949338542983247, 0.6965521535507594, 0.30365861917853376, 0.019175118072673136, 0.97793102170633, 0.9927606300160426, 0.006950482823916285, 0.7293632277780523, 0.27007801530693565, 0.9973937652068257, 0.006605256723224011, 0.9985470077680638, 0.004213278513789298, 0.7026950283055657, 0.29768106807694017, 0.9276227944869773, 0.07242861611089758], \"Term\": [\"account\", \"account\", \"activity\", \"activity\", \"adopt\", \"adopt\", \"age\", \"age\", \"allowance\", \"allowance\", \"also\", \"also\", \"bank\", \"bank\", \"bed\", \"boundary\", \"boundary\", \"brand\", \"brand\", \"buy\", \"buy\", \"card\", \"card\", \"cash\", \"cash\", \"chat\", \"chat\", \"child\", \"child\", \"class\", \"class\", \"click\", \"click\", \"cost\", \"cost\", \"credit_card\", \"credit_card\", \"currency\", \"currency\", \"dad\", \"dad\", \"daughter\", \"daughter\", \"day\", \"day\", \"developer\", \"developer\", \"dollar\", \"dollar\", \"donate\", \"donate\", \"earn\", \"earn\", \"email\", \"email\", \"even\", \"even\", \"expose\", \"feel\", \"feel\", \"feeling\", \"fine\", \"fine\", \"free\", \"free\", \"friend\", \"friend\", \"game\", \"game\", \"get\", \"get\", \"gift\", \"gift\", \"girl\", \"girl\", \"give\", \"give\", \"go\", \"go\", \"good\", \"good\", \"healthy\", \"home\", \"home\", \"homework\", \"internet\", \"internet\", \"item\", \"item\", \"joke\", \"joke\", \"kid\", \"kid\", \"know\", \"know\", \"let\", \"let\", \"love\", \"love\", \"make\", \"make\", \"mom\", \"mom\", \"money\", \"money\", \"monitor\", \"monitor\", \"morning\", \"morning\", \"much\", \"much\", \"need\", \"need\", \"new\", \"new\", \"night\", \"night\", \"old\", \"old\", \"online\", \"online\", \"original\", \"original\", \"parent\", \"parent\", \"parenting\", \"password\", \"password\", \"pay\", \"pay\", \"people\", \"people\", \"pet\", \"pet\", \"phone\", \"phone\", \"play\", \"play\", \"player\", \"player\", \"predator\", \"price\", \"price\", \"purchase\", \"purchase\", \"read\", \"read\", \"ready\", \"ready\", \"really\", \"really\", \"refund\", \"refund\", \"relationship\", \"roblox\", \"roblox\", \"robux\", \"robux\", \"room\", \"room\", \"safety\", \"safety\", \"save\", \"save\", \"saving\", \"saving\", \"say\", \"say\", \"scam\", \"scam\", \"scamme\", \"scamme\", \"scammer\", \"scammer\", \"school\", \"school\", \"screen\", \"screen\", \"see\", \"see\", \"sell\", \"sell\", \"sex\", \"simulator\", \"simulator\", \"skin\", \"skin\", \"sleep\", \"social\", \"social\", \"social_media\", \"spend\", \"spend\", \"steal\", \"steal\", \"strict\", \"strict\", \"tablet\", \"tablet\", \"take\", \"take\", \"talk\", \"talk\", \"teacher\", \"tell\", \"tell\", \"thing\", \"thing\", \"think\", \"think\", \"tiktok\", \"time\", \"time\", \"together\", \"together\", \"trade\", \"trade\", \"try\", \"try\", \"tv\", \"tv\", \"update\", \"update\", \"use\", \"use\", \"video\", \"video\", \"wake\", \"want\", \"want\", \"waste\", \"waste\", \"watch\", \"watch\", \"way\", \"way\", \"weekend\", \"weekend\", \"wife\", \"wife\", \"work\", \"work\", \"year\", \"year\"]}, \"R\": 30, \"lambda.step\": 0.01, \"plot.opts\": {\"xlab\": \"PC1\", \"ylab\": \"PC2\"}, \"topic.order\": [2, 1]};\n",
              "\n",
              "function LDAvis_load_lib(url, callback){\n",
              "  var s = document.createElement('script');\n",
              "  s.src = url;\n",
              "  s.async = true;\n",
              "  s.onreadystatechange = s.onload = callback;\n",
              "  s.onerror = function(){console.warn(\"failed to load library \" + url);};\n",
              "  document.getElementsByTagName(\"head\")[0].appendChild(s);\n",
              "}\n",
              "\n",
              "if(typeof(LDAvis) !== \"undefined\"){\n",
              "   // already loaded: just create the visualization\n",
              "   !function(LDAvis){\n",
              "       new LDAvis(\"#\" + \"ldavis_el2321616310825985126562556934\", ldavis_el2321616310825985126562556934_data);\n",
              "   }(LDAvis);\n",
              "}else if(typeof define === \"function\" && define.amd){\n",
              "   // require.js is available: use it to load d3/LDAvis\n",
              "   require.config({paths: {d3: \"https://d3js.org/d3.v5\"}});\n",
              "   require([\"d3\"], function(d3){\n",
              "      window.d3 = d3;\n",
              "      LDAvis_load_lib(\"https://cdn.jsdelivr.net/gh/bmabey/pyLDAvis@3.4.0/pyLDAvis/js/ldavis.v3.0.0.js\", function(){\n",
              "        new LDAvis(\"#\" + \"ldavis_el2321616310825985126562556934\", ldavis_el2321616310825985126562556934_data);\n",
              "      });\n",
              "    });\n",
              "}else{\n",
              "    // require.js not available: dynamically load d3 & LDAvis\n",
              "    LDAvis_load_lib(\"https://d3js.org/d3.v5.js\", function(){\n",
              "         LDAvis_load_lib(\"https://cdn.jsdelivr.net/gh/bmabey/pyLDAvis@3.4.0/pyLDAvis/js/ldavis.v3.0.0.js\", function(){\n",
              "                 new LDAvis(\"#\" + \"ldavis_el2321616310825985126562556934\", ldavis_el2321616310825985126562556934_data);\n",
              "            })\n",
              "         });\n",
              "}\n",
              "</script>"
            ],
            "text/plain": [
              "PreparedData(topic_coordinates=              x         y  topics  cluster       Freq\n",
              "topic                                                \n",
              "1     -0.005137 -0.090663       1        1  71.337771\n",
              "0      0.005137  0.090663       2        1  28.662229, topic_info=       Term         Freq        Total Category  logprob  loglift\n",
              "41     game  4985.000000  4985.000000  Default  30.0000  30.0000\n",
              "83    money  1382.000000  1382.000000  Default  29.0000  29.0000\n",
              "253     buy   908.000000   908.000000  Default  28.0000  28.0000\n",
              "9    roblox  2429.000000  2429.000000  Default  27.0000  27.0000\n",
              "49     make  2785.000000  2785.000000  Default  26.0000  26.0000\n",
              "..      ...          ...          ...      ...      ...      ...\n",
              "74     even   357.291160  1289.077291   Topic2  -5.4591  -0.0335\n",
              "71      way   354.487604  1310.732381   Topic2  -5.4670  -0.0581\n",
              "62      say   356.396986  1906.994828   Topic2  -5.4616  -0.4276\n",
              "3     child   350.484065  1773.762584   Topic2  -5.4784  -0.3720\n",
              "140     see   339.386030  1366.805831   Topic2  -5.5106  -0.1435\n",
              "\n",
              "[176 rows x 6 columns], token_table=      Topic      Freq      Term\n",
              "term                           \n",
              "1         1  0.108486   account\n",
              "1         2  0.891531   account\n",
              "603       1  0.993290  activity\n",
              "603       2  0.007700  activity\n",
              "794       1  0.003481     adopt\n",
              "...     ...       ...       ...\n",
              "886       2  0.004213      wife\n",
              "330       1  0.702695      work\n",
              "330       2  0.297681      work\n",
              "234       1  0.927623      year\n",
              "234       2  0.072429      year\n",
              "\n",
              "[244 rows x 3 columns], R=30, lambda_step=0.01, plot_opts={'xlab': 'PC1', 'ylab': 'PC2'}, topic_order=[2, 1])"
            ]
          },
          "execution_count": 47,
          "metadata": {},
          "output_type": "execute_result"
        }
      ],
      "source": [
        "pyLDAvis.enable_notebook()\n",
        "vis = pyLDAvis.gensim.prepare(lda_model_tuned, corpus, id2word, mds='mmds', R=30)\n",
        "vis"
      ]
    },
    {
      "cell_type": "code",
      "execution_count": 48,
      "metadata": {
        "colab": {
          "base_uri": "https://localhost:8080/"
        },
        "id": "zpu6N5jXCn5E",
        "outputId": "c942f103-9f51-4d20-9ace-725a529b1a9f"
      },
      "outputs": [
        {
          "name": "stdout",
          "output_type": "stream",
          "text": [
            "<gensim.interfaces.TransformedCorpus object at 0x0000017BB5648310>\n"
          ]
        }
      ],
      "source": [
        "# Get the topic distribution for each document\n",
        "document_topics = lda_model.get_document_topics(corpus)\n",
        "print(document_topics)\n"
      ]
    },
    {
      "cell_type": "code",
      "execution_count": 49,
      "metadata": {
        "colab": {
          "base_uri": "https://localhost:8080/"
        },
        "id": "v5N3GXaBxAA4",
        "outputId": "84e2dfb5-15b0-49f3-bfe5-e6648c0f33b8"
      },
      "outputs": [
        {
          "name": "stdout",
          "output_type": "stream",
          "text": [
            "There are 529 reviews in topic 1.\n"
          ]
        }
      ],
      "source": [
        "# Filter reviews that have topic 1 as their main topic\n",
        "reviews_in_topic_1 = [idx for idx, topics in enumerate(document_topics) if max(topics, key=lambda x: x[1])[0] == 1]\n",
        "\n",
        "# Get the number of reviews in topic 1\n",
        "num_reviews_in_topic_1 = len(reviews_in_topic_1)\n",
        "\n",
        "print(f'There are {num_reviews_in_topic_1} reviews in topic 1.')\n"
      ]
    },
    {
      "cell_type": "code",
      "execution_count": 50,
      "metadata": {
        "id": "iuEUe7FVyOHU"
      },
      "outputs": [],
      "source": [
        "#import pandas as pd\n",
        "#reviews_in_topic_1 = [idx for idx, topics in enumerate(document_topics) if max(topics, key=lambda x: x[1])[0] == 1]\n",
        "\n",
        "#mixture = [dict(lda_model[x]) for x in corpus]\n",
        "pd.DataFrame(reviews_in_topic_1).to_csv(\"topic_mixture.csv\")"
      ]
    },
    {
      "cell_type": "code",
      "execution_count": 51,
      "metadata": {
        "colab": {
          "base_uri": "https://localhost:8080/"
        },
        "id": "LxHTjwof7aoX",
        "outputId": "bc423e1d-8296-4fd0-9666-40bfc76dae51"
      },
      "outputs": [
        {
          "name": "stdout",
          "output_type": "stream",
          "text": [
            "[(4, 0.9976535)]\n"
          ]
        }
      ],
      "source": [
        "print(max(document_topics))"
      ]
    },
    {
      "cell_type": "code",
      "execution_count": 52,
      "metadata": {
        "colab": {
          "base_uri": "https://localhost:8080/"
        },
        "id": "GX5bodOS7dlM",
        "outputId": "c5e80cb5-3152-4018-97b4-b3aef15a3cef"
      },
      "outputs": [
        {
          "name": "stdout",
          "output_type": "stream",
          "text": [
            "There are 0 reviews in topic 5.\n"
          ]
        }
      ],
      "source": [
        "# Filter reviews that have topic 5 as their main topic\n",
        "reviews_in_topic_5 = [idx for idx, topics in enumerate(document_topics) if max(topics, key=lambda x: x[1])[0] == 5]\n",
        "\n",
        "# Get the number of reviews in topic 5\n",
        "num_reviews_in_topic_5 = len(reviews_in_topic_5)\n",
        "\n",
        "print(f'There are {num_reviews_in_topic_5} reviews in topic 5.')"
      ]
    },
    {
      "cell_type": "code",
      "execution_count": 53,
      "metadata": {
        "colab": {
          "base_uri": "https://localhost:8080/"
        },
        "id": "WpkIGfMHAZSr",
        "outputId": "376bd1fa-f554-4bd3-aa1a-56d287732465"
      },
      "outputs": [
        {
          "data": {
            "text/plain": [
              "(12075, 1)"
            ]
          },
          "execution_count": 53,
          "metadata": {},
          "output_type": "execute_result"
        }
      ],
      "source": [
        "datax= load_data('../Dataset/cumulative5.csv')\n",
        "filtered_data = datax.drop(columns=['subreddit','date','timestamp'], axis=1)\n",
        "datax= filtered_data.replace('\\n', ' ', regex=True)\n",
        "import re\n",
        "\n",
        "datax= datax.loc[datax.text.str.contains('I am a bot') == False, :]\n",
        "\n",
        "# Remove punctuation\n",
        "# data['text'] = data['text'].map(lambda x: re.sub(\"[,\\.!?/@#$^&*-_=+()%]\", \"\", x))\n",
        "datax['text'] = datax['text'].replace(r'http\\S+', '', regex=True)\n",
        "\n",
        "#data['text'] = data['text'].replace(r'a'+ u'\\u0301'+ 'U+20AC'+ 'U+2122', \"'\" , regex=True)\n",
        "\n",
        "datax['text'] = datax['text'].map(lambda x: re.sub('[%$:,\\.!?/-]', ' ', x))\n",
        "datax['text'] = datax['text'].map(lambda x: re.sub('\\(', ' ', x))\n",
        "datax['text'] = datax['text'].map(lambda x: re.sub('\\)', ' ', x))\n",
        "datax['text'] = datax['text'].replace(r'&\\S+', '', regex=True)\n",
        "datax['text'] = datax['text'].replace('\\\"', '', regex=True)\n",
        "\n",
        "# # Convert the titles to lowercase\n",
        "datax['text'] = datax['text'].map(lambda x: x.lower())\n",
        "\n",
        "pattern = r'[0-9]'\n",
        "datax['text'] = datax['text'].map(lambda x: re.sub(pattern, ' ', x))\n",
        "datax['text'] = datax['text'].map(lambda x: re.sub(' +', ' ', x))\n",
        "\n",
        "datax.shape"
      ]
    },
    {
      "cell_type": "code",
      "execution_count": 54,
      "metadata": {
        "colab": {
          "base_uri": "https://localhost:8080/",
          "height": 206
        },
        "id": "RG-HinbLDp9k",
        "outputId": "8a1e6d70-a768-44e4-d329-1b34df526340"
      },
      "outputs": [
        {
          "data": {
            "text/html": [
              "<div>\n",
              "<style scoped>\n",
              "    .dataframe tbody tr th:only-of-type {\n",
              "        vertical-align: middle;\n",
              "    }\n",
              "\n",
              "    .dataframe tbody tr th {\n",
              "        vertical-align: top;\n",
              "    }\n",
              "\n",
              "    .dataframe thead th {\n",
              "        text-align: right;\n",
              "    }\n",
              "</style>\n",
              "<table border=\"1\" class=\"dataframe\">\n",
              "  <thead>\n",
              "    <tr style=\"text-align: right;\">\n",
              "      <th></th>\n",
              "      <th>text</th>\n",
              "    </tr>\n",
              "  </thead>\n",
              "  <tbody>\n",
              "    <tr>\n",
              "      <th>0</th>\n",
              "      <td>live chat hi does anyone know if i can access ...</td>\n",
              "    </tr>\n",
              "    <tr>\n",
              "      <th>1</th>\n",
              "      <td>forgot pin i created my parental pin almost ye...</td>\n",
              "    </tr>\n",
              "    <tr>\n",
              "      <th>2</th>\n",
              "      <td>roblox rant this game…honestly either not enou...</td>\n",
              "    </tr>\n",
              "    <tr>\n",
              "      <th>3</th>\n",
              "      <td>you're not alone that's all i have to say</td>\n",
              "    </tr>\n",
              "    <tr>\n",
              "      <th>4</th>\n",
              "      <td>i even contacted support and they were useless</td>\n",
              "    </tr>\n",
              "  </tbody>\n",
              "</table>\n",
              "</div>"
            ],
            "text/plain": [
              "                                                text\n",
              "0  live chat hi does anyone know if i can access ...\n",
              "1  forgot pin i created my parental pin almost ye...\n",
              "2  roblox rant this game…honestly either not enou...\n",
              "3         you're not alone that's all i have to say \n",
              "4     i even contacted support and they were useless"
            ]
          },
          "execution_count": 54,
          "metadata": {},
          "output_type": "execute_result"
        }
      ],
      "source": [
        "datax.head(5)"
      ]
    },
    {
      "cell_type": "code",
      "execution_count": 55,
      "metadata": {
        "id": "MYyTmM6VDpnN"
      },
      "outputs": [],
      "source": [
        "datax['text'][3]\n",
        "type(datax['text'][3])\n",
        "\n",
        "resultx2 = []\n",
        "for d in datax['text']:\n",
        "  resultx2.append(d)\n",
        "\n",
        "#resultx2.head[5]"
      ]
    },
    {
      "cell_type": "code",
      "execution_count": null,
      "metadata": {
        "id": "Qx-KjA4642T6"
      },
      "outputs": [],
      "source": []
    },
    {
      "cell_type": "code",
      "execution_count": 56,
      "metadata": {
        "id": "utX_jISo46a4"
      },
      "outputs": [],
      "source": [
        "# Get the comments without weird spaces\n",
        "\n",
        "\n",
        "i = 0\n",
        "# Print the reviews\n",
        "#filex=[\"\"]\n",
        "id=[\" \"]\n",
        "textx=[\" \"]\n",
        "comment=\"\"\n",
        "for i in datax['text']:\n",
        "    #i += 1\n",
        "    #print(idx)\n",
        "    #print(' '.join(data_words[ix]))\n",
        "    id.append(i)\n",
        "    textx.append(i)\n",
        "    # create a dictionary with the three lists\n",
        "dict = {'ID': id,'Text':textx}\n",
        "\n",
        "# create a Pandas DataFrame from the dictionary\n",
        "df = pd.DataFrame(dict)\n",
        "\n",
        "# write the DataFrame to a CSV file\n",
        "df.to_csv('Data.csv')\n",
        "\n",
        "#pd.DataFrame(filex).to_csv(\"topic_mixture1.csv\")\n",
        "#print(i)\n"
      ]
    },
    {
      "cell_type": "code",
      "execution_count": 57,
      "metadata": {
        "id": "mB-ZLPV77gwA"
      },
      "outputs": [],
      "source": [
        "# Get the topic distribution for each document\n",
        "document_topics = lda_model.get_document_topics(corpus)\n",
        "\n",
        "# Filter reviews that have topic 1 as their main topic\n",
        "reviews_in_topic_1_tuned = [idx for idx, topics in enumerate(document_topics) if max(topics, key=lambda x: x[1])[0] == 1]\n",
        "\n",
        "i = 0\n",
        "# Print the reviews\n",
        "filex=[\"\"]\n",
        "id=[\" \"]\n",
        "textx=[\" \"]\n",
        "comment=\"\"\n",
        "for idx in reviews_in_topic_1:\n",
        "    i += 1\n",
        "    #print(idx)\n",
        "    #print(' '.join(data_words[idx]))\n",
        "    filex.append(data_words[idx])\n",
        "    id.append(idx)\n",
        "    textx.append(resultx2[idx])\n",
        "    # create a dictionary with the three lists\n",
        "dict = {'top words': filex, 'ID': id,'Text':textx}\n",
        "\n",
        "# create a Pandas DataFrame from the dictionary\n",
        "df = pd.DataFrame(dict)\n",
        "\n",
        "# write the DataFrame to a CSV file\n",
        "df.to_csv('EmployeeData.csv')\n",
        "\n",
        "#pd.DataFrame(filex).to_csv(\"topic_mixture1.csv\")\n",
        "#print(i)\n"
      ]
    },
    {
      "cell_type": "code",
      "execution_count": 58,
      "metadata": {
        "id": "vk8dxshCz8eX"
      },
      "outputs": [
        {
          "name": "stdout",
          "output_type": "stream",
          "text": [
            "bloxburg stats\n",
            "stripping\n",
            "yeah snowy strange lol\n",
            "worth replying take downvote buzz\n",
            "jokes lolol\n",
            "farted\n",
            "welcome capitalism\n",
            "guess stuck knee deep roblox capitalism crap\n",
            "lol\n",
            "lit totally relate\n",
            "check black mirror arkangel episode\n",
            "hated outdoors child asthmatic allergic everything constantly getting bitten bugs like getting dirty anxiety thing loved creative pretend play best playdates usually involved sort small plastic barbie bratz polly pocket hot wheels littlest pet shop dudes lego perhaps combination thereof polly spider man often dated vaguely polly sized spider man action figure mix good ol open world storytelling got older bake dates make cupcakes cookies banana bread go upstairs experiment makeup ate gossiped kind relationship trying build little niblings one based idea indoorsy synonymous screens time\n",
            "lol\n",
            "wow classic hardcore\n",
            "love bed wars lol\n",
            "remember parking runescape telling friend eating klondike bar confused half word censored lol\n",
            "hell come lol\n",
            "yeah business raising losers energy littering reckless driving parents realize zombie kids contributing might worst consumer generation ever\n",
            "news\n",
            "im dad boys lean manly stuff hoping theyll like fuckin love doin arts crafts stuff glue sticks glitter spray painting mailbox breaking pallets make accent wall cutting sheet metal old dryer make address accent numbers etc\n",
            "problem roblox problem daughter planned fun evening kids wanted roblox tie dye mario party movies snacks hit starbucks everyone stared phone entire tkme\n",
            "grown huge craft room envy every kid takes look shocked craft dissing thread lol\n",
            "alternatively turn constructive event show make rule blight humanity support fashion albeit really micro anymore\n",
            "world headless horseman cosmetics bundle show arrives shalom peace\n",
            "world skin carrying birkin bag adult world major flex\n",
            "love idea shows value interests guides something useful long term\n",
            "yah even genshin impact dolphin skin absolutely bonkers\n",
            "love gaming never ever buy shaders bits bobs freaking trap\n",
            "brothers name stan buying canadough\n",
            "terraria stardewvalley\n",
            "interesting\n",
            "takes two super luckys tale great\n",
            "oh gosh yeah heard gross\n",
            "remake tmnt amazing\n",
            "live banjo kazooie\n",
            "apologies correct made claim mind focused mario luigi donkey kong yoshi zelda pokemon kirby animal crossing sectors blanked ones mentioned\n",
            "reading comments shook\n",
            "roblox turned bane existence kids obsessed obsessed\n",
            "reddit like heroin us adults\n",
            "sorry year old hospitalized think make exception short term godspeed recovery\n",
            "oh man boys farts\n",
            "ohhh sorry misunderstood\n",
            "farms funny comes mouth armpit\n",
            "even penises attached someone yeah bar serving drinks hades\n",
            "even worse laughed felt nostalgic childhood also great\n",
            "lol legit reaction\n",
            "maybe nazi loving dicks kidding think either\n",
            "big hairy man penises shooting cum\n",
            "kids older littles penises peeing many men women body hair neither surprising sexual boobs nursing kids sexualize body parts us naturally functional played games either us alone living room stupid stuff showed clicked report voted score moved reaction malcontent wants give\n",
            "separate question mentally emotionally taxing job thank intense\n",
            "hmmm wander lol\n",
            "oh man funny need noise canceling headphones plan survive teenage years xbox\n",
            "love\n",
            "post comment gutrolling lol son right swear god sounds exactly imagine nonstop talking bossiness micromanaging hilariously irritating love\n",
            "heh yea parent kid care decibel levels noise floor relative noise levels crappy microphone much\n",
            "screen names young black spiral notebook erased words theres theing gravity earth sucks onto cover\n",
            "hope likes\n",
            "sound dramatic lol\n",
            "lol rich\n",
            "saaaammeee spill spill spill\n",
            "currently renovating like almost rich moms\n",
            "bless imagination\n",
            "renovating house face body\n",
            "brilliant\n",
            "cute\n",
            "yup biodad household like growing upper middle class probably making figures yearly huge house often given expired food lunches left eat literal crumbs mostly empty cereal boxes meal bathroom supposed use often toilet paper outsiders would seen privileged see inside kitchen cabinets upstairs bathroom saw fancy house biodad expensive cars\n",
            "post comment removed violating rule decent civil remember human disagree remain respectful insult users children name call intentionally rude bullying including baiting antagonizing tolerated consider blocking users along report posts violate rules questions moderation reach modmail moderators rely community help illuminate posts comments meet parenting standards please report posts comments feel contribute spirit community content may automatically removed auto moderation manually removed human moderator may removed direct result rule violation simply part larger sweep content longer contributed original topic\n",
            "probably secondary yes policy bothered singular biscuit lunchbox well balanced overall\n",
            "best part mother law funeral\n",
            "appreciated\n",
            "smash\n",
            "wow could see inlaws\n",
            "faraday bag\n",
            "lol\n",
            "methinks son law mother law heads\n",
            "bro comment red\n",
            "love complete power play joke\n",
            "preaching choir\n",
            "yea insane open pandora box digitally\n",
            "amazing advice\n",
            "reddit lol every mil evil underhanded intentions\n",
            "zomg mental image rocking gray haired baby lol thank\n",
            "another part reddit mil incomplete abbreviation waiting another character topic\n",
            "come accentigne region france sparkling punctuation\n",
            "lot hoops jump\n",
            "lol even purchase anything tuck head tail chalk stupid parenting\n",
            "thank post op definitely bookmarking replies advice\n",
            "great\n",
            "post comment removed violating rule decent civil remember human disagree remain respectful insult users children name call intentionally rude bullying including baiting antagonizing tolerated consider blocking users along report posts violate rules questions moderation reach modmail moderators rely community help illuminate posts comments meet parenting standards please report posts comments feel contribute spirit community content may automatically removed auto moderation manually removed human moderator may removed direct result rule violation simply part larger sweep content longer contributed original topic\n",
            "laughed hard\n",
            "bluey awesome want bluey themed birthday party\n",
            "daughter bluey party birthday said kids class said bluey babies kids come told ignore haters everyone come blast played keepy uppy freeze dance\n",
            "adult bluey themed bday party lot adults love bluey one coworkers single kids bluey window stickers car love\n",
            "shit dude love baked watch episodes bluey youtube\n",
            "nope bluey fun party idea age beauty bluey\n",
            "bluey everyone\n",
            "old bluey character\n",
            "power rangers themed party birthday remember\n",
            "bluey cake balloons colors match everything else gives wants minimizing teasing liking baby show like wanted coco melon\n",
            "cartoon sheets high school homie pokemon sheets age adults anime geek themed parties time full cosplay parties\n",
            "bluey something\n",
            "year old son loves bluey love bluey year olds think subtle obvious nods show hit parents\n",
            "awww located bluey loving yo watching new episodes weekend would love attend close female friend turned well looooves playing reborns barbie etc\n",
            "year old went bluey themed party blast huge blow inflatable dog front yard\n",
            "almost yr old loves bluey\n",
            "niece adores bluey\n",
            "want th birthday bluey\n",
            "wife threw bluey themed party daughters refer bluey yrs old bingo yrs enjoy bluey jumped aboard happily took role bandit bluey ages\n",
            "old embrace little kid stuff long reckon mine mermaid themed party wore mermaid dress mermaid face paint glitter gems friends danced around baby shark awesome think last kiddy party still sweet memory us\n",
            "would ecstatic bluey themed party\n",
            "old bluey cute everyone even teen gets stuck trance lol\n",
            "adult roommate watches bluey\n",
            "kid turns friday loves bluey bluey hilarious\n",
            "year old loves bluey\n",
            "yos friends highschool girls boys really squishmallows really like seeing cheerful math nerds carrying stuffies around school\n",
            "spent weekend binge watching bluey disney next month mostly without grandson room love idea bluey themed birthday party maybe celebrate mine\n",
            "kids school friend bluey party turned always thought bluey babies mom go deep themes kid wore bluey dress bluey cake bluey party bags bluey decor games\n",
            "young kids growing fast little mermaid beauty beast everything nobody thought babyish\n",
            "make fun bluey birthday party age would enjoy plenty things depends party plan accordingly\n",
            "son still loves bluey little brother got bluey garbage truck birthday jealous lots fights tears haha say party\n",
            "th chucky cheese\n",
            "think theme irrelevant son turning feb think acts mature like turned bluey bday\n",
            "middle schoolers love bluey fine\n",
            "turning april birthday theme bluey daughter loves make happy plus bluey awesome\n",
            "fucking love bluey would love bluey themed party granny tooth fairy episodes piss ur pants hilarious\n",
            "year old got bluey plush dolls christmas loved throw best bluey party\n",
            "never old things love support daughter decision build confidence passion even others yr old yr old still love bluey binge new episodes religiously also party despite bluey theme consider ways make appealing year olds friend decorate cupcake bluey pinata full candy bracelet making kits yr old party hit hope goes well\n",
            "never watched bluey neither year old twin daughters several girls th grade class love bluey\n",
            "mean getting brother fiance matching bluey little sleepies pjs bridal shower gift like seems like bluey everybody\n",
            "son march still loves bluey granted wants minecraft theme would completely unfazed likely excited attend bluey themed birthday party peer\n",
            "hope daughter enjoys bluey party\n",
            "bluey everyone\n",
            "bluey awesome one old bluey\n",
            "daughter going adores blues rock party bluey\n",
            "ohhh feel kid around age older things younger think bluey young make many themes older version seem baby ish bluey decor use lots blue orange instead bluey pictured items make seem little older mature bluey coloring books stickers take aways blue orange nail polish etc dog face painting temporary tattoos doggie bags cookie candy bar dance party freeze dance decorate dog bone like decorate cookie baking party bone shaped cookies cake could go show catalog activities different episodes like stations make art obstacle course puppets magic spells pass parcel pizza making musical statues musical chairs dirt slime clay sciency activity cricket\n",
            "think absolutely way age necessary bluey themed party pinterest friend need little bit creative work around theme think ways decorate bluey themed colors much characters faces everything also bluey themed foods like mini pavlovas edamame toffee apples etc could also plan games like pass parcel charades could nail salon like stumpfest think really fun theme daughter\n",
            "prepared make dreaded duck cake personally think bluey birthday would issue\n",
            "make something cute like blue themed tea party blue themed spaday something girly semi elegant glamorous ish keep blue theme way feel sophisticated little ones cutesy aesthetic daughter likes\n",
            "kid loved still love themed parties everything disney musicals capybaras still making friends treasure hunts around garden mum endorsed nonsense helping plan pirate themed wedding end day birthday making feel special people age respect deserve\n",
            "bluey birthday year old party older younger kids everyone loved pass parcel bluey cake even think twice let love loves\n",
            "played dolls rewatch bluey time\n",
            "boy loves bluey\n",
            "think may seem bit old bluey kids grow fast nowadays could bluey theme big girl prizes party things think year olds wear lip gloss idk lol example could hand blue lip gloss chapsticks hair brushes something big girls makes sense\n",
            "almost bluey birthday party\n",
            "daughters three younger ones watch bluey still roblox watching youtube videos watch carefully weird stuff comes sometimes playing stuffies mini brands stuff teen mostly draws goes starbucks friend also got first phone downloaded games think theme party matters much plan fun games incorporate colors show snacks blueberry blue yogurt find pavlova dessert whole episode cake pretty funny would blast planning bluey party think gave good ideas hope fun frozen party oldest years ago amazing made cupcakes light blue frosting coconut snow melted white chocolate made snowflakes put cupcake melted olaf yogurt cups olaf noses carrots dips around sven reindeer mix almond joy pieces really hard find chex mix frozen heart punch little sandwiches sure forgetting things made little labels foods everyone even parents loved everyone even parents love bluey sure fine\n",
            "shit im want bluey themed party\n",
            "lean make dress theme everyone comes granny attire granniest year olds wins prize\n",
            "niece bluey birthday party everyone ages loved importantly niece moon decorations themed cake\n",
            "nailed\n",
            "bluey themed scavenger hunt comes mind remember neighborhoods kids remember age could mature thing weather permits\n",
            "daughter bff bluey themed party th birthday particularly top played games loosely based things show like nannas balance stack toilet paper rolls relay race wrapped paper meant canned food less painful someone dropped one toe friend got cute retro nanna style sunglasses etsy part party bags yeah definitely tailor party way suited kids ages interest\n",
            "year old loves bluey baby alive nintendo switch roblox also loves ag dolls\n",
            "pretty sure going make th stumpfest serve spiked lemonade\n",
            "gave year old gf pirate themed birthday party last year birthday party last year movie premiere themed birthday party included movie ticket invitations red carpet pajamas daughter wants mickey minnie mouse birthday party th months trying say ishave fun\n",
            "th minion themed complete pinata\n",
            "random love kid suburban american black child hitting accent says far reel liiife well timed oh biscuits\n",
            "hell yeah would awesome\n",
            "came comments say would rock bluey themed bday forget haters\n",
            "would serve chili dogs\n",
            "yup daughter spring picked bluey playset christmas money zero concerns\n",
            "would best birthday present party\n",
            "great comment helpful bluey party matter\n",
            "yeah theme bluey balloons table way one thing bluey\n",
            "lol pretty sure anyone family would love bluey themed party flippin love show\n",
            "girl\n",
            "face painting always fun pass parcel luckys dad rules\n",
            "wanna come lol\n",
            "okay definitely spiked lemonade right going back forth one\n",
            "ooh excellent idea stumpfest seriousness op think probably fine want sell idea dubious yo friends maybe birthday party around particular bluey episode game eg dance mode queens grannies themed birthday find fun\n",
            "much better well timed oh biscuits wonder og millennial mom boomer got giggle would quote filbert rocko modern life oh fish sticks\n",
            "loser response lol\n",
            "quite certain age worn ironically example seniors high school wear kid themed backpacks like paw patrol celebrate last year year old wore bag could teased\n",
            "watched cricket episode yet love one\n",
            "op worried old bluey bday party comment demonstrates never old bluey bday party watch bluey\n",
            "post comment removed violating rule decent civil remember human disagree remain respectful insult users children name call intentionally rude bullying including baiting antagonizing tolerated consider blocking users along report posts violate rules questions moderation reach modmail moderators rely community help illuminate posts comments meet parenting standards please report posts comments feel contribute spirit community content may automatically removed auto moderation manually removed human moderator may removed direct result rule violation simply part larger sweep content longer contributed original topic\n",
            "thank lol getting downvoted buncha folks recall\n",
            "lol year old brother still looking one lovey blankets childhood convinced bottom box somewhere\n",
            "pinkalicious stan years ago nanny nyc took little girl babysat see live show little obsession mom sent picture last halloween went pinkalicious\n",
            "pink boy color sanguine masculine\n",
            "ha crazy remember distinctly th grade friend showed face lotion\n",
            "im sorry imagine daughter cherishes stuffie kid know special meaning family nearly everyone knows bc dang loved unique mother preserved similarly loved blankie stuffie pristine bag box makes appreciate level care admiration children wish society would value childish things lot learn lot littlest\n",
            "yeah thing mom buried bird comfort blanket\n",
            "cut tree drink spiked lemonade sit around stump wards couny ill bring saws\n",
            "stumpfest\n",
            "diesel bring ammonia nitrate\n",
            "shes sitting floor watching bluey playing cards humanity trust missing anything special reddit\n",
            "th grade makes perfect sense though since awkward stages puberty pimples body hair etc even skincare routine got college kids growing fast like one bit\n",
            "post comment removed violating rule decent civil remember human disagree remain respectful insult users children name call intentionally rude bullying including baiting antagonizing tolerated consider blocking users along report posts violate rules questions moderation reach modmail moderators rely community help illuminate posts comments meet parenting standards please report posts comments feel contribute spirit community content may automatically removed auto moderation manually removed human moderator may removed direct result rule violation simply part larger sweep content longer contributed original topic\n",
            "man say scavenger hunt overnight science museum sounds amazing byob\n",
            "reply going pointless unhelpful even bother replying lol\n",
            "thinking sew tracker tile pocket daughter stuffie spare never og stuffie seen lot repairs kiddo permit us redo areas fur plucked aware said fur coming deer stuffie\n",
            "nail salon started\n",
            "post comment removed violating rule decent civil remember human disagree remain respectful insult users children name call intentionally rude bullying including baiting antagonizing tolerated consider blocking users along report posts violate rules questions moderation reach modmail moderators rely community help illuminate posts comments meet parenting standards please report posts comments feel contribute spirit community content may automatically removed auto moderation manually removed human moderator may removed direct result rule violation simply part larger sweep content longer contributed original topic\n",
            "chris hanson\n",
            "jigsaw puzzle blanket fort watch old movie childhood bake something make homemade pizza lunch board game outing zoo aquarium museum etc make craft legos\n",
            "kid mom would let us pull cook book pick main course side dessert spend day making even really complicated fun charge getting different things store picking right green onions potatoes also remember getting special snacks days mom would fancy crackers cheese use leftover pie crust make cinnamon bites slathering butter cinnamon sugar strips rolling baking take breaks veg watch movies pretty relaxing\n",
            "individuals adhd excel greater success multitasking\n",
            "tv household radio either watched baseball news dad none girls either total outcast\n",
            "post comment removed violating rule medical legal advice reddit internet general best places give medical legal advice ask symptoms post pictures symptoms injury ask seek medical professional make appointment visit emergency department acute urgent care center etc give medical advice home remedies suggest medications suggest medical procedures people seeking support medical diagnosis ask something legal illegal whether call police engage attorney call report child welfare agencies always consult professional matters consider looking local helplines area like ask nurse legal aid offices questions moderation reach modmail moderators rely community help illuminate posts comments meet parenting standards please report posts comments feel contribute spirit community content may automatically removed auto moderation manually removed human moderator may removed direct result rule violation simply part larger sweep content longer contributed original topic\n",
            "course tv gave us rolf harris jimmy savile gary glitter et al\n",
            "happy encouraging behaviours\n",
            "remember buddy com\n",
            "omg loved coke music xanga xanga huge middle school someone made like gossip girl style page posting rumors people school using initials wild west us millennials\n",
            "post comment removed violating rule decent civil remember human disagree remain respectful insult users children name call intentionally rude bullying including baiting antagonizing tolerated consider blocking users along report posts violate rules questions moderation reach modmail moderators rely community help illuminate posts comments meet parenting standards please report posts comments feel contribute spirit community content may automatically removed auto moderation manually removed human moderator may removed direct result rule violation simply part larger sweep content longer contributed original topic\n",
            "rules sweets nothing unsafe anything else fair game buy allowance funny enough mind daughter buys leaf tickets animal crossing contribute clutter room mountain plastic ocean unlike horrible lol balls\n",
            "roblox turns kids crackheads stock lol\n",
            "mmhmm\n",
            "retarded acceptable synonym stupid insulting individuals diagnosed mentally retarded year old sister retarded means read beyond th grade level math complicated basic addition subtraction struggles right vs left also stupid saying shit like cheesecake tastes like cheese taking big ass bottle sunscreen th july parade using sister met lot people mental handicaps stupid none stupid disabilities\n",
            "pipe fucking dumbshit\n",
            "lol\n",
            "lol love\n",
            "thanks reply outschool looks interesting signed try live classes\n",
            "untreated adhd curiosity\n",
            "untreated adhd curiosity\n",
            "like small art supply book would awesome option\n",
            "love bake cake treasure hunt would much rewarding like head\n",
            "trend told kids mammal mating noises quit\n",
            "kids trend sort drives nuts\n",
            "hoooooyeahhh euphemism slang term noise rather supposed mimic sound one makes orgasm\n",
            "king hill reference peggy hill catch phrase lol\n",
            "sexualizing damn reason\n",
            "thought sound letterkenny\n",
            "hoooyeahhh moaning sound\n",
            "side note hell live kids lemonade stand makes day lol\n",
            "thanks started lemonade stand became concession stand sell lemonade fruit punch water bottles soft pretzels small bags chips stop investing hot dog cooker lol might permit next year let sell hearts content\n",
            "make round neighborhood lol sounds like great little community shop service\n",
            "great idea love\n",
            "army would great\n",
            "baby screaming ear oldest favorite ice type pokemon screaming try calm baby hey hey listening wanna know favorite ice type pokemon mine insert paragraphs text\n",
            "bought noise cancelling headphones first mommy cute hearing million times day reach breaking point\n",
            "yes year old boy non stop yammering irritating gibberish blah blah nyeeer vroom boinka doinka want believe would tolerable would use real words probably fooling thinking home quiet kids never watched tv music played kept dull roar gone window got tv blaring annoying nursery rhymes toddler screeching lyrics gibberish added silent parts enough make wanna tear hair\n",
            "sometimes put wax earplugs drown constant noise\n",
            "love kid like absolutely hate watching movies comment every fucking thing really like movie watch beforehand asleep watch movie night\n",
            "yup lol\n",
            "felt spiritual level\n",
            "lol\n",
            "yeeep lol\n",
            "book hilarious\n",
            "mutter twins backflips rocking chair nap time lol\n",
            "audiobook narrated samuel jackson really funny\n",
            "oh god house dinner today toddler mommy fast count baby howls like wolf fun toddler sings radio jingle wrong repeatedly\n",
            "also toddler smearing poop oldest mom hungry put pepperoni drink water\n",
            "oh god son random like doll red hair instead brown like indeed\n",
            "cute\n",
            "occasionally tell son quiet pretend raptors hunting us game knows pretending literally whispering hearing singing things like buiurpie maaama buuuurp car red car red car literally turn radio tune minute even remember shopping list making\n",
            "sound pollution excellent explanation\n",
            "omg sound pollution word looking motherhood hate sound pollution\n",
            "love give award excellent parenting advice someone username\n",
            "kind thank award\n",
            "year old talks occasionally sings sleep lol tucked read books still encore sunshine\n",
            "worst car trapped tiny box shaking velociraptor earsplitting kids say fun say\n",
            "adorable actually\n",
            "mastermind level hilarious\n",
            "calls sunshine song\n",
            "documentaries\n",
            "hilda favorite kids show next bluey\n",
            "like stinky dirty prime cheerful upbeat much less stimulating lot shows think trash truck netflix similar treehouse detectives animal netflix also move slower pace still engaging\n",
            "good age show kids classic movies color black white movies released ratings system interesting adults tiny bit slower paced studies shown watching movies also show kids adults deal grown issues child friendly way look comedies action musical movies actors like cary grant irene dunne steve mcqueen natalie wood jack lemmon ingrid bergman humphrey bogart kathleen hepburn judy garland etc two fun halloween movies arsenic old lace cary grant ghost mr chicken knotts kids love halloween scene meet st louis musical judy garland youngest daughter five years old interesting character bringing baby favorite wife magnificent seven man shot liberty valance great escape like hot great race natalie wood tony curtis jack lemmon long movie hrs divided many different manageable sections many different cool scenes kids love long car race western brawl humongous pie fight villain wearing black twirling handlebar mustache hero sparkling white clothes head toe movie musicals music man ron howard age relatable film cast fantastic singin rain one funny silly guys dolls lil abner show boat oklahoma hope helps\n",
            "puffin rock waffles mochi netflix\n",
            "think bluey peppa pig ben holly low stimulating shows\n",
            "think baking shows could great great british bake early seasons roku last like years netflix holiday baking championship food network also fun chopped food network great contestants actual chefs weird ingredients basket make appetizer main course dessert depending level reach\n",
            "waffles mochi\n",
            "like grown feeling stuff recommend netflix binge emily wonder lab bear grylls vs wild storybots matilda pup academy worst witch little lunch izzy koala world baking impossible\n",
            "scooby doo cartoons movies netflix prime video\n",
            "yes hilda one kindergartner favorite shows also one mine charming\n",
            "love shows make happy\n",
            "would disagree octonauts sonic boom since op asking slower paced shows sonic definitely highly stimulating son watches octonauts bit intense bluey really chill though good recommendation\n",
            "trash truck\n",
            "remember enjoying andy griffith show happiest millionaire\n",
            "chokehold tumble leaf let year old watch rotation tumble leaf give mouse cookie puffing rock recently added old classic teletubbies newer redo came netflix\n",
            "little disappointed thought meant liked band cake\n",
            "year old loves keep rewatching floor lava\n",
            "loved andy griffith show barney fife\n",
            "like band cake never played really queen monkees though\n",
            "bro remember like yesterday got absolutely roasted one time wore payless timbalands timberlands school never kid better walk snow barefoot subjected ridicule peers give kid dignity real chucks like kid self esteem priceless\n",
            "graduated highschool yrs ago gen rough reminds episode atlanta two kids designer shirt one bootleg one real shirt got bullied bad killed show school uniforms needed low income schools\n",
            "size shoe\n",
            "size shoe son outgrew would send size\n",
            "unfortunate live world wearing wrong sneakers make freaking outcast adopted instantly made loser\n",
            "kids assholes heard picking children wearing brand name stuff honestly sickening\n",
            "reminds keds rage course afford super stiff walmart knockoffs blank label back instead blue keds label brilliant idea coloring part blue pretty soon one mean girls loudly called class kids cruel sometimes\n",
            "grade knockoff nikes subjected ridicule kids dicks\n",
            "goshhhh wish clothing big deal school sorry make kind bullied wearing eclectic options older brother brought back city lived big fashion drag dressing kids school wore like carhart american eagle jeans always weird one lol whatever love fashion even though everryone else time thought weird\n",
            "almost afraid kids older mostly shop thrift stores mom taught name count like clothes adult found love terra sky sketchy breathable material\n",
            "plan sounds great\n",
            "size wear\n",
            "paint markers draw cool stuff write coversation like brand name conversation piece lol\n",
            "agree parents afford much growing mom talented seamstress although could make beautiful things occasionally tried copy trendy clothes since kids mean would made fun eventually wear things made\n",
            "great idea\n",
            "yeah got mocked wearing ankle length boots dr martens everyone cost care much name brand stuff thought stupid mean tease someone clothes made bitter cantankerous person today\n",
            "oh yeah two four stripes kids called knockoff brands bobos grew\n",
            "look two stripes\n",
            "excellent advice\n",
            "love\n",
            "mine imitation green asics even cool shoe distinctive one memories sure stick\n",
            "relate son middle school first time bullied knock shoes day payless could afford adidas popular back white ones three black stripes side payless ones stripes anyhow felt bad one memories middle school\n",
            "mother experience embarrassed wear handmade clothes mother grandmere made sew us\n",
            "sneaker head one dumbest first world disease hobbies imaginable yes judgy\n",
            "god miss payless appreciate like kid miss chunky wedge heel sandals would buy ballet flats nevermind fact wear heels anymore make ankles collapse thanks hypermobility\n",
            "payless exciting american brand seen commer uals us tv stations cable time finally came small town mall really shame payless shoes new exciting like finally\n",
            "funny though kind sarcastic towards real brand possibilities would gas pap gop nap fav perfect school\n",
            "depends size school variable lol\n",
            "got downvoted far oblivion one upvote mattered award\n",
            "love response\n",
            "real like dude one life wasting petty childish hostile others reason trolls judge people brand names\n",
            "agreed soooo comfy\n",
            "early girl office one older guys building complimented converse black hot pink stitching hot pink sparkly laces day go everything\n",
            "vegetables kid willingly eat frozen ones still frozen defrost want anymore\n",
            "one enjoys folding towels shocking\n",
            "year old obsessed making hot tea favorite decaf chai honey oat milk drinks mugs every day\n",
            "daughter likes pretend animals sits cat trees meows tries pick sticks mouth outside like dog chewed chunk dining room table beaver\n",
            "week alone ummtoo many count dancing elevator music broom definitely hour video youtube elevator music performing weird version irish jig broom even irish asking go live woods squirrels deers predatory animals long island harm people thing like money cesspool island putting paper bag head running wall years old way span hour yesterday\n",
            "love strange tiny humans lol\n",
            "son went frozen lima bean phase years weird\n",
            "mine enough frozen peas\n",
            "adorable\n",
            "chewed chunk dining room table beaver probably funniest thing visualized long time\n",
            "well ur kids saints cuz drew portrait yr old poo emoji drew ad word mother fuc think ur winning give props spelling properly lol\n",
            "exceptional caretaker\n",
            "ughhhhh shaun mcbride business partner went high school dick biased also show horrible\n",
            "dad blippi vibes\n",
            "classics dominoes rummy hearts many variations play set bones pack cards\n",
            "say scrabble chess lol kids fav play sus scrabble totally let play words inappropriate school grandparents butt holes fart blaster poop etc haha makes laugh much also still spelling idc\n",
            "holy crap terrifying\n",
            "hilarious\n",
            "genuine question grandma evaluated forgetfulness\n",
            "phase\n",
            "excellent response\n",
            "yo boy lego duplo bins ikea kallax tons pokemon figurines games shows likes currently trip right playing cans playdoh youtuber figurine nerf recently downsized found best ones size especially loves drawing crafting supplies pom poms beads tape paper etc really gaming well uses pc nintendo switch independently family\n",
            "son still huge legos also green army men colors actual service members usa lmao sometimes dusts transformers beyblades\n",
            "organize legos buy drawers\n",
            "yep two racks ikea alex drawers sorted parts one trofast bricks reshelving tub parts need sorted back drawers\n",
            "ended getting fold card table costco attaching large green blue squares surface also repurpose old used dinner tables friends husband made really cool one storage inserts believe order custom ones etsy well depends want spend crafty want\n",
            "amazon catalogue similar old sears giftbook one circle ideas\n",
            "shoot\n",
            "hard work chatgpt say something victorian nun would find offensive four year old gory imagination chatgpt\n",
            "oh sounds awesome thanks\n",
            "oh sounds interesting thanks\n",
            "lol love\n",
            "snacks teenage loved bag treats\n",
            "good headphones kind little figurine gaming desk wear makeup black made think maybe emo vibes\n",
            "nice blanket know sounds lame favorite food kinds food related blankets amazon\n",
            "fuzzy rugs kids bedrooms\n",
            "mashed potatoes lol\n",
            "mom mean stop plenty moms generation older millennial enjoy video gaming listen heavy metal music tattoos etc things traditionally frowned women let patriarchy dictate interests best thing kids bend becoming stereotypical suburban housewife want kids fine long ignoring parenting duties day every day game instead would neglect even abandoning parenting duties garden day something\n",
            "feel like moms baking cooking reading books arts crafts motherly well really sexist mindset\n",
            "yep uh sorry saddled sexist mindset ok moms like blaming really hope kick beliefs people much interesting stereotypes\n",
            "love post btw anyone wants play animal crossing aussie hit\n",
            "yus another monster hunter mumma hiiii\n",
            "cook clean art game lol\n",
            "wife please joking aside huge gamer since playing wow pretty hardcore since also avid souls gamer nioh sekiro etc loving nier automata right hobby cooking baking cleaning house instead reads watches films writes reviews basically film critic never expected mummy role chauvinistic kitchen whilst maternity bring home bacon although haitus hobbies since dd weeks ago fully intent return time next couple months granted much used basically matter hobbies long offspring raised happy full belly adequate sleep knowing right wrong let kid embrace gaming life certainly future let face better child watching hobby posts fans\n",
            "gamer heavy metal listener mom relate questioning think ideal type mom long understand may hobbies child future may know sure baby wants play wow age happy wait first tattoo still take time discover new activities children baking star wars cookies great geek cooking books good luck\n",
            "checking late semi heavily tattooed crazy hair coloured comfortably dressed mom chair parent council daughter school cook bake tidy etc stay home parent picked crochet first covid lockdown listen heavy metal punk also guild master raid leader heroic raiding guild world warcraft honestly sounds impressive lol point makes happy kids appreciate\n",
            "sound like awesome mum\n",
            "oh screw mother punk scientist gamer crochet grow vegetables make tea none things contradictory important thing teach kid roles stereotypes absolutely fine\n",
            "gamer huge metal fan know looking husband blast car unborn baby gets used weeks fully intend expose music throughout life ever seen master hand puppets album funny heavy metal nursery rhymes super epic kids\n",
            "heavymetal listen trap music semi sneakerhead\n",
            "love baker gamer writer whisky drinker diy er absolute best like rest us\n",
            "mom eligible positions tack great moms great momming mom quilts extent runs business making quilt patters also also taught quilting classes sometimes even put together entire retreats rollerblades hikes kayaks paddleboards always crafty mom cannot cook absolute shit used consider smoke alarm dinner bell siblings got variety stories exchanged anybody please soup horrific amounts garlic salt great mom\n",
            "best thing kids bend becoming stereotypical suburban housewife want love added want want stereotype either interests align ops respect people feel differently traditional stereotypical interests appeal nice mention respect think gets lost sometimes whoever feel entitled authentic\n",
            "hi sorry ignorance meant gestational parent mom like surrogate\n",
            "hello good hunter bot dream look fine note surely mankind pure dark availed nothing forgive whatever thou art stay away artorias abysswalker good one praise sun\n",
            "dirty ones lol\n",
            "mom sounds like rockstar\n",
            "yeah totally gets lost sometimes tomboy growing took embarrassingly late realize absolutely fine also like baking knitting mind one tough girl likes drinking whiskey girly girl wears dresses avoids dirt much happier adult hikes games drinks whiskey knits cross stitches craft nights bakes cookies friends plays dungeons dragons paints nails feel like\n",
            "love\n",
            "thing bake carrot cake dry chicken good cook basic recipes mostly taste use seasonings everything\n",
            "got icebourne xmas bloody brilliant almost like prequel rather expansion play whilst toddler naps xd\n",
            "know patriarchy edit sorry typo mean statement made men right mean yes statements may made family matriarchs western society fundamentally matriarchy experienced impact patriarchy women internalizing sexist patriarchal ideas raised ideas empower women protect women non existent higher status society woman expressed mean reflective female dominated society\n",
            "lol yeah pp coming patriarchal matriarchal actual sociological anthropological classifications human societies\n",
            "silly miss obvious connection beloved classic thank\n",
            "love turnaround time something like naruto\n",
            "show really successful dark skin women actresses singers models influencers etc explain see lot representations right mean making huge impact society could become role model one day voice dark skinned girls feeling way inspire love skin\n",
            "resonates much black dark skin tone around also started thoughts mom approach slow drip positive black influences example would give beautiful black barbie dolls play take plays musicals shows featuring black artists alvin ailey give books spoke confidence look expose potential role models looked like expose musicians looked like back looked like buying cassette cds leaving magazines around house especially bathrooms specific black culture essence ebony etc occasionally serious talks really seeing beautiful examples dark skinned people course formative years helped see could beautiful emphasize slow drip black beautiful proverbial signs house steady showcase black positivity\n",
            "love little one love skin color\n",
            "reading tv books shows great representation beyonce brown skin girls great video features brown dark skin women also tries convey lighter brown skinned people treated favorably invalidate experience colorism real harmful obviously media end seeing reflected great likes musicals disney version cinderella featuring singer brandy dreamwork home princess frog cheetah girls also cutesy fun age\n",
            "maybe show miles morales spiderman representation like matters\n",
            "yes race light skin color darker said know would help said skin beautiful mine look like live multi cultural city sorts races city schools media huge family tons black people\n",
            "skai jackson masai martin normani three beautiful dark skinned women princess tiana jess craig creek animated world\n",
            "year old always chooses dark skin colors well comes coloring avatars etc says beautiful color girl super pale bright red hair see peach calls skin color self portrait even painted browns\n",
            "obviously fair red headed princess bronze wakanda queen another life kidding\n",
            "girl children treat differently open affection wishing girl could based sees little girls treated acceptable given physical affection like cuddles could someone made negative comment something likes girls kids pick stuff even act differently reluctant mlp smiling trucks see\n",
            "lmao fuck little pony kissing lips turn kid girl actual hell\n",
            "real post ughhhhh\n",
            "unhappy would happy boy happy girl\n",
            "yep ish daycare dance classes week three older girls bringing swishy skirts want swishy skirt fun scottish men wear swishy skirts called kilts\n",
            "middle school freakin brutal\n",
            "okay missing something thread comment\n",
            "lol yes joke kid glued something want gift try solvant glue remover\n",
            "father lol think gendered thing enjoy certain ships dramoine great ship\n",
            "drink lot\n",
            "amen mine haaaalllpppp\n",
            "single mama girls alive mystery\n",
            "girl alcohol everyday lmao\n",
            "likes dancing pop music guys schedule dance day kids toddlers love music music videos every evening dinner family dance living room funny mix favourites footloose always rotation something look forward could guys something like cares dance great exercise great laugh bit silly together\n",
            "update first thing finally gave request make slime hate slime smell glue makes gag hate wet slurpy labia sound makes hate mess hate everything pandemic bets went michaels got glue blast actually relaxing fun layering colors chatted laughed slime play achievement unlocked really soap cutting asmr took two nice expensive soaps saving whatever showed slice little curls put double boiler added shimmer pigment stirred made mini soap balls relaxing plus soap lavender scented extra sensory bonus plus hands super clean afterwards turning fancy soap toy achievement unlocked morning sitting around staring ipad staring phone sudden said floor lava jumped action climbing furniture made way empty amazon boxes waiting recycled ripped used duct tape make lava resistant boots shuffled around house lava boots awhile floor lava achievement unlocked also done dance parties stuff mainly found success following lead trying find way yes kinda fun remembering kid\n",
            "oh yeah cooking together shit ton tiny little bits pieces shopkins legos doll accessories teeny tiny forks dinglehoppers disney character play sets castles dolls ponies russian nesting dolls snow globes buy one every city travel beanie boos american girl stuff rocket ship snap circuits vehicles horses basically big plastic dump room basically pacific garbage patch hate plastic toys much\n",
            "love scavenger hunt idea\n",
            "love patience approach\n",
            "well takes kinds know easily offended lot insult comedy meanspirited pranks arewhere draw line past dark dark humor like dead baby jokes kinds stuff hope discover soon lol plenty people mind like recognize like people posting roast subs hey house values\n",
            "origins impact mama jokes\n",
            "fingering another girl wife named matilda joke loose vagina sorry dense beyond fingering elbow part\n",
            "oh duh haha\n",
            "goosebumps tv series\n",
            "seen movie coraline super creepy also horror movie nut around age watch poltergeist old school cheesy horror movies could select cheesy vs scary side\n",
            "might bit old fringe tv good show sciencey mystery episodes certainly creepy think dr criminal minds baby less serial killers though\n",
            "likes older movies poltergeist birds christine fright night little shop horrors nintendo switch little nightmares games creepy yr old loves\n",
            "kubo two strings studio made coraline great plenty scary parts\n",
            "courage cowardly dog\n",
            "something wicked way comes movie\n",
            "watcher woods old movie disney\n",
            "goosebumps creeped gremlins night books\n",
            "goosebumps\n",
            "loved books age still haunt day lol\n",
            "ah seen krampus heard great film thanks warning santa lol\n",
            "watched first episode sure would love gory bodies plane\n",
            "excellent film\n",
            "great film see likes animated films remember beautiful\n",
            "thanks seek\n",
            "desperately miss watching whatever want whenever want watch tv hobby sit watch watch background noise whatever frustrating tried music spend time curating music list tried podcasts actually care miss hear kids decided yell good part got netflix amazon prime many shows actually ok watch parents kids netflix love puffin rock spirit numberblocks alphablocks octonauts storybots word party none make want blow brains like little pony blippi puffin rock legit relaxing actually sat watched puffin rock without kids like episodes realized wandered amazon prime tumble leaf give mouse cookie pete cat stinky dirty show even spring pbs channel tumble leaf also decently relaxing show disney bluey heard really good none shows anything scary tense moments kid sensitive nothing frightening monsters scary people stuff like help baby seal ledge dinner call lift across lake jump\n",
            "awe old days watching news family nothing else watch need tv shows local world news giving suspense murder comedy need\n",
            "dish washing folding laundry worry hears earpods favorite piece tech\n",
            "carbon copy plan car ever\n",
            "love exploding kittens\n",
            "gubs sleeping queens\n",
            "thanks reply appreciate\n",
            "tried everything imaginable wasted thousands sports equipment introduce different things taken bring garage woodworking change oil help redo bathroom electrical carpentry bring basement gym exercise lift weights gardening list goes begged find hobby tried hard light spark nothing\n",
            "sarcastic\n",
            "regular money put glitter hair spray lol makes little magical\n",
            "cute haha\n",
            "internet full much darker hateful content hustler\n",
            "walks like duck quacks like duck probably duck shaped lootbox\n",
            "adorable\n",
            "sweet\n",
            "give choice eating entire cookie jar eat vegetable saute supper would gladly eat cookie jar buy cookies weekdays eat better manage cravings feel\n",
            "wow happy early birthday next birthday year old june grow fast remember girl babyshe sweetest baby\n",
            "oh awesome congratulations\n",
            "great\n",
            "yepp adhd therapist lol\n",
            "depends smashing capitalism patriarchy let radicalize\n",
            "may looking likes math think might enjoy sodoku\n",
            "chess\n",
            "music\n",
            "inner voice\n",
            "thanks reply dont live us look equivalent country\n",
            "kid would love probably tape candy something misplaced\n",
            "jackpot kids love cash want ugly ass sweater pajamas came\n",
            "love idea\n",
            "love roblox lol\n",
            "love post feel like liberal screentime rules year old tech executive lives world robotics ai\n",
            "books screens chance give new wonderful hobby two dozen gorgeous books bed fast right classic booklist tweens list trixie beldon little women hitchhikers guide earthsea cycle series unfortunate events discworld bio woman discovered structure dna come\n",
            "already makeup\n",
            "uncommon almost years ago girls full face makeup foundation everything\n",
            "mascara lip gloss mostly hair takes forever waist length hair curling takes forever\n",
            "among us roblox lots jewel dropping games speed runners angry birds makeup nail hair styling games\n",
            "year old girl year old boy enjoy cockroach poker sargrada avacado smash pass pigs qwirkle games encourage counting planning reflexes paying close attention things\n",
            "zelda breath wild pokemon sword shield minecraft slime rancher\n",
            "blaming hormone surge temporarily emotionally disregulated result\n",
            "say mom sounds like wonderful grandparent person wow special son special bond matter distance love love love\n",
            "expressed preference outer beauty inner beaty sound like isnt tying dress yo wear make inappropriately praise virtues think important due either side nothing wrong praising wears presents\n",
            "permitted kids play makeup art form makeup character makeup practice one actor avid cosplayer guess internalized makeup creating character\n",
            "would rather know existence facebook duration lifetime\n",
            "ideal awesome much equality gender roles however living arrangements environment presently align values participate use makeup growing thanks\n",
            "small house moving would awkward considered python school likes\n",
            "small house moving would awkward considered python school likes\n",
            "nobody tell weight lifting simulator lol\n",
            "good illustration industry needs regulated unadulterated capitalism equals businesses ram rodding everyone\n",
            "ok ok ok entitled damn changed damn lot judge book cover\n",
            "look thread comment lmao\n",
            "roblox twitter drama every tuesdays entitled people network\n",
            "guess read reply seeing replying example commodity accurate comparison would forcing women wear hijabs control roblox job nanny dictate devs lays users\n",
            "play os runescape\n",
            "okay appologize offended kinds games bore death\n",
            "open decaying winter let learn pure suffering\n",
            "frustrating baby scanned ultra rare frost dragon adopt nothing done super upsetting\n",
            "cheer lol\n",
            "happy cake day\n",
            "happy cake day\n",
            "happy cake day\n",
            "happy cake day\n",
            "sorry diagnose ur niece cringe\n",
            "preach dude preach\n",
            "babft hotel elephant\n",
            "car crusher\n",
            "love subreddit\n",
            "breaths alex rich lesbian virgin gets bullied wants die single famous queen half rat pegasus unicorn gold digger\n",
            "makes acceptable\n",
            "world magic well made fucking love\n",
            "alex rich famous lesbian gay queen pro says bad word half unicorn half demon dont touch tail gold digger cheater russian eats tacos evil angle bad bullied single cuffed youtuver ice powers\n",
            "problems name cuz bored rich bet lesbian ok respect lgbtq community nothing wrong wants die well ok single hmmmmmmmmmmm queen presidents half rat pegasus unicorn ok gotta take science gold digger ofc\n",
            "oh almost forgot unofficial royale high subreddit nobody likes alex rich lesbian virgin gets bullied wants die single famous queen half rat pegasus unicorn gold digger devil ice powers youtuber people fact make fun lot know sucks search nice people community\n",
            "john rich famous asexual says bad words half wolf half dolphin creature night leader pack dont touch tail gold digger likes bones kills pigs demon bad single teen youtuber ice powers fire powers use force dodge bullets cant killed tattoos wings furry dresses cool mansion watches jojo plays\n",
            "chris demon angel wings evil cool hot buff tattoos piercings red eyes glowing eyes nice god bad bully single cusses famous youtuber furry wolf famous rich cringe dresses cool lifts protect nice guy pretty watches jojo posts jojokes kill touch girl part ussr golden hand mansion stan speedwagon gay trans bi lesbian king darkness\n",
            "remember animal survival games forever wip\n",
            "thanks appreciate support\n",
            "idiot downvoted comments\n",
            "laughs pet sim nfts\n",
            "lfw luck win\n",
            "power bill man power bill\n",
            "poop\n",
            "offended comment\n",
            "pay win lol\n",
            "slaves\n",
            "commenter joking\n",
            "illegal lol\n",
            "chaotic good\n",
            "dog\n",
            "billion hell\n",
            "write book tecnoboat comment funny\n",
            "enchants damn wow suddenly exist\n",
            "sure dislike comment oppinion\n",
            "username need joke\n",
            "lol really funny feel like upsetting lot pet sim enjoyers post\n",
            "ya know noticed lol guy deserve upvotes\n",
            "lmao funniest example ive tho girl tiktok flexing fact boyfriend beamed someone headless hilarious people gonna stoop low head\n",
            "unsure reply\n",
            "recent reply reddit displaying\n",
            "thought reddit\n",
            "art\n",
            "please make story game panel square room like random bacon hair stories\n",
            "great\n",
            "downvoted\n",
            "like little one hat cute\n",
            "nothing satire reply\n",
            "indeed remember game dominated copy pastes least servers wend oders trolls\n",
            "oh ok crazy coincidence lol\n",
            "bro everyone able job even chores people actually creative donate sometimes beacuse really make someones day fun like stop replying everyone turn reddit stay ur basement pkaying adopt smth like bro shut\n",
            "could gotten red shaggy hair rbx\n",
            "trap\n",
            "joking\n",
            "roblox taken downward trend opinion lost appeal childish charm used back\n",
            "531\n"
          ]
        }
      ],
      "source": [
        "# Get the topic distribution for each document\n",
        "document_topics_tuned = lda_model_tuned.get_document_topics(corpus)\n",
        "\n",
        "# Filter reviews that have topic 1 as their main topic\n",
        "reviews_in_topic_1_tuned = [idx for idx, topics in enumerate(document_topics) if max(topics, key=lambda x: x[1])[0] == 1]\n",
        "\n",
        "i = 0\n",
        "# Print the reviews\n",
        "for idx in reviews_in_topic_1_tuned:\n",
        "    i += 1\n",
        "    print(' '.join(data_words[idx]))\n",
        "\n",
        "print(i)"
      ]
    },
    {
      "cell_type": "code",
      "execution_count": 59,
      "metadata": {
        "id": "VZjX2yPE2Xzd"
      },
      "outputs": [],
      "source": [
        "# Filter reviews that have topic 1 as their main topic\n",
        "reviews_in_topic_2_tuned = [idx for idx, topics in enumerate(document_topics) if max(topics, key=lambda x: x[1])[0] == 2]\n",
        "\n",
        "i = 0\n",
        "# Print the reviews\n",
        "filex=[\"\"]\n",
        "id=[\" \"]\n",
        "textx=[\" \"]\n",
        "comment=\"\"\n",
        "for idx in reviews_in_topic_2_tuned:\n",
        "    i += 1\n",
        "    #print(idx)\n",
        "    #print(' '.join(data_words[idx]))\n",
        "    filex.append(data_words[idx])\n",
        "    id.append(idx)\n",
        "    textx.append(resultx2[idx])\n",
        "    # create a dictionary with the three lists\n",
        "dict = {'top words': filex, 'ID': id,'Text':textx}\n",
        "\n",
        "# create a Pandas DataFrame from the dictionary\n",
        "df = pd.DataFrame(dict)\n",
        "\n",
        "# write the DataFrame to a CSV file\n",
        "df.to_csv('EmployeeData2.csv')\n",
        "\n",
        "#pd.DataFrame(filex).to_csv(\"topic_mixture1.csv\")\n",
        "#print(i)\n"
      ]
    }
  ],
  "metadata": {
    "colab": {
      "provenance": []
    },
    "kernelspec": {
      "display_name": "Python 3",
      "name": "python3"
    },
    "language_info": {
      "codemirror_mode": {
        "name": "ipython",
        "version": 3
      },
      "file_extension": ".py",
      "mimetype": "text/x-python",
      "name": "python",
      "nbconvert_exporter": "python",
      "pygments_lexer": "ipython3",
      "version": "3.11.5"
    }
  },
  "nbformat": 4,
  "nbformat_minor": 0
}
