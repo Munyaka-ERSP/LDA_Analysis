{
 "cells": [
  {
   "cell_type": "code",
   "execution_count": 1,
   "metadata": {},
   "outputs": [],
   "source": [
    "import pandas as pd"
   ]
  },
  {
   "cell_type": "code",
   "execution_count": 4,
   "metadata": {},
   "outputs": [
    {
     "data": {
      "text/html": [
       "<div>\n",
       "<style scoped>\n",
       "    .dataframe tbody tr th:only-of-type {\n",
       "        vertical-align: middle;\n",
       "    }\n",
       "\n",
       "    .dataframe tbody tr th {\n",
       "        vertical-align: top;\n",
       "    }\n",
       "\n",
       "    .dataframe thead th {\n",
       "        text-align: right;\n",
       "    }\n",
       "</style>\n",
       "<table border=\"1\" class=\"dataframe\">\n",
       "  <thead>\n",
       "    <tr style=\"text-align: right;\">\n",
       "      <th></th>\n",
       "      <th>subreddit</th>\n",
       "      <th>type</th>\n",
       "      <th>url</th>\n",
       "      <th>title</th>\n",
       "      <th>author</th>\n",
       "      <th>date</th>\n",
       "      <th>timestamp</th>\n",
       "      <th>score</th>\n",
       "      <th>text</th>\n",
       "      <th>comment_id</th>\n",
       "      <th>parent_id</th>\n",
       "    </tr>\n",
       "  </thead>\n",
       "  <tbody>\n",
       "    <tr>\n",
       "      <th>0</th>\n",
       "      <td>r/robloxparents</td>\n",
       "      <td>Post</td>\n",
       "      <td>https://www.reddit.com/r/RobloxParents/comment...</td>\n",
       "      <td>Live chat</td>\n",
       "      <td>mayjay08</td>\n",
       "      <td>2024-01-03</td>\n",
       "      <td>1.704325e+09</td>\n",
       "      <td>1</td>\n",
       "      <td>Live chat\\nHi, does anyone know if I can acces...</td>\n",
       "      <td>NaN</td>\n",
       "      <td>NaN</td>\n",
       "    </tr>\n",
       "    <tr>\n",
       "      <th>1</th>\n",
       "      <td>r/robloxparents</td>\n",
       "      <td>comment</td>\n",
       "      <td>https://www.reddit.com/r/RobloxParents/comment...</td>\n",
       "      <td>NaN</td>\n",
       "      <td>Apprehensive_Rule332</td>\n",
       "      <td>2024-04-13</td>\n",
       "      <td>1.713033e+09</td>\n",
       "      <td>0</td>\n",
       "      <td>Don't disable chat, you're zipping your child'...</td>\n",
       "      <td>kzf4b01</td>\n",
       "      <td>NaN</td>\n",
       "    </tr>\n",
       "    <tr>\n",
       "      <th>2</th>\n",
       "      <td>r/robloxparents</td>\n",
       "      <td>comment</td>\n",
       "      <td>https://www.reddit.com/r/RobloxParents/comment...</td>\n",
       "      <td>NaN</td>\n",
       "      <td>Weak-Ad777</td>\n",
       "      <td>2024-01-29</td>\n",
       "      <td>1.706511e+09</td>\n",
       "      <td>1</td>\n",
       "      <td>Not to my knowledge live chats are gone anytim...</td>\n",
       "      <td>kk2n9h4</td>\n",
       "      <td>NaN</td>\n",
       "    </tr>\n",
       "    <tr>\n",
       "      <th>3</th>\n",
       "      <td>r/robloxparents</td>\n",
       "      <td>Post</td>\n",
       "      <td>https://www.reddit.com/r/RobloxParents/comment...</td>\n",
       "      <td>Forgot pin</td>\n",
       "      <td>Acceptable-Ice9400</td>\n",
       "      <td>2024-01-03</td>\n",
       "      <td>1.704299e+09</td>\n",
       "      <td>1</td>\n",
       "      <td>Forgot pin\\nI created my parental pin almost 4...</td>\n",
       "      <td>NaN</td>\n",
       "      <td>NaN</td>\n",
       "    </tr>\n",
       "    <tr>\n",
       "      <th>4</th>\n",
       "      <td>r/robloxparents</td>\n",
       "      <td>comment</td>\n",
       "      <td>https://www.reddit.com/r/RobloxParents/comment...</td>\n",
       "      <td>NaN</td>\n",
       "      <td>Weak-Ad777</td>\n",
       "      <td>2024-01-29</td>\n",
       "      <td>1.706511e+09</td>\n",
       "      <td>1</td>\n",
       "      <td>Yes we had to make a new account</td>\n",
       "      <td>kk2nar1</td>\n",
       "      <td>NaN</td>\n",
       "    </tr>\n",
       "  </tbody>\n",
       "</table>\n",
       "</div>"
      ],
      "text/plain": [
       "         subreddit     type  \\\n",
       "0  r/robloxparents     Post   \n",
       "1  r/robloxparents  comment   \n",
       "2  r/robloxparents  comment   \n",
       "3  r/robloxparents     Post   \n",
       "4  r/robloxparents  comment   \n",
       "\n",
       "                                                 url       title  \\\n",
       "0  https://www.reddit.com/r/RobloxParents/comment...   Live chat   \n",
       "1  https://www.reddit.com/r/RobloxParents/comment...         NaN   \n",
       "2  https://www.reddit.com/r/RobloxParents/comment...         NaN   \n",
       "3  https://www.reddit.com/r/RobloxParents/comment...  Forgot pin   \n",
       "4  https://www.reddit.com/r/RobloxParents/comment...         NaN   \n",
       "\n",
       "                 author        date     timestamp  score  \\\n",
       "0              mayjay08  2024-01-03  1.704325e+09      1   \n",
       "1  Apprehensive_Rule332  2024-04-13  1.713033e+09      0   \n",
       "2            Weak-Ad777  2024-01-29  1.706511e+09      1   \n",
       "3    Acceptable-Ice9400  2024-01-03  1.704299e+09      1   \n",
       "4            Weak-Ad777  2024-01-29  1.706511e+09      1   \n",
       "\n",
       "                                                text comment_id parent_id  \n",
       "0  Live chat\\nHi, does anyone know if I can acces...        NaN       NaN  \n",
       "1  Don't disable chat, you're zipping your child'...    kzf4b01       NaN  \n",
       "2  Not to my knowledge live chats are gone anytim...    kk2n9h4       NaN  \n",
       "3  Forgot pin\\nI created my parental pin almost 4...        NaN       NaN  \n",
       "4                   Yes we had to make a new account    kk2nar1       NaN  "
      ]
     },
     "execution_count": 4,
     "metadata": {},
     "output_type": "execute_result"
    }
   ],
   "source": [
    "df = pd.read_csv('../Used_Dataset/cumulative_data_final.csv')\n",
    "df.head()"
   ]
  },
  {
   "cell_type": "code",
   "execution_count": 6,
   "metadata": {},
   "outputs": [
    {
     "name": "stdout",
     "output_type": "stream",
     "text": [
      "10009\n"
     ]
    }
   ],
   "source": [
    "print(len(df['author'].unique()))"
   ]
  },
  {
   "cell_type": "code",
   "execution_count": null,
   "metadata": {},
   "outputs": [],
   "source": []
  }
 ],
 "metadata": {
  "kernelspec": {
   "display_name": "Python 3.9.13 ('base')",
   "language": "python",
   "name": "python3"
  },
  "language_info": {
   "codemirror_mode": {
    "name": "ipython",
    "version": 3
   },
   "file_extension": ".py",
   "mimetype": "text/x-python",
   "name": "python",
   "nbconvert_exporter": "python",
   "pygments_lexer": "ipython3",
   "version": "3.9.13"
  },
  "orig_nbformat": 4,
  "vscode": {
   "interpreter": {
    "hash": "a2734e01adb15d2a170636b92aef5a6ed4d580b2f47be52f31673b2f9981a50f"
   }
  }
 },
 "nbformat": 4,
 "nbformat_minor": 2
}
