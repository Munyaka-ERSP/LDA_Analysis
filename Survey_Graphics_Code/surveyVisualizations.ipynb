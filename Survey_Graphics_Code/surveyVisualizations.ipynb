{
 "cells": [
  {
   "cell_type": "markdown",
   "metadata": {},
   "source": [
    "# Survey Visualizations\n",
    "\n",
    "This notebook takes data from our qualtrics survey (not the LDA / Reddit Thread part) and creates plots for it."
   ]
  },
  {
   "cell_type": "code",
   "execution_count": 1,
   "metadata": {},
   "outputs": [],
   "source": [
    "# Uncomment the lines below to pip install the following libraries if haven't installed already\n",
    "# %pip install pyLDAvis\n",
    "# %pip install --user -U nltk\n",
    "# %pip install -U spacy\n",
    "# %pip install seaborn\n",
    "# %pip install pandas"
   ]
  },
  {
   "cell_type": "code",
   "execution_count": 2,
   "metadata": {},
   "outputs": [
    {
     "name": "stdout",
     "output_type": "stream",
     "text": [
      "1.5.3\n"
     ]
    },
    {
     "ename": "ModuleNotFoundError",
     "evalue": "No module named 'pyLDAvis'",
     "output_type": "error",
     "traceback": [
      "\u001b[0;31m---------------------------------------------------------------------------\u001b[0m",
      "\u001b[0;31mModuleNotFoundError\u001b[0m                       Traceback (most recent call last)",
      "Cell \u001b[0;32mIn[2], line 15\u001b[0m\n\u001b[1;32m     12\u001b[0m \u001b[38;5;28;01mfrom\u001b[39;00m \u001b[38;5;21;01mnltk\u001b[39;00m\u001b[38;5;21;01m.\u001b[39;00m\u001b[38;5;21;01mcorpus\u001b[39;00m \u001b[38;5;28;01mimport\u001b[39;00m stopwords\n\u001b[1;32m     14\u001b[0m \u001b[38;5;66;03m#vis\u001b[39;00m\n\u001b[0;32m---> 15\u001b[0m \u001b[38;5;28;01mimport\u001b[39;00m \u001b[38;5;21;01mpyLDAvis\u001b[39;00m\n\u001b[1;32m     16\u001b[0m \u001b[38;5;28;01mimport\u001b[39;00m \u001b[38;5;21;01mpyLDAvis\u001b[39;00m\u001b[38;5;21;01m.\u001b[39;00m\u001b[38;5;21;01mgensim\u001b[39;00m\n\u001b[1;32m     18\u001b[0m \u001b[38;5;28;01mimport\u001b[39;00m \u001b[38;5;21;01mwarnings\u001b[39;00m\n",
      "\u001b[0;31mModuleNotFoundError\u001b[0m: No module named 'pyLDAvis'"
     ]
    }
   ],
   "source": [
    "\n",
    "import numpy as np\n",
    "import json\n",
    "import glob\n",
    "import nltk\n",
    "import pandas as pd #to work with csv files\n",
    "\n",
    "# pd.__version__ = 2.0.0\n",
    "print(pd.__version__)\n",
    "\n",
    "#spacy\n",
    "import spacy\n",
    "from nltk.corpus import stopwords\n",
    "\n",
    "#vis\n",
    "import pyLDAvis\n",
    "import pyLDAvis.gensim\n",
    "\n",
    "import warnings\n",
    "warnings.filterwarnings(\"ignore\", category=DeprecationWarning)"
   ]
  },
  {
   "cell_type": "code",
   "execution_count": null,
   "metadata": {},
   "outputs": [
    {
     "data": {
      "text/plain": [
       "Index(['Q132', 'Q135', 'Q138', 'Q124'], dtype='object')"
      ]
     },
     "execution_count": 26,
     "metadata": {},
     "output_type": "execute_result"
    }
   ],
   "source": [
    "# Read in the Result CSV file for plotting\n",
    "data = pd.read_csv('../Survey_Result/RobloxSurvey/Results.csv')\n",
    "data1= data [['Q132', 'Q135', 'Q138', 'Q124']]\n",
    "data1.columns\n"
   ]
  },
  {
   "cell_type": "code",
   "execution_count": null,
   "metadata": {},
   "outputs": [],
   "source": [
    "responses= data1['Q124'].value_counts"
   ]
  },
  {
   "cell_type": "code",
   "execution_count": null,
   "metadata": {},
   "outputs": [
    {
     "name": "stdout",
     "output_type": "stream",
     "text": [
      "(114, 4)\n"
     ]
    },
    {
     "data": {
      "text/html": [
       "<div>\n",
       "<style scoped>\n",
       "    .dataframe tbody tr th:only-of-type {\n",
       "        vertical-align: middle;\n",
       "    }\n",
       "\n",
       "    .dataframe tbody tr th {\n",
       "        vertical-align: top;\n",
       "    }\n",
       "\n",
       "    .dataframe thead th {\n",
       "        text-align: right;\n",
       "    }\n",
       "</style>\n",
       "<table border=\"1\" class=\"dataframe\">\n",
       "  <thead>\n",
       "    <tr style=\"text-align: right;\">\n",
       "      <th></th>\n",
       "      <th>Q132</th>\n",
       "      <th>Q135</th>\n",
       "      <th>Q138</th>\n",
       "      <th>Q124</th>\n",
       "    </tr>\n",
       "  </thead>\n",
       "  <tbody>\n",
       "    <tr>\n",
       "      <th>2</th>\n",
       "      <td>NaN</td>\n",
       "      <td>NaN</td>\n",
       "      <td>NaN</td>\n",
       "      <td>NaN</td>\n",
       "    </tr>\n",
       "    <tr>\n",
       "      <th>3</th>\n",
       "      <td>NaN</td>\n",
       "      <td>NaN</td>\n",
       "      <td>Somewhat disagree</td>\n",
       "      <td>Somewhat agree</td>\n",
       "    </tr>\n",
       "    <tr>\n",
       "      <th>4</th>\n",
       "      <td>Agree</td>\n",
       "      <td>Somewhat agree</td>\n",
       "      <td>NaN</td>\n",
       "      <td>NaN</td>\n",
       "    </tr>\n",
       "    <tr>\n",
       "      <th>5</th>\n",
       "      <td>Strongly disagree</td>\n",
       "      <td>Strongly disagree</td>\n",
       "      <td>NaN</td>\n",
       "      <td>NaN</td>\n",
       "    </tr>\n",
       "    <tr>\n",
       "      <th>6</th>\n",
       "      <td>Strongly agree</td>\n",
       "      <td>Strongly agree</td>\n",
       "      <td>NaN</td>\n",
       "      <td>NaN</td>\n",
       "    </tr>\n",
       "  </tbody>\n",
       "</table>\n",
       "</div>"
      ],
      "text/plain": [
       "                Q132               Q135               Q138            Q124\n",
       "2                NaN                NaN                NaN             NaN\n",
       "3                NaN                NaN  Somewhat disagree  Somewhat agree\n",
       "4              Agree     Somewhat agree                NaN             NaN\n",
       "5  Strongly disagree  Strongly disagree                NaN             NaN\n",
       "6     Strongly agree     Strongly agree                NaN             NaN"
      ]
     },
     "execution_count": 7,
     "metadata": {},
     "output_type": "execute_result"
    }
   ],
   "source": [
    "# Removing the first two header rows\n",
    "import seaborn as sns\n",
    "from matplotlib import pyplot as plt\n",
    "print(data1.shape)\n",
    "data1= data1[2:]\n",
    "data1.head()"
   ]
  },
  {
   "cell_type": "code",
   "execution_count": null,
   "metadata": {},
   "outputs": [
    {
     "name": "stdout",
     "output_type": "stream",
     "text": [
      "[nan 'Agree' 'Strongly disagree' 'Strongly agree' 'Disagree'\n",
      " 'Somewhat agree' 'Somewhat disagree' 'Neither agree nor disagree']\n"
     ]
    }
   ],
   "source": [
    "print(data1[\"Q132\"].unique())"
   ]
  },
  {
   "cell_type": "markdown",
   "metadata": {},
   "source": [
    "['Agree' 'Strongly disagree' 'Strongly agree' nan 'Disagree'\n",
    " 'Somewhat agree' 'Somewhat disagree' 'Neither agree nor disagree']"
   ]
  },
  {
   "cell_type": "code",
   "execution_count": null,
   "metadata": {},
   "outputs": [],
   "source": [
    "# Grouping agree,disagree,... with the corresponding frequencies chosen by the people\n",
    "from collections import Counter\n",
    "\n",
    "def own_groupby(data, column_name):\n",
    "    key = Counter(data[column_name]).keys()\n",
    "    value = Counter(data[column_name]).values()\n",
    "\n",
    "    return [value for value in zip(key, value)]\n"
   ]
  },
  {
   "cell_type": "code",
   "execution_count": null,
   "metadata": {},
   "outputs": [],
   "source": [
    "results_q132 = own_groupby(data1, \"Q132\")\n",
    "results_q135 = own_groupby(data1, \"Q135\")\n",
    "results_q138 = own_groupby(data1, \"Q138\")\n",
    "results_q124 = own_groupby(data1, \"Q124\")\n"
   ]
  },
  {
   "cell_type": "code",
   "execution_count": null,
   "metadata": {},
   "outputs": [
    {
     "name": "stdout",
     "output_type": "stream",
     "text": [
      "[(nan, 63), ('Agree', 18), ('Strongly disagree', 2), ('Strongly agree', 7), ('Disagree', 4), ('Somewhat agree', 8), ('Somewhat disagree', 3), ('Neither agree nor disagree', 7)]\n"
     ]
    }
   ],
   "source": [
    "print(results_q132[:])"
   ]
  },
  {
   "cell_type": "code",
   "execution_count": null,
   "metadata": {},
   "outputs": [
    {
     "data": {
      "text/html": [
       "<div>\n",
       "<style scoped>\n",
       "    .dataframe tbody tr th:only-of-type {\n",
       "        vertical-align: middle;\n",
       "    }\n",
       "\n",
       "    .dataframe tbody tr th {\n",
       "        vertical-align: top;\n",
       "    }\n",
       "\n",
       "    .dataframe thead th {\n",
       "        text-align: right;\n",
       "    }\n",
       "</style>\n",
       "<table border=\"1\" class=\"dataframe\">\n",
       "  <thead>\n",
       "    <tr style=\"text-align: right;\">\n",
       "      <th></th>\n",
       "      <th>Responses</th>\n",
       "      <th>Q132</th>\n",
       "      <th>Q135</th>\n",
       "      <th>Q138</th>\n",
       "      <th>Q124</th>\n",
       "    </tr>\n",
       "  </thead>\n",
       "  <tbody>\n",
       "    <tr>\n",
       "      <th>0</th>\n",
       "      <td>NaN</td>\n",
       "      <td>63</td>\n",
       "      <td>63</td>\n",
       "      <td>63</td>\n",
       "      <td>63</td>\n",
       "    </tr>\n",
       "    <tr>\n",
       "      <th>1</th>\n",
       "      <td>Somewhat agree</td>\n",
       "      <td>8</td>\n",
       "      <td>7</td>\n",
       "      <td>11</td>\n",
       "      <td>11</td>\n",
       "    </tr>\n",
       "    <tr>\n",
       "      <th>2</th>\n",
       "      <td>Agree</td>\n",
       "      <td>18</td>\n",
       "      <td>14</td>\n",
       "      <td>10</td>\n",
       "      <td>15</td>\n",
       "    </tr>\n",
       "    <tr>\n",
       "      <th>3</th>\n",
       "      <td>Somewhat disagree</td>\n",
       "      <td>3</td>\n",
       "      <td>8</td>\n",
       "      <td>5</td>\n",
       "      <td>7</td>\n",
       "    </tr>\n",
       "    <tr>\n",
       "      <th>4</th>\n",
       "      <td>Strongly disagree</td>\n",
       "      <td>2</td>\n",
       "      <td>4</td>\n",
       "      <td>6</td>\n",
       "      <td>3</td>\n",
       "    </tr>\n",
       "    <tr>\n",
       "      <th>5</th>\n",
       "      <td>Disagree</td>\n",
       "      <td>4</td>\n",
       "      <td>5</td>\n",
       "      <td>9</td>\n",
       "      <td>6</td>\n",
       "    </tr>\n",
       "    <tr>\n",
       "      <th>6</th>\n",
       "      <td>Strongly agree</td>\n",
       "      <td>7</td>\n",
       "      <td>5</td>\n",
       "      <td>1</td>\n",
       "      <td>5</td>\n",
       "    </tr>\n",
       "    <tr>\n",
       "      <th>7</th>\n",
       "      <td>Neither agree nor disagree</td>\n",
       "      <td>7</td>\n",
       "      <td>6</td>\n",
       "      <td>7</td>\n",
       "      <td>2</td>\n",
       "    </tr>\n",
       "  </tbody>\n",
       "</table>\n",
       "</div>"
      ],
      "text/plain": [
       "                    Responses  Q132  Q135  Q138  Q124\n",
       "0                         NaN    63    63    63    63\n",
       "1              Somewhat agree     8     7    11    11\n",
       "2                       Agree    18    14    10    15\n",
       "3           Somewhat disagree     3     8     5     7\n",
       "4           Strongly disagree     2     4     6     3\n",
       "5                    Disagree     4     5     9     6\n",
       "6              Strongly agree     7     5     1     5\n",
       "7  Neither agree nor disagree     7     6     7     2"
      ]
     },
     "execution_count": 12,
     "metadata": {},
     "output_type": "execute_result"
    }
   ],
   "source": [
    "# Store the processed results in a new dataframe\n",
    "df = pd.DataFrame(results_q132, columns =['Responses', 'Q132'])\n",
    "df1 = pd.DataFrame(results_q135, columns =['Responses', 'Q135'])\n",
    "df2 = pd.DataFrame(results_q138, columns =['Responses', 'Q138'])\n",
    "df3 = pd.DataFrame(results_q124, columns =['Responses', 'Q124'])\n",
    "df = df.merge(df1, how='right')\n",
    "df = df.merge(df2, how='right')\n",
    "df = df.merge(df3, how='right')\n",
    "\n",
    "df"
   ]
  },
  {
   "cell_type": "code",
   "execution_count": null,
   "metadata": {},
   "outputs": [
    {
     "data": {
      "text/plain": [
       "'Neither agree nor disagree'"
      ]
     },
     "execution_count": 13,
     "metadata": {},
     "output_type": "execute_result"
    }
   ],
   "source": [
    "empty = df.iloc[0].values.tolist()\n",
    "empty.pop(0)\n",
    "\n",
    "s_agree= df.iloc[1].values.tolist()\n",
    "s_agree.pop(0)\n",
    "\n",
    "ag = df.iloc[2].values.tolist()\n",
    "ag.pop(0)\n",
    "\n",
    "s_disagree = df.iloc[3].values.tolist()\n",
    "s_disagree.pop(0)\n",
    "\n",
    "st_disagree = df.iloc[4].values.tolist()\n",
    "st_disagree.pop(0)\n",
    "\n",
    "dis = df.iloc[5].values.tolist()\n",
    "dis.pop(0)\n",
    "\n",
    "st_agree = df.iloc[6].values.tolist()\n",
    "st_agree.pop(0)\n",
    "\n",
    "neither = df.iloc[7].values.tolist()\n",
    "neither.pop(0)\n"
   ]
  },
  {
   "cell_type": "code",
   "execution_count": null,
   "metadata": {},
   "outputs": [
    {
     "data": {
      "text/html": [
       "<div>\n",
       "<style scoped>\n",
       "    .dataframe tbody tr th:only-of-type {\n",
       "        vertical-align: middle;\n",
       "    }\n",
       "\n",
       "    .dataframe tbody tr th {\n",
       "        vertical-align: top;\n",
       "    }\n",
       "\n",
       "    .dataframe thead th {\n",
       "        text-align: right;\n",
       "    }\n",
       "</style>\n",
       "<table border=\"1\" class=\"dataframe\">\n",
       "  <thead>\n",
       "    <tr style=\"text-align: right;\">\n",
       "      <th></th>\n",
       "      <th>Responses</th>\n",
       "      <th>Questions</th>\n",
       "      <th>Values</th>\n",
       "    </tr>\n",
       "  </thead>\n",
       "  <tbody>\n",
       "    <tr>\n",
       "      <th>0</th>\n",
       "      <td>NaN</td>\n",
       "      <td>Q132</td>\n",
       "      <td>63</td>\n",
       "    </tr>\n",
       "    <tr>\n",
       "      <th>1</th>\n",
       "      <td>Somewhat agree</td>\n",
       "      <td>Q132</td>\n",
       "      <td>8</td>\n",
       "    </tr>\n",
       "    <tr>\n",
       "      <th>2</th>\n",
       "      <td>Agree</td>\n",
       "      <td>Q132</td>\n",
       "      <td>18</td>\n",
       "    </tr>\n",
       "    <tr>\n",
       "      <th>3</th>\n",
       "      <td>Somewhat disagree</td>\n",
       "      <td>Q132</td>\n",
       "      <td>3</td>\n",
       "    </tr>\n",
       "    <tr>\n",
       "      <th>4</th>\n",
       "      <td>Strongly disagree</td>\n",
       "      <td>Q132</td>\n",
       "      <td>2</td>\n",
       "    </tr>\n",
       "    <tr>\n",
       "      <th>5</th>\n",
       "      <td>Disagree</td>\n",
       "      <td>Q132</td>\n",
       "      <td>4</td>\n",
       "    </tr>\n",
       "    <tr>\n",
       "      <th>6</th>\n",
       "      <td>Strongly agree</td>\n",
       "      <td>Q132</td>\n",
       "      <td>7</td>\n",
       "    </tr>\n",
       "    <tr>\n",
       "      <th>7</th>\n",
       "      <td>Neither agree nor disagree</td>\n",
       "      <td>Q132</td>\n",
       "      <td>7</td>\n",
       "    </tr>\n",
       "    <tr>\n",
       "      <th>8</th>\n",
       "      <td>NaN</td>\n",
       "      <td>Q135</td>\n",
       "      <td>63</td>\n",
       "    </tr>\n",
       "    <tr>\n",
       "      <th>9</th>\n",
       "      <td>Somewhat agree</td>\n",
       "      <td>Q135</td>\n",
       "      <td>7</td>\n",
       "    </tr>\n",
       "    <tr>\n",
       "      <th>10</th>\n",
       "      <td>Agree</td>\n",
       "      <td>Q135</td>\n",
       "      <td>14</td>\n",
       "    </tr>\n",
       "    <tr>\n",
       "      <th>11</th>\n",
       "      <td>Somewhat disagree</td>\n",
       "      <td>Q135</td>\n",
       "      <td>8</td>\n",
       "    </tr>\n",
       "    <tr>\n",
       "      <th>12</th>\n",
       "      <td>Strongly disagree</td>\n",
       "      <td>Q135</td>\n",
       "      <td>4</td>\n",
       "    </tr>\n",
       "    <tr>\n",
       "      <th>13</th>\n",
       "      <td>Disagree</td>\n",
       "      <td>Q135</td>\n",
       "      <td>5</td>\n",
       "    </tr>\n",
       "    <tr>\n",
       "      <th>14</th>\n",
       "      <td>Strongly agree</td>\n",
       "      <td>Q135</td>\n",
       "      <td>5</td>\n",
       "    </tr>\n",
       "    <tr>\n",
       "      <th>15</th>\n",
       "      <td>Neither agree nor disagree</td>\n",
       "      <td>Q135</td>\n",
       "      <td>6</td>\n",
       "    </tr>\n",
       "    <tr>\n",
       "      <th>16</th>\n",
       "      <td>NaN</td>\n",
       "      <td>Q138</td>\n",
       "      <td>63</td>\n",
       "    </tr>\n",
       "    <tr>\n",
       "      <th>17</th>\n",
       "      <td>Somewhat agree</td>\n",
       "      <td>Q138</td>\n",
       "      <td>11</td>\n",
       "    </tr>\n",
       "    <tr>\n",
       "      <th>18</th>\n",
       "      <td>Agree</td>\n",
       "      <td>Q138</td>\n",
       "      <td>10</td>\n",
       "    </tr>\n",
       "    <tr>\n",
       "      <th>19</th>\n",
       "      <td>Somewhat disagree</td>\n",
       "      <td>Q138</td>\n",
       "      <td>5</td>\n",
       "    </tr>\n",
       "    <tr>\n",
       "      <th>20</th>\n",
       "      <td>Strongly disagree</td>\n",
       "      <td>Q138</td>\n",
       "      <td>6</td>\n",
       "    </tr>\n",
       "    <tr>\n",
       "      <th>21</th>\n",
       "      <td>Disagree</td>\n",
       "      <td>Q138</td>\n",
       "      <td>9</td>\n",
       "    </tr>\n",
       "    <tr>\n",
       "      <th>22</th>\n",
       "      <td>Strongly agree</td>\n",
       "      <td>Q138</td>\n",
       "      <td>1</td>\n",
       "    </tr>\n",
       "    <tr>\n",
       "      <th>23</th>\n",
       "      <td>Neither agree nor disagree</td>\n",
       "      <td>Q138</td>\n",
       "      <td>7</td>\n",
       "    </tr>\n",
       "    <tr>\n",
       "      <th>24</th>\n",
       "      <td>NaN</td>\n",
       "      <td>Q124</td>\n",
       "      <td>63</td>\n",
       "    </tr>\n",
       "    <tr>\n",
       "      <th>25</th>\n",
       "      <td>Somewhat agree</td>\n",
       "      <td>Q124</td>\n",
       "      <td>11</td>\n",
       "    </tr>\n",
       "    <tr>\n",
       "      <th>26</th>\n",
       "      <td>Agree</td>\n",
       "      <td>Q124</td>\n",
       "      <td>15</td>\n",
       "    </tr>\n",
       "    <tr>\n",
       "      <th>27</th>\n",
       "      <td>Somewhat disagree</td>\n",
       "      <td>Q124</td>\n",
       "      <td>7</td>\n",
       "    </tr>\n",
       "    <tr>\n",
       "      <th>28</th>\n",
       "      <td>Strongly disagree</td>\n",
       "      <td>Q124</td>\n",
       "      <td>3</td>\n",
       "    </tr>\n",
       "    <tr>\n",
       "      <th>29</th>\n",
       "      <td>Disagree</td>\n",
       "      <td>Q124</td>\n",
       "      <td>6</td>\n",
       "    </tr>\n",
       "    <tr>\n",
       "      <th>30</th>\n",
       "      <td>Strongly agree</td>\n",
       "      <td>Q124</td>\n",
       "      <td>5</td>\n",
       "    </tr>\n",
       "    <tr>\n",
       "      <th>31</th>\n",
       "      <td>Neither agree nor disagree</td>\n",
       "      <td>Q124</td>\n",
       "      <td>2</td>\n",
       "    </tr>\n",
       "  </tbody>\n",
       "</table>\n",
       "</div>"
      ],
      "text/plain": [
       "                     Responses Questions  Values\n",
       "0                          NaN      Q132      63\n",
       "1               Somewhat agree      Q132       8\n",
       "2                        Agree      Q132      18\n",
       "3            Somewhat disagree      Q132       3\n",
       "4            Strongly disagree      Q132       2\n",
       "5                     Disagree      Q132       4\n",
       "6               Strongly agree      Q132       7\n",
       "7   Neither agree nor disagree      Q132       7\n",
       "8                          NaN      Q135      63\n",
       "9               Somewhat agree      Q135       7\n",
       "10                       Agree      Q135      14\n",
       "11           Somewhat disagree      Q135       8\n",
       "12           Strongly disagree      Q135       4\n",
       "13                    Disagree      Q135       5\n",
       "14              Strongly agree      Q135       5\n",
       "15  Neither agree nor disagree      Q135       6\n",
       "16                         NaN      Q138      63\n",
       "17              Somewhat agree      Q138      11\n",
       "18                       Agree      Q138      10\n",
       "19           Somewhat disagree      Q138       5\n",
       "20           Strongly disagree      Q138       6\n",
       "21                    Disagree      Q138       9\n",
       "22              Strongly agree      Q138       1\n",
       "23  Neither agree nor disagree      Q138       7\n",
       "24                         NaN      Q124      63\n",
       "25              Somewhat agree      Q124      11\n",
       "26                       Agree      Q124      15\n",
       "27           Somewhat disagree      Q124       7\n",
       "28           Strongly disagree      Q124       3\n",
       "29                    Disagree      Q124       6\n",
       "30              Strongly agree      Q124       5\n",
       "31  Neither agree nor disagree      Q124       2"
      ]
     },
     "execution_count": 14,
     "metadata": {},
     "output_type": "execute_result"
    }
   ],
   "source": [
    "melted_df = df.melt(id_vars=['Responses'], var_name='Questions', value_name='Values')\n",
    "melted_df"
   ]
  },
  {
   "cell_type": "code",
   "execution_count": null,
   "metadata": {},
   "outputs": [
    {
     "data": {
      "text/html": [
       "<div>\n",
       "<style scoped>\n",
       "    .dataframe tbody tr th:only-of-type {\n",
       "        vertical-align: middle;\n",
       "    }\n",
       "\n",
       "    .dataframe tbody tr th {\n",
       "        vertical-align: top;\n",
       "    }\n",
       "\n",
       "    .dataframe thead th {\n",
       "        text-align: right;\n",
       "    }\n",
       "</style>\n",
       "<table border=\"1\" class=\"dataframe\">\n",
       "  <thead>\n",
       "    <tr style=\"text-align: right;\">\n",
       "      <th>Responses</th>\n",
       "      <th>Somewhat agree</th>\n",
       "      <th>Agree</th>\n",
       "      <th>Somewhat disagree</th>\n",
       "      <th>Strongly disagree</th>\n",
       "      <th>Disagree</th>\n",
       "      <th>Strongly agree</th>\n",
       "      <th>Neither agree nor disagree</th>\n",
       "    </tr>\n",
       "  </thead>\n",
       "  <tbody>\n",
       "    <tr>\n",
       "      <th>Q132</th>\n",
       "      <td>8</td>\n",
       "      <td>18</td>\n",
       "      <td>3</td>\n",
       "      <td>2</td>\n",
       "      <td>4</td>\n",
       "      <td>7</td>\n",
       "      <td>7</td>\n",
       "    </tr>\n",
       "    <tr>\n",
       "      <th>Q138</th>\n",
       "      <td>7</td>\n",
       "      <td>14</td>\n",
       "      <td>8</td>\n",
       "      <td>4</td>\n",
       "      <td>5</td>\n",
       "      <td>5</td>\n",
       "      <td>6</td>\n",
       "    </tr>\n",
       "    <tr>\n",
       "      <th>Q124</th>\n",
       "      <td>11</td>\n",
       "      <td>10</td>\n",
       "      <td>5</td>\n",
       "      <td>6</td>\n",
       "      <td>9</td>\n",
       "      <td>1</td>\n",
       "      <td>7</td>\n",
       "    </tr>\n",
       "    <tr>\n",
       "      <th>Q135</th>\n",
       "      <td>11</td>\n",
       "      <td>15</td>\n",
       "      <td>7</td>\n",
       "      <td>3</td>\n",
       "      <td>6</td>\n",
       "      <td>5</td>\n",
       "      <td>2</td>\n",
       "    </tr>\n",
       "  </tbody>\n",
       "</table>\n",
       "</div>"
      ],
      "text/plain": [
       "Responses  Somewhat agree  Agree  Somewhat disagree  Strongly disagree  \\\n",
       "Q132                    8     18                  3                  2   \n",
       "Q138                    7     14                  8                  4   \n",
       "Q124                   11     10                  5                  6   \n",
       "Q135                   11     15                  7                  3   \n",
       "\n",
       "Responses  Disagree  Strongly agree  Neither agree nor disagree  \n",
       "Q132              4               7                           7  \n",
       "Q138              5               5                           6  \n",
       "Q124              9               1                           7  \n",
       "Q135              6               5                           2  "
      ]
     },
     "execution_count": 15,
     "metadata": {},
     "output_type": "execute_result"
    }
   ],
   "source": [
    "df4= pd.DataFrame(columns= df['Responses'], index= ['Q132', 'Q138', 'Q124', 'Q135'])\n",
    "df4['NaN']=empty\n",
    "df4['Somewhat agree']=s_agree\n",
    "df4['Agree']=ag\n",
    "df4['Somewhat disagree']=s_disagree\n",
    "df4['Strongly disagree']=st_disagree\n",
    "df4['Disagree']=dis\n",
    "df4['Strongly agree']=st_agree\n",
    "df4['Neither agree nor disagree']=neither\n",
    "df4.drop('NaN', axis=1)\n",
    "df4= df4[['Somewhat agree','Agree', 'Somewhat disagree', 'Strongly disagree', 'Disagree', 'Strongly agree', 'Neither agree nor disagree']]\n",
    "\n",
    "df4"
   ]
  },
  {
   "cell_type": "code",
   "execution_count": null,
   "metadata": {},
   "outputs": [
    {
     "name": "stdout",
     "output_type": "stream",
     "text": [
      "Index(['Somewhat agree', 'Agree', 'Somewhat disagree', 'Strongly disagree',\n",
      "       'Disagree', 'Strongly agree', 'Neither agree nor disagree'],\n",
      "      dtype='object', name='Responses')\n"
     ]
    }
   ],
   "source": [
    "print(df4.columns)"
   ]
  },
  {
   "cell_type": "code",
   "execution_count": null,
   "metadata": {},
   "outputs": [],
   "source": [
    "from matplotlib.colors import LinearSegmentedColormap\n",
    "colors = ['#F2A2A2', '#F8C68D', '#FFF6A1', '#CBFAAC', '#A6F0F5', '#96B9FF', '#A7A1FF']\n",
    "custom_cmap = LinearSegmentedColormap.from_list('custom_colormap', colors)\n"
   ]
  },
  {
   "cell_type": "code",
   "execution_count": null,
   "metadata": {},
   "outputs": [
    {
     "name": "stdout",
     "output_type": "stream",
     "text": [
      "Responses  Somewhat agree      Agree  Somewhat disagree  Strongly disagree  \\\n",
      "Q132            16.326531  36.734694           6.122449           4.081633   \n",
      "Q138            14.285714  28.571429          16.326531           8.163265   \n",
      "Q124            22.448980  20.408163          10.204082          12.244898   \n",
      "Q135            22.448980  30.612245          14.285714           6.122449   \n",
      "\n",
      "Responses   Disagree  Strongly agree  Neither agree nor disagree  \n",
      "Q132        8.163265       14.285714                   14.285714  \n",
      "Q138       10.204082       10.204082                   12.244898  \n",
      "Q124       18.367347        2.040816                   14.285714  \n",
      "Q135       12.244898       10.204082                    4.081633  \n"
     ]
    },
    {
     "data": {
      "image/png": "[encoded data removed]",
      "text/plain": [
       "<Figure size 800x600 with 1 Axes>"
      ]
     },
     "metadata": {},
     "output_type": "display_data"
    }
   ],
   "source": [
    "# Plotting the percentage of each agree, disagree responses for each of the four survey question statements\n",
    "df4_percentage = df4.div(df4.sum(axis=1), axis=0) * 100\n",
    "\n",
    "# Display the resulting DataFrame with percentages\n",
    "print(df4_percentage)\n",
    "\n",
    "ax = df4_percentage.plot(kind='bar', stacked=True, figsize=(8, 6), colormap=custom_cmap)\n",
    "\n",
    "\n",
    "cumulative_sums = df4_percentage.cumsum(axis=1)\n",
    "# Adding title and labels\n",
    "plt.xlabel('Scenarios', fontsize=13)\n",
    "plt.ylabel('Percentage', fontsize=13)\n",
    "\n",
    "for i in range(df4_percentage.shape[0]):\n",
    "    for j in range(df4_percentage.shape[1]):\n",
    "        value = df4_percentage.iloc[i, j]\n",
    "        if value > 0:  # Only annotate if percentage is greater than 0\n",
    "            ax.text(\n",
    "                x=i,\n",
    "                y=cumulative_sums.iloc[i, j] - value / 2,\n",
    "                s=f'{value:.2f}%',\n",
    "                ha='center',\n",
    "                va='center',\n",
    "                fontsize=8,\n",
    "                color='black'\n",
    "            )\n",
    "\n",
    "xtick_locs, xtick_labels = plt.xticks()\n",
    "new_labels = ['Adult Content', 'Time', 'Adult Chat', 'Scams']\n",
    "# Displaying the legend\n",
    "plt.legend(title='Response', bbox_to_anchor=(1.05, 1), loc='upper left')\n",
    "plt.xticks(xtick_locs, new_labels)\n",
    "plt.xticks(rotation=45)\n",
    "\n",
    "# Display the plot\n",
    "plt.tight_layout()\n",
    "plt.show()"
   ]
  },
  {
   "cell_type": "code",
   "execution_count": null,
   "metadata": {},
   "outputs": [
    {
     "data": {
      "text/plain": [
       "array([\"If you needed help with a safety or privacy issue related to a child's experience with Roblox, where would you go to find help? \\n\\nExample issues include the following: \\n- The child was scammed out of money on Roblox by another player. \\n- The child has been seeing adult content on Roblox during game play\",\n",
       "       '{\"ImportId\":\"QID131_TEXT\"}', nan,\n",
       "       'I would find the contact information for the game administrators',\n",
       "       'Game settings ', 'I would report in game ', 'support',\n",
       "       'Roblox customer service/something similar ',\n",
       "       'Parental controls in settings',\n",
       "       'I would look for the customer service phone number/text/email/chat',\n",
       "       \"I'm sure I  could find a way to report the player and talk to support about the problem. \",\n",
       "       'There is a chat or help feature on the screen that you can click for help',\n",
       "       'Reddit', 'Roblox Customer Support ',\n",
       "       'I would contact the developers of Roblox. ',\n",
       "       'Roblox customer service or whatever their equivalent is',\n",
       "       'creator of the game', 'Roblox Support', \"I don't know\",\n",
       "       'To the help section and contact Roblox', 'report abuse button',\n",
       "       'customer service', 'Customer Support and Police',\n",
       "       'The contact section to reach customer service for Roblox',\n",
       "       'Customer support', 'Roblox support. ',\n",
       "       'I would go to the Roblox support page first of all and look for a contact us or report function.',\n",
       "       'I would go to the website and account settings and see if there are control options that I can set. ',\n",
       "       'help/contact us',\n",
       "       'Either the website/company themselves, or parent groups online that have run into similar issues.',\n",
       "       'honestly, probably just block it.',\n",
       "       'The help section on the site to look for a contact or report the behavior',\n",
       "       'I would contact the support team',\n",
       "       \"I'd address the issue with the Roblox help team\",\n",
       "       'I likely would not contact anyone and instead would speak to the child about how this happened and how they can prevent it in the future. If I HAD to contact someone I would go directly to the roblox help/customer service website and message them. ',\n",
       "       'I wouldnt know where to go', 'Roblox support webpage',\n",
       "       'If it was money I would likely to report to Roblox and then the bank if nothing happened. For adult content I would report, but there is not much I can do.',\n",
       "       'Roblox support first', 'Child saw some adult content',\n",
       "       'I would go directly to Roblox with the problem. ',\n",
       "       'I would contact Roblox Support and report the issue and see how they take action.',\n",
       "       'Customer service, Reddit', 'Roblox support', 'roblox.com/support',\n",
       "       \"I'd contact customer support, likely looking for the phone number at the bottom of their web page\",\n",
       "       \"I contact their support which is usually threw email and they're very helpful and responsive.\",\n",
       "       'I would look for help contact information, particularly for a phone number.',\n",
       "       'Roblox support or Reddit',\n",
       "       \"I'm not sure where I would go to for help. I guess if I really wanted to, I would contact roblox support, but I know that their team is probably just a bunch of outsourced customer service reps who can't actually do much. The content removal system is probably automated, and triggers after enough people complain. I simply don't allow my child to use roblox anymore.\",\n",
       "       'Depending on the level of severity, either have a serious conversation with my child and explain the lesson or contact the police.',\n",
       "       'I would try to contact roblox about the issue and also bring it up with my family.',\n",
       "       'Customer Service, Police, Family', 'friends and google',\n",
       "       'I would try and contact customer support on Roblox',\n",
       "       'Not sure. Roblox does not have clear means of contact',\n",
       "       'Roblox support ', 'Roblox customer service',\n",
       "       'I would report the issue using the menu options',\n",
       "       'Roblox safety page', 'Roblox customer support',\n",
       "       'I would submit a support ticket to the company ',\n",
       "       'I would go to the Roblox company.',\n",
       "       \"I'm sure that there is a support number or website\",\n",
       "       'I would go to the website of roblox',\n",
       "       'report abuse section in the apps',\n",
       "       'Roblox customer support, if there was adult content I would either more closely monitor their games or block the game',\n",
       "       'I would search for answers on the internet.',\n",
       "       'Roblox website support.', 'The police', 'I would delete the app',\n",
       "       'Parent forums or contact roblox help line',\n",
       "       'Online forums like Reddit', 'I would email Roblox', 'Internet',\n",
       "       'I would google the support email or phone number and go from there ',\n",
       "       'The games support team',\n",
       "       'I would go to the help section of the Roblox website.',\n",
       "       'Roblox Customer Service ',\n",
       "       'I hope they have a contact page, or a FAQS link',\n",
       "       'there customer service',\n",
       "       'I would go to Roblox’s phone number and call them.',\n",
       "       \"I might search the official Roblox website to see if there's any recommended action that might be taken.\",\n",
       "       'I would reach out to \"contact us\" or other support',\n",
       "       'I would go to their hotline, or online forums to see what i could do',\n",
       "       'The child was scammed out of money on Roblox by another player',\n",
       "       'youtube', 'roblox help center',\n",
       "       'I would go to the support page where I can contact a representative through e-mail. ',\n",
       "       'I would contact roblox support',\n",
       "       'The child has been seeing adult content on Roblox during game play',\n",
       "       'https://en.help.roblox.com/hc/en-us/categories/200213830-Parents-Safety-and-Moderation',\n",
       "       'I would contact Roblox directly ',\n",
       "       'I would go to the help section on the Roblox site or maybe even google it ',\n",
       "       'I’d most likely report to Roblox customer service or look online for other helpful resources',\n",
       "       \"the child's parents first and foremost\"], dtype=object)"
      ]
     },
     "execution_count": 19,
     "metadata": {},
     "output_type": "execute_result"
    }
   ],
   "source": [
    "frq= data[['Q131', 'Q151']]\n",
    "frq.head()\n",
    "frq['Q131'].unique()"
   ]
  },
  {
   "cell_type": "code",
   "execution_count": null,
   "metadata": {},
   "outputs": [
    {
     "name": "stderr",
     "output_type": "stream",
     "text": [
      "[nltk_data] Downloading package stopwords to\n",
      "[nltk_data]     /Users/chuongnguyen/nltk_data...\n",
      "[nltk_data]   Package stopwords is already up-to-date!\n"
     ]
    }
   ],
   "source": [
    "from nltk.corpus import stopwords\n",
    "nltk.download('stopwords')\n",
    "from nltk.corpus import stopwords as nltk_stopwords\n",
    "\n",
    "stopwords = stopwords.words(\"english\")"
   ]
  },
  {
   "cell_type": "code",
   "execution_count": null,
   "metadata": {},
   "outputs": [],
   "source": [
    "question_131=frq['Q131'].tolist()\n",
    "question_151=frq['Q151'].tolist()"
   ]
  },
  {
   "cell_type": "code",
   "execution_count": null,
   "metadata": {},
   "outputs": [
    {
     "name": "stdout",
     "output_type": "stream",
     "text": [
      "[\"If you needed help with a safety or privacy issue related to a child's experience with Roblox, where would you go to find help? \\n\\nExample issues include the following: \\n- The child was scammed out of money on Roblox by another player. \\n- The child has been seeing adult content on Roblox during game play\", '{\"ImportId\":\"QID131_TEXT\"}', nan, 'I would find the contact information for the game administrators', 'Game settings ', 'I would report in game ', 'support', 'Roblox customer service/something similar ', 'Parental controls in settings', 'I would look for the customer service phone number/text/email/chat', \"I'm sure I  could find a way to report the player and talk to support about the problem. \", 'There is a chat or help feature on the screen that you can click for help', nan, 'Reddit', 'Roblox Customer Support ', 'I would contact the developers of Roblox. ', 'Roblox customer service or whatever their equivalent is', 'creator of the game', 'Roblox Support', \"I don't know\", 'To the help section and contact Roblox', 'report abuse button', 'customer service', 'Customer Support and Police', 'The contact section to reach customer service for Roblox', 'Customer support', 'Roblox support. ', 'I would go to the Roblox support page first of all and look for a contact us or report function.', 'I would go to the website and account settings and see if there are control options that I can set. ', 'help/contact us', 'Either the website/company themselves, or parent groups online that have run into similar issues.', nan, 'honestly, probably just block it.', 'The help section on the site to look for a contact or report the behavior', 'I would contact the support team', \"I'd address the issue with the Roblox help team\", 'I likely would not contact anyone and instead would speak to the child about how this happened and how they can prevent it in the future. If I HAD to contact someone I would go directly to the roblox help/customer service website and message them. ', 'I wouldnt know where to go', 'Roblox support webpage', 'If it was money I would likely to report to Roblox and then the bank if nothing happened. For adult content I would report, but there is not much I can do.', 'Roblox support first', 'Child saw some adult content', 'I would go directly to Roblox with the problem. ', 'I would contact Roblox Support and report the issue and see how they take action.', 'Customer service, Reddit', nan, 'Roblox support', 'roblox.com/support', \"I'd contact customer support, likely looking for the phone number at the bottom of their web page\", \"I contact their support which is usually threw email and they're very helpful and responsive.\", nan, 'I would look for help contact information, particularly for a phone number.', nan, 'Roblox support or Reddit', nan, \"I'm not sure where I would go to for help. I guess if I really wanted to, I would contact roblox support, but I know that their team is probably just a bunch of outsourced customer service reps who can't actually do much. The content removal system is probably automated, and triggers after enough people complain. I simply don't allow my child to use roblox anymore.\", 'Depending on the level of severity, either have a serious conversation with my child and explain the lesson or contact the police.', nan, 'I would try to contact roblox about the issue and also bring it up with my family.', 'Customer Service, Police, Family', 'Roblox support', 'friends and google', 'I would try and contact customer support on Roblox', nan, 'Not sure. Roblox does not have clear means of contact', 'Roblox support ', 'Roblox customer service', 'I would report the issue using the menu options', 'Roblox safety page', 'Roblox customer support', 'I would submit a support ticket to the company ', 'I would go to the Roblox company.', \"I'm sure that there is a support number or website\", 'I would go to the website of roblox', 'report abuse section in the apps', 'Roblox customer support, if there was adult content I would either more closely monitor their games or block the game', nan, 'I would search for answers on the internet.', 'Roblox website support.', 'The police', 'I would delete the app', nan, 'Parent forums or contact roblox help line', 'Online forums like Reddit', 'I would email Roblox', 'Internet', nan, 'I would google the support email or phone number and go from there ', 'The games support team', 'I would go to the help section of the Roblox website.', 'Roblox Customer Service ', 'I hope they have a contact page, or a FAQS link', 'there customer service', 'I would go to Roblox’s phone number and call them.', 'customer service', \"I might search the official Roblox website to see if there's any recommended action that might be taken.\", 'Roblox customer service', 'I would reach out to \"contact us\" or other support', 'I would go to their hotline, or online forums to see what i could do', 'The child was scammed out of money on Roblox by another player', 'youtube', 'Roblox support', 'roblox help center', 'I would go to the support page where I can contact a representative through e-mail. ', 'I would contact roblox support', 'The child has been seeing adult content on Roblox during game play', nan, 'https://en.help.roblox.com/hc/en-us/categories/200213830-Parents-Safety-and-Moderation', 'I would contact Roblox directly ', 'I would go to the help section on the Roblox site or maybe even google it ', nan, nan, 'I’d most likely report to Roblox customer service or look online for other helpful resources', \"the child's parents first and foremost\"]\n"
     ]
    }
   ],
   "source": [
    "print(question_131)"
   ]
  },
  {
   "cell_type": "code",
   "execution_count": null,
   "metadata": {},
   "outputs": [
    {
     "data": {
      "image/png": "[encoded data removed]",
      "text/plain": [
       "<Figure size 1000x600 with 1 Axes>"
      ]
     },
     "metadata": {},
     "output_type": "display_data"
    }
   ],
   "source": [
    "# Plot the top ten most frequent word in the responses\n",
    "from collections import Counter\n",
    "import matplotlib.pyplot as plt\n",
    "import nltk\n",
    "from nltk.corpus import stopwords\n",
    "from nltk.tokenize import word_tokenize\n",
    "\n",
    "\n",
    "# Clean the list: remove None values and convert all elements to strings\n",
    "cleaned_question_131 = [str(text) for text in question_131 if text is not None]\n",
    "\n",
    "# Combine the list into a single string\n",
    "combined_text = ' '.join(cleaned_question_131)\n",
    "\n",
    "# Tokenize the combined text\n",
    "tokens = word_tokenize(combined_text.lower())\n",
    "\n",
    "# Remove stopwords and non-alphabetic tokens\n",
    "stopwords_set =set(stopwords.words('english'))\n",
    "custom_stopwords = {'NaN', 'nan', 'would', 'go'}\n",
    "\n",
    "# Extend the default stopwords set with custom stopwords\n",
    "stopwords_set.update(custom_stopwords)\n",
    "filtered_tokens = [word for word in tokens if word.isalpha() and word not in stopwords_set]\n",
    "\n",
    "# Get the frequency distribution\n",
    "word_freq = Counter(filtered_tokens)\n",
    "\n",
    "# Get the 10 most common words\n",
    "common_words = word_freq.most_common(10)\n",
    "\n",
    "# Create the bar chart\n",
    "words, counts = zip(*common_words)\n",
    "plt.figure(figsize=(10, 6))\n",
    "plt.bar(words, counts)\n",
    "plt.title('Top 10 Most Common Words')\n",
    "plt.xlabel('Words')\n",
    "plt.ylabel('Frequency')\n",
    "plt.xticks(rotation=45)  # Rotate x-axis labels for better readability\n",
    "plt.show()"
   ]
  },
  {
   "cell_type": "code",
   "execution_count": null,
   "metadata": {},
   "outputs": [
    {
     "data": {
      "image/png": "[encoded data removed]",
      "text/plain": [
       "<Figure size 1000x600 with 1 Axes>"
      ]
     },
     "metadata": {},
     "output_type": "display_data"
    }
   ],
   "source": [
    "# Plot the top ten most frequent two words phrase in the responses\n",
    "from collections import Counter\n",
    "import matplotlib.pyplot as plt\n",
    "import nltk\n",
    "from nltk.corpus import stopwords\n",
    "from nltk.tokenize import word_tokenize\n",
    "from nltk import bigrams\n",
    "\n",
    "\n",
    "# Clean the list: remove None values and convert all elements to strings\n",
    "cleaned_question_131 = [str(text) for text in question_131 if text is not None]\n",
    "\n",
    "# Combine the list into a single string\n",
    "combined_text = ' '.join(cleaned_question_131)\n",
    "\n",
    "# Tokenize the combined text\n",
    "tokens = word_tokenize(combined_text.lower())\n",
    "\n",
    "# Define the default stopwords set\n",
    "stopwords_set = set(stopwords.words('english'))\n",
    "\n",
    "# Define your custom stopwords\n",
    "custom_stopwords = {'NaN', 'nan', 'would', 'go'}\n",
    "\n",
    "# Extend the default stopwords set with custom stopwords\n",
    "stopwords_set.update(custom_stopwords)\n",
    "\n",
    "# Remove stopwords and non-alphabetic tokens\n",
    "filtered_tokens = [word for word in tokens if word.isalpha() and word not in stopwords_set]\n",
    "\n",
    "# Generate bigrams from the filtered tokens\n",
    "bigrams_list = list(bigrams(filtered_tokens))\n",
    "\n",
    "# Filter out bigrams that contain any stopwords\n",
    "filtered_bigrams = [bg for bg in bigrams_list if bg[0] not in stopwords_set and bg[1] not in stopwords_set]\n",
    "\n",
    "# Get the frequency distribution of bigrams\n",
    "bigram_freq = Counter(filtered_bigrams)\n",
    "\n",
    "# Get the 10 most common bigrams\n",
    "common_bigrams = bigram_freq.most_common(10)\n",
    "\n",
    "# Prepare data for plotting\n",
    "bigrams_words, bigram_counts = zip(*common_bigrams)\n",
    "bigrams_words = [' '.join(pair) for pair in bigrams_words]\n",
    "\n",
    "# Create the bar chart\n",
    "plt.figure(figsize=(10, 6))\n",
    "plt.bar(bigrams_words, bigram_counts)\n",
    "plt.title('Top 10 Most Common Bigrams')\n",
    "plt.xlabel('Bigrams')\n",
    "plt.ylabel('Frequency')\n",
    "plt.xticks(rotation=45)\n",
    "plt.show()"
   ]
  },
  {
   "cell_type": "code",
   "execution_count": null,
   "metadata": {},
   "outputs": [],
   "source": []
  },
  {
   "cell_type": "code",
   "execution_count": null,
   "metadata": {},
   "outputs": [],
   "source": []
  }
 ],
 "metadata": {
  "kernelspec": {
   "display_name": "Python 3.9.13 ('base')",
   "language": "python",
   "name": "python3"
  },
  "language_info": {
   "codemirror_mode": {
    "name": "ipython",
    "version": 3
   },
   "file_extension": ".py",
   "mimetype": "text/x-python",
   "name": "python",
   "nbconvert_exporter": "python",
   "pygments_lexer": "ipython3",
   "version": "3.9.6"
  },
  "vscode": {
   "interpreter": {
    "hash": "a2734e01adb15d2a170636b92aef5a6ed4d580b2f47be52f31673b2f9981a50f"
   }
  }
 },
 "nbformat": 4,
 "nbformat_minor": 2
}
